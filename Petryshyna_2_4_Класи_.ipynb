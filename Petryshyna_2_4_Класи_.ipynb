{
 "cells": [
  {
   "cell_type": "markdown",
   "id": "1561554f",
   "metadata": {
    "id": "1561554f"
   },
   "source": [
    "# Домашнє завдання до теми \"Classes\"\n",
    "В цьому домашньому завданні в деяких задачах є частини коду, та в кожному завданні описано, що з ними треба зробити, часто - просто виконати після того, як ви напишете частину, якої поки не вистачає. Пишіть, будь ласка, код, який реалізує рішення кожного завдання, безпосереньо під формулюванням завдання, створюючи нові клітинки. Можете створювати скільки завгодно клітинок для виконання одного завдання."
   ]
  },
  {
   "cell_type": "markdown",
   "id": "5f983749",
   "metadata": {
    "id": "5f983749"
   },
   "source": [
    "1.Нижче є створений клас \"Shop\". Це клас для визначення магазинів компанії \"АВС\". У кожного магазина є локація і прибуток. Створіть три магазини в трьох окремих змінних:  \n",
    "- один з локацією \"Київ\" та прибутком 5500,   \n",
    "- другий - з локацією \"Львів\" та прибутком 3000,  \n",
    "- третій - з локацією \"Полтава\" та прибутком 2500  \n",
    "\n",
    "Порахуйте після цього суму прибутків трьох магазинів використовуючи інформацію про створені магазини.\n",
    "Виведіть сумарний прибуток на екран."
   ]
  },
  {
   "cell_type": "code",
   "execution_count": 5,
   "id": "84cb2eb2",
   "metadata": {
    "ExecuteTime": {
     "end_time": "2022-10-22T10:05:31.337430Z",
     "start_time": "2022-10-22T10:05:31.321277Z"
    },
    "execution": {
     "iopub.execute_input": "2025-06-24T13:30:25.198518Z",
     "iopub.status.busy": "2025-06-24T13:30:25.198255Z",
     "iopub.status.idle": "2025-06-24T13:30:25.202959Z",
     "shell.execute_reply": "2025-06-24T13:30:25.202142Z",
     "shell.execute_reply.started": "2025-06-24T13:30:25.198496Z"
    },
    "id": "84cb2eb2"
   },
   "outputs": [],
   "source": [
    "class Shop:\n",
    "    company = 'ABC'\n",
    "\n",
    "    def __init__(self, location, profit):\n",
    "        self.location = location\n",
    "        self.profit = profit"
   ]
  },
  {
   "cell_type": "code",
   "execution_count": 4,
   "id": "950ee10f-c2fe-4518-a141-c9567582bd08",
   "metadata": {
    "execution": {
     "iopub.execute_input": "2025-06-24T13:30:23.364502Z",
     "iopub.status.busy": "2025-06-24T13:30:23.364160Z",
     "iopub.status.idle": "2025-06-24T13:30:23.369971Z",
     "shell.execute_reply": "2025-06-24T13:30:23.369269Z",
     "shell.execute_reply.started": "2025-06-24T13:30:23.364485Z"
    }
   },
   "outputs": [
    {
     "name": "stdout",
     "output_type": "stream",
     "text": [
      "Сумарний прибуток трьох магазинів: 11000\n"
     ]
    }
   ],
   "source": [
    "class Shop:\n",
    "    company = 'ABC'\n",
    "\n",
    "    def __init__(self, location, profit):\n",
    "        self.location = location\n",
    "        self.profit = profit\n",
    "\n",
    "# Створюємо три магазини\n",
    "shop1 = Shop(\"Київ\", 5500)\n",
    "shop2 = Shop(\"Львів\", 3000)\n",
    "shop3 = Shop(\"Полтава\", 2500)\n",
    "\n",
    "# Обчислюємо сумарний прибуток\n",
    "total_profit = shop1.profit + shop2.profit + shop3.profit\n",
    "\n",
    "# Виводемо результат\n",
    "print(\"Сумарний прибуток трьох магазинів:\", total_profit)"
   ]
  },
  {
   "cell_type": "markdown",
   "id": "3feaa824",
   "metadata": {
    "ExecuteTime": {
     "end_time": "2022-10-22T10:12:49.668479Z",
     "start_time": "2022-10-22T10:12:49.636219Z"
    },
    "id": "3feaa824"
   },
   "source": [
    "2.Створіть клас `Employee`, який при ініціалізації представника класу визначає поля \"Прізвище\", \"Місяць народження\" та \"Зарплата\" та запустіть код нижче."
   ]
  },
  {
   "cell_type": "code",
   "execution_count": 10,
   "id": "5850a071",
   "metadata": {
    "execution": {
     "iopub.execute_input": "2025-06-24T13:33:12.884078Z",
     "iopub.status.busy": "2025-06-24T13:33:12.883691Z",
     "iopub.status.idle": "2025-06-24T13:33:12.889560Z",
     "shell.execute_reply": "2025-06-24T13:33:12.888694Z",
     "shell.execute_reply.started": "2025-06-24T13:33:12.884057Z"
    },
    "id": "5850a071"
   },
   "outputs": [
    {
     "name": "stdout",
     "output_type": "stream",
     "text": [
      "Чорненко жовтень 2000\n",
      "Біленко січень 3000\n",
      "Жовтенко березень 3400\n"
     ]
    }
   ],
   "source": [
    "# Створюємо клас Employee\n",
    "class Employee:\n",
    "    def __init__(self, surname, birth_month, salary):\n",
    "        self.surname = surname\n",
    "        self.birth_month = birth_month\n",
    "        self.salary = salary\n",
    "\n",
    "# Створюємо об'єкти класу Employee\n",
    "emp_1 = Employee('Чорненко', 'жовтень', 2000)\n",
    "emp_2 = Employee('Біленко', 'січень', 3000)\n",
    "emp_3 = Employee('Жовтенко', 'березень', 3400)\n",
    "\n",
    "# Виводимо інформацію про працівників для перевірки\n",
    "print(emp_1.surname, emp_1.birth_month, emp_1.salary)\n",
    "print(emp_2.surname, emp_2.birth_month, emp_2.salary)\n",
    "print(emp_3.surname, emp_3.birth_month, emp_3.salary)"
   ]
  },
  {
   "cell_type": "code",
   "execution_count": 9,
   "id": "b0fcc9f2",
   "metadata": {
    "ExecuteTime": {
     "end_time": "2022-10-22T10:17:27.305480Z",
     "start_time": "2022-10-22T10:17:27.302072Z"
    },
    "execution": {
     "iopub.execute_input": "2025-06-24T13:32:15.883143Z",
     "iopub.status.busy": "2025-06-24T13:32:15.882875Z",
     "iopub.status.idle": "2025-06-24T13:32:15.886995Z",
     "shell.execute_reply": "2025-06-24T13:32:15.886022Z",
     "shell.execute_reply.started": "2025-06-24T13:32:15.883124Z"
    },
    "id": "b0fcc9f2"
   },
   "outputs": [],
   "source": [
    "emp_1 = Employee('Чорненко', 'жовтень', 2000)\n",
    "emp_2 = Employee('Біленко', 'січень', 3000)\n",
    "emp_3 = Employee('Жовтенко', 'березень', 3400)"
   ]
  },
  {
   "cell_type": "markdown",
   "id": "d6d285b8",
   "metadata": {
    "ExecuteTime": {
     "end_time": "2022-10-22T10:17:28.531508Z",
     "start_time": "2022-10-22T10:17:28.526117Z"
    },
    "id": "d6d285b8"
   },
   "source": [
    "3.До класу `Employee` додайте метод `salutate`, який вітатиме з **місяцем** народження. Аби додати метод - скопіюйте просто код з визначенням класа з попереднього завдання і додайте туди новий метод.  \n",
    "Метод має приймати на вхід заданий місяць і\n",
    "- якщо цей місяць співпадає з місяцем народження співробітника, виводить `Вітаємо, пане <прізвище співробітника>! Зараз місяць <назва місяця> у Вас День народження! Будьте здорові!`. Для формування привітання використайте інтерполяцію рядків.\n",
    "- якщо місяць не співпадає з місяцем народження співробітника, метод нічого не вертає.  \n",
    "\n",
    "Коли зробите завдання - запустіть код нижче."
   ]
  },
  {
   "cell_type": "code",
   "execution_count": 16,
   "id": "be3e17d7",
   "metadata": {
    "execution": {
     "iopub.execute_input": "2025-06-24T13:43:17.465532Z",
     "iopub.status.busy": "2025-06-24T13:43:17.464687Z",
     "iopub.status.idle": "2025-06-24T13:43:17.471367Z",
     "shell.execute_reply": "2025-06-24T13:43:17.470656Z",
     "shell.execute_reply.started": "2025-06-24T13:43:17.465500Z"
    },
    "id": "be3e17d7"
   },
   "outputs": [
    {
     "name": "stdout",
     "output_type": "stream",
     "text": [
      "Вітаємо, пане Чорненко! Зараз місяць жовтень — у Вас День народження! Будьте здорові!\n"
     ]
    }
   ],
   "source": [
    "class Employee:\n",
    "    def __init__(self, surname, birth_month, salary):\n",
    "        self.surname = surname\n",
    "        self.birth_month = birth_month\n",
    "        self.salary = salary\n",
    "\n",
    "    def salutate(self, current_month):\n",
    "        if current_month == self.birth_month:\n",
    "            print(f\"Вітаємо, пане {self.surname}! Зараз місяць {current_month} — у Вас День народження! Будьте здорові!\")\n",
    "\n",
    "# Створюємо об'єкти класу Employee\n",
    "emp_1 = Employee('Чорненко', 'жовтень', 2000)\n",
    "emp_2 = Employee('Біленко', 'січень', 3000)\n",
    "emp_3 = Employee('Жовтенко', 'березень', 3400)\n",
    "\n",
    "# Приклад запуску методу\n",
    "emp_1.salutate('жовтень')\n",
    "emp_2.salutate('жовтень')\n",
    "emp_3.salutate('жовтень')"
   ]
  },
  {
   "cell_type": "code",
   "execution_count": 17,
   "id": "056e127e",
   "metadata": {
    "ExecuteTime": {
     "end_time": "2022-10-22T10:26:35.300805Z",
     "start_time": "2022-10-22T10:26:35.294501Z"
    },
    "execution": {
     "iopub.execute_input": "2025-06-24T13:43:19.449643Z",
     "iopub.status.busy": "2025-06-24T13:43:19.449326Z",
     "iopub.status.idle": "2025-06-24T13:43:19.455436Z",
     "shell.execute_reply": "2025-06-24T13:43:19.454415Z",
     "shell.execute_reply.started": "2025-06-24T13:43:19.449623Z"
    },
    "id": "056e127e"
   },
   "outputs": [
    {
     "name": "stdout",
     "output_type": "stream",
     "text": [
      "Вітаємо, пане Біленко! Зараз місяць січень — у Вас День народження! Будьте здорові!\n"
     ]
    }
   ],
   "source": [
    "emp_1 = Employee('Чорненко', 'жовтень', 2000)\n",
    "emp_2 = Employee('Біленко', 'січень', 3000)\n",
    "emp_3 = Employee('Жовтенко', 'березень', 3400)\n",
    "\n",
    "emp_1.salutate('грудень')\n",
    "emp_2.salutate('січень')\n",
    "emp_3.salutate('травень')"
   ]
  },
  {
   "cell_type": "markdown",
   "id": "ca02deba",
   "metadata": {
    "id": "ca02deba"
   },
   "source": [
    "4.Створіть клас, який наслідує `Employee` та називається `BossEmployee`. У цього класа при ініціалізації є всі ті самі поля, що і в Employee, але також є поле `n_subordinates`, тобто \"кількість підлеглих\".\n",
    "\n",
    "Додайте новоствореному класу метод `add_subordinates`, який додаватиме передану в метод кількість підлеглих цьому босу (тобто буде оновлювати поле класу `n_subordinates`) та буде виводити повідомлення `Вітаємо, пане <прізвище співробітника>! У Вас <введене в метод число> нових співробітників!`. Перевірте, аби кількість нових підлеглих була цілою, якщо це не так, виведіть повідомлення: `Число <введене в метод число, округлене до трьох чисел після коми> не може бути кількістю підлеглих.`.\n",
    "\n",
    "Для формування повідомлень використайте метод форматування рядків, котрий був другим в лекції (з `format` частиною).\n",
    "Коли зробите завдання - запустіть код нижче."
   ]
  },
  {
   "cell_type": "code",
   "execution_count": 18,
   "id": "ac4f01e7",
   "metadata": {
    "execution": {
     "iopub.execute_input": "2025-06-24T13:43:33.233745Z",
     "iopub.status.busy": "2025-06-24T13:43:33.233142Z",
     "iopub.status.idle": "2025-06-24T13:43:33.242235Z",
     "shell.execute_reply": "2025-06-24T13:43:33.241315Z",
     "shell.execute_reply.started": "2025-06-24T13:43:33.233723Z"
    },
    "id": "ac4f01e7"
   },
   "outputs": [
    {
     "name": "stdout",
     "output_type": "stream",
     "text": [
      "Вітаємо, пане Гончаренко! У Вас 3 нових співробітників!\n",
      "Число 2.5 не може бути кількістю підлеглих.\n",
      "Вітаємо, пане Гончаренко! У Вас 2 нових співробітників!\n",
      "Число 2.333 не може бути кількістю підлеглих.\n"
     ]
    }
   ],
   "source": [
    "class Employee:\n",
    "    def __init__(self, surname, birth_month, salary):\n",
    "        self.surname = surname\n",
    "        self.birth_month = birth_month\n",
    "        self.salary = salary\n",
    "\n",
    "    def salutate(self, current_month):\n",
    "        if current_month == self.birth_month:\n",
    "            print(f\"Вітаємо, пане {self.surname}! Зараз місяць {current_month} — у Вас День народження! Будьте здорові!\")\n",
    "\n",
    "# Створення класу BossEmployee, що наслідує Employee\n",
    "class BossEmployee(Employee):\n",
    "    def __init__(self, surname, birth_month, salary, n_subordinates):\n",
    "        super().__init__(surname, birth_month, salary)\n",
    "        self.n_subordinates = n_subordinates\n",
    "\n",
    "    def add_subordinates(self, new_subs):\n",
    "        if isinstance(new_subs, int):\n",
    "            self.n_subordinates += new_subs\n",
    "            print(\"Вітаємо, пане {}! У Вас {} нових співробітників!\".format(self.surname, new_subs))\n",
    "        else:\n",
    "            try:\n",
    "                rounded = round(float(new_subs), 3)\n",
    "                if rounded != int(rounded):\n",
    "                    print(\"Число {} не може бути кількістю підлеглих.\".format(rounded))\n",
    "                else:\n",
    "                    self.n_subordinates += int(rounded)\n",
    "                    print(\"Вітаємо, пане {}! У Вас {} нових співробітників!\".format(self.surname, int(rounded)))\n",
    "            except:\n",
    "                print(\"Неправильне значення: {}\".format(new_subs))\n",
    "\n",
    "# Перевірка:\n",
    "boss = BossEmployee('Гончаренко', 'травень', 7000, 5)\n",
    "\n",
    "boss.add_subordinates(3)        # правильне число\n",
    "boss.add_subordinates(2.5)      # некоректне число\n",
    "boss.add_subordinates(\"2\")      # рядок, але виглядає як ціле\n",
    "boss.add_subordinates(\"2.333\")  # некоректне число в рядку"
   ]
  },
  {
   "cell_type": "code",
   "execution_count": 15,
   "id": "b6e5e6c0",
   "metadata": {
    "ExecuteTime": {
     "end_time": "2022-10-22T10:44:43.938323Z",
     "start_time": "2022-10-22T10:44:43.932171Z"
    },
    "execution": {
     "iopub.execute_input": "2025-06-24T13:38:34.478792Z",
     "iopub.status.busy": "2025-06-24T13:38:34.478130Z",
     "iopub.status.idle": "2025-06-24T13:38:34.488133Z",
     "shell.execute_reply": "2025-06-24T13:38:34.487559Z",
     "shell.execute_reply.started": "2025-06-24T13:38:34.478725Z"
    },
    "id": "b6e5e6c0"
   },
   "outputs": [
    {
     "name": "stdout",
     "output_type": "stream",
     "text": [
      "Вітаємо, пане Босенко! У Вас 5 нових співробітників!\n",
      "Число 4.788 не може бути кількістю підлеглих.\n",
      "Вітаємо, пане Босенко! У Вас 4 нових співробітників!\n"
     ]
    },
    {
     "data": {
      "text/plain": [
       "12"
      ]
     },
     "execution_count": 15,
     "metadata": {},
     "output_type": "execute_result"
    }
   ],
   "source": [
    "emp_4 = BossEmployee('Босенко', 'липень', 5500, 3)\n",
    "emp_4.add_subordinates(5)\n",
    "emp_4.add_subordinates(4.78764174)\n",
    "emp_4.add_subordinates(4)\n",
    "emp_4.n_subordinates"
   ]
  },
  {
   "cell_type": "markdown",
   "id": "c3e0bd00",
   "metadata": {
    "id": "c3e0bd00"
   },
   "source": [
    "Очікуваний результат виконання команд вище:\n",
    "```\n",
    "Вітаємо, пане Босенко! У Вас 5 нових співробітників!     \n",
    "Число 4.788 не може бути кількістю підлеглих.\n",
    "Вітаємо, пане Босенко! У Вас 4 нових співробітників!\n",
    "12\n",
    "```"
   ]
  },
  {
   "cell_type": "markdown",
   "id": "441e5d09",
   "metadata": {
    "id": "441e5d09"
   },
   "source": [
    "# Ураа!! Ви завершили ВСІ завдання ДРУГОГО ТЕХНІЧНОГО МОДУЛЮ!!! З кожним ДЗ Ви стаєте з Python все ближче і ближче. Ваші відносини зараз - \"він поставив вогник на вашу сторис\" 😉\n",
    "\n",
    "В кінці курсу будете наче пити з ним просеко на кухні і обговорювати останні мемчики.  \n",
    "\n",
    "Далі - ще цікавіше! 🚀🚀🚀"
   ]
  }
 ],
 "metadata": {
  "colab": {
   "provenance": []
  },
  "kernelspec": {
   "display_name": "Python 3 (ipykernel)",
   "language": "python",
   "name": "python3"
  },
  "language_info": {
   "codemirror_mode": {
    "name": "ipython",
    "version": 3
   },
   "file_extension": ".py",
   "mimetype": "text/x-python",
   "name": "python",
   "nbconvert_exporter": "python",
   "pygments_lexer": "ipython3",
   "version": "3.13.4"
  },
  "toc": {
   "base_numbering": 1,
   "nav_menu": {},
   "number_sections": true,
   "sideBar": true,
   "skip_h1_title": false,
   "title_cell": "Table of Contents",
   "title_sidebar": "Contents",
   "toc_cell": false,
   "toc_position": {},
   "toc_section_display": true,
   "toc_window_display": false
  }
 },
 "nbformat": 4,
 "nbformat_minor": 5
}

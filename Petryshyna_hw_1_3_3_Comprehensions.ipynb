{
 "cells": [
  {
   "cell_type": "markdown",
   "metadata": {
    "id": "jGTe7raw9lB_"
   },
   "source": [
    "#Домашнє завдання до теми \"Comprehensions в Python\""
   ]
  },
  {
   "cell_type": "markdown",
   "metadata": {
    "id": "grIbI4ZZ7miJ"
   },
   "source": [
    "Для наступних завдань у нас є наступний список:"
   ]
  },
  {
   "cell_type": "code",
   "execution_count": 2,
   "metadata": {
    "execution": {
     "iopub.execute_input": "2025-06-18T12:54:25.120499Z",
     "iopub.status.busy": "2025-06-18T12:54:25.120177Z",
     "iopub.status.idle": "2025-06-18T12:54:25.123695Z",
     "shell.execute_reply": "2025-06-18T12:54:25.123153Z",
     "shell.execute_reply.started": "2025-06-18T12:54:25.120479Z"
    },
    "id": "nFOAtgsP7nnc"
   },
   "outputs": [],
   "source": [
    "numbers = [42, 51, 29, 2, 13, 44, 80, 66, 16]"
   ]
  },
  {
   "cell_type": "markdown",
   "metadata": {
    "id": "_sRe19Ym6zDc"
   },
   "source": [
    "1. Використовуючи цикл `for` cтворіть новий список `numbers_squared`, де кожен елемент списку `numbers` є домноженим на 2.\n",
    "\n",
    "Нагадаю, що фактично коли ми з допомогою циклу отримуємо новий список, то ми спочатку створюємо пустий список, а потім додаємо в нього новий елемент на кожній ітерації.\n",
    "\n",
    "Новий елемент буде в даному випадку результатом домножання чергового елемента вихідного списку `numbers` на 2."
   ]
  },
  {
   "cell_type": "code",
   "execution_count": 3,
   "metadata": {
    "execution": {
     "iopub.execute_input": "2025-06-18T12:54:26.747272Z",
     "iopub.status.busy": "2025-06-18T12:54:26.746983Z",
     "iopub.status.idle": "2025-06-18T12:54:26.750813Z",
     "shell.execute_reply": "2025-06-18T12:54:26.750210Z",
     "shell.execute_reply.started": "2025-06-18T12:54:26.747253Z"
    },
    "id": "EhGdKWo06nGS"
   },
   "outputs": [
    {
     "name": "stdout",
     "output_type": "stream",
     "text": [
      "[84, 102, 58, 4, 26, 88, 160, 132, 32]\n"
     ]
    }
   ],
   "source": [
    "number_squared = []\n",
    "for number in numbers:\n",
    "    number_squared.append(number*2)\n",
    "print(number_squared)"
   ]
  },
  {
   "cell_type": "markdown",
   "metadata": {
    "id": "XKpWtN8N64np"
   },
   "source": [
    "Очікуваний результат: `[84, 102, 58, 4, 26, 88, 160, 132, 32]`"
   ]
  },
  {
   "cell_type": "markdown",
   "metadata": {
    "id": "aHmdOLkZ7eQ2"
   },
   "source": [
    "2. Використовуючи `list comprehension` cтворіть новий список `numbers_squared_lh`, де кожен елемент списку `numbers` є домноженим 2.\n",
    "Так, операція, яку ми викнуємо над кожним елементом вихідного списку, та сама, що і в попередньому завданні, але інший спосіб отримання результату."
   ]
  },
  {
   "cell_type": "code",
   "execution_count": 5,
   "metadata": {
    "execution": {
     "iopub.execute_input": "2025-06-17T14:07:07.628654Z",
     "iopub.status.busy": "2025-06-17T14:07:07.628217Z",
     "iopub.status.idle": "2025-06-17T14:07:07.635124Z",
     "shell.execute_reply": "2025-06-17T14:07:07.634430Z",
     "shell.execute_reply.started": "2025-06-17T14:07:07.628629Z"
    },
    "id": "fsKlUM9x7T7n"
   },
   "outputs": [
    {
     "data": {
      "text/plain": [
       "[84, 102, 58, 4, 26, 88, 160, 132, 32]"
      ]
     },
     "execution_count": 5,
     "metadata": {},
     "output_type": "execute_result"
    }
   ],
   "source": [
    "[number*2 for number in numbers]"
   ]
  },
  {
   "cell_type": "markdown",
   "metadata": {
    "id": "tKpPGIQN7fc5"
   },
   "source": [
    "3. У нас вже є знайдене середнє значення за списком - воно визначене в змінній `numbers_mean`.\n",
    "\n",
    "  Використовуючи цикл, створіть новий список `numbers_gt_mean`, який порівнює кожен елемент з цим середнім значенням за списком за наступним правилом: \"якщо цей елемент спиcку `numbers` є більшим за `numbers_mean`, то запишемо 1, інакше 0\". Виведіть новий список на екран."
   ]
  },
  {
   "cell_type": "code",
   "execution_count": 7,
   "metadata": {
    "execution": {
     "iopub.execute_input": "2025-06-18T14:31:02.229431Z",
     "iopub.status.busy": "2025-06-18T14:31:02.229090Z",
     "iopub.status.idle": "2025-06-18T14:31:02.232854Z",
     "shell.execute_reply": "2025-06-18T14:31:02.232407Z",
     "shell.execute_reply.started": "2025-06-18T14:31:02.229407Z"
    },
    "id": "FKGz-HqgwAdX"
   },
   "outputs": [],
   "source": [
    "numbers_mean = 38.11"
   ]
  },
  {
   "cell_type": "code",
   "execution_count": 13,
   "metadata": {
    "execution": {
     "iopub.execute_input": "2025-06-17T14:23:11.411569Z",
     "iopub.status.busy": "2025-06-17T14:23:11.411270Z",
     "iopub.status.idle": "2025-06-17T14:23:11.414806Z",
     "shell.execute_reply": "2025-06-17T14:23:11.414173Z",
     "shell.execute_reply.started": "2025-06-17T14:23:11.411542Z"
    },
    "id": "obelsT8N72Lp"
   },
   "outputs": [],
   "source": [
    "numbers_gt_mean = []\n",
    "for number in numbers:\n",
    "    if number > numbers_mean:\n",
    "     numbers_gt_mean.append(1)\n",
    "    else:\n",
    "     numbers_gt_mean.append(0)"
   ]
  },
  {
   "cell_type": "markdown",
   "metadata": {
    "id": "kRUDVSRs720X"
   },
   "source": [
    "Очікуваний результат: `[1, 1, 0, 0, 0, 1, 1, 1, 0]`"
   ]
  },
  {
   "cell_type": "markdown",
   "metadata": {
    "id": "dudK-NlE76z8"
   },
   "source": [
    "4. Отримайте список за тим самим правилом, що в завданні 3, тільки тепер з list comprehension. Результат запишіть у змінну `numbers_gt_mean_lc`"
   ]
  },
  {
   "cell_type": "code",
   "execution_count": 10,
   "metadata": {
    "execution": {
     "iopub.execute_input": "2025-06-18T14:31:48.950573Z",
     "iopub.status.busy": "2025-06-18T14:31:48.950119Z",
     "iopub.status.idle": "2025-06-18T14:31:48.954495Z",
     "shell.execute_reply": "2025-06-18T14:31:48.953916Z",
     "shell.execute_reply.started": "2025-06-18T14:31:48.950554Z"
    }
   },
   "outputs": [
    {
     "name": "stdout",
     "output_type": "stream",
     "text": [
      "[1, 1, 0, 0, 0, 1, 1, 1, 0]\n"
     ]
    }
   ],
   "source": [
    "numbers_gt_mean = [1 if x > numbers_mean else 0 for x in numbers]\n",
    "print(numbers_gt_mean)"
   ]
  },
  {
   "cell_type": "markdown",
   "metadata": {
    "id": "muQmE3Mz8KDx"
   },
   "source": [
    "5. Заданий список `long`. З допомогою циклу створіть словник `n_repeats`, який містить інформацію \"скільки разів повторюється кожен унікальний елемент списку `long`\".\n",
    "Наприклад:\n",
    "```\n",
    "long = [1, 1, 2, 2, 3]\n",
    "# тоді `n_repeats` містить {1: 2, 2: 2, 3: 1}\n",
    "```\n",
    "\n",
    "Аби для кожного унікального елементу знайти, скільки разів він повторюється, виористайте метод списку `list.count(<елемент>)`.\n",
    "Виведіть `n_repeats` на екран.\n",
    "\n",
    "**Підказки**:\n",
    "1. Для початку може бути зручно отримати набір унікальних елементів списку.\n",
    "2. Порядок ключів в словнику не має значення! Тобто ключі в словнику не обовʼязково мають бути в тому ж порядку, як наведено в прикладі результату. Але кількості зустрічань для кожного елемента мають співпадати з наведеними."
   ]
  },
  {
   "cell_type": "code",
   "execution_count": 11,
   "metadata": {
    "execution": {
     "iopub.execute_input": "2025-06-19T04:41:52.741279Z",
     "iopub.status.busy": "2025-06-19T04:41:52.739995Z",
     "iopub.status.idle": "2025-06-19T04:41:52.752261Z",
     "shell.execute_reply": "2025-06-19T04:41:52.751605Z",
     "shell.execute_reply.started": "2025-06-19T04:41:52.741170Z"
    },
    "id": "T_MDOYpa8Khu"
   },
   "outputs": [],
   "source": [
    "long = [75, 39, 95, 1, 91, 43, 97, 24, 86, 75, 92, 91, 15, 15, 75, 95, 54, 29, 55, 98]"
   ]
  },
  {
   "cell_type": "code",
   "execution_count": 12,
   "metadata": {
    "execution": {
     "iopub.execute_input": "2025-06-19T04:44:14.079609Z",
     "iopub.status.busy": "2025-06-19T04:44:14.079314Z",
     "iopub.status.idle": "2025-06-19T04:44:14.084342Z",
     "shell.execute_reply": "2025-06-19T04:44:14.083898Z",
     "shell.execute_reply.started": "2025-06-19T04:44:14.079591Z"
    },
    "id": "FCUf8p3y8RG0"
   },
   "outputs": [
    {
     "name": "stdout",
     "output_type": "stream",
     "text": [
      "{1: 1, 97: 1, 98: 1, 39: 1, 75: 3, 43: 1, 15: 2, 55: 1, 86: 1, 54: 1, 24: 1, 91: 2, 92: 1, 29: 1, 95: 2}\n"
     ]
    }
   ],
   "source": [
    "# Створюю порожній словник для результатів\n",
    "n_repeats = {}\n",
    "# Прохожу по унікальрних результатах через set\n",
    "for elem in set(long):\n",
    "    n_repeats[elem] = long.count(elem)\n",
    "print(n_repeats)"
   ]
  },
  {
   "cell_type": "markdown",
   "metadata": {
    "id": "WQbGyWde8RkT"
   },
   "source": [
    "Очікуваний результат:\n",
    "```\n",
    "{1: 1, 97: 1, 98: 1, 39: 1, 75: 3, 43: 1, 15: 2, 55: 1, 86: 1, 54: 1, 24: 1, 91: 2, 92: 1, 29: 1, 95: 2}\n",
    "\n",
    "```"
   ]
  },
  {
   "cell_type": "markdown",
   "metadata": {
    "id": "W-nelSSP8VeG"
   },
   "source": [
    "6. Виконайте ту саму операцію, що і в попередньому заваднні, але використовуючи `dict comprehension`. Результат запишіть у змінну `n_repeats_dh` та результат виведіть на екран."
   ]
  },
  {
   "cell_type": "code",
   "execution_count": 13,
   "metadata": {
    "execution": {
     "iopub.execute_input": "2025-06-19T04:46:25.418368Z",
     "iopub.status.busy": "2025-06-19T04:46:25.417940Z",
     "iopub.status.idle": "2025-06-19T04:46:25.424100Z",
     "shell.execute_reply": "2025-06-19T04:46:25.423297Z",
     "shell.execute_reply.started": "2025-06-19T04:46:25.418341Z"
    },
    "id": "gDz_kE0N8YM4"
   },
   "outputs": [
    {
     "name": "stdout",
     "output_type": "stream",
     "text": [
      "{1: 1, 97: 1, 98: 1, 39: 1, 75: 3, 43: 1, 15: 2, 55: 1, 86: 1, 54: 1, 24: 1, 91: 2, 92: 1, 29: 1, 95: 2}\n"
     ]
    }
   ],
   "source": [
    "n_repeats_dh = {elem: long.count(elem) for elem in set(long)}\n",
    "print(n_repeats_dh)"
   ]
  },
  {
   "cell_type": "markdown",
   "metadata": {
    "id": "Th5wKghw8aYj"
   },
   "source": [
    "7. Знайдіть три найменші **унікальні** елементи в списку `long` та виведіть їх на екран."
   ]
  },
  {
   "cell_type": "code",
   "execution_count": 14,
   "metadata": {
    "execution": {
     "iopub.execute_input": "2025-06-19T04:47:07.973573Z",
     "iopub.status.busy": "2025-06-19T04:47:07.973171Z",
     "iopub.status.idle": "2025-06-19T04:47:07.978114Z",
     "shell.execute_reply": "2025-06-19T04:47:07.977428Z",
     "shell.execute_reply.started": "2025-06-19T04:47:07.973553Z"
    },
    "id": "NG9PvlnK8a2Q"
   },
   "outputs": [
    {
     "name": "stdout",
     "output_type": "stream",
     "text": [
      "[1, 15, 24]\n"
     ]
    }
   ],
   "source": [
    "unique_elements = set(long)\n",
    "\n",
    "# 2. Сортуємо\n",
    "sorted_elements = sorted(unique_elements)\n",
    "\n",
    "# 3. Беремо три найменші\n",
    "three_smallest = sorted_elements[:3]\n",
    "\n",
    "# 4. Виводимо результат\n",
    "print(three_smallest)"
   ]
  },
  {
   "cell_type": "markdown",
   "metadata": {
    "id": "XOW0GDBK8cn7"
   },
   "source": [
    "Очікувана відповідь: [1, 15, 24]"
   ]
  }
 ],
 "metadata": {
  "colab": {
   "provenance": []
  },
  "kernelspec": {
   "display_name": "Python 3 (ipykernel)",
   "language": "python",
   "name": "python3"
  },
  "language_info": {
   "codemirror_mode": {
    "name": "ipython",
    "version": 3
   },
   "file_extension": ".py",
   "mimetype": "text/x-python",
   "name": "python",
   "nbconvert_exporter": "python",
   "pygments_lexer": "ipython3",
   "version": "3.13.4"
  }
 },
 "nbformat": 4,
 "nbformat_minor": 4
}

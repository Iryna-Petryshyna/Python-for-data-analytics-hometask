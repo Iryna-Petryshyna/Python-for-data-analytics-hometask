{
 "cells": [
  {
   "cell_type": "markdown",
   "metadata": {
    "id": "QtHabST6Ez_n"
   },
   "source": [
    "# Домашнє завдання до теми \"Functions\""
   ]
  },
  {
   "cell_type": "markdown",
   "metadata": {
    "id": "6pg_NzFq5_kO"
   },
   "source": [
    "1. Напишіть фукнцію `print_message`, яка виводить на екран \"Я програмую на Python💪\" і викличіть цю фукнцію 5 разів (найкраще це зробити в циклі).\n",
    "\n",
    "  **Увага**: фукнція має робити чітко лише зазначений функціонал. Наявність додаткового функціоналу і аргументів, які не потрібні для виконання безпосередньо завдання, буде вважатись помилкою."
   ]
  },
  {
   "cell_type": "code",
   "execution_count": 1,
   "metadata": {
    "execution": {
     "iopub.execute_input": "2025-06-23T13:24:48.908490Z",
     "iopub.status.busy": "2025-06-23T13:24:48.908100Z",
     "iopub.status.idle": "2025-06-23T13:24:48.922364Z",
     "shell.execute_reply": "2025-06-23T13:24:48.921604Z",
     "shell.execute_reply.started": "2025-06-23T13:24:48.908469Z"
    },
    "id": "RbXsfwI_D8ql"
   },
   "outputs": [
    {
     "name": "stdout",
     "output_type": "stream",
     "text": [
      "Я програмую на Python💪\n",
      "Я програмую на Python💪\n",
      "Я програмую на Python💪\n",
      "Я програмую на Python💪\n",
      "Я програмую на Python💪\n"
     ]
    }
   ],
   "source": [
    "def print_message():\n",
    "    print ('Я програмую на Python💪')\n",
    "for _ in range(5):\n",
    "    print_message()"
   ]
  },
  {
   "cell_type": "markdown",
   "metadata": {
    "id": "oyRpWRXWBL9N"
   },
   "source": [
    "2. Напишіть функцію `calculation` яка приймає на вхід 4 аргументи типу int - `a`, `b`, `c`, `d` і вертає результат обчислення такої формули: $ (a + b - c) * d $.\n",
    "\n",
    "  Викличте функцію на наступному наборі аргументів і виведіть результат на екран:\n",
    "  ```\n",
    "  a = 16\n",
    "  b = 4\n",
    "  c = 9\n",
    "  d = 3\n",
    "  ```"
   ]
  },
  {
   "cell_type": "code",
   "execution_count": 2,
   "metadata": {
    "execution": {
     "iopub.execute_input": "2025-06-23T13:28:41.550471Z",
     "iopub.status.busy": "2025-06-23T13:28:41.550047Z",
     "iopub.status.idle": "2025-06-23T13:28:41.565350Z",
     "shell.execute_reply": "2025-06-23T13:28:41.564519Z",
     "shell.execute_reply.started": "2025-06-23T13:28:41.550449Z"
    },
    "id": "Ggt2tx6kD-LS"
   },
   "outputs": [
    {
     "name": "stdout",
     "output_type": "stream",
     "text": [
      "33\n"
     ]
    }
   ],
   "source": [
    "def calculation (a, b, c, d):\n",
    "    return (a + b - c) * d\n",
    "result = calculation (16, 4, 9, 3)\n",
    "print(result)"
   ]
  },
  {
   "cell_type": "markdown",
   "metadata": {
    "id": "5hf1CbllDU_t"
   },
   "source": [
    "3. Напишіть функцію, яка додає до аргумента 15 і вертає результат додавання. Викличте функцію, передаючи в якості аргументів кожну з наступних змінних по черзі, і виведіть кожного разу результат на екран.\n",
    "```\n",
    "x = 9\n",
    "y = 14\n",
    "z = -19\n",
    "```"
   ]
  },
  {
   "cell_type": "code",
   "execution_count": 3,
   "metadata": {
    "execution": {
     "iopub.execute_input": "2025-06-23T13:30:49.561460Z",
     "iopub.status.busy": "2025-06-23T13:30:49.560838Z",
     "iopub.status.idle": "2025-06-23T13:30:49.577106Z",
     "shell.execute_reply": "2025-06-23T13:30:49.576246Z",
     "shell.execute_reply.started": "2025-06-23T13:30:49.561427Z"
    },
    "id": "GvEs_nUtD_Cd"
   },
   "outputs": [
    {
     "name": "stdout",
     "output_type": "stream",
     "text": [
      "24\n",
      "29\n",
      "-4\n"
     ]
    }
   ],
   "source": [
    "def add_15(number):\n",
    "    return number + 15\n",
    "\n",
    "# Задаємо змінні\n",
    "x = 9\n",
    "y = 14\n",
    "z = -19\n",
    "\n",
    "# Виклики функції з кожною змінною\n",
    "print(add_15(x))  # 9 + 15 = 24\n",
    "print(add_15(y))  # 14 + 15 = 29\n",
    "print(add_15(z))  # -19 + 15 = -4"
   ]
  },
  {
   "cell_type": "markdown",
   "metadata": {
    "id": "bUuVBhie53uK"
   },
   "source": [
    "4. Напишіть функцію `multipy_numbers`, яка приймає два числа як аргументи і повертає їх добуток.\n",
    "\n",
    "  Викличіть функцію `multipy_numbers` на парах чисел\n",
    "- 10 і 2\n",
    "- 7 і 8\n",
    "- 1024 і 999.\n",
    "  \n",
    "  Виведіть результат кожного виклику.\n",
    "  При виконанні цього завдання з використанням циклу - отримаєте 2х балів за нього :)"
   ]
  },
  {
   "cell_type": "code",
   "execution_count": 4,
   "metadata": {
    "execution": {
     "iopub.execute_input": "2025-06-23T13:32:38.405053Z",
     "iopub.status.busy": "2025-06-23T13:32:38.404565Z",
     "iopub.status.idle": "2025-06-23T13:32:38.410486Z",
     "shell.execute_reply": "2025-06-23T13:32:38.409450Z",
     "shell.execute_reply.started": "2025-06-23T13:32:38.405033Z"
    },
    "id": "cDqrgZ4YEAKj"
   },
   "outputs": [
    {
     "name": "stdout",
     "output_type": "stream",
     "text": [
      "10 * 2 = 20\n",
      "7 * 8 = 56\n",
      "1024 * 999 = 1022976\n"
     ]
    }
   ],
   "source": [
    "def multipy_numbers(a, b):\n",
    "    return a * b\n",
    "\n",
    "# Пари чисел для множення\n",
    "paru = [(10, 2), (7, 8), (1024, 999)]\n",
    "\n",
    "# Виклик функції для кожної пари в циклі\n",
    "for a, b in paru:\n",
    "    result = multipy_numbers(a, b)\n",
    "    print(f\"{a} * {b} = {result}\")"
   ]
  },
  {
   "cell_type": "markdown",
   "metadata": {
    "id": "I03t46k27dDZ"
   },
   "source": [
    "5. **Ділення з перевіркою типів.**  \n",
    "\n",
    "  1. Напишіть функцію `int_division` яка приймає на вхід два аргументи типу `int` - `a` і `b`, і виконує ділення першого аргумента на другий: `a/b`. При цьому функція перед діленням перевіряє, чи другий аргумент не дорівнює 0. Якщо другий аргумент не 0, фукнція вертає результат ділення, інакше - замість виконання ділення, вертає повідомлення на екран \"Не можу виконати ділення на 0\".\n",
    "\n",
    "    Якщо типи, надані у функцію, не `int` - функція виводить повідомлення \"Не працюю з такими типами даних.\".\n",
    "\n",
    "  2. Запустіть функцію на наступних парах чисел:\n",
    "- 12 і 6\n",
    "- 20 і 0\n",
    "- 112 і 10\n",
    "- 99 і 0\n",
    "- 11 i 1.1\n",
    "\n",
    "    і виведіть на екран повідомлення \"Результат роботи функції: \" - і далі те, що повернула функція.\n",
    "\n",
    "  3. Дайте відповідь на питання: \"Чому в деяких випадках функція повернула None?\""
   ]
  },
  {
   "cell_type": "code",
   "execution_count": 5,
   "metadata": {
    "execution": {
     "iopub.execute_input": "2025-06-23T13:34:32.703904Z",
     "iopub.status.busy": "2025-06-23T13:34:32.703586Z",
     "iopub.status.idle": "2025-06-23T13:34:32.707817Z",
     "shell.execute_reply": "2025-06-23T13:34:32.707187Z",
     "shell.execute_reply.started": "2025-06-23T13:34:32.703885Z"
    },
    "id": "1-EQhxrAEEAb"
   },
   "outputs": [],
   "source": [
    "def int_division(a, b):\n",
    "    if not isinstance(a, int) or not isinstance(b, int):\n",
    "        return \"Не працюю з такими типами даних.\"\n",
    "    if b == 0:\n",
    "        return \"Не можу виконати ділення на 0\"\n",
    "    return a / b"
   ]
  },
  {
   "cell_type": "code",
   "execution_count": 6,
   "metadata": {
    "execution": {
     "iopub.execute_input": "2025-06-23T13:35:14.479337Z",
     "iopub.status.busy": "2025-06-23T13:35:14.478865Z",
     "iopub.status.idle": "2025-06-23T13:35:14.483285Z",
     "shell.execute_reply": "2025-06-23T13:35:14.482440Z",
     "shell.execute_reply.started": "2025-06-23T13:35:14.479317Z"
    }
   },
   "outputs": [
    {
     "name": "stdout",
     "output_type": "stream",
     "text": [
      "Результат роботи функції: 2.0\n",
      "Результат роботи функції: Не можу виконати ділення на 0\n",
      "Результат роботи функції: 11.2\n",
      "Результат роботи функції: Не можу виконати ділення на 0\n",
      "Результат роботи функції: Не працюю з такими типами даних.\n"
     ]
    }
   ],
   "source": [
    "test_cases = [\n",
    "    (12, 6),\n",
    "    (20, 0),\n",
    "    (112, 10),\n",
    "    (99, 0),\n",
    "    (11, 1.1)\n",
    "]\n",
    "\n",
    "for a, b in test_cases:\n",
    "    result = int_division(a, b)\n",
    "    print(\"Результат роботи функції:\", result)"
   ]
  },
  {
   "cell_type": "code",
   "execution_count": null,
   "metadata": {},
   "outputs": [],
   "source": [
    "# None не виводться, бо усі гілки if мають return. Якщо б не було return у відповіді було б None. \n",
    "# Саме через це важливо писати return у кожній із гілок умовю"
   ]
  }
 ],
 "metadata": {
  "colab": {
   "provenance": []
  },
  "kernelspec": {
   "display_name": "Python 3 (ipykernel)",
   "language": "python",
   "name": "python3"
  },
  "language_info": {
   "codemirror_mode": {
    "name": "ipython",
    "version": 3
   },
   "file_extension": ".py",
   "mimetype": "text/x-python",
   "name": "python",
   "nbconvert_exporter": "python",
   "pygments_lexer": "ipython3",
   "version": "3.13.4"
  }
 },
 "nbformat": 4,
 "nbformat_minor": 4
}

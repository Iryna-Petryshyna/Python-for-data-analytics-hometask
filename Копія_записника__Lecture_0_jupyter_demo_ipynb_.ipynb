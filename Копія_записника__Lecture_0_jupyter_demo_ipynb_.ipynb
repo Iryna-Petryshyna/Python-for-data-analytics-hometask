{
 "cells": [
  {
   "cell_type": "markdown",
   "metadata": {
    "id": "2oL3UQcUiF6l"
   },
   "source": [
    "# Вступ\n",
    "Мене **звати** Ірина!   \n",
    "\n",
    "Я пишу код на *Python*!\n",
    "\n",
    "Ця програма робить щось корисне."
   ]
  },
  {
   "cell_type": "code",
   "execution_count": null,
   "metadata": {
    "execution": {
     "iopub.status.busy": "2025-06-06T16:11:43.601887Z",
     "iopub.status.idle": "2025-06-06T16:11:43.602347Z",
     "shell.execute_reply": "2025-06-06T16:11:43.602235Z",
     "shell.execute_reply.started": "2025-06-06T16:11:43.602222Z"
    }
   },
   "outputs": [],
   "source": [
    "120+20-10"
   ]
  },
  {
   "cell_type": "code",
   "execution_count": 38,
   "metadata": {
    "colab": {
     "background_save": true
    },
    "execution": {
     "iopub.execute_input": "2025-06-06T16:48:13.650978Z",
     "iopub.status.busy": "2025-06-06T16:48:13.648727Z",
     "iopub.status.idle": "2025-06-06T16:53:13.663968Z",
     "shell.execute_reply": "2025-06-06T16:53:13.663295Z",
     "shell.execute_reply.started": "2025-06-06T16:48:13.650864Z"
    },
    "id": "vHtOqcLpiF6s"
   },
   "outputs": [
    {
     "name": "stdout",
     "output_type": "stream",
     "text": [
      "0\n",
      "1\n",
      "2\n",
      "3\n",
      "4\n",
      "5\n",
      "6\n",
      "7\n",
      "8\n",
      "9\n"
     ]
    }
   ],
   "source": [
    "import time\n",
    "\n",
    "for i in range(10):\n",
    "    print(i)\n",
    "    time.sleep(30)"
   ]
  },
  {
   "cell_type": "code",
   "execution_count": 17,
   "metadata": {
    "colab": {
     "background_save": true
    },
    "execution": {
     "iopub.execute_input": "2025-06-06T16:01:43.441728Z",
     "iopub.status.busy": "2025-06-06T16:01:43.441425Z",
     "iopub.status.idle": "2025-06-06T16:01:43.445415Z",
     "shell.execute_reply": "2025-06-06T16:01:43.444457Z",
     "shell.execute_reply.started": "2025-06-06T16:01:43.441710Z"
    },
    "id": "lwi68wJTiF6s"
   },
   "outputs": [],
   "source": [
    "my_list = [1, 2, 3, 4]"
   ]
  },
  {
   "cell_type": "code",
   "execution_count": 18,
   "metadata": {
    "colab": {
     "background_save": true
    },
    "execution": {
     "iopub.execute_input": "2025-06-06T16:01:43.448413Z",
     "iopub.status.busy": "2025-06-06T16:01:43.448173Z",
     "iopub.status.idle": "2025-06-06T16:01:43.454675Z",
     "shell.execute_reply": "2025-06-06T16:01:43.453705Z",
     "shell.execute_reply.started": "2025-06-06T16:01:43.448397Z"
    },
    "id": "J1v2i3hWiF6s"
   },
   "outputs": [
    {
     "data": {
      "text/plain": [
       "[1, 2, 3, 4]"
      ]
     },
     "execution_count": 18,
     "metadata": {},
     "output_type": "execute_result"
    }
   ],
   "source": [
    "my_list"
   ]
  },
  {
   "cell_type": "markdown",
   "metadata": {
    "id": "0S3ZoqbqiF6t"
   },
   "source": [
    "В мене є список\n",
    "* Один\n",
    "    - підсписок\n",
    "        - це\n",
    "  - інший підписок\n",
    "        - то\n",
    "        - і ще то\n",
    "* два\n",
    "  - підсписок"
   ]
  },
  {
   "cell_type": "code",
   "execution_count": 24,
   "metadata": {
    "colab": {
     "background_save": true
    },
    "execution": {
     "iopub.execute_input": "2025-06-06T16:11:43.499573Z",
     "iopub.status.busy": "2025-06-06T16:11:43.499129Z",
     "iopub.status.idle": "2025-06-06T16:11:43.511967Z",
     "shell.execute_reply": "2025-06-06T16:11:43.510771Z",
     "shell.execute_reply.started": "2025-06-06T16:11:43.499551Z"
    },
    "id": "o_TLwslPiF6t"
   },
   "outputs": [
    {
     "data": {
      "text/plain": [
       "[100, 81, 64, 49, 36, 25, 16, 9, 4, 1, 0, 1, 4, 9, 16, 25, 36, 49, 64, 81, 100]"
      ]
     },
     "execution_count": 24,
     "metadata": {},
     "output_type": "execute_result"
    }
   ],
   "source": [
    "[x**2 for x in range(-10, 11)]"
   ]
  },
  {
   "cell_type": "code",
   "execution_count": 20,
   "metadata": {
    "colab": {
     "background_save": true
    },
    "execution": {
     "iopub.execute_input": "2025-06-06T16:01:43.462618Z",
     "iopub.status.busy": "2025-06-06T16:01:43.462404Z",
     "iopub.status.idle": "2025-06-06T16:01:43.469547Z",
     "shell.execute_reply": "2025-06-06T16:01:43.467408Z",
     "shell.execute_reply.started": "2025-06-06T16:01:43.462601Z"
    },
    "id": "bhnCh7-fiF6u"
   },
   "outputs": [],
   "source": [
    "s = 'Hello world!'"
   ]
  },
  {
   "cell_type": "code",
   "execution_count": null,
   "metadata": {
    "colab": {
     "background_save": true
    },
    "id": "eDdgh4AaiF6u"
   },
   "outputs": [],
   "source": [
    "print(s)"
   ]
  },
  {
   "cell_type": "code",
   "execution_count": 40,
   "metadata": {
    "colab": {
     "background_save": true
    },
    "execution": {
     "iopub.execute_input": "2025-06-06T16:54:15.115165Z",
     "iopub.status.busy": "2025-06-06T16:54:15.114652Z",
     "iopub.status.idle": "2025-06-06T16:54:15.120093Z",
     "shell.execute_reply": "2025-06-06T16:54:15.119544Z",
     "shell.execute_reply.started": "2025-06-06T16:54:15.115143Z"
    },
    "id": "UQRN7yCHiF6u"
   },
   "outputs": [
    {
     "name": "stdout",
     "output_type": "stream",
     "text": [
      "24\n"
     ]
    },
    {
     "data": {
      "text/plain": [
       "'Hello world!'"
      ]
     },
     "execution_count": 40,
     "metadata": {},
     "output_type": "execute_result"
    }
   ],
   "source": [
    "1+1\n",
    "print(2+22)\n",
    "3+3\n",
    "s"
   ]
  },
  {
   "cell_type": "markdown",
   "metadata": {},
   "source": [
    "# Це мій перший ноутбук. Я вчусь програмувати на  Python"
   ]
  },
  {
   "cell_type": "code",
   "execution_count": 29,
   "metadata": {
    "colab": {
     "background_save": true
    },
    "execution": {
     "iopub.execute_input": "2025-06-06T16:25:56.098701Z",
     "iopub.status.busy": "2025-06-06T16:25:56.098092Z",
     "iopub.status.idle": "2025-06-06T16:25:56.102556Z",
     "shell.execute_reply": "2025-06-06T16:25:56.101956Z",
     "shell.execute_reply.started": "2025-06-06T16:25:56.098677Z"
    },
    "id": "HmzhXdz6iF6v"
   },
   "outputs": [
    {
     "name": "stdout",
     "output_type": "stream",
     "text": [
      "Привіт, Ірина\n"
     ]
    }
   ],
   "source": [
    "name = \"Ірина\"\n",
    "print(\"Привіт,\", name)"
   ]
  },
  {
   "cell_type": "markdown",
   "metadata": {
    "id": "Rwn_z8I-iF6v"
   },
   "source": [
    "## Розділ 3"
   ]
  },
  {
   "cell_type": "code",
   "execution_count": 36,
   "metadata": {
    "colab": {
     "background_save": true
    },
    "execution": {
     "iopub.execute_input": "2025-06-06T16:46:37.820394Z",
     "iopub.status.busy": "2025-06-06T16:46:37.819965Z",
     "iopub.status.idle": "2025-06-06T16:46:37.824554Z",
     "shell.execute_reply": "2025-06-06T16:46:37.823972Z",
     "shell.execute_reply.started": "2025-06-06T16:46:37.820377Z"
    },
    "id": "LdWkw7hXiF6v"
   },
   "outputs": [
    {
     "data": {
      "text/plain": [
       "0.5"
      ]
     },
     "execution_count": 36,
     "metadata": {},
     "output_type": "execute_result"
    }
   ],
   "source": [
    "a = 1\n",
    "b = 2\n",
    "a + b\n",
    "a/b"
   ]
  },
  {
   "cell_type": "code",
   "execution_count": 35,
   "metadata": {
    "colab": {
     "background_save": true
    },
    "execution": {
     "iopub.execute_input": "2025-06-06T16:46:15.846531Z",
     "iopub.status.busy": "2025-06-06T16:46:15.846024Z",
     "iopub.status.idle": "2025-06-06T16:46:15.850147Z",
     "shell.execute_reply": "2025-06-06T16:46:15.849581Z",
     "shell.execute_reply.started": "2025-06-06T16:46:15.846511Z"
    },
    "id": "7wt1mxE6iF6v"
   },
   "outputs": [
    {
     "name": "stdout",
     "output_type": "stream",
     "text": [
      "2.0\n",
      "15\n"
     ]
    }
   ],
   "source": [
    "print (a/b)\n",
    "print (a+b)"
   ]
  },
  {
   "cell_type": "code",
   "execution_count": 32,
   "metadata": {
    "colab": {
     "background_save": true
    },
    "execution": {
     "iopub.execute_input": "2025-06-06T16:43:42.124457Z",
     "iopub.status.busy": "2025-06-06T16:43:42.124176Z",
     "iopub.status.idle": "2025-06-06T16:43:42.128317Z",
     "shell.execute_reply": "2025-06-06T16:43:42.127614Z",
     "shell.execute_reply.started": "2025-06-06T16:43:42.124439Z"
    },
    "id": "tSJiEaU6iF6w"
   },
   "outputs": [
    {
     "name": "stdout",
     "output_type": "stream",
     "text": [
      "7\n",
      "12\n"
     ]
    }
   ],
   "source": [
    "x = 3\n",
    "y = 4\n",
    "print (x+y)\n",
    "print (x*y)"
   ]
  },
  {
   "cell_type": "code",
   "execution_count": 37,
   "metadata": {
    "execution": {
     "iopub.execute_input": "2025-06-06T16:47:27.508084Z",
     "iopub.status.busy": "2025-06-06T16:47:27.507754Z",
     "iopub.status.idle": "2025-06-06T16:47:36.010609Z",
     "shell.execute_reply": "2025-06-06T16:47:36.009890Z",
     "shell.execute_reply.started": "2025-06-06T16:47:27.508064Z"
    }
   },
   "outputs": [
    {
     "name": "stdin",
     "output_type": "stream",
     "text": [
      "Як тебе звати?  Ірина\n"
     ]
    },
    {
     "name": "stdout",
     "output_type": "stream",
     "text": [
      "Радий знайомству, Ірина\n"
     ]
    }
   ],
   "source": [
    "name = input(\"Як тебе звати? \")\n",
    "print(\"Радий знайомству,\", name)"
   ]
  }
 ],
 "metadata": {
  "colab": {
   "provenance": []
  },
  "kernelspec": {
   "display_name": "Python 3 (ipykernel)",
   "language": "python",
   "name": "python3"
  },
  "language_info": {
   "codemirror_mode": {
    "name": "ipython",
    "version": 3
   },
   "file_extension": ".py",
   "mimetype": "text/x-python",
   "name": "python",
   "nbconvert_exporter": "python",
   "pygments_lexer": "ipython3",
   "version": "3.13.4"
  },
  "toc": {
   "base_numbering": 1,
   "nav_menu": {},
   "number_sections": true,
   "sideBar": true,
   "skip_h1_title": false,
   "title_cell": "Table of Contents",
   "title_sidebar": "Contents",
   "toc_cell": false,
   "toc_position": {},
   "toc_section_display": true,
   "toc_window_display": true
  }
 },
 "nbformat": 4,
 "nbformat_minor": 4
}

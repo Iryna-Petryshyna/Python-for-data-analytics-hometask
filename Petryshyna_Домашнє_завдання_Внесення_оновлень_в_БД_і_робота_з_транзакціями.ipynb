{
 "cells": [
  {
   "cell_type": "markdown",
   "metadata": {
    "id": "KRtr9pOrz8um"
   },
   "source": [
    "# Домашнє завдання: Внесення оновлень в БД і робота з транзакціями\n",
    "\n",
    "Це ДЗ передбачене під виконання на локальній машині. Виконання з Google Colab буде суттєво ускладнене.\n",
    "\n",
    "## Підготовка\n",
    "1. Переконайтесь, що у вас встановлены необхідні бібліотеки:\n",
    "   ```bash\n",
    "   pip install sqlalchemy pymysql pandas matplotlib seaborn python-dotenv\n",
    "   ```\n",
    "\n",
    "2. Створіть файл `.env` з параметрами підключення до бази даних classicmodels. Базу даних ви можете отримати через\n",
    "\n",
    "  - docker-контейнер згідно існтрукції в [документі](https://www.notion.so/hannapylieva/Docker-1eb94835849480c9b2e7f5dc22ee4df9), також відео інструкції присутні на платформі - уроки \"MySQL бази, клієнт для роботи з БД, Docker і ChatGPT для запитів\" та \"Як встановити Docker для роботи з базами даних без терміналу\"\n",
    "  - або встановивши локально цю БД - для цього перегляньте урок \"Опціонально. Встановлення MySQL та  БД Сlassicmodels локально\".\n",
    "  \n",
    "  Приклад `.env` файлу ми створювали в лекції. Ось його обовʼязкове наповнення:\n",
    "    ```\n",
    "    DB_HOST=your_host\n",
    "    DB_PORT=3306 або 3307 - той, який Ви налаштували\n",
    "    DB_USER=your_username\n",
    "    DB_PASSWORD=your_password\n",
    "    DB_NAME=classicmodels\n",
    "    ```\n",
    "  Якщо ви створили цей файл під час перегляду лекції - **новий створювати не треба**. Замініть лише назву БД, або пропишіть назву в коді створення підключення (замість отримання назви цільової БД зі змінних оточення). Але переконайтесь, що до `.env` файл лежить в тій самій папці, що і цей ноутбук.\n",
    "\n",
    "  **УВАГА!** НЕ копіюйте скрит для **створення** `.env` файлу. В лекції він наводиться для прикладу. І давалось пояснення, що в реальних проєктах ми НІКОЛИ не пишемо доступи до бази в коді. Копіювання скрипта для створення `.env` файлу сюди в ДЗ буде вважатись грубою помилкою і ми зніматимемо бали.\n",
    "\n",
    "3. Налаштуйте підключення через SQLAlchemy до БД за прикладом в лекції.\n",
    "\n",
    "Рекомендую вивести (відобразити) змінну engine після створення. Вона має бути не None! Якщо None - значить у Вас не підтягнулись налаштування з .env файла.\n",
    "\n",
    "Ви також можете налаштувати параметри підключення до БД без .env файла, просто прописавши текстом в відповідних місцях. Це - не рекомендований підхід.\n",
    "\n",
    "\n",
    "## Завдання\n",
    "\n",
    "### Завдання 1: Оновлення інформації про клієнта (2 бали)\n",
    "\n",
    "**Створіть функцію для оновлення контактної інформації клієнта** з наступними можливостями:\n",
    "- Оновлення телефону клієнта\n",
    "- Оновлення email (якщо поле існує)\n",
    "- Логування змін в окрему таблицю\n",
    "\n",
    "Використайте підхід з параметризованими запитами через `text()` та `UPDATE` оператор.\n",
    "\n",
    "Запустіть функцію і продемонструйте її роботу, запустивши SELECT, який допоможе це зробити.\n",
    "\n"
   ]
  },
  {
   "cell_type": "code",
   "execution_count": 1,
   "metadata": {
    "execution": {
     "iopub.execute_input": "2025-08-01T07:21:49.891899Z",
     "iopub.status.busy": "2025-08-01T07:21:49.891476Z",
     "iopub.status.idle": "2025-08-01T07:21:54.826520Z",
     "shell.execute_reply": "2025-08-01T07:21:54.825965Z",
     "shell.execute_reply.started": "2025-08-01T07:21:49.891874Z"
    },
    "id": "u60cWg7m2l26"
   },
   "outputs": [],
   "source": [
    "import os\n",
    "\n",
    "import matplotlib.pyplot as plt\n",
    "import pandas as pd\n",
    "import sqlalchemy as sa\n",
    "from sqlalchemy import create_engine, text\n",
    "from dotenv import load_dotenv"
   ]
  },
  {
   "cell_type": "code",
   "execution_count": 4,
   "metadata": {
    "execution": {
     "iopub.execute_input": "2025-08-01T07:34:03.504859Z",
     "iopub.status.busy": "2025-08-01T07:34:03.504274Z",
     "iopub.status.idle": "2025-08-01T07:34:03.518511Z",
     "shell.execute_reply": "2025-08-01T07:34:03.517346Z",
     "shell.execute_reply.started": "2025-08-01T07:34:03.504825Z"
    }
   },
   "outputs": [],
   "source": [
    "# Підключення до БД\n",
    "def create_connection():\n",
    "    load_dotenv()\n",
    "\n",
    "    host = os.getenv('DB_HOST')\n",
    "    port = os.getenv('DB_PORT', '3306')\n",
    "    user = os.getenv('DB_USER')\n",
    "    password = os.getenv('DB_PASSWORD')\n",
    "    database = os.getenv('DB_NAME')\n",
    "\n",
    "    connection_string = f\"mysql+pymysql://{user}:{password}@{host}:{port}/{database}\"\n",
    "\n",
    "    engine = create_engine(\n",
    "        connection_string,\n",
    "        pool_size=1,\n",
    "        max_overflow=20,\n",
    "        pool_pre_ping=True,\n",
    "        echo=False\n",
    "    )\n",
    "\n",
    "    return engine\n",
    "\n",
    "engine = create_connection()"
   ]
  },
  {
   "cell_type": "code",
   "execution_count": 17,
   "metadata": {
    "execution": {
     "iopub.execute_input": "2025-08-01T08:03:35.462727Z",
     "iopub.status.busy": "2025-08-01T08:03:35.462020Z",
     "iopub.status.idle": "2025-08-01T08:03:36.051779Z",
     "shell.execute_reply": "2025-08-01T08:03:36.051084Z",
     "shell.execute_reply.started": "2025-08-01T08:03:35.462690Z"
    }
   },
   "outputs": [],
   "source": [
    "with engine.connect() as conn:\n",
    "    conn.execute(text(\"\"\"\n",
    "        CREATE TABLE IF NOT EXISTS customer_update_log (\n",
    "            log_id INT AUTO_INCREMENT PRIMARY KEY,\n",
    "            customerNumber INT,\n",
    "            field_updated VARCHAR(50),\n",
    "            old_value VARCHAR(255),\n",
    "            new_value VARCHAR(255),\n",
    "            updated_at TIMESTAMP DEFAULT CURRENT_TIMESTAMP\n",
    "        );\n",
    "    \"\"\"))\n",
    "    conn.commit()\n"
   ]
  },
  {
   "cell_type": "code",
   "execution_count": 20,
   "metadata": {
    "execution": {
     "iopub.execute_input": "2025-08-01T08:04:49.724308Z",
     "iopub.status.busy": "2025-08-01T08:04:49.723729Z",
     "iopub.status.idle": "2025-08-01T08:04:49.744871Z",
     "shell.execute_reply": "2025-08-01T08:04:49.743481Z",
     "shell.execute_reply.started": "2025-08-01T08:04:49.724270Z"
    }
   },
   "outputs": [],
   "source": [
    "def update_customer_contact(engine, cust_num, new_phone):\n",
    "    with engine.connect() as conn:\n",
    "        # Отримати старе значення телефону\n",
    "        old_phone_query = text(\"\"\"\n",
    "            SELECT phone FROM customers WHERE customerNumber = :cust_num\n",
    "        \"\"\")\n",
    "        result = conn.execute(old_phone_query, {\"cust_num\": cust_num})\n",
    "        row = result.fetchone()\n",
    "        if row is None:\n",
    "            print(\"Клієнта не знайдено.\")\n",
    "            return\n",
    "\n",
    "        old_phone = row[0]  # <--- ось тут зміна\n",
    "\n",
    "        # Оновити телефон\n",
    "        update_query = text(\"\"\"\n",
    "            UPDATE customers\n",
    "            SET phone = :new_phone\n",
    "            WHERE customerNumber = :cust_num\n",
    "        \"\"\")\n",
    "        conn.execute(update_query, {\"new_phone\": new_phone, \"cust_num\": cust_num})\n",
    "\n",
    "        # Записати лог\n",
    "        log_query = text(\"\"\"\n",
    "            INSERT INTO customer_update_log (customerNumber, field_updated, old_value, new_value)\n",
    "            VALUES (:cust_num, 'phone', :old_val, :new_val)\n",
    "        \"\"\")\n",
    "        conn.execute(log_query, {\n",
    "            \"cust_num\": cust_num,\n",
    "            \"old_val\": old_phone,\n",
    "            \"new_val\": new_phone\n",
    "        })\n",
    "\n",
    "        conn.commit()\n",
    "        print(f\"Телефон клієнта {cust_num} оновлено з {old_phone} на {new_phone}\")\n"
   ]
  },
  {
   "cell_type": "code",
   "execution_count": 21,
   "metadata": {
    "execution": {
     "iopub.execute_input": "2025-08-01T08:04:56.395111Z",
     "iopub.status.busy": "2025-08-01T08:04:56.394746Z",
     "iopub.status.idle": "2025-08-01T08:04:56.458586Z",
     "shell.execute_reply": "2025-08-01T08:04:56.457787Z",
     "shell.execute_reply.started": "2025-08-01T08:04:56.395082Z"
    }
   },
   "outputs": [
    {
     "name": "stdout",
     "output_type": "stream",
     "text": [
      "Телефон клієнта 103 оновлено з 888-777-9999 на +380990001122\n"
     ]
    }
   ],
   "source": [
    "update_customer_contact(engine, 103, \"+380990001122\")\n"
   ]
  },
  {
   "cell_type": "code",
   "execution_count": 22,
   "metadata": {
    "execution": {
     "iopub.execute_input": "2025-08-01T08:05:10.914491Z",
     "iopub.status.busy": "2025-08-01T08:05:10.913989Z",
     "iopub.status.idle": "2025-08-01T08:05:10.951955Z",
     "shell.execute_reply": "2025-08-01T08:05:10.951273Z",
     "shell.execute_reply.started": "2025-08-01T08:05:10.914474Z"
    }
   },
   "outputs": [
    {
     "name": "stdout",
     "output_type": "stream",
     "text": [
      "   log_id  customerNumber field_updated     old_value      new_value  \\\n",
      "0       1             103         phone  888-777-9999  +380990001122   \n",
      "\n",
      "           updated_at  \n",
      "0 2025-08-01 08:04:56  \n"
     ]
    }
   ],
   "source": [
    "with engine.connect() as conn:\n",
    "    result = conn.execute(text(\"SELECT * FROM customer_update_log ORDER BY updated_at DESC LIMIT 5\"))\n",
    "    df_log = pd.DataFrame(result.fetchall(), columns=result.keys())\n",
    "    print(df_log)\n"
   ]
  },
  {
   "cell_type": "markdown",
   "metadata": {
    "id": "equimeUA0lh5"
   },
   "source": [
    "### Завдання 2: Створення нового замовлення з транзакцією (5 балів)\n",
    "\n",
    "**Реалізуйте процес створення нового замовлення** з наступними кроками в одній транзакції:\n",
    "- Створення запису в таблиці `orders`\n",
    "- Додавання товарних позицій в `orderdetails`\n",
    "- Перевірка наявності товарів на складі\n",
    "- Зменшення кількості товарів на складі\n",
    "\n",
    "Запустіть процес з тестовими даними і продемонструйте через SELECT, що процес успішно відпрацював і були виконані необхідні операції.\n",
    "\n",
    "\n"
   ]
  },
  {
   "cell_type": "code",
   "execution_count": 25,
   "metadata": {
    "execution": {
     "iopub.execute_input": "2025-08-01T08:19:41.127681Z",
     "iopub.status.busy": "2025-08-01T08:19:41.127185Z",
     "iopub.status.idle": "2025-08-01T08:19:41.253885Z",
     "shell.execute_reply": "2025-08-01T08:19:41.253305Z",
     "shell.execute_reply.started": "2025-08-01T08:19:41.127663Z"
    }
   },
   "outputs": [
    {
     "name": "stdout",
     "output_type": "stream",
     "text": [
      "✅ Замовлення створено успішно!\n"
     ]
    }
   ],
   "source": [
    "from datetime import datetime\n",
    "from sqlalchemy.exc import SQLAlchemyError\n",
    "\n",
    "# Тестові дані\n",
    "customer_number = 103\n",
    "new_order_number = 99999\n",
    "order_date = datetime.now().date()\n",
    "required_date = datetime(2025, 8, 10).date()\n",
    "shipped_date = None\n",
    "status = 'In Process'\n",
    "comments = 'Test order from script'\n",
    "\n",
    "# Список товарів: productCode, quantityOrdered, priceEach\n",
    "order_items = [\n",
    "    {'productCode': 'S10_1678', 'quantityOrdered': 2, 'priceEach': 95.70},\n",
    "    {'productCode': 'S10_1949', 'quantityOrdered': 1, 'priceEach': 53.80},\n",
    "]\n",
    "\n",
    "with engine.connect() as conn:\n",
    "    trans = conn.begin()\n",
    "    try:\n",
    "        # 1. Створення замовлення\n",
    "        conn.execute(text(\"\"\"\n",
    "            INSERT INTO orders (orderNumber, orderDate, requiredDate, status, comments, customerNumber)\n",
    "            VALUES (:orderNumber, :orderDate, :requiredDate, :status, :comments, :customerNumber)\n",
    "        \"\"\"), {\n",
    "            'orderNumber': new_order_number,\n",
    "            'orderDate': order_date,\n",
    "            'requiredDate': required_date,\n",
    "            'status': status,\n",
    "            'comments': comments,\n",
    "            'customerNumber': customer_number\n",
    "        })\n",
    "\n",
    "        # 2. Додавання до orderdetails та 3-4. Перевірка і оновлення складу\n",
    "        for idx, item in enumerate(order_items, start=1):\n",
    "            # Перевірка наявності товару\n",
    "            stock_result = conn.execute(text(\"\"\"\n",
    "                SELECT quantityInStock FROM products WHERE productCode = :productCode\n",
    "            \"\"\"), {'productCode': item['productCode']}).scalar_one()\n",
    "\n",
    "            if stock_result < item['quantityOrdered']:\n",
    "                raise ValueError(f\"Insufficient stock for product {item['productCode']}\")\n",
    "\n",
    "            # Додавання в orderdetails\n",
    "            conn.execute(text(\"\"\"\n",
    "                INSERT INTO orderdetails (orderNumber, productCode, quantityOrdered, priceEach, orderLineNumber)\n",
    "                VALUES (:orderNumber, :productCode, :quantityOrdered, :priceEach, :orderLineNumber)\n",
    "            \"\"\"), {\n",
    "                'orderNumber': new_order_number,\n",
    "                'productCode': item['productCode'],\n",
    "                'quantityOrdered': item['quantityOrdered'],\n",
    "                'priceEach': item['priceEach'],\n",
    "                'orderLineNumber': idx\n",
    "            })\n",
    "\n",
    "            # Зменшення товару на складі\n",
    "            conn.execute(text(\"\"\"\n",
    "                UPDATE products\n",
    "                SET quantityInStock = quantityInStock - :qty\n",
    "                WHERE productCode = :productCode\n",
    "            \"\"\"), {\n",
    "                'qty': item['quantityOrdered'],\n",
    "                'productCode': item['productCode']\n",
    "            })\n",
    "\n",
    "        trans.commit()\n",
    "        print(\"✅ Замовлення створено успішно!\")\n",
    "\n",
    "    except (SQLAlchemyError, ValueError) as e:\n",
    "        trans.rollback()\n",
    "        print(\"❌ Помилка при створенні замовлення:\", e)\n"
   ]
  },
  {
   "cell_type": "code",
   "execution_count": 26,
   "metadata": {
    "execution": {
     "iopub.execute_input": "2025-08-01T08:19:55.270187Z",
     "iopub.status.busy": "2025-08-01T08:19:55.269640Z",
     "iopub.status.idle": "2025-08-01T08:19:55.323342Z",
     "shell.execute_reply": "2025-08-01T08:19:55.320459Z",
     "shell.execute_reply.started": "2025-08-01T08:19:55.270158Z"
    }
   },
   "outputs": [
    {
     "name": "stdout",
     "output_type": "stream",
     "text": [
      "🔍 Order:\n",
      "(99999, datetime.date(2025, 8, 1), datetime.date(2025, 8, 10), None, 'In Process', 'Test order from script', 103)\n",
      "\n",
      "🧾 Order Details:\n",
      "(99999, 'S10_1678', 2, Decimal('95.70'), 1)\n",
      "(99999, 'S10_1949', 1, Decimal('53.80'), 2)\n"
     ]
    }
   ],
   "source": [
    "# Перевірка замовлення\n",
    "with engine.connect() as conn:\n",
    "    order = conn.execute(text(\"SELECT * FROM orders WHERE orderNumber = :orderNumber\"), {\n",
    "        'orderNumber': new_order_number\n",
    "    }).fetchone()\n",
    "\n",
    "    details = conn.execute(text(\"SELECT * FROM orderdetails WHERE orderNumber = :orderNumber\"), {\n",
    "        'orderNumber': new_order_number\n",
    "    }).fetchall()\n",
    "\n",
    "    print(\"🔍 Order:\")\n",
    "    print(order)\n",
    "\n",
    "    print(\"\\n🧾 Order Details:\")\n",
    "    for row in details:\n",
    "        print(row)\n"
   ]
  },
  {
   "cell_type": "code",
   "execution_count": null,
   "metadata": {},
   "outputs": [],
   "source": []
  }
 ],
 "metadata": {
  "colab": {
   "provenance": []
  },
  "kernelspec": {
   "display_name": "Python 3 (ipykernel)",
   "language": "python",
   "name": "python3"
  },
  "language_info": {
   "codemirror_mode": {
    "name": "ipython",
    "version": 3
   },
   "file_extension": ".py",
   "mimetype": "text/x-python",
   "name": "python",
   "nbconvert_exporter": "python",
   "pygments_lexer": "ipython3",
   "version": "3.13.4"
  }
 },
 "nbformat": 4,
 "nbformat_minor": 4
}

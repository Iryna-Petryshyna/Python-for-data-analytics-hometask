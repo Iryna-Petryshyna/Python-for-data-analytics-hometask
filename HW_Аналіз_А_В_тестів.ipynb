{
 "cells": [
  {
   "cell_type": "markdown",
   "metadata": {
    "ExecuteTime": {
     "end_time": "2022-12-10T17:43:42.137588Z",
     "start_time": "2022-12-10T17:43:42.124712Z"
    },
    "id": "f41183ed"
   },
   "source": [
    "## Аналіз A/B-тестів\n",
    "\n",
    "Ви - аналітик даних в ІТ-компанії і до вас надійшла задача проаналізувати дані A/B тесту в популярній [грі Cookie Cats](https://www.facebook.com/cookiecatsgame). Це - гра-головоломка в стилі «з’єднай три», де гравець повинен з’єднати плитки одного кольору, щоб очистити дошку та виграти рівень. На дошці також зображені співаючі котики :)\n",
    "\n",
    "Під час проходження гри гравці стикаються з воротами, які змушують їх чекати деякий час, перш ніж вони зможуть прогресувати або зробити покупку в додатку.\n",
    "\n",
    "У цьому блоці завдань ми проаналізуємо результати A/B тесту, коли перші ворота в Cookie Cats було переміщено з рівня 30 на рівень 40. Зокрема, ми хочемо зрозуміти, як це вплинуло на утримання (retention) гравців. Тобто хочемо зрозуміти, чи переміщення воріт на 10 рівнів пізніше якимось чином вплинуло на те, що користувачі перестають грати в гру раніше чи пізніше з точки зору кількості їх днів з моменту встановлення гри.\n",
    "\n",
    "Будемо працювати з даними з файлу `cookie_cats.csv`. Колонки в даних наступні:\n",
    "\n",
    "- `userid` - унікальний номер, який ідентифікує кожного гравця.\n",
    "- `version` - чи потрапив гравець в контрольну групу (gate_30 - ворота на 30 рівні) чи тестову групу (gate_40 - ворота на 40 рівні).\n",
    "- `sum_gamerounds` - кількість ігрових раундів, зіграних гравцем протягом першого тижня після встановлення\n",
    "- `retention_1` - чи через 1 день після встановлення гравець повернувся і почав грати?\n",
    "- `retention_7` - чи через 7 днів після встановлення гравець повернувся і почав грати?\n",
    "\n",
    "Коли гравець встановлював гру, його випадковим чином призначали до групи gate_30 або gate_40."
   ]
  },
  {
   "cell_type": "markdown",
   "metadata": {
    "id": "XKhHA3eiueo0"
   },
   "source": [
    "1. Для початку, уявімо, що ми тільки плануємо проведення зазначеного А/B-тесту і хочемо зрозуміти, дані про скількох користувачів нам треба зібрати, аби досягнути відчутного ефекту. Відчутним ефектом ми вважатимемо збільшення утримання на 1% після внесення зміни. Обчисліть, скільки користувачів сумарно нам треба аби досягнути такого ефекту, якщо продакт менеджер нам повідомив, що базове утримання є 19%."
   ]
  },
  {
   "cell_type": "code",
   "execution_count": 6,
   "metadata": {
    "execution": {
     "iopub.execute_input": "2025-09-07T06:33:23.217281Z",
     "iopub.status.busy": "2025-09-07T06:33:23.212238Z",
     "iopub.status.idle": "2025-09-07T06:33:27.391078Z",
     "shell.execute_reply": "2025-09-07T06:33:27.389580Z",
     "shell.execute_reply.started": "2025-09-07T06:33:23.217186Z"
    }
   },
   "outputs": [],
   "source": [
    "import numpy as np\n",
    "import pandas as pd\n",
    "import scipy.stats as stats\n",
    "import statsmodels.stats.api as sms\n",
    "import matplotlib as mpl\n",
    "import matplotlib.pyplot as plt\n",
    "import seaborn as sns\n",
    "from math import ceil\n",
    "\n",
    "%matplotlib inline"
   ]
  },
  {
   "cell_type": "code",
   "execution_count": 7,
   "metadata": {
    "execution": {
     "iopub.execute_input": "2025-09-07T06:34:07.239233Z",
     "iopub.status.busy": "2025-09-07T06:34:07.238479Z",
     "iopub.status.idle": "2025-09-07T06:34:07.249617Z",
     "shell.execute_reply": "2025-09-07T06:34:07.248154Z",
     "shell.execute_reply.started": "2025-09-07T06:34:07.239197Z"
    }
   },
   "outputs": [],
   "source": [
    "effect_size = sms.proportion_effectsize(0.20, 0.19)    # Розрахунок розміру ефекту на основі наших очікуваних показників"
   ]
  },
  {
   "cell_type": "code",
   "execution_count": 8,
   "metadata": {
    "execution": {
     "iopub.execute_input": "2025-09-07T06:34:18.144771Z",
     "iopub.status.busy": "2025-09-07T06:34:18.144006Z",
     "iopub.status.idle": "2025-09-07T06:34:18.163445Z",
     "shell.execute_reply": "2025-09-07T06:34:18.162070Z",
     "shell.execute_reply.started": "2025-09-07T06:34:18.144637Z"
    }
   },
   "outputs": [
    {
     "data": {
      "text/plain": [
       "np.float64(0.025241594409087353)"
      ]
     },
     "execution_count": 8,
     "metadata": {},
     "output_type": "execute_result"
    }
   ],
   "source": [
    "effect_size"
   ]
  },
  {
   "cell_type": "code",
   "execution_count": 9,
   "metadata": {
    "execution": {
     "iopub.execute_input": "2025-09-07T06:34:53.848640Z",
     "iopub.status.busy": "2025-09-07T06:34:53.848049Z",
     "iopub.status.idle": "2025-09-07T06:34:53.878694Z",
     "shell.execute_reply": "2025-09-07T06:34:53.877433Z",
     "shell.execute_reply.started": "2025-09-07T06:34:53.848606Z"
    }
   },
   "outputs": [
    {
     "name": "stdout",
     "output_type": "stream",
     "text": [
      "24638\n"
     ]
    }
   ],
   "source": [
    "required_n = sms.NormalIndPower().solve_power(\n",
    "    effect_size,\n",
    "    power=0.8,\n",
    "    alpha=0.05,\n",
    "    ratio=1\n",
    "    )                                                  # Розрахунок необхідного розміру вибірки\n",
    "\n",
    "required_n = ceil(required_n)                          # Округлення до наступного цілого числа\n",
    "\n",
    "print(required_n)"
   ]
  },
  {
   "cell_type": "markdown",
   "metadata": {},
   "source": [
    "✅ Висновок:\n",
    "Щоб виявити зростання утримання з 19% до 20% з потужністю 80% і α = 0.05, нам потрібно приблизно 49 тисяч користувачів (по 24 638 спостережень для кожної групи). "
   ]
  },
  {
   "cell_type": "markdown",
   "metadata": {
    "id": "22f03df4"
   },
   "source": [
    "2. Зчитайте дані АВ тесту у змінну `df` та виведіть середнє значення показника показник `retention_7` (утримання на 7 день) по версіям гри. Сформулюйте гіпотезу: яка версія дає краще утримання через 7 днів після встановлення гри?"
   ]
  },
  {
   "cell_type": "code",
   "execution_count": 15,
   "metadata": {
    "execution": {
     "iopub.execute_input": "2025-09-07T06:49:27.175708Z",
     "iopub.status.busy": "2025-09-07T06:49:27.174815Z",
     "iopub.status.idle": "2025-09-07T06:49:27.296954Z",
     "shell.execute_reply": "2025-09-07T06:49:27.295254Z",
     "shell.execute_reply.started": "2025-09-07T06:49:27.175670Z"
    },
    "id": "MVzMTs-jh22b"
   },
   "outputs": [
    {
     "name": "stdout",
     "output_type": "stream",
     "text": [
      "Середнє утримання на 7 день по версіях:\n",
      "version\n",
      "gate_30    0.190201\n",
      "gate_40    0.182000\n",
      "Name: retention_7, dtype: float64\n"
     ]
    }
   ],
   "source": [
    "df = pd.read_csv('cookie_cats.csv')\n",
    "\n",
    "df.head()\n",
    "\n",
    "# Обчислення середнього retention_7 по версіях гри\n",
    "retention_by_version = df.groupby(\"version\")[\"retention_7\"].mean()\n",
    "print(\"Середнє утримання на 7 день по версіях:\")\n",
    "print(retention_by_version)\n",
    "\n",
    "# Формулювання гіпотези\n",
    "# Середнє утримання на 7 день однакове для обох версій (gate_30 = gate_40)\n",
    "# Середнє утримання на 7 день відрізняється між версіями (gate_30 ≠ gate_40)"
   ]
  },
  {
   "cell_type": "markdown",
   "metadata": {},
   "source": [
    "✅*Гіпотеза*: Утримання на 7 день трохи краще у версії gate_30 (контрольної групи). Але потрібно статистично перевірити, чи ця різниця є значущою (наприклад, через z-тест для двох пропорцій)."
   ]
  },
  {
   "cell_type": "markdown",
   "metadata": {
    "id": "74e9c6ca"
   },
   "source": [
    "3. Перевірте з допомогою пасуючого варіанту z-тесту, чи дає якась з версій гри кращий показник `retention_7` на рівні значущості 0.05. Обчисліть також довірчі інтервали для варіантів до переміщення воріт і після. Виведіть результат у форматі:\n",
    "\n",
    "    ```\n",
    "    z statistic: ...\n",
    "    p-value: ...\n",
    "    Довірчий інтервал 95% для групи control: [..., ...]\n",
    "    Довірчий інтервал 95% для групи treatment: [..., ...]\n",
    "    ```\n",
    "\n",
    "    де замість `...` - обчислені значення.\n",
    "    \n",
    "    В якості висновку дайте відповідь на два питання:  \n",
    "\n",
    "      1. Чи є статистична значущою різниця між поведінкою користувачів у різних версіях гри?   \n",
    "      2. Чи перетинаються довірчі інтервали утримання користувачів з різних версій гри? Про що це каже?  \n"
   ]
  },
  {
   "cell_type": "code",
   "execution_count": 16,
   "metadata": {
    "execution": {
     "iopub.execute_input": "2025-09-07T07:00:40.273293Z",
     "iopub.status.busy": "2025-09-07T07:00:40.268842Z",
     "iopub.status.idle": "2025-09-07T07:00:40.434858Z",
     "shell.execute_reply": "2025-09-07T07:00:40.432872Z",
     "shell.execute_reply.started": "2025-09-07T07:00:40.273165Z"
    },
    "id": "kXQE4gyjh5MS"
   },
   "outputs": [
    {
     "name": "stdout",
     "output_type": "stream",
     "text": [
      "\n",
      "z statistic: 3.1644\n",
      "p-value: 0.0016\n",
      "Довірчий інтервал 95% для групи control (gate_30): [0.1866, 0.1938]\n",
      "Довірчий інтервал 95% для групи treatment (gate_40): [0.1785, 0.1855]\n"
     ]
    }
   ],
   "source": [
    "from statsmodels.stats.proportion import proportions_ztest, proportion_confint\n",
    "import numpy as np\n",
    "\n",
    "# Крок 1. Підрахунок кількості успіхів (retention_7 = 1) та загальної кількості для кожної версії\n",
    "counts = df.groupby(\"version\")[\"retention_7\"].sum()\n",
    "nobs = df.groupby(\"version\")[\"retention_7\"].count()\n",
    "\n",
    "# Приведемо до масивів у правильному порядку (gate_30, gate_40)\n",
    "successes = np.array([counts[\"gate_30\"], counts[\"gate_40\"]])\n",
    "observations = np.array([nobs[\"gate_30\"], nobs[\"gate_40\"]])\n",
    "\n",
    "# Крок 2. Виконання Z-тесту для двох пропорцій\n",
    "z_stat, p_val = proportions_ztest(successes, observations)\n",
    "\n",
    "# Крок 3. Обчислення довірчих інтервалів для обох груп\n",
    "confint_control = proportion_confint(count=successes[0], nobs=observations[0], alpha=0.05, method='normal')\n",
    "confint_treatment = proportion_confint(count=successes[1], nobs=observations[1], alpha=0.05, method='normal')\n",
    "\n",
    "# Крок 4. Вивід результатів\n",
    "print(f\"\\nz statistic: {z_stat:.4f}\")\n",
    "print(f\"p-value: {p_val:.4f}\")\n",
    "print(f\"Довірчий інтервал 95% для групи control (gate_30): [{confint_control[0]:.4f}, {confint_control[1]:.4f}]\")\n",
    "print(f\"Довірчий інтервал 95% для групи treatment (gate_40): [{confint_treatment[0]:.4f}, {confint_treatment[1]:.4f}]\")\n"
   ]
  },
  {
   "cell_type": "markdown",
   "metadata": {
    "execution": {
     "iopub.execute_input": "2025-09-07T07:02:10.701665Z",
     "iopub.status.busy": "2025-09-07T07:02:10.701032Z",
     "iopub.status.idle": "2025-09-07T07:02:10.723789Z",
     "shell.execute_reply": "2025-09-07T07:02:10.721618Z",
     "shell.execute_reply.started": "2025-09-07T07:02:10.701628Z"
    }
   },
   "source": [
    "✅ Висновок:\n",
    "1. Чи є статистична значущою різниця між поведінкою користувачів у різних версіях гри?\n",
    "Так, різниця є статистично значущою, оскільки p-value = 0.0016 < 0.05, і Z-статистика 3.1644 суттєво перевищує критичне значення для α = 0.05 (≈ 1.96). Це означає, що ми відхиляємо H₀ і приймаємо H₁: утримання на 7-й день відрізняється між групами.\n",
    "\n",
    "2. Чи перетинаються довірчі інтервали утримання користувачів з різних версій гри? Про що це каже?\n",
    "Ні, довірчі інтервали не перетинаються:\n",
    "\n",
    "gate_30: [0.1866, 0.1938]\n",
    "\n",
    "gate_40: [0.1785, 0.1855]\n",
    "\n",
    "Відсутність перетину довірчих інтервалів додатково підтверджує, що різниця між групами не випадкова і статистично значуща. Це означає, що переміщення воріт зменшило утримання користувачів (бо показник у gate_40 нижчий)."
   ]
  },
  {
   "cell_type": "markdown",
   "metadata": {
    "ExecuteTime": {
     "end_time": "2022-12-10T20:50:10.709766Z",
     "start_time": "2022-12-10T20:50:10.639999Z"
    },
    "id": "076cd867"
   },
   "source": [
    "4. Виконайте тест Хі-квадрат на рівні значущості 5% аби визначити, чи є залежність між версією гри та утриманням гравця на 7ий день після реєстрації.\n",
    "\n",
    "    - Напишіть, як для цього тесту будуть сформульовані гіпотези.\n",
    "    - Проведіть обчислення, виведіть p-значення і напишіть висновок за результатами тесту.\n"
   ]
  },
  {
   "cell_type": "markdown",
   "metadata": {},
   "source": [
    "*Формулювання гіпотез*\n",
    "\n",
    "H₀ (нульова гіпотеза):\n",
    "Версія гри (gate_30 або gate_40) не впливає на утримання гравців на 7-й день (retention_7).\n",
    "→ Немає залежності між версією та retention_7.\n",
    "\n",
    "Hа (альтернативна гіпотеза):\n",
    "Версія гри впливає на утримання гравців на 7-й день.\n",
    "→ Є залежність між версією та retention_7.\n",
    "\n",
    "Тест: χ²-тест незалежності (Chi-Square Test of Independence).\n",
    "Рівень значущості: α = 0.05."
   ]
  },
  {
   "cell_type": "code",
   "execution_count": 21,
   "metadata": {
    "execution": {
     "iopub.execute_input": "2025-09-07T07:10:33.774742Z",
     "iopub.status.busy": "2025-09-07T07:10:33.773829Z",
     "iopub.status.idle": "2025-09-07T07:10:33.831967Z",
     "shell.execute_reply": "2025-09-07T07:10:33.829723Z",
     "shell.execute_reply.started": "2025-09-07T07:10:33.774704Z"
    },
    "id": "kcwD-91Fh84n"
   },
   "outputs": [
    {
     "name": "stdout",
     "output_type": "stream",
     "text": [
      "Таблиця спряженості:\n",
      "retention_7  False  True \n",
      "version                  \n",
      "gate_30      36198   8502\n",
      "gate_40      37210   8279\n",
      "\n",
      "Chi-square statistic: 9.9591\n",
      "Degrees of freedom: 1\n",
      "P-value: 0.0016\n",
      "Відхиляємо H₀: Є статистично значуща залежність між версією гри та утриманням на 7-й день.\n"
     ]
    }
   ],
   "source": [
    "# Створення таблиці спряженості (contingency table)\n",
    "contingency_table = pd.crosstab(df['version'], df['retention_7'])\n",
    "print(\"Таблиця спряженості:\")\n",
    "print(contingency_table)\n",
    "\n",
    "# Виконання χ²-тесту\n",
    "chi2, p, dof, expected = stats.chi2_contingency(contingency_table)\n",
    "\n",
    "# Виведення результатів\n",
    "print(f\"\\nChi-square statistic: {chi2:.4f}\")\n",
    "print(f\"Degrees of freedom: {dof}\")\n",
    "print(f\"P-value: {p:.4f}\")\n",
    "\n",
    "# Висновок\n",
    "alpha = 0.05\n",
    "if p < alpha:\n",
    "    print(\"Відхиляємо H₀: Є статистично значуща залежність між версією гри та утриманням на 7-й день.\")\n",
    "else:\n",
    "    print(\"Не відхиляємо H₀: Немає статистично значущої залежності між версією гри та утриманням на 7-й день.\")\n"
   ]
  },
  {
   "cell_type": "markdown",
   "metadata": {},
   "source": [
    "✅ Висновок: Значення p-value = 0.0016, що значно менше рівня значущості α = 0.05.\n",
    "\n",
    "Це означає, що ми відхиляємо нульову гіпотезу (H₀) та робимо висновок:\n",
    "між версією гри (gate_30 або gate_40) та утриманням гравців на 7-й день існує статистично значуща залежність.\n",
    "\n",
    "Тобто, переміщення воріт з рівня 30 на рівень 40 впливає на ймовірність того, що гравець повернеться у гру на 7-й день.\n",
    "\n",
    "З попередніх обчислень видно, що у версії gate_30 (ворота на рівні 30) утримання трохи вище, ніж у gate_40. Це може означати, що розміщення воріт раніше (на рівні 30) краще утримує гравців у довгостроковій перспективі, ніж розміщення на рівні 40."
   ]
  },
  {
   "cell_type": "code",
   "execution_count": null,
   "metadata": {},
   "outputs": [],
   "source": []
  }
 ],
 "metadata": {
  "colab": {
   "provenance": []
  },
  "kernelspec": {
   "display_name": "Python 3 (ipykernel)",
   "language": "python",
   "name": "python3"
  },
  "language_info": {
   "codemirror_mode": {
    "name": "ipython",
    "version": 3
   },
   "file_extension": ".py",
   "mimetype": "text/x-python",
   "name": "python",
   "nbconvert_exporter": "python",
   "pygments_lexer": "ipython3",
   "version": "3.13.4"
  }
 },
 "nbformat": 4,
 "nbformat_minor": 4
}

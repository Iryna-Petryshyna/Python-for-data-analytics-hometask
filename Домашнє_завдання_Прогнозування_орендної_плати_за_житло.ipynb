{
 "cells": [
  {
   "cell_type": "markdown",
   "metadata": {
    "id": "349a8211"
   },
   "source": [
    "# Домашнє завдання: Прогнозування орендної плати за житло\n",
    "\n",
    "## Мета завдання\n",
    "Застосувати знання з лекції для побудови моделі лінійної регресії, що прогнозує орендну плату за житло в Індії. Ви пройдете весь цикл вирішення задачі машинного навчання: від дослідницького аналізу до оцінки якості моделі.\n",
    "\n",
    "## Опис датасету\n",
    "**House Rent Prediction Dataset** містить інформацію про 4700+ оголошень про оренду житла в Індії з такими параметрами:\n",
    "- **BHK**: Кількість спалень, залів, кухонь\n",
    "- **Rent**: Орендна плата (цільова змінна)\n",
    "- **Size**: Площа в квадратних футах\n",
    "- **Floor**: Поверх та загальна кількість поверхів\n",
    "- **Area Type**: Тип розрахунку площі\n",
    "- **Area Locality**: Район\n",
    "- **City**: Місто\n",
    "- **Furnishing Status**: Стан меблювання\n",
    "- **Tenant Preferred**: Тип орендаря\n",
    "- **Bathroom**: Кількість ванних кімнат\n",
    "- **Point of Contact**: Контактна особа\n",
    "\n",
    "---\n",
    "\n",
    "## Завдання 1: Завантаження та перший огляд даних (1 бал)\n",
    "\n",
    "**Що потрібно зробити:**\n",
    "1. Завантажте дані з файлу `House_Rent_Dataset.csv`\n",
    "2. Виведіть розмір датасету\n",
    "3. Покажіть перші 5 рядків\n",
    "4. Виведіть загальну інформацію про дані (включно з типами даних та кількістю значень)\n"
   ]
  },
  {
   "cell_type": "code",
   "execution_count": 16,
   "metadata": {
    "execution": {
     "iopub.execute_input": "2025-09-12T14:16:35.331714Z",
     "iopub.status.busy": "2025-09-12T14:16:35.331362Z",
     "iopub.status.idle": "2025-09-12T14:16:41.573147Z",
     "shell.execute_reply": "2025-09-12T14:16:41.572445Z",
     "shell.execute_reply.started": "2025-09-12T14:16:35.331696Z"
    }
   },
   "outputs": [],
   "source": [
    "import pandas as pd\n",
    "import numpy as np\n",
    "import plotly.express as px\n",
    "import plotly.graph_objects as go\n",
    "from plotly.subplots import make_subplots\n",
    "import matplotlib.pyplot as plt\n",
    "import seaborn as sns"
   ]
  },
  {
   "cell_type": "code",
   "execution_count": 2,
   "metadata": {
    "execution": {
     "iopub.execute_input": "2025-09-12T13:40:12.659097Z",
     "iopub.status.busy": "2025-09-12T13:40:12.658601Z",
     "iopub.status.idle": "2025-09-12T13:40:12.705553Z",
     "shell.execute_reply": "2025-09-12T13:40:12.704784Z",
     "shell.execute_reply.started": "2025-09-12T13:40:12.659068Z"
    },
    "id": "V4sHrxbjOUau"
   },
   "outputs": [
    {
     "data": {
      "text/plain": [
       "(4746, 12)"
      ]
     },
     "execution_count": 2,
     "metadata": {},
     "output_type": "execute_result"
    }
   ],
   "source": [
    "# Завантажуємо дані\n",
    "df = pd.read_csv('House_Rent_Dataset.csv', sep=None, engine='python')\n",
    "\n",
    "# Перше знайомство з даними\n",
    "df.shape"
   ]
  },
  {
   "cell_type": "code",
   "execution_count": 6,
   "metadata": {
    "execution": {
     "iopub.execute_input": "2025-09-12T13:43:04.597829Z",
     "iopub.status.busy": "2025-09-12T13:43:04.597489Z",
     "iopub.status.idle": "2025-09-12T13:43:04.606936Z",
     "shell.execute_reply": "2025-09-12T13:43:04.606158Z",
     "shell.execute_reply.started": "2025-09-12T13:43:04.597812Z"
    }
   },
   "outputs": [
    {
     "data": {
      "text/html": [
       "<div>\n",
       "<style scoped>\n",
       "    .dataframe tbody tr th:only-of-type {\n",
       "        vertical-align: middle;\n",
       "    }\n",
       "\n",
       "    .dataframe tbody tr th {\n",
       "        vertical-align: top;\n",
       "    }\n",
       "\n",
       "    .dataframe thead th {\n",
       "        text-align: right;\n",
       "    }\n",
       "</style>\n",
       "<table border=\"1\" class=\"dataframe\">\n",
       "  <thead>\n",
       "    <tr style=\"text-align: right;\">\n",
       "      <th></th>\n",
       "      <th>Posted On</th>\n",
       "      <th>BHK</th>\n",
       "      <th>Rent</th>\n",
       "      <th>Size</th>\n",
       "      <th>Floor</th>\n",
       "      <th>Area Type</th>\n",
       "      <th>Area Locality</th>\n",
       "      <th>City</th>\n",
       "      <th>Furnishing Status</th>\n",
       "      <th>Tenant Preferred</th>\n",
       "      <th>Bathroom</th>\n",
       "      <th>Point of Contact</th>\n",
       "    </tr>\n",
       "  </thead>\n",
       "  <tbody>\n",
       "    <tr>\n",
       "      <th>0</th>\n",
       "      <td>2022-05-18</td>\n",
       "      <td>2</td>\n",
       "      <td>10000</td>\n",
       "      <td>1100</td>\n",
       "      <td>Ground out of 2</td>\n",
       "      <td>Super Area</td>\n",
       "      <td>Bandel</td>\n",
       "      <td>Kolkata</td>\n",
       "      <td>Unfurnished</td>\n",
       "      <td>Bachelors/Family</td>\n",
       "      <td>2</td>\n",
       "      <td>Contact Owner</td>\n",
       "    </tr>\n",
       "    <tr>\n",
       "      <th>1</th>\n",
       "      <td>2022-05-13</td>\n",
       "      <td>2</td>\n",
       "      <td>20000</td>\n",
       "      <td>800</td>\n",
       "      <td>1 out of 3</td>\n",
       "      <td>Super Area</td>\n",
       "      <td>Phool Bagan, Kankurgachi</td>\n",
       "      <td>Kolkata</td>\n",
       "      <td>Semi-Furnished</td>\n",
       "      <td>Bachelors/Family</td>\n",
       "      <td>1</td>\n",
       "      <td>Contact Owner</td>\n",
       "    </tr>\n",
       "    <tr>\n",
       "      <th>2</th>\n",
       "      <td>2022-05-16</td>\n",
       "      <td>2</td>\n",
       "      <td>17000</td>\n",
       "      <td>1000</td>\n",
       "      <td>1 out of 3</td>\n",
       "      <td>Super Area</td>\n",
       "      <td>Salt Lake City Sector 2</td>\n",
       "      <td>Kolkata</td>\n",
       "      <td>Semi-Furnished</td>\n",
       "      <td>Bachelors/Family</td>\n",
       "      <td>1</td>\n",
       "      <td>Contact Owner</td>\n",
       "    </tr>\n",
       "    <tr>\n",
       "      <th>3</th>\n",
       "      <td>2022-07-04</td>\n",
       "      <td>2</td>\n",
       "      <td>10000</td>\n",
       "      <td>800</td>\n",
       "      <td>1 out of 2</td>\n",
       "      <td>Super Area</td>\n",
       "      <td>Dumdum Park</td>\n",
       "      <td>Kolkata</td>\n",
       "      <td>Unfurnished</td>\n",
       "      <td>Bachelors/Family</td>\n",
       "      <td>1</td>\n",
       "      <td>Contact Owner</td>\n",
       "    </tr>\n",
       "    <tr>\n",
       "      <th>4</th>\n",
       "      <td>2022-05-09</td>\n",
       "      <td>2</td>\n",
       "      <td>7500</td>\n",
       "      <td>850</td>\n",
       "      <td>1 out of 2</td>\n",
       "      <td>Carpet Area</td>\n",
       "      <td>South Dum Dum</td>\n",
       "      <td>Kolkata</td>\n",
       "      <td>Unfurnished</td>\n",
       "      <td>Bachelors</td>\n",
       "      <td>1</td>\n",
       "      <td>Contact Owner</td>\n",
       "    </tr>\n",
       "  </tbody>\n",
       "</table>\n",
       "</div>"
      ],
      "text/plain": [
       "    Posted On  BHK   Rent  Size            Floor    Area Type  \\\n",
       "0  2022-05-18    2  10000  1100  Ground out of 2   Super Area   \n",
       "1  2022-05-13    2  20000   800       1 out of 3   Super Area   \n",
       "2  2022-05-16    2  17000  1000       1 out of 3   Super Area   \n",
       "3  2022-07-04    2  10000   800       1 out of 2   Super Area   \n",
       "4  2022-05-09    2   7500   850       1 out of 2  Carpet Area   \n",
       "\n",
       "              Area Locality     City Furnishing Status  Tenant Preferred  \\\n",
       "0                    Bandel  Kolkata       Unfurnished  Bachelors/Family   \n",
       "1  Phool Bagan, Kankurgachi  Kolkata    Semi-Furnished  Bachelors/Family   \n",
       "2   Salt Lake City Sector 2  Kolkata    Semi-Furnished  Bachelors/Family   \n",
       "3               Dumdum Park  Kolkata       Unfurnished  Bachelors/Family   \n",
       "4             South Dum Dum  Kolkata       Unfurnished         Bachelors   \n",
       "\n",
       "   Bathroom Point of Contact  \n",
       "0         2    Contact Owner  \n",
       "1         1    Contact Owner  \n",
       "2         1    Contact Owner  \n",
       "3         1    Contact Owner  \n",
       "4         1    Contact Owner  "
      ]
     },
     "execution_count": 6,
     "metadata": {},
     "output_type": "execute_result"
    }
   ],
   "source": [
    "df.head()"
   ]
  },
  {
   "cell_type": "code",
   "execution_count": 5,
   "metadata": {
    "execution": {
     "iopub.execute_input": "2025-09-12T13:42:08.373023Z",
     "iopub.status.busy": "2025-09-12T13:42:08.372645Z",
     "iopub.status.idle": "2025-09-12T13:42:08.394994Z",
     "shell.execute_reply": "2025-09-12T13:42:08.393828Z",
     "shell.execute_reply.started": "2025-09-12T13:42:08.372998Z"
    }
   },
   "outputs": [
    {
     "name": "stdout",
     "output_type": "stream",
     "text": [
      "<class 'pandas.core.frame.DataFrame'>\n",
      "RangeIndex: 4746 entries, 0 to 4745\n",
      "Data columns (total 12 columns):\n",
      " #   Column             Non-Null Count  Dtype \n",
      "---  ------             --------------  ----- \n",
      " 0   Posted On          4746 non-null   object\n",
      " 1   BHK                4746 non-null   int64 \n",
      " 2   Rent               4746 non-null   int64 \n",
      " 3   Size               4746 non-null   int64 \n",
      " 4   Floor              4746 non-null   object\n",
      " 5   Area Type          4746 non-null   object\n",
      " 6   Area Locality      4746 non-null   object\n",
      " 7   City               4746 non-null   object\n",
      " 8   Furnishing Status  4746 non-null   object\n",
      " 9   Tenant Preferred   4746 non-null   object\n",
      " 10  Bathroom           4746 non-null   int64 \n",
      " 11  Point of Contact   4746 non-null   object\n",
      "dtypes: int64(4), object(8)\n",
      "memory usage: 445.1+ KB\n"
     ]
    }
   ],
   "source": [
    "df.info()"
   ]
  },
  {
   "cell_type": "markdown",
   "metadata": {
    "id": "7e2f1440"
   },
   "source": [
    "## Завдання 2: Дослідницький аналіз даних (EDA) (4 бали)\n",
    "\n",
    "**Що потрібно зробити:**\n",
    "1. **Аналіз пропущених значень.** Перевірте наявність і відсоток пропущених значень у кожній колонці\n",
    "2. **Базова статистика.** Обчисліть базову статистику (середнє, квартилі, стандартне відхилення) для числових змінних.\n",
    "3. **Аналіз цільової змінної.** Побудуйте гістограму розподілу цільової змінної (Rent)\n",
    "4. **Робота з викидами.** Знайдіть та видаліть викиди в цільовій змінній (якщо є). Визначити викиди можна будь-яким зрозумілим для вас способом, як варіант - таким, що використовується в побудові box-plot (https://en.wikipedia.org/wiki/Box_plot#Example_with_outliers).\n",
    "5. **Аналіз категоріальних змінних.** Виведіть кількість унікальних значень для кожної з категоріальних колонок.\n"
   ]
  },
  {
   "cell_type": "code",
   "execution_count": 10,
   "metadata": {
    "execution": {
     "iopub.execute_input": "2025-09-12T13:47:44.334757Z",
     "iopub.status.busy": "2025-09-12T13:47:44.334470Z",
     "iopub.status.idle": "2025-09-12T13:47:44.342488Z",
     "shell.execute_reply": "2025-09-12T13:47:44.341776Z",
     "shell.execute_reply.started": "2025-09-12T13:47:44.334741Z"
    },
    "id": "aWPsrhm8OVvU"
   },
   "outputs": [
    {
     "name": "stdout",
     "output_type": "stream",
     "text": [
      "Пропущені значення (кількість і %):\n",
      "                   Пропущені    %\n",
      "Posted On                  0  0.0\n",
      "BHK                        0  0.0\n",
      "Rent                       0  0.0\n",
      "Size                       0  0.0\n",
      "Floor                      0  0.0\n",
      "Area Type                  0  0.0\n",
      "Area Locality              0  0.0\n",
      "City                       0  0.0\n",
      "Furnishing Status          0  0.0\n",
      "Tenant Preferred           0  0.0\n",
      "Bathroom                   0  0.0\n",
      "Point of Contact           0  0.0\n"
     ]
    }
   ],
   "source": [
    "# 1. Аналіз пропущених значень. \n",
    "missing_data = df.isnull().sum()\n",
    "missing_percent = (missing_data / len(df)) * 100\n",
    "\n",
    "print(\"Пропущені значення (кількість і %):\")\n",
    "print(pd.DataFrame({'Пропущені': missing, '%': missing_percent}))"
   ]
  },
  {
   "cell_type": "code",
   "execution_count": 13,
   "metadata": {
    "execution": {
     "iopub.execute_input": "2025-09-12T13:52:38.319994Z",
     "iopub.status.busy": "2025-09-12T13:52:38.319697Z",
     "iopub.status.idle": "2025-09-12T13:52:38.335930Z",
     "shell.execute_reply": "2025-09-12T13:52:38.335159Z",
     "shell.execute_reply.started": "2025-09-12T13:52:38.319976Z"
    }
   },
   "outputs": [
    {
     "data": {
      "text/html": [
       "<div>\n",
       "<style scoped>\n",
       "    .dataframe tbody tr th:only-of-type {\n",
       "        vertical-align: middle;\n",
       "    }\n",
       "\n",
       "    .dataframe tbody tr th {\n",
       "        vertical-align: top;\n",
       "    }\n",
       "\n",
       "    .dataframe thead th {\n",
       "        text-align: right;\n",
       "    }\n",
       "</style>\n",
       "<table border=\"1\" class=\"dataframe\">\n",
       "  <thead>\n",
       "    <tr style=\"text-align: right;\">\n",
       "      <th></th>\n",
       "      <th>BHK</th>\n",
       "      <th>Rent</th>\n",
       "      <th>Size</th>\n",
       "      <th>Bathroom</th>\n",
       "    </tr>\n",
       "  </thead>\n",
       "  <tbody>\n",
       "    <tr>\n",
       "      <th>count</th>\n",
       "      <td>4746.00</td>\n",
       "      <td>4746.00</td>\n",
       "      <td>4746.00</td>\n",
       "      <td>4746.00</td>\n",
       "    </tr>\n",
       "    <tr>\n",
       "      <th>mean</th>\n",
       "      <td>2.08</td>\n",
       "      <td>34993.45</td>\n",
       "      <td>967.49</td>\n",
       "      <td>1.97</td>\n",
       "    </tr>\n",
       "    <tr>\n",
       "      <th>std</th>\n",
       "      <td>0.83</td>\n",
       "      <td>78106.41</td>\n",
       "      <td>634.20</td>\n",
       "      <td>0.88</td>\n",
       "    </tr>\n",
       "    <tr>\n",
       "      <th>min</th>\n",
       "      <td>1.00</td>\n",
       "      <td>1200.00</td>\n",
       "      <td>10.00</td>\n",
       "      <td>1.00</td>\n",
       "    </tr>\n",
       "    <tr>\n",
       "      <th>25%</th>\n",
       "      <td>2.00</td>\n",
       "      <td>10000.00</td>\n",
       "      <td>550.00</td>\n",
       "      <td>1.00</td>\n",
       "    </tr>\n",
       "    <tr>\n",
       "      <th>50%</th>\n",
       "      <td>2.00</td>\n",
       "      <td>16000.00</td>\n",
       "      <td>850.00</td>\n",
       "      <td>2.00</td>\n",
       "    </tr>\n",
       "    <tr>\n",
       "      <th>75%</th>\n",
       "      <td>3.00</td>\n",
       "      <td>33000.00</td>\n",
       "      <td>1200.00</td>\n",
       "      <td>2.00</td>\n",
       "    </tr>\n",
       "    <tr>\n",
       "      <th>max</th>\n",
       "      <td>6.00</td>\n",
       "      <td>3500000.00</td>\n",
       "      <td>8000.00</td>\n",
       "      <td>10.00</td>\n",
       "    </tr>\n",
       "  </tbody>\n",
       "</table>\n",
       "</div>"
      ],
      "text/plain": [
       "           BHK        Rent     Size  Bathroom\n",
       "count  4746.00     4746.00  4746.00   4746.00\n",
       "mean      2.08    34993.45   967.49      1.97\n",
       "std       0.83    78106.41   634.20      0.88\n",
       "min       1.00     1200.00    10.00      1.00\n",
       "25%       2.00    10000.00   550.00      1.00\n",
       "50%       2.00    16000.00   850.00      2.00\n",
       "75%       3.00    33000.00  1200.00      2.00\n",
       "max       6.00  3500000.00  8000.00     10.00"
      ]
     },
     "execution_count": 13,
     "metadata": {},
     "output_type": "execute_result"
    }
   ],
   "source": [
    "# 2. Базова статистика для числових змінних\n",
    "stats = df[['BHK', 'Rent', 'Size', 'Bathroom']].describe()\n",
    "stats.round(2)"
   ]
  },
  {
   "cell_type": "markdown",
   "metadata": {},
   "source": [
    "**Висновки з базової статистики:**\n",
    "\n",
    "**BHK**: Кількість спалень, залів, кухонь.\n",
    "У середньому квартри мають по 2 кімнати, mean = 2,08, медіана 2. 75% квартир - 3 кімнати. Максимум 6 кімнат, що зустрічається рідко і вказує на великі апартаменти.\n",
    "\n",
    "**Rent**: Орендна плата. Середнє значення 35 тис. медіана значно нижча - 16 тис, отже, розподіл значно зміщений вправо (є дорогі об'єкти-викиди), максимальне значення - 3500000.00 - нереальне значення - викид.\n",
    "\n",
    "**Size**: Площа в квадратних футах. Середнє значення - 967.49, медіана - 850.00. 75% квартир - мають площу до 1200.00\tфутів. Мінімум - 10 кв. футів  -помилка чи викид. Максимум - 8000.00 кв. футів - великі будинки, значно відрізняються від більшості. Найпоширеніша квартира - 550 - 1200 кв. футів.\n",
    "\n",
    "**Bathroom**: Кількість ванних кімнат. В сеердньому 2 ванни. Максимум - 10 - що виглядає нереалістично, можливо викид.\n",
    "\n",
    "Аналіз даних базової статистики дозволяє зробити висновок про те, що типова квартира має 2-3 кімнати, площа - 850-1200 кв.футів, 1-2 санвузли, орендна плата - 10-33 тис. \n",
    "\n",
    "Для подальшого аналізу варто очистити дані, видалити викиди, щоб не спотворити результати дослідження."
   ]
  },
  {
   "cell_type": "code",
   "execution_count": 26,
   "metadata": {
    "execution": {
     "iopub.execute_input": "2025-09-12T14:41:49.204734Z",
     "iopub.status.busy": "2025-09-12T14:41:49.204341Z",
     "iopub.status.idle": "2025-09-12T14:41:49.246979Z",
     "shell.execute_reply": "2025-09-12T14:41:49.246221Z",
     "shell.execute_reply.started": "2025-09-12T14:41:49.204718Z"
    }
   },
   "outputs": [
    {
     "data": {
      "application/vnd.plotly.v1+json": {
       "config": {
        "plotlyServerURL": "https://plot.ly"
       },
       "data": [
        {
         "bingroup": "x",
         "hovertemplate": "Орендна плата=%{x}<br>count=%{y}<extra></extra>",
         "legendgroup": "",
         "marker": {
          "color": "#636efa",
          "pattern": {
           "shape": ""
          }
         },
         "name": "",
         "nbinsx": 100,
         "orientation": "v",
         "showlegend": false,
         "type": "histogram",
         "x": {
          "bdata": "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",
          "dtype": "i4"
         },
         "xaxis": "x",
         "yaxis": "y"
        }
       ],
       "layout": {
        "barmode": "relative",
        "height": 400,
        "legend": {
         "tracegroupgap": 0
        },
        "showlegend": false,
        "template": {
         "data": {
          "bar": [
           {
            "error_x": {
             "color": "#2a3f5f"
            },
            "error_y": {
             "color": "#2a3f5f"
            },
            "marker": {
             "line": {
              "color": "#E5ECF6",
              "width": 0.5
             },
             "pattern": {
              "fillmode": "overlay",
              "size": 10,
              "solidity": 0.2
             }
            },
            "type": "bar"
           }
          ],
          "barpolar": [
           {
            "marker": {
             "line": {
              "color": "#E5ECF6",
              "width": 0.5
             },
             "pattern": {
              "fillmode": "overlay",
              "size": 10,
              "solidity": 0.2
             }
            },
            "type": "barpolar"
           }
          ],
          "carpet": [
           {
            "aaxis": {
             "endlinecolor": "#2a3f5f",
             "gridcolor": "white",
             "linecolor": "white",
             "minorgridcolor": "white",
             "startlinecolor": "#2a3f5f"
            },
            "baxis": {
             "endlinecolor": "#2a3f5f",
             "gridcolor": "white",
             "linecolor": "white",
             "minorgridcolor": "white",
             "startlinecolor": "#2a3f5f"
            },
            "type": "carpet"
           }
          ],
          "choropleth": [
           {
            "colorbar": {
             "outlinewidth": 0,
             "ticks": ""
            },
            "type": "choropleth"
           }
          ],
          "contour": [
           {
            "colorbar": {
             "outlinewidth": 0,
             "ticks": ""
            },
            "colorscale": [
             [
              0,
              "#0d0887"
             ],
             [
              0.1111111111111111,
              "#46039f"
             ],
             [
              0.2222222222222222,
              "#7201a8"
             ],
             [
              0.3333333333333333,
              "#9c179e"
             ],
             [
              0.4444444444444444,
              "#bd3786"
             ],
             [
              0.5555555555555556,
              "#d8576b"
             ],
             [
              0.6666666666666666,
              "#ed7953"
             ],
             [
              0.7777777777777778,
              "#fb9f3a"
             ],
             [
              0.8888888888888888,
              "#fdca26"
             ],
             [
              1,
              "#f0f921"
             ]
            ],
            "type": "contour"
           }
          ],
          "contourcarpet": [
           {
            "colorbar": {
             "outlinewidth": 0,
             "ticks": ""
            },
            "type": "contourcarpet"
           }
          ],
          "heatmap": [
           {
            "colorbar": {
             "outlinewidth": 0,
             "ticks": ""
            },
            "colorscale": [
             [
              0,
              "#0d0887"
             ],
             [
              0.1111111111111111,
              "#46039f"
             ],
             [
              0.2222222222222222,
              "#7201a8"
             ],
             [
              0.3333333333333333,
              "#9c179e"
             ],
             [
              0.4444444444444444,
              "#bd3786"
             ],
             [
              0.5555555555555556,
              "#d8576b"
             ],
             [
              0.6666666666666666,
              "#ed7953"
             ],
             [
              0.7777777777777778,
              "#fb9f3a"
             ],
             [
              0.8888888888888888,
              "#fdca26"
             ],
             [
              1,
              "#f0f921"
             ]
            ],
            "type": "heatmap"
           }
          ],
          "histogram": [
           {
            "marker": {
             "pattern": {
              "fillmode": "overlay",
              "size": 10,
              "solidity": 0.2
             }
            },
            "type": "histogram"
           }
          ],
          "histogram2d": [
           {
            "colorbar": {
             "outlinewidth": 0,
             "ticks": ""
            },
            "colorscale": [
             [
              0,
              "#0d0887"
             ],
             [
              0.1111111111111111,
              "#46039f"
             ],
             [
              0.2222222222222222,
              "#7201a8"
             ],
             [
              0.3333333333333333,
              "#9c179e"
             ],
             [
              0.4444444444444444,
              "#bd3786"
             ],
             [
              0.5555555555555556,
              "#d8576b"
             ],
             [
              0.6666666666666666,
              "#ed7953"
             ],
             [
              0.7777777777777778,
              "#fb9f3a"
             ],
             [
              0.8888888888888888,
              "#fdca26"
             ],
             [
              1,
              "#f0f921"
             ]
            ],
            "type": "histogram2d"
           }
          ],
          "histogram2dcontour": [
           {
            "colorbar": {
             "outlinewidth": 0,
             "ticks": ""
            },
            "colorscale": [
             [
              0,
              "#0d0887"
             ],
             [
              0.1111111111111111,
              "#46039f"
             ],
             [
              0.2222222222222222,
              "#7201a8"
             ],
             [
              0.3333333333333333,
              "#9c179e"
             ],
             [
              0.4444444444444444,
              "#bd3786"
             ],
             [
              0.5555555555555556,
              "#d8576b"
             ],
             [
              0.6666666666666666,
              "#ed7953"
             ],
             [
              0.7777777777777778,
              "#fb9f3a"
             ],
             [
              0.8888888888888888,
              "#fdca26"
             ],
             [
              1,
              "#f0f921"
             ]
            ],
            "type": "histogram2dcontour"
           }
          ],
          "mesh3d": [
           {
            "colorbar": {
             "outlinewidth": 0,
             "ticks": ""
            },
            "type": "mesh3d"
           }
          ],
          "parcoords": [
           {
            "line": {
             "colorbar": {
              "outlinewidth": 0,
              "ticks": ""
             }
            },
            "type": "parcoords"
           }
          ],
          "pie": [
           {
            "automargin": true,
            "type": "pie"
           }
          ],
          "scatter": [
           {
            "fillpattern": {
             "fillmode": "overlay",
             "size": 10,
             "solidity": 0.2
            },
            "type": "scatter"
           }
          ],
          "scatter3d": [
           {
            "line": {
             "colorbar": {
              "outlinewidth": 0,
              "ticks": ""
             }
            },
            "marker": {
             "colorbar": {
              "outlinewidth": 0,
              "ticks": ""
             }
            },
            "type": "scatter3d"
           }
          ],
          "scattercarpet": [
           {
            "marker": {
             "colorbar": {
              "outlinewidth": 0,
              "ticks": ""
             }
            },
            "type": "scattercarpet"
           }
          ],
          "scattergeo": [
           {
            "marker": {
             "colorbar": {
              "outlinewidth": 0,
              "ticks": ""
             }
            },
            "type": "scattergeo"
           }
          ],
          "scattergl": [
           {
            "marker": {
             "colorbar": {
              "outlinewidth": 0,
              "ticks": ""
             }
            },
            "type": "scattergl"
           }
          ],
          "scattermap": [
           {
            "marker": {
             "colorbar": {
              "outlinewidth": 0,
              "ticks": ""
             }
            },
            "type": "scattermap"
           }
          ],
          "scattermapbox": [
           {
            "marker": {
             "colorbar": {
              "outlinewidth": 0,
              "ticks": ""
             }
            },
            "type": "scattermapbox"
           }
          ],
          "scatterpolar": [
           {
            "marker": {
             "colorbar": {
              "outlinewidth": 0,
              "ticks": ""
             }
            },
            "type": "scatterpolar"
           }
          ],
          "scatterpolargl": [
           {
            "marker": {
             "colorbar": {
              "outlinewidth": 0,
              "ticks": ""
             }
            },
            "type": "scatterpolargl"
           }
          ],
          "scatterternary": [
           {
            "marker": {
             "colorbar": {
              "outlinewidth": 0,
              "ticks": ""
             }
            },
            "type": "scatterternary"
           }
          ],
          "surface": [
           {
            "colorbar": {
             "outlinewidth": 0,
             "ticks": ""
            },
            "colorscale": [
             [
              0,
              "#0d0887"
             ],
             [
              0.1111111111111111,
              "#46039f"
             ],
             [
              0.2222222222222222,
              "#7201a8"
             ],
             [
              0.3333333333333333,
              "#9c179e"
             ],
             [
              0.4444444444444444,
              "#bd3786"
             ],
             [
              0.5555555555555556,
              "#d8576b"
             ],
             [
              0.6666666666666666,
              "#ed7953"
             ],
             [
              0.7777777777777778,
              "#fb9f3a"
             ],
             [
              0.8888888888888888,
              "#fdca26"
             ],
             [
              1,
              "#f0f921"
             ]
            ],
            "type": "surface"
           }
          ],
          "table": [
           {
            "cells": {
             "fill": {
              "color": "#EBF0F8"
             },
             "line": {
              "color": "white"
             }
            },
            "header": {
             "fill": {
              "color": "#C8D4E3"
             },
             "line": {
              "color": "white"
             }
            },
            "type": "table"
           }
          ]
         },
         "layout": {
          "annotationdefaults": {
           "arrowcolor": "#2a3f5f",
           "arrowhead": 0,
           "arrowwidth": 1
          },
          "autotypenumbers": "strict",
          "coloraxis": {
           "colorbar": {
            "outlinewidth": 0,
            "ticks": ""
           }
          },
          "colorscale": {
           "diverging": [
            [
             0,
             "#8e0152"
            ],
            [
             0.1,
             "#c51b7d"
            ],
            [
             0.2,
             "#de77ae"
            ],
            [
             0.3,
             "#f1b6da"
            ],
            [
             0.4,
             "#fde0ef"
            ],
            [
             0.5,
             "#f7f7f7"
            ],
            [
             0.6,
             "#e6f5d0"
            ],
            [
             0.7,
             "#b8e186"
            ],
            [
             0.8,
             "#7fbc41"
            ],
            [
             0.9,
             "#4d9221"
            ],
            [
             1,
             "#276419"
            ]
           ],
           "sequential": [
            [
             0,
             "#0d0887"
            ],
            [
             0.1111111111111111,
             "#46039f"
            ],
            [
             0.2222222222222222,
             "#7201a8"
            ],
            [
             0.3333333333333333,
             "#9c179e"
            ],
            [
             0.4444444444444444,
             "#bd3786"
            ],
            [
             0.5555555555555556,
             "#d8576b"
            ],
            [
             0.6666666666666666,
             "#ed7953"
            ],
            [
             0.7777777777777778,
             "#fb9f3a"
            ],
            [
             0.8888888888888888,
             "#fdca26"
            ],
            [
             1,
             "#f0f921"
            ]
           ],
           "sequentialminus": [
            [
             0,
             "#0d0887"
            ],
            [
             0.1111111111111111,
             "#46039f"
            ],
            [
             0.2222222222222222,
             "#7201a8"
            ],
            [
             0.3333333333333333,
             "#9c179e"
            ],
            [
             0.4444444444444444,
             "#bd3786"
            ],
            [
             0.5555555555555556,
             "#d8576b"
            ],
            [
             0.6666666666666666,
             "#ed7953"
            ],
            [
             0.7777777777777778,
             "#fb9f3a"
            ],
            [
             0.8888888888888888,
             "#fdca26"
            ],
            [
             1,
             "#f0f921"
            ]
           ]
          },
          "colorway": [
           "#636efa",
           "#EF553B",
           "#00cc96",
           "#ab63fa",
           "#FFA15A",
           "#19d3f3",
           "#FF6692",
           "#B6E880",
           "#FF97FF",
           "#FECB52"
          ],
          "font": {
           "color": "#2a3f5f"
          },
          "geo": {
           "bgcolor": "white",
           "lakecolor": "white",
           "landcolor": "#E5ECF6",
           "showlakes": true,
           "showland": true,
           "subunitcolor": "white"
          },
          "hoverlabel": {
           "align": "left"
          },
          "hovermode": "closest",
          "mapbox": {
           "style": "light"
          },
          "paper_bgcolor": "white",
          "plot_bgcolor": "#E5ECF6",
          "polar": {
           "angularaxis": {
            "gridcolor": "white",
            "linecolor": "white",
            "ticks": ""
           },
           "bgcolor": "#E5ECF6",
           "radialaxis": {
            "gridcolor": "white",
            "linecolor": "white",
            "ticks": ""
           }
          },
          "scene": {
           "xaxis": {
            "backgroundcolor": "#E5ECF6",
            "gridcolor": "white",
            "gridwidth": 2,
            "linecolor": "white",
            "showbackground": true,
            "ticks": "",
            "zerolinecolor": "white"
           },
           "yaxis": {
            "backgroundcolor": "#E5ECF6",
            "gridcolor": "white",
            "gridwidth": 2,
            "linecolor": "white",
            "showbackground": true,
            "ticks": "",
            "zerolinecolor": "white"
           },
           "zaxis": {
            "backgroundcolor": "#E5ECF6",
            "gridcolor": "white",
            "gridwidth": 2,
            "linecolor": "white",
            "showbackground": true,
            "ticks": "",
            "zerolinecolor": "white"
           }
          },
          "shapedefaults": {
           "line": {
            "color": "#2a3f5f"
           }
          },
          "ternary": {
           "aaxis": {
            "gridcolor": "white",
            "linecolor": "white",
            "ticks": ""
           },
           "baxis": {
            "gridcolor": "white",
            "linecolor": "white",
            "ticks": ""
           },
           "bgcolor": "#E5ECF6",
           "caxis": {
            "gridcolor": "white",
            "linecolor": "white",
            "ticks": ""
           }
          },
          "title": {
           "x": 0.05
          },
          "xaxis": {
           "automargin": true,
           "gridcolor": "white",
           "linecolor": "white",
           "ticks": "",
           "title": {
            "standoff": 15
           },
           "zerolinecolor": "white",
           "zerolinewidth": 2
          },
          "yaxis": {
           "automargin": true,
           "gridcolor": "white",
           "linecolor": "white",
           "ticks": "",
           "title": {
            "standoff": 15
           },
           "zerolinecolor": "white",
           "zerolinewidth": 2
          }
         }
        },
        "title": {
         "text": "Розподіл цільової змінної (Rent)"
        },
        "xaxis": {
         "anchor": "y",
         "domain": [
          0,
          1
         ],
         "title": {
          "text": "Орендна плата"
         }
        },
        "yaxis": {
         "anchor": "x",
         "domain": [
          0,
          1
         ],
         "title": {
          "text": "count"
         }
        }
       }
      },
      "image/png": "[encoded data removed]"
     },
     "metadata": {},
     "output_type": "display_data"
    }
   ],
   "source": [
    "# Аналіз цільової змінної\n",
    "\n",
    "# Фільтруємо дані без пропусків\n",
    "df_clean = df[df['Rent'].notna()].copy()\n",
    "\n",
    "# Розподіл орендної плати\n",
    "fig = px.histogram(\n",
    "    df_clean,\n",
    "    x='Rent',\n",
    "    nbins=100,\n",
    "    title='Розподіл цільової змінної (Rent)',\n",
    "    labels={'Rent': 'Орендна плата', 'count': 'Кількість'}\n",
    ")\n",
    "fig.update_layout(\n",
    "    showlegend=False,\n",
    "    height=400\n",
    ")\n",
    "fig.show()"
   ]
  },
  {
   "cell_type": "code",
   "execution_count": 21,
   "metadata": {
    "execution": {
     "iopub.execute_input": "2025-09-12T14:22:44.362644Z",
     "iopub.status.busy": "2025-09-12T14:22:44.362376Z",
     "iopub.status.idle": "2025-09-12T14:22:44.404393Z",
     "shell.execute_reply": "2025-09-12T14:22:44.403371Z",
     "shell.execute_reply.started": "2025-09-12T14:22:44.362629Z"
    },
    "scrolled": true
   },
   "outputs": [
    {
     "data": {
      "application/vnd.plotly.v1+json": {
       "config": {
        "plotlyServerURL": "https://plot.ly"
       },
       "data": [
        {
         "bingroup": "x",
         "hovertemplate": "log Кількість оренди=%{x}<br>count=%{y}<extra></extra>",
         "legendgroup": "",
         "marker": {
          "color": "#636efa",
          "pattern": {
           "shape": ""
          }
         },
         "name": "",
         "nbinsx": 100,
         "orientation": "v",
         "showlegend": false,
         "type": "histogram",
         "x": {
          "bdata": "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",
          "dtype": "f8"
         },
         "xaxis": "x",
         "yaxis": "y"
        }
       ],
       "layout": {
        "barmode": "relative",
        "height": 400,
        "legend": {
         "tracegroupgap": 0
        },
        "showlegend": false,
        "template": {
         "data": {
          "bar": [
           {
            "error_x": {
             "color": "#2a3f5f"
            },
            "error_y": {
             "color": "#2a3f5f"
            },
            "marker": {
             "line": {
              "color": "#E5ECF6",
              "width": 0.5
             },
             "pattern": {
              "fillmode": "overlay",
              "size": 10,
              "solidity": 0.2
             }
            },
            "type": "bar"
           }
          ],
          "barpolar": [
           {
            "marker": {
             "line": {
              "color": "#E5ECF6",
              "width": 0.5
             },
             "pattern": {
              "fillmode": "overlay",
              "size": 10,
              "solidity": 0.2
             }
            },
            "type": "barpolar"
           }
          ],
          "carpet": [
           {
            "aaxis": {
             "endlinecolor": "#2a3f5f",
             "gridcolor": "white",
             "linecolor": "white",
             "minorgridcolor": "white",
             "startlinecolor": "#2a3f5f"
            },
            "baxis": {
             "endlinecolor": "#2a3f5f",
             "gridcolor": "white",
             "linecolor": "white",
             "minorgridcolor": "white",
             "startlinecolor": "#2a3f5f"
            },
            "type": "carpet"
           }
          ],
          "choropleth": [
           {
            "colorbar": {
             "outlinewidth": 0,
             "ticks": ""
            },
            "type": "choropleth"
           }
          ],
          "contour": [
           {
            "colorbar": {
             "outlinewidth": 0,
             "ticks": ""
            },
            "colorscale": [
             [
              0,
              "#0d0887"
             ],
             [
              0.1111111111111111,
              "#46039f"
             ],
             [
              0.2222222222222222,
              "#7201a8"
             ],
             [
              0.3333333333333333,
              "#9c179e"
             ],
             [
              0.4444444444444444,
              "#bd3786"
             ],
             [
              0.5555555555555556,
              "#d8576b"
             ],
             [
              0.6666666666666666,
              "#ed7953"
             ],
             [
              0.7777777777777778,
              "#fb9f3a"
             ],
             [
              0.8888888888888888,
              "#fdca26"
             ],
             [
              1,
              "#f0f921"
             ]
            ],
            "type": "contour"
           }
          ],
          "contourcarpet": [
           {
            "colorbar": {
             "outlinewidth": 0,
             "ticks": ""
            },
            "type": "contourcarpet"
           }
          ],
          "heatmap": [
           {
            "colorbar": {
             "outlinewidth": 0,
             "ticks": ""
            },
            "colorscale": [
             [
              0,
              "#0d0887"
             ],
             [
              0.1111111111111111,
              "#46039f"
             ],
             [
              0.2222222222222222,
              "#7201a8"
             ],
             [
              0.3333333333333333,
              "#9c179e"
             ],
             [
              0.4444444444444444,
              "#bd3786"
             ],
             [
              0.5555555555555556,
              "#d8576b"
             ],
             [
              0.6666666666666666,
              "#ed7953"
             ],
             [
              0.7777777777777778,
              "#fb9f3a"
             ],
             [
              0.8888888888888888,
              "#fdca26"
             ],
             [
              1,
              "#f0f921"
             ]
            ],
            "type": "heatmap"
           }
          ],
          "histogram": [
           {
            "marker": {
             "pattern": {
              "fillmode": "overlay",
              "size": 10,
              "solidity": 0.2
             }
            },
            "type": "histogram"
           }
          ],
          "histogram2d": [
           {
            "colorbar": {
             "outlinewidth": 0,
             "ticks": ""
            },
            "colorscale": [
             [
              0,
              "#0d0887"
             ],
             [
              0.1111111111111111,
              "#46039f"
             ],
             [
              0.2222222222222222,
              "#7201a8"
             ],
             [
              0.3333333333333333,
              "#9c179e"
             ],
             [
              0.4444444444444444,
              "#bd3786"
             ],
             [
              0.5555555555555556,
              "#d8576b"
             ],
             [
              0.6666666666666666,
              "#ed7953"
             ],
             [
              0.7777777777777778,
              "#fb9f3a"
             ],
             [
              0.8888888888888888,
              "#fdca26"
             ],
             [
              1,
              "#f0f921"
             ]
            ],
            "type": "histogram2d"
           }
          ],
          "histogram2dcontour": [
           {
            "colorbar": {
             "outlinewidth": 0,
             "ticks": ""
            },
            "colorscale": [
             [
              0,
              "#0d0887"
             ],
             [
              0.1111111111111111,
              "#46039f"
             ],
             [
              0.2222222222222222,
              "#7201a8"
             ],
             [
              0.3333333333333333,
              "#9c179e"
             ],
             [
              0.4444444444444444,
              "#bd3786"
             ],
             [
              0.5555555555555556,
              "#d8576b"
             ],
             [
              0.6666666666666666,
              "#ed7953"
             ],
             [
              0.7777777777777778,
              "#fb9f3a"
             ],
             [
              0.8888888888888888,
              "#fdca26"
             ],
             [
              1,
              "#f0f921"
             ]
            ],
            "type": "histogram2dcontour"
           }
          ],
          "mesh3d": [
           {
            "colorbar": {
             "outlinewidth": 0,
             "ticks": ""
            },
            "type": "mesh3d"
           }
          ],
          "parcoords": [
           {
            "line": {
             "colorbar": {
              "outlinewidth": 0,
              "ticks": ""
             }
            },
            "type": "parcoords"
           }
          ],
          "pie": [
           {
            "automargin": true,
            "type": "pie"
           }
          ],
          "scatter": [
           {
            "fillpattern": {
             "fillmode": "overlay",
             "size": 10,
             "solidity": 0.2
            },
            "type": "scatter"
           }
          ],
          "scatter3d": [
           {
            "line": {
             "colorbar": {
              "outlinewidth": 0,
              "ticks": ""
             }
            },
            "marker": {
             "colorbar": {
              "outlinewidth": 0,
              "ticks": ""
             }
            },
            "type": "scatter3d"
           }
          ],
          "scattercarpet": [
           {
            "marker": {
             "colorbar": {
              "outlinewidth": 0,
              "ticks": ""
             }
            },
            "type": "scattercarpet"
           }
          ],
          "scattergeo": [
           {
            "marker": {
             "colorbar": {
              "outlinewidth": 0,
              "ticks": ""
             }
            },
            "type": "scattergeo"
           }
          ],
          "scattergl": [
           {
            "marker": {
             "colorbar": {
              "outlinewidth": 0,
              "ticks": ""
             }
            },
            "type": "scattergl"
           }
          ],
          "scattermap": [
           {
            "marker": {
             "colorbar": {
              "outlinewidth": 0,
              "ticks": ""
             }
            },
            "type": "scattermap"
           }
          ],
          "scattermapbox": [
           {
            "marker": {
             "colorbar": {
              "outlinewidth": 0,
              "ticks": ""
             }
            },
            "type": "scattermapbox"
           }
          ],
          "scatterpolar": [
           {
            "marker": {
             "colorbar": {
              "outlinewidth": 0,
              "ticks": ""
             }
            },
            "type": "scatterpolar"
           }
          ],
          "scatterpolargl": [
           {
            "marker": {
             "colorbar": {
              "outlinewidth": 0,
              "ticks": ""
             }
            },
            "type": "scatterpolargl"
           }
          ],
          "scatterternary": [
           {
            "marker": {
             "colorbar": {
              "outlinewidth": 0,
              "ticks": ""
             }
            },
            "type": "scatterternary"
           }
          ],
          "surface": [
           {
            "colorbar": {
             "outlinewidth": 0,
             "ticks": ""
            },
            "colorscale": [
             [
              0,
              "#0d0887"
             ],
             [
              0.1111111111111111,
              "#46039f"
             ],
             [
              0.2222222222222222,
              "#7201a8"
             ],
             [
              0.3333333333333333,
              "#9c179e"
             ],
             [
              0.4444444444444444,
              "#bd3786"
             ],
             [
              0.5555555555555556,
              "#d8576b"
             ],
             [
              0.6666666666666666,
              "#ed7953"
             ],
             [
              0.7777777777777778,
              "#fb9f3a"
             ],
             [
              0.8888888888888888,
              "#fdca26"
             ],
             [
              1,
              "#f0f921"
             ]
            ],
            "type": "surface"
           }
          ],
          "table": [
           {
            "cells": {
             "fill": {
              "color": "#EBF0F8"
             },
             "line": {
              "color": "white"
             }
            },
            "header": {
             "fill": {
              "color": "#C8D4E3"
             },
             "line": {
              "color": "white"
             }
            },
            "type": "table"
           }
          ]
         },
         "layout": {
          "annotationdefaults": {
           "arrowcolor": "#2a3f5f",
           "arrowhead": 0,
           "arrowwidth": 1
          },
          "autotypenumbers": "strict",
          "coloraxis": {
           "colorbar": {
            "outlinewidth": 0,
            "ticks": ""
           }
          },
          "colorscale": {
           "diverging": [
            [
             0,
             "#8e0152"
            ],
            [
             0.1,
             "#c51b7d"
            ],
            [
             0.2,
             "#de77ae"
            ],
            [
             0.3,
             "#f1b6da"
            ],
            [
             0.4,
             "#fde0ef"
            ],
            [
             0.5,
             "#f7f7f7"
            ],
            [
             0.6,
             "#e6f5d0"
            ],
            [
             0.7,
             "#b8e186"
            ],
            [
             0.8,
             "#7fbc41"
            ],
            [
             0.9,
             "#4d9221"
            ],
            [
             1,
             "#276419"
            ]
           ],
           "sequential": [
            [
             0,
             "#0d0887"
            ],
            [
             0.1111111111111111,
             "#46039f"
            ],
            [
             0.2222222222222222,
             "#7201a8"
            ],
            [
             0.3333333333333333,
             "#9c179e"
            ],
            [
             0.4444444444444444,
             "#bd3786"
            ],
            [
             0.5555555555555556,
             "#d8576b"
            ],
            [
             0.6666666666666666,
             "#ed7953"
            ],
            [
             0.7777777777777778,
             "#fb9f3a"
            ],
            [
             0.8888888888888888,
             "#fdca26"
            ],
            [
             1,
             "#f0f921"
            ]
           ],
           "sequentialminus": [
            [
             0,
             "#0d0887"
            ],
            [
             0.1111111111111111,
             "#46039f"
            ],
            [
             0.2222222222222222,
             "#7201a8"
            ],
            [
             0.3333333333333333,
             "#9c179e"
            ],
            [
             0.4444444444444444,
             "#bd3786"
            ],
            [
             0.5555555555555556,
             "#d8576b"
            ],
            [
             0.6666666666666666,
             "#ed7953"
            ],
            [
             0.7777777777777778,
             "#fb9f3a"
            ],
            [
             0.8888888888888888,
             "#fdca26"
            ],
            [
             1,
             "#f0f921"
            ]
           ]
          },
          "colorway": [
           "#636efa",
           "#EF553B",
           "#00cc96",
           "#ab63fa",
           "#FFA15A",
           "#19d3f3",
           "#FF6692",
           "#B6E880",
           "#FF97FF",
           "#FECB52"
          ],
          "font": {
           "color": "#2a3f5f"
          },
          "geo": {
           "bgcolor": "white",
           "lakecolor": "white",
           "landcolor": "#E5ECF6",
           "showlakes": true,
           "showland": true,
           "subunitcolor": "white"
          },
          "hoverlabel": {
           "align": "left"
          },
          "hovermode": "closest",
          "mapbox": {
           "style": "light"
          },
          "paper_bgcolor": "white",
          "plot_bgcolor": "#E5ECF6",
          "polar": {
           "angularaxis": {
            "gridcolor": "white",
            "linecolor": "white",
            "ticks": ""
           },
           "bgcolor": "#E5ECF6",
           "radialaxis": {
            "gridcolor": "white",
            "linecolor": "white",
            "ticks": ""
           }
          },
          "scene": {
           "xaxis": {
            "backgroundcolor": "#E5ECF6",
            "gridcolor": "white",
            "gridwidth": 2,
            "linecolor": "white",
            "showbackground": true,
            "ticks": "",
            "zerolinecolor": "white"
           },
           "yaxis": {
            "backgroundcolor": "#E5ECF6",
            "gridcolor": "white",
            "gridwidth": 2,
            "linecolor": "white",
            "showbackground": true,
            "ticks": "",
            "zerolinecolor": "white"
           },
           "zaxis": {
            "backgroundcolor": "#E5ECF6",
            "gridcolor": "white",
            "gridwidth": 2,
            "linecolor": "white",
            "showbackground": true,
            "ticks": "",
            "zerolinecolor": "white"
           }
          },
          "shapedefaults": {
           "line": {
            "color": "#2a3f5f"
           }
          },
          "ternary": {
           "aaxis": {
            "gridcolor": "white",
            "linecolor": "white",
            "ticks": ""
           },
           "baxis": {
            "gridcolor": "white",
            "linecolor": "white",
            "ticks": ""
           },
           "bgcolor": "#E5ECF6",
           "caxis": {
            "gridcolor": "white",
            "linecolor": "white",
            "ticks": ""
           }
          },
          "title": {
           "x": 0.05
          },
          "xaxis": {
           "automargin": true,
           "gridcolor": "white",
           "linecolor": "white",
           "ticks": "",
           "title": {
            "standoff": 15
           },
           "zerolinecolor": "white",
           "zerolinewidth": 2
          },
          "yaxis": {
           "automargin": true,
           "gridcolor": "white",
           "linecolor": "white",
           "ticks": "",
           "title": {
            "standoff": 15
           },
           "zerolinecolor": "white",
           "zerolinewidth": 2
          }
         }
        },
        "title": {
         "text": "Розподіл цільової змінної (Rent)"
        },
        "xaxis": {
         "anchor": "y",
         "domain": [
          0,
          1
         ],
         "title": {
          "text": "log Кількість оренди"
         }
        },
        "yaxis": {
         "anchor": "x",
         "domain": [
          0,
          1
         ],
         "title": {
          "text": "count"
         }
        }
       }
      },
      "image/png": "[encoded data removed]"
     },
     "metadata": {},
     "output_type": "display_data"
    }
   ],
   "source": [
    "df_clean['log_target'] = np.log1p(df_clean['Rent'])\n",
    "fig = px.histogram(\n",
    "    df_clean,\n",
    "    x='log_target',\n",
    "    nbins=100,\n",
    "    title='Розподіл цільової змінної (Rent)',\n",
    "    labels={'log_target': 'log Кількість оренди', 'count': 'Кількість оренди'}\n",
    ")\n",
    "fig.update_layout(\n",
    "    showlegend=False,\n",
    "    height=400\n",
    ")\n",
    "fig.show()"
   ]
  },
  {
   "cell_type": "markdown",
   "metadata": {},
   "source": [
    "**Висновки на основі розподілу цільової змінної Rent.**\n",
    "Розподіл не є нормальним, він правосторонньо зміщений. Більшість значень оренди зосереджено в нижньому діапазоні. Логарифмічна шкала зробила розподіл більш симетричним, але все одно видно \"довгий хвіст\" праворуч.\n",
    "\n",
    "На графіку є дані з дуже високою вартістю (логарифм > 12, оренда понад 160 тис.)"
   ]
  },
  {
   "cell_type": "code",
   "execution_count": 29,
   "metadata": {
    "execution": {
     "iopub.execute_input": "2025-09-12T14:50:49.805103Z",
     "iopub.status.busy": "2025-09-12T14:50:49.804738Z",
     "iopub.status.idle": "2025-09-12T14:50:49.969472Z",
     "shell.execute_reply": "2025-09-12T14:50:49.968791Z",
     "shell.execute_reply.started": "2025-09-12T14:50:49.805084Z"
    }
   },
   "outputs": [
    {
     "name": "stdout",
     "output_type": "stream",
     "text": [
      "Межі для Rent: -24500.0 – 67500.0\n",
      "Розмір датасету до видалення: 4746\n",
      "Розмір датасету після видалення: 4226\n"
     ]
    },
    {
     "data": {
      "image/png": "[encoded data removed]",
      "text/plain": [
       "<Figure size 1200x500 with 2 Axes>"
      ]
     },
     "metadata": {},
     "output_type": "display_data"
    }
   ],
   "source": [
    "# 4. Робота з викидами.\n",
    "\n",
    "# 4.1. Розрахунок квартилів і IQR\n",
    "Q1 = df_clean['Rent'].quantile(0.25)\n",
    "Q3 = df_clean['Rent'].quantile(0.75)\n",
    "IQR = Q3 - Q1\n",
    "\n",
    "# 4.2. Межі для викидів\n",
    "lower_bound = Q1 - 1.5 * IQR\n",
    "upper_bound = Q3 + 1.5 * IQR\n",
    "\n",
    "print(\"Межі для Rent:\", lower_bound, \"–\", upper_bound)\n",
    "\n",
    "# 4.3. Видаляємо викиди\n",
    "df_no_outliers = df_clean[(df_clean['Rent'] >= lower_bound) & (df_clean['Rent'] <= upper_bound)]\n",
    "\n",
    "print(\"Розмір датасету до видалення:\", df_clean.shape[0])\n",
    "print(\"Розмір датасету після видалення:\", df_no_outliers.shape[0])\n",
    "\n",
    "# 4.4. Візуалізація boxplot до і після\n",
    "plt.figure(figsize=(12,5))\n",
    "\n",
    "plt.subplot(1,2,1)\n",
    "sns.boxplot(x=df_clean['Rent'])\n",
    "plt.title(\"До видалення викидів\")\n",
    "\n",
    "plt.subplot(1,2,2)\n",
    "sns.boxplot(x=df_no_outliers['Rent'])\n",
    "plt.title(\"Після видалення викидів\")\n",
    "\n",
    "plt.show()\n"
   ]
  },
  {
   "cell_type": "code",
   "execution_count": 32,
   "metadata": {
    "execution": {
     "iopub.execute_input": "2025-09-12T14:56:47.924599Z",
     "iopub.status.busy": "2025-09-12T14:56:47.924289Z",
     "iopub.status.idle": "2025-09-12T14:56:47.933263Z",
     "shell.execute_reply": "2025-09-12T14:56:47.932715Z",
     "shell.execute_reply.started": "2025-09-12T14:56:47.924581Z"
    }
   },
   "outputs": [
    {
     "name": "stdout",
     "output_type": "stream",
     "text": [
      "Posted On: 81 унікальних значень\n",
      "Floor: 480 унікальних значень\n",
      "Area Type: 3 унікальних значень\n",
      "Area Locality: 2235 унікальних значень\n",
      "City: 6 унікальних значень\n",
      "Furnishing Status: 3 унікальних значень\n",
      "Tenant Preferred: 3 унікальних значень\n",
      "Point of Contact: 3 унікальних значень\n"
     ]
    }
   ],
   "source": [
    "# 5.Аналіз категоріальних змінних.\n",
    "\n",
    "categorical_cols = df.select_dtypes(include=['object', 'category']).columns\n",
    "\n",
    "# Виведемо кількість унікальних значень для кожної категоріальної колонки\n",
    "for col in categorical_cols:\n",
    "    unique_count = df[col].nunique()\n",
    "    print(f\"{col}: {unique_count} унікальних значень\")\n"
   ]
  },
  {
   "cell_type": "markdown",
   "metadata": {
    "id": "9386b308"
   },
   "source": [
    "\n",
    "## Завдання 3: Аналіз кореляцій та взаємозв'язків (3 бали)\n",
    "\n",
    "**Що потрібно зробити:**\n",
    "1. Обчисліть матрицю кореляцій для числових змінних\n",
    "2. Візуалізуйте кореляційну матрицю за допомогою heatmap\n",
    "3. Побудуйте scatter plot між Size та Rent\n",
    "4. Проаналізуйте взаємозв'язок між BHK та Rent за допомогою boxplot (який розподіл плати для різних значень BHK)\n"
   ]
  },
  {
   "cell_type": "code",
   "execution_count": 35,
   "metadata": {
    "execution": {
     "iopub.execute_input": "2025-09-12T15:03:17.849602Z",
     "iopub.status.busy": "2025-09-12T15:03:17.849318Z",
     "iopub.status.idle": "2025-09-12T15:03:17.899599Z",
     "shell.execute_reply": "2025-09-12T15:03:17.898293Z",
     "shell.execute_reply.started": "2025-09-12T15:03:17.849586Z"
    },
    "id": "xselVsmDOWqZ"
   },
   "outputs": [
    {
     "data": {
      "application/vnd.plotly.v1+json": {
       "config": {
        "plotlyServerURL": "https://plot.ly"
       },
       "data": [
        {
         "coloraxis": "coloraxis",
         "hovertemplate": "x: %{x}<br>y: %{y}<br>Кореляція: %{z}<extra></extra>",
         "name": "0",
         "texttemplate": "%{z:.2f}",
         "type": "heatmap",
         "x": [
          "BHK",
          "Rent",
          "Size",
          "Bathroom"
         ],
         "xaxis": "x",
         "y": [
          "BHK",
          "Rent",
          "Size",
          "Bathroom"
         ],
         "yaxis": "y",
         "z": {
          "bdata": "AAAAAAAA8D94opLmc6nXP0HF1+Wo6uY/G2X2lrNv6T94opLmc6nXPwAAAAAAAPA/NNxzmZ132j/lH7fM3jzcP0HF1+Wo6uY/NNxzmZ132j8AAAAAAADwPxHTeN7Ws+c/G2X2lrNv6T/lH7fM3jzcPxHTeN7Ws+c/AAAAAAAA8D8=",
          "dtype": "f8",
          "shape": "4, 4"
         }
        }
       ],
       "layout": {
        "coloraxis": {
         "colorbar": {
          "title": {
           "text": "Кореляція"
          }
         },
         "colorscale": [
          [
           0,
           "rgb(5,48,97)"
          ],
          [
           0.1,
           "rgb(33,102,172)"
          ],
          [
           0.2,
           "rgb(67,147,195)"
          ],
          [
           0.3,
           "rgb(146,197,222)"
          ],
          [
           0.4,
           "rgb(209,229,240)"
          ],
          [
           0.5,
           "rgb(247,247,247)"
          ],
          [
           0.6,
           "rgb(253,219,199)"
          ],
          [
           0.7,
           "rgb(244,165,130)"
          ],
          [
           0.8,
           "rgb(214,96,77)"
          ],
          [
           0.9,
           "rgb(178,24,43)"
          ],
          [
           1,
           "rgb(103,0,31)"
          ]
         ]
        },
        "height": 500,
        "template": {
         "data": {
          "bar": [
           {
            "error_x": {
             "color": "#2a3f5f"
            },
            "error_y": {
             "color": "#2a3f5f"
            },
            "marker": {
             "line": {
              "color": "#E5ECF6",
              "width": 0.5
             },
             "pattern": {
              "fillmode": "overlay",
              "size": 10,
              "solidity": 0.2
             }
            },
            "type": "bar"
           }
          ],
          "barpolar": [
           {
            "marker": {
             "line": {
              "color": "#E5ECF6",
              "width": 0.5
             },
             "pattern": {
              "fillmode": "overlay",
              "size": 10,
              "solidity": 0.2
             }
            },
            "type": "barpolar"
           }
          ],
          "carpet": [
           {
            "aaxis": {
             "endlinecolor": "#2a3f5f",
             "gridcolor": "white",
             "linecolor": "white",
             "minorgridcolor": "white",
             "startlinecolor": "#2a3f5f"
            },
            "baxis": {
             "endlinecolor": "#2a3f5f",
             "gridcolor": "white",
             "linecolor": "white",
             "minorgridcolor": "white",
             "startlinecolor": "#2a3f5f"
            },
            "type": "carpet"
           }
          ],
          "choropleth": [
           {
            "colorbar": {
             "outlinewidth": 0,
             "ticks": ""
            },
            "type": "choropleth"
           }
          ],
          "contour": [
           {
            "colorbar": {
             "outlinewidth": 0,
             "ticks": ""
            },
            "colorscale": [
             [
              0,
              "#0d0887"
             ],
             [
              0.1111111111111111,
              "#46039f"
             ],
             [
              0.2222222222222222,
              "#7201a8"
             ],
             [
              0.3333333333333333,
              "#9c179e"
             ],
             [
              0.4444444444444444,
              "#bd3786"
             ],
             [
              0.5555555555555556,
              "#d8576b"
             ],
             [
              0.6666666666666666,
              "#ed7953"
             ],
             [
              0.7777777777777778,
              "#fb9f3a"
             ],
             [
              0.8888888888888888,
              "#fdca26"
             ],
             [
              1,
              "#f0f921"
             ]
            ],
            "type": "contour"
           }
          ],
          "contourcarpet": [
           {
            "colorbar": {
             "outlinewidth": 0,
             "ticks": ""
            },
            "type": "contourcarpet"
           }
          ],
          "heatmap": [
           {
            "colorbar": {
             "outlinewidth": 0,
             "ticks": ""
            },
            "colorscale": [
             [
              0,
              "#0d0887"
             ],
             [
              0.1111111111111111,
              "#46039f"
             ],
             [
              0.2222222222222222,
              "#7201a8"
             ],
             [
              0.3333333333333333,
              "#9c179e"
             ],
             [
              0.4444444444444444,
              "#bd3786"
             ],
             [
              0.5555555555555556,
              "#d8576b"
             ],
             [
              0.6666666666666666,
              "#ed7953"
             ],
             [
              0.7777777777777778,
              "#fb9f3a"
             ],
             [
              0.8888888888888888,
              "#fdca26"
             ],
             [
              1,
              "#f0f921"
             ]
            ],
            "type": "heatmap"
           }
          ],
          "histogram": [
           {
            "marker": {
             "pattern": {
              "fillmode": "overlay",
              "size": 10,
              "solidity": 0.2
             }
            },
            "type": "histogram"
           }
          ],
          "histogram2d": [
           {
            "colorbar": {
             "outlinewidth": 0,
             "ticks": ""
            },
            "colorscale": [
             [
              0,
              "#0d0887"
             ],
             [
              0.1111111111111111,
              "#46039f"
             ],
             [
              0.2222222222222222,
              "#7201a8"
             ],
             [
              0.3333333333333333,
              "#9c179e"
             ],
             [
              0.4444444444444444,
              "#bd3786"
             ],
             [
              0.5555555555555556,
              "#d8576b"
             ],
             [
              0.6666666666666666,
              "#ed7953"
             ],
             [
              0.7777777777777778,
              "#fb9f3a"
             ],
             [
              0.8888888888888888,
              "#fdca26"
             ],
             [
              1,
              "#f0f921"
             ]
            ],
            "type": "histogram2d"
           }
          ],
          "histogram2dcontour": [
           {
            "colorbar": {
             "outlinewidth": 0,
             "ticks": ""
            },
            "colorscale": [
             [
              0,
              "#0d0887"
             ],
             [
              0.1111111111111111,
              "#46039f"
             ],
             [
              0.2222222222222222,
              "#7201a8"
             ],
             [
              0.3333333333333333,
              "#9c179e"
             ],
             [
              0.4444444444444444,
              "#bd3786"
             ],
             [
              0.5555555555555556,
              "#d8576b"
             ],
             [
              0.6666666666666666,
              "#ed7953"
             ],
             [
              0.7777777777777778,
              "#fb9f3a"
             ],
             [
              0.8888888888888888,
              "#fdca26"
             ],
             [
              1,
              "#f0f921"
             ]
            ],
            "type": "histogram2dcontour"
           }
          ],
          "mesh3d": [
           {
            "colorbar": {
             "outlinewidth": 0,
             "ticks": ""
            },
            "type": "mesh3d"
           }
          ],
          "parcoords": [
           {
            "line": {
             "colorbar": {
              "outlinewidth": 0,
              "ticks": ""
             }
            },
            "type": "parcoords"
           }
          ],
          "pie": [
           {
            "automargin": true,
            "type": "pie"
           }
          ],
          "scatter": [
           {
            "fillpattern": {
             "fillmode": "overlay",
             "size": 10,
             "solidity": 0.2
            },
            "type": "scatter"
           }
          ],
          "scatter3d": [
           {
            "line": {
             "colorbar": {
              "outlinewidth": 0,
              "ticks": ""
             }
            },
            "marker": {
             "colorbar": {
              "outlinewidth": 0,
              "ticks": ""
             }
            },
            "type": "scatter3d"
           }
          ],
          "scattercarpet": [
           {
            "marker": {
             "colorbar": {
              "outlinewidth": 0,
              "ticks": ""
             }
            },
            "type": "scattercarpet"
           }
          ],
          "scattergeo": [
           {
            "marker": {
             "colorbar": {
              "outlinewidth": 0,
              "ticks": ""
             }
            },
            "type": "scattergeo"
           }
          ],
          "scattergl": [
           {
            "marker": {
             "colorbar": {
              "outlinewidth": 0,
              "ticks": ""
             }
            },
            "type": "scattergl"
           }
          ],
          "scattermap": [
           {
            "marker": {
             "colorbar": {
              "outlinewidth": 0,
              "ticks": ""
             }
            },
            "type": "scattermap"
           }
          ],
          "scattermapbox": [
           {
            "marker": {
             "colorbar": {
              "outlinewidth": 0,
              "ticks": ""
             }
            },
            "type": "scattermapbox"
           }
          ],
          "scatterpolar": [
           {
            "marker": {
             "colorbar": {
              "outlinewidth": 0,
              "ticks": ""
             }
            },
            "type": "scatterpolar"
           }
          ],
          "scatterpolargl": [
           {
            "marker": {
             "colorbar": {
              "outlinewidth": 0,
              "ticks": ""
             }
            },
            "type": "scatterpolargl"
           }
          ],
          "scatterternary": [
           {
            "marker": {
             "colorbar": {
              "outlinewidth": 0,
              "ticks": ""
             }
            },
            "type": "scatterternary"
           }
          ],
          "surface": [
           {
            "colorbar": {
             "outlinewidth": 0,
             "ticks": ""
            },
            "colorscale": [
             [
              0,
              "#0d0887"
             ],
             [
              0.1111111111111111,
              "#46039f"
             ],
             [
              0.2222222222222222,
              "#7201a8"
             ],
             [
              0.3333333333333333,
              "#9c179e"
             ],
             [
              0.4444444444444444,
              "#bd3786"
             ],
             [
              0.5555555555555556,
              "#d8576b"
             ],
             [
              0.6666666666666666,
              "#ed7953"
             ],
             [
              0.7777777777777778,
              "#fb9f3a"
             ],
             [
              0.8888888888888888,
              "#fdca26"
             ],
             [
              1,
              "#f0f921"
             ]
            ],
            "type": "surface"
           }
          ],
          "table": [
           {
            "cells": {
             "fill": {
              "color": "#EBF0F8"
             },
             "line": {
              "color": "white"
             }
            },
            "header": {
             "fill": {
              "color": "#C8D4E3"
             },
             "line": {
              "color": "white"
             }
            },
            "type": "table"
           }
          ]
         },
         "layout": {
          "annotationdefaults": {
           "arrowcolor": "#2a3f5f",
           "arrowhead": 0,
           "arrowwidth": 1
          },
          "autotypenumbers": "strict",
          "coloraxis": {
           "colorbar": {
            "outlinewidth": 0,
            "ticks": ""
           }
          },
          "colorscale": {
           "diverging": [
            [
             0,
             "#8e0152"
            ],
            [
             0.1,
             "#c51b7d"
            ],
            [
             0.2,
             "#de77ae"
            ],
            [
             0.3,
             "#f1b6da"
            ],
            [
             0.4,
             "#fde0ef"
            ],
            [
             0.5,
             "#f7f7f7"
            ],
            [
             0.6,
             "#e6f5d0"
            ],
            [
             0.7,
             "#b8e186"
            ],
            [
             0.8,
             "#7fbc41"
            ],
            [
             0.9,
             "#4d9221"
            ],
            [
             1,
             "#276419"
            ]
           ],
           "sequential": [
            [
             0,
             "#0d0887"
            ],
            [
             0.1111111111111111,
             "#46039f"
            ],
            [
             0.2222222222222222,
             "#7201a8"
            ],
            [
             0.3333333333333333,
             "#9c179e"
            ],
            [
             0.4444444444444444,
             "#bd3786"
            ],
            [
             0.5555555555555556,
             "#d8576b"
            ],
            [
             0.6666666666666666,
             "#ed7953"
            ],
            [
             0.7777777777777778,
             "#fb9f3a"
            ],
            [
             0.8888888888888888,
             "#fdca26"
            ],
            [
             1,
             "#f0f921"
            ]
           ],
           "sequentialminus": [
            [
             0,
             "#0d0887"
            ],
            [
             0.1111111111111111,
             "#46039f"
            ],
            [
             0.2222222222222222,
             "#7201a8"
            ],
            [
             0.3333333333333333,
             "#9c179e"
            ],
            [
             0.4444444444444444,
             "#bd3786"
            ],
            [
             0.5555555555555556,
             "#d8576b"
            ],
            [
             0.6666666666666666,
             "#ed7953"
            ],
            [
             0.7777777777777778,
             "#fb9f3a"
            ],
            [
             0.8888888888888888,
             "#fdca26"
            ],
            [
             1,
             "#f0f921"
            ]
           ]
          },
          "colorway": [
           "#636efa",
           "#EF553B",
           "#00cc96",
           "#ab63fa",
           "#FFA15A",
           "#19d3f3",
           "#FF6692",
           "#B6E880",
           "#FF97FF",
           "#FECB52"
          ],
          "font": {
           "color": "#2a3f5f"
          },
          "geo": {
           "bgcolor": "white",
           "lakecolor": "white",
           "landcolor": "#E5ECF6",
           "showlakes": true,
           "showland": true,
           "subunitcolor": "white"
          },
          "hoverlabel": {
           "align": "left"
          },
          "hovermode": "closest",
          "mapbox": {
           "style": "light"
          },
          "paper_bgcolor": "white",
          "plot_bgcolor": "#E5ECF6",
          "polar": {
           "angularaxis": {
            "gridcolor": "white",
            "linecolor": "white",
            "ticks": ""
           },
           "bgcolor": "#E5ECF6",
           "radialaxis": {
            "gridcolor": "white",
            "linecolor": "white",
            "ticks": ""
           }
          },
          "scene": {
           "xaxis": {
            "backgroundcolor": "#E5ECF6",
            "gridcolor": "white",
            "gridwidth": 2,
            "linecolor": "white",
            "showbackground": true,
            "ticks": "",
            "zerolinecolor": "white"
           },
           "yaxis": {
            "backgroundcolor": "#E5ECF6",
            "gridcolor": "white",
            "gridwidth": 2,
            "linecolor": "white",
            "showbackground": true,
            "ticks": "",
            "zerolinecolor": "white"
           },
           "zaxis": {
            "backgroundcolor": "#E5ECF6",
            "gridcolor": "white",
            "gridwidth": 2,
            "linecolor": "white",
            "showbackground": true,
            "ticks": "",
            "zerolinecolor": "white"
           }
          },
          "shapedefaults": {
           "line": {
            "color": "#2a3f5f"
           }
          },
          "ternary": {
           "aaxis": {
            "gridcolor": "white",
            "linecolor": "white",
            "ticks": ""
           },
           "baxis": {
            "gridcolor": "white",
            "linecolor": "white",
            "ticks": ""
           },
           "bgcolor": "#E5ECF6",
           "caxis": {
            "gridcolor": "white",
            "linecolor": "white",
            "ticks": ""
           }
          },
          "title": {
           "x": 0.05
          },
          "xaxis": {
           "automargin": true,
           "gridcolor": "white",
           "linecolor": "white",
           "ticks": "",
           "title": {
            "standoff": 15
           },
           "zerolinecolor": "white",
           "zerolinewidth": 2
          },
          "yaxis": {
           "automargin": true,
           "gridcolor": "white",
           "linecolor": "white",
           "ticks": "",
           "title": {
            "standoff": 15
           },
           "zerolinecolor": "white",
           "zerolinewidth": 2
          }
         }
        },
        "title": {
         "text": "Кореляція між метриками взаємодії"
        },
        "xaxis": {
         "anchor": "y",
         "constrain": "domain",
         "domain": [
          0,
          1
         ],
         "scaleanchor": "y"
        },
        "yaxis": {
         "anchor": "x",
         "autorange": "reversed",
         "constrain": "domain",
         "domain": [
          0,
          1
         ]
        }
       }
      },
      "image/png": "[encoded data removed]"
     },
     "metadata": {},
     "output_type": "display_data"
    }
   ],
   "source": [
    "# 3.1.Аналіз кореляцій та взаємозв'язків \n",
    "\n",
    "# Створюємо датафрейм тільки з числовими метриками\n",
    "metrics_df = df_clean[['BHK', 'Rent', 'Size', 'Bathroom']].dropna()\n",
    "\n",
    "# Матриця кореляцій\n",
    "correlation_matrix = metrics_df.corr()\n",
    "\n",
    "#3.2. Візуалізація кореляцій\n",
    "fig = px.imshow(\n",
    "    correlation_matrix,\n",
    "    text_auto='.2f',\n",
    "    color_continuous_scale='RdBu_r',\n",
    "    title='Кореляція між метриками взаємодії',\n",
    "    labels=dict(color=\"Кореляція\")\n",
    ")\n",
    "fig.update_layout(height=500)\n",
    "fig.show()"
   ]
  },
  {
   "cell_type": "markdown",
   "metadata": {},
   "source": [
    "**Висновки на основі аналізу кореляційної матриці:**\n",
    "\n",
    "Між BHK (к-ть спалень, залів, кухонь) і Size (площа в квадратних футах) сильна позитивна залежність - 0,72. Що є логічним, чим більша площа тим відповідно і більше кімнат.\n",
    "\n",
    "BHK (к-ть спалень, залів, кухонь)та Bathroom (к-ть ванних кімнат): кореляція 0.79. Що теж логічно, більше кімнат і більше ванн відповідно.\n",
    "\n",
    "Дуже сильна позитивна залежність. Кількість ванних кімнат зростає разом з кількістю кімнат BHK.\n",
    "\n",
    "Rent та Size/BHK/Bathroom: кореляції 0.41, 0.37, 0.44\n",
    "Помірна позитивна залежність. Орендна плата зростає із збільшенням площі, кількості кімнат та ванних кімнат, але зв’язок не настільки сильний, як між внутрішніми характеристиками квартири (BHK, Size, Bathroom).\n",
    "\n",
    "Основні метрики квартир сильно корелюють між собою. Rent (орендна плата - цільова змінна) залежить від цих х-тик, але є й інші фактори, які впливають на орендну плату, наприклад, район, місто, стан меблювання тощо.\n"
   ]
  },
  {
   "cell_type": "code",
   "execution_count": 36,
   "metadata": {
    "execution": {
     "iopub.execute_input": "2025-09-12T15:07:37.214870Z",
     "iopub.status.busy": "2025-09-12T15:07:37.214498Z",
     "iopub.status.idle": "2025-09-12T15:07:37.365398Z",
     "shell.execute_reply": "2025-09-12T15:07:37.364798Z",
     "shell.execute_reply.started": "2025-09-12T15:07:37.214849Z"
    }
   },
   "outputs": [
    {
     "data": {
      "application/vnd.plotly.v1+json": {
       "config": {
        "plotlyServerURL": "https://plot.ly"
       },
       "data": [
        {
         "hovertemplate": "Size=%{x}<br>Rent=%{y}<extra></extra>",
         "legendgroup": "",
         "marker": {
          "color": "#636efa",
          "symbol": "circle"
         },
         "mode": "markers",
         "name": "",
         "showlegend": false,
         "type": "scattergl",
         "x": {
          "bdata": "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",
          "dtype": "i2"
         },
         "xaxis": "x",
         "y": {
          "bdata": "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",
          "dtype": "i4"
         },
         "yaxis": "y"
        }
       ],
       "layout": {
        "legend": {
         "tracegroupgap": 0
        },
        "template": {
         "data": {
          "bar": [
           {
            "error_x": {
             "color": "#2a3f5f"
            },
            "error_y": {
             "color": "#2a3f5f"
            },
            "marker": {
             "line": {
              "color": "#E5ECF6",
              "width": 0.5
             },
             "pattern": {
              "fillmode": "overlay",
              "size": 10,
              "solidity": 0.2
             }
            },
            "type": "bar"
           }
          ],
          "barpolar": [
           {
            "marker": {
             "line": {
              "color": "#E5ECF6",
              "width": 0.5
             },
             "pattern": {
              "fillmode": "overlay",
              "size": 10,
              "solidity": 0.2
             }
            },
            "type": "barpolar"
           }
          ],
          "carpet": [
           {
            "aaxis": {
             "endlinecolor": "#2a3f5f",
             "gridcolor": "white",
             "linecolor": "white",
             "minorgridcolor": "white",
             "startlinecolor": "#2a3f5f"
            },
            "baxis": {
             "endlinecolor": "#2a3f5f",
             "gridcolor": "white",
             "linecolor": "white",
             "minorgridcolor": "white",
             "startlinecolor": "#2a3f5f"
            },
            "type": "carpet"
           }
          ],
          "choropleth": [
           {
            "colorbar": {
             "outlinewidth": 0,
             "ticks": ""
            },
            "type": "choropleth"
           }
          ],
          "contour": [
           {
            "colorbar": {
             "outlinewidth": 0,
             "ticks": ""
            },
            "colorscale": [
             [
              0,
              "#0d0887"
             ],
             [
              0.1111111111111111,
              "#46039f"
             ],
             [
              0.2222222222222222,
              "#7201a8"
             ],
             [
              0.3333333333333333,
              "#9c179e"
             ],
             [
              0.4444444444444444,
              "#bd3786"
             ],
             [
              0.5555555555555556,
              "#d8576b"
             ],
             [
              0.6666666666666666,
              "#ed7953"
             ],
             [
              0.7777777777777778,
              "#fb9f3a"
             ],
             [
              0.8888888888888888,
              "#fdca26"
             ],
             [
              1,
              "#f0f921"
             ]
            ],
            "type": "contour"
           }
          ],
          "contourcarpet": [
           {
            "colorbar": {
             "outlinewidth": 0,
             "ticks": ""
            },
            "type": "contourcarpet"
           }
          ],
          "heatmap": [
           {
            "colorbar": {
             "outlinewidth": 0,
             "ticks": ""
            },
            "colorscale": [
             [
              0,
              "#0d0887"
             ],
             [
              0.1111111111111111,
              "#46039f"
             ],
             [
              0.2222222222222222,
              "#7201a8"
             ],
             [
              0.3333333333333333,
              "#9c179e"
             ],
             [
              0.4444444444444444,
              "#bd3786"
             ],
             [
              0.5555555555555556,
              "#d8576b"
             ],
             [
              0.6666666666666666,
              "#ed7953"
             ],
             [
              0.7777777777777778,
              "#fb9f3a"
             ],
             [
              0.8888888888888888,
              "#fdca26"
             ],
             [
              1,
              "#f0f921"
             ]
            ],
            "type": "heatmap"
           }
          ],
          "histogram": [
           {
            "marker": {
             "pattern": {
              "fillmode": "overlay",
              "size": 10,
              "solidity": 0.2
             }
            },
            "type": "histogram"
           }
          ],
          "histogram2d": [
           {
            "colorbar": {
             "outlinewidth": 0,
             "ticks": ""
            },
            "colorscale": [
             [
              0,
              "#0d0887"
             ],
             [
              0.1111111111111111,
              "#46039f"
             ],
             [
              0.2222222222222222,
              "#7201a8"
             ],
             [
              0.3333333333333333,
              "#9c179e"
             ],
             [
              0.4444444444444444,
              "#bd3786"
             ],
             [
              0.5555555555555556,
              "#d8576b"
             ],
             [
              0.6666666666666666,
              "#ed7953"
             ],
             [
              0.7777777777777778,
              "#fb9f3a"
             ],
             [
              0.8888888888888888,
              "#fdca26"
             ],
             [
              1,
              "#f0f921"
             ]
            ],
            "type": "histogram2d"
           }
          ],
          "histogram2dcontour": [
           {
            "colorbar": {
             "outlinewidth": 0,
             "ticks": ""
            },
            "colorscale": [
             [
              0,
              "#0d0887"
             ],
             [
              0.1111111111111111,
              "#46039f"
             ],
             [
              0.2222222222222222,
              "#7201a8"
             ],
             [
              0.3333333333333333,
              "#9c179e"
             ],
             [
              0.4444444444444444,
              "#bd3786"
             ],
             [
              0.5555555555555556,
              "#d8576b"
             ],
             [
              0.6666666666666666,
              "#ed7953"
             ],
             [
              0.7777777777777778,
              "#fb9f3a"
             ],
             [
              0.8888888888888888,
              "#fdca26"
             ],
             [
              1,
              "#f0f921"
             ]
            ],
            "type": "histogram2dcontour"
           }
          ],
          "mesh3d": [
           {
            "colorbar": {
             "outlinewidth": 0,
             "ticks": ""
            },
            "type": "mesh3d"
           }
          ],
          "parcoords": [
           {
            "line": {
             "colorbar": {
              "outlinewidth": 0,
              "ticks": ""
             }
            },
            "type": "parcoords"
           }
          ],
          "pie": [
           {
            "automargin": true,
            "type": "pie"
           }
          ],
          "scatter": [
           {
            "fillpattern": {
             "fillmode": "overlay",
             "size": 10,
             "solidity": 0.2
            },
            "type": "scatter"
           }
          ],
          "scatter3d": [
           {
            "line": {
             "colorbar": {
              "outlinewidth": 0,
              "ticks": ""
             }
            },
            "marker": {
             "colorbar": {
              "outlinewidth": 0,
              "ticks": ""
             }
            },
            "type": "scatter3d"
           }
          ],
          "scattercarpet": [
           {
            "marker": {
             "colorbar": {
              "outlinewidth": 0,
              "ticks": ""
             }
            },
            "type": "scattercarpet"
           }
          ],
          "scattergeo": [
           {
            "marker": {
             "colorbar": {
              "outlinewidth": 0,
              "ticks": ""
             }
            },
            "type": "scattergeo"
           }
          ],
          "scattergl": [
           {
            "marker": {
             "colorbar": {
              "outlinewidth": 0,
              "ticks": ""
             }
            },
            "type": "scattergl"
           }
          ],
          "scattermap": [
           {
            "marker": {
             "colorbar": {
              "outlinewidth": 0,
              "ticks": ""
             }
            },
            "type": "scattermap"
           }
          ],
          "scattermapbox": [
           {
            "marker": {
             "colorbar": {
              "outlinewidth": 0,
              "ticks": ""
             }
            },
            "type": "scattermapbox"
           }
          ],
          "scatterpolar": [
           {
            "marker": {
             "colorbar": {
              "outlinewidth": 0,
              "ticks": ""
             }
            },
            "type": "scatterpolar"
           }
          ],
          "scatterpolargl": [
           {
            "marker": {
             "colorbar": {
              "outlinewidth": 0,
              "ticks": ""
             }
            },
            "type": "scatterpolargl"
           }
          ],
          "scatterternary": [
           {
            "marker": {
             "colorbar": {
              "outlinewidth": 0,
              "ticks": ""
             }
            },
            "type": "scatterternary"
           }
          ],
          "surface": [
           {
            "colorbar": {
             "outlinewidth": 0,
             "ticks": ""
            },
            "colorscale": [
             [
              0,
              "#0d0887"
             ],
             [
              0.1111111111111111,
              "#46039f"
             ],
             [
              0.2222222222222222,
              "#7201a8"
             ],
             [
              0.3333333333333333,
              "#9c179e"
             ],
             [
              0.4444444444444444,
              "#bd3786"
             ],
             [
              0.5555555555555556,
              "#d8576b"
             ],
             [
              0.6666666666666666,
              "#ed7953"
             ],
             [
              0.7777777777777778,
              "#fb9f3a"
             ],
             [
              0.8888888888888888,
              "#fdca26"
             ],
             [
              1,
              "#f0f921"
             ]
            ],
            "type": "surface"
           }
          ],
          "table": [
           {
            "cells": {
             "fill": {
              "color": "#EBF0F8"
             },
             "line": {
              "color": "white"
             }
            },
            "header": {
             "fill": {
              "color": "#C8D4E3"
             },
             "line": {
              "color": "white"
             }
            },
            "type": "table"
           }
          ]
         },
         "layout": {
          "annotationdefaults": {
           "arrowcolor": "#2a3f5f",
           "arrowhead": 0,
           "arrowwidth": 1
          },
          "autotypenumbers": "strict",
          "coloraxis": {
           "colorbar": {
            "outlinewidth": 0,
            "ticks": ""
           }
          },
          "colorscale": {
           "diverging": [
            [
             0,
             "#8e0152"
            ],
            [
             0.1,
             "#c51b7d"
            ],
            [
             0.2,
             "#de77ae"
            ],
            [
             0.3,
             "#f1b6da"
            ],
            [
             0.4,
             "#fde0ef"
            ],
            [
             0.5,
             "#f7f7f7"
            ],
            [
             0.6,
             "#e6f5d0"
            ],
            [
             0.7,
             "#b8e186"
            ],
            [
             0.8,
             "#7fbc41"
            ],
            [
             0.9,
             "#4d9221"
            ],
            [
             1,
             "#276419"
            ]
           ],
           "sequential": [
            [
             0,
             "#0d0887"
            ],
            [
             0.1111111111111111,
             "#46039f"
            ],
            [
             0.2222222222222222,
             "#7201a8"
            ],
            [
             0.3333333333333333,
             "#9c179e"
            ],
            [
             0.4444444444444444,
             "#bd3786"
            ],
            [
             0.5555555555555556,
             "#d8576b"
            ],
            [
             0.6666666666666666,
             "#ed7953"
            ],
            [
             0.7777777777777778,
             "#fb9f3a"
            ],
            [
             0.8888888888888888,
             "#fdca26"
            ],
            [
             1,
             "#f0f921"
            ]
           ],
           "sequentialminus": [
            [
             0,
             "#0d0887"
            ],
            [
             0.1111111111111111,
             "#46039f"
            ],
            [
             0.2222222222222222,
             "#7201a8"
            ],
            [
             0.3333333333333333,
             "#9c179e"
            ],
            [
             0.4444444444444444,
             "#bd3786"
            ],
            [
             0.5555555555555556,
             "#d8576b"
            ],
            [
             0.6666666666666666,
             "#ed7953"
            ],
            [
             0.7777777777777778,
             "#fb9f3a"
            ],
            [
             0.8888888888888888,
             "#fdca26"
            ],
            [
             1,
             "#f0f921"
            ]
           ]
          },
          "colorway": [
           "#636efa",
           "#EF553B",
           "#00cc96",
           "#ab63fa",
           "#FFA15A",
           "#19d3f3",
           "#FF6692",
           "#B6E880",
           "#FF97FF",
           "#FECB52"
          ],
          "font": {
           "color": "#2a3f5f"
          },
          "geo": {
           "bgcolor": "white",
           "lakecolor": "white",
           "landcolor": "#E5ECF6",
           "showlakes": true,
           "showland": true,
           "subunitcolor": "white"
          },
          "hoverlabel": {
           "align": "left"
          },
          "hovermode": "closest",
          "mapbox": {
           "style": "light"
          },
          "paper_bgcolor": "white",
          "plot_bgcolor": "#E5ECF6",
          "polar": {
           "angularaxis": {
            "gridcolor": "white",
            "linecolor": "white",
            "ticks": ""
           },
           "bgcolor": "#E5ECF6",
           "radialaxis": {
            "gridcolor": "white",
            "linecolor": "white",
            "ticks": ""
           }
          },
          "scene": {
           "xaxis": {
            "backgroundcolor": "#E5ECF6",
            "gridcolor": "white",
            "gridwidth": 2,
            "linecolor": "white",
            "showbackground": true,
            "ticks": "",
            "zerolinecolor": "white"
           },
           "yaxis": {
            "backgroundcolor": "#E5ECF6",
            "gridcolor": "white",
            "gridwidth": 2,
            "linecolor": "white",
            "showbackground": true,
            "ticks": "",
            "zerolinecolor": "white"
           },
           "zaxis": {
            "backgroundcolor": "#E5ECF6",
            "gridcolor": "white",
            "gridwidth": 2,
            "linecolor": "white",
            "showbackground": true,
            "ticks": "",
            "zerolinecolor": "white"
           }
          },
          "shapedefaults": {
           "line": {
            "color": "#2a3f5f"
           }
          },
          "ternary": {
           "aaxis": {
            "gridcolor": "white",
            "linecolor": "white",
            "ticks": ""
           },
           "baxis": {
            "gridcolor": "white",
            "linecolor": "white",
            "ticks": ""
           },
           "bgcolor": "#E5ECF6",
           "caxis": {
            "gridcolor": "white",
            "linecolor": "white",
            "ticks": ""
           }
          },
          "title": {
           "x": 0.05
          },
          "xaxis": {
           "automargin": true,
           "gridcolor": "white",
           "linecolor": "white",
           "ticks": "",
           "title": {
            "standoff": 15
           },
           "zerolinecolor": "white",
           "zerolinewidth": 2
          },
          "yaxis": {
           "automargin": true,
           "gridcolor": "white",
           "linecolor": "white",
           "ticks": "",
           "title": {
            "standoff": 15
           },
           "zerolinecolor": "white",
           "zerolinewidth": 2
          }
         }
        },
        "title": {
         "text": "Scatter Plot: Size vs Rent"
        },
        "xaxis": {
         "anchor": "y",
         "domain": [
          0,
          1
         ],
         "title": {
          "text": "Size"
         }
        },
        "yaxis": {
         "anchor": "x",
         "domain": [
          0,
          1
         ],
         "title": {
          "text": "Rent"
         }
        }
       }
      },
      "image/png": "[encoded data removed]"
     },
     "metadata": {},
     "output_type": "display_data"
    },
    {
     "data": {
      "application/vnd.plotly.v1+json": {
       "config": {
        "plotlyServerURL": "https://plot.ly"
       },
       "data": [
        {
         "alignmentgroup": "True",
         "hovertemplate": "BHK=%{x}<br>Rent=%{y}<extra></extra>",
         "legendgroup": "",
         "marker": {
          "color": "#636efa"
         },
         "name": "",
         "notched": false,
         "offsetgroup": "",
         "orientation": "v",
         "showlegend": false,
         "type": "box",
         "x": {
          "bdata": "AgICAgICAgECAgMBAQEDAwICAgICAgEDAQIBAgICAQICAgMCAgICAQIDAQIBAgICAwMBAQICAgECAgICAQMCAwECAQICAQECAgIDAgIBAgEDAQIGAgECAgICAgIBAQIBAgIEAgMEAwICAQIDAgEBAQEDAwIBAgEDAQIBAgICAgIBAQEBAgECAgICAgMCAQICAgICAgIDAgECAwICAgMCAQICAQIDAwMCAgQBAgECAQECAgMDAgECAgICAgICAQQCBAICAgEDAgEBAQIBAQIDAQIDAgECAwIBAwIEAgEBAgICAgICAQIBAQIEAgECAQECAQICAQIDAgMCAwICAgMDAgICAwMCAwICAQIDAQICAwEDAQEEAwECAQICAQECAQMCAwEBAwICAgMCAwECAgMDAgICAQMBAwEBAQIDAgMCAQECAgMBAgMCAQIBAQEBAwMBAgICAQICAgECAgIDAgMCAgECAQIBAgICAQEBAgECAgICAQICAgMDAgICAQIEAwIBAgIBAgIDAgICAwIDAgQBAgECAwIBAwMBAwICAgIDAgICAQECAQEBAgICAQECAgIBAgICAwEBAQECAgECAQIDAgMBAQMCAgMCAQICAwUCAwMBAgMBAQICAQICAwICAgICAgICAwEDAgQCAgICAgICAgECAgICAgMBAwMBAQEDAgMBAgIDAwICAQIFAwIBAgEDAQECBAEEAQEBAQICAgIDBQECAQICAgECAQEBAQQCAgEDAgEBAgICAQEBAgICAQECAQICBAIBAQMBAgECAQQBAwIDAQIDAgICBAMDAwMCAgMDAgICAgIBAgIDAwMDAgEEAQMDBAICAgQCAwQDAQECAwMCAwMBAgMCAgIBBAEDAQICAQMBAgICAQICBQMBAgIDAwMBAQEBAgEEAQMBAgQBAwICAgEBAgMBAgICAwMDBAICAgMCAgIDAgECAgIBAQECAQECAgMCBAMDAwEDAgMBBAICAQICAQQBAQMDAQIDAwEDAgMBAgMCAgECAgIDAQMCAwICAwEDAQICAwQBAwMDAwECAwIDAwMCBQEBAwEBBAICAQIBAwIBAgMBAgMBAgICAQECAgECAQMDAgMEAgMCAgMDBAMBAgIFAgIEAgICAgIFAQQDAgMDAQIEAwMBAwIBAQEDBAMCAgMCAwMBBAECAgIBAQIBAgEBAgQCAQMBAQMBAQQCAwIDAwIDAwEBAgICAQIBAQEBAgEBAwEEAwECBAIBAwEDAQICAwEBAQEDAgEBAwIBAQICAgMCAQECAgICAgECAgICAwICAgICAwMBAgMCAgECAwEBBAMDAQQCAgQDAgQEAgECAgMEAQIEAwEBAQEDAwMBAgECAgIDAQECBQMCAQICAgMCAwECAwIFAwIDAQQBAQMDAgECAgIDAgICAQMBAgIBAgICAwECAQEDAwICAQEDAwICAwECAgMCBAMCAgICAQQBAQMBAQMCAwIBAQMDAQIBAQEEAwIDAgMBAgMCBAMDAgICAQICAgICAgMEAQEBAgEDBAIBBAICAQIDAwMDAQICAgMEAwIEAgMCAgIEAwMDAgIEAQICAgECBAECAgIDAgMBAgEBAgMCAgIDAQMDAgEDAQEDAgECAgIBAQEBAQMCAgMCAQECAgMCAgMCAwMDAwMEAwIDAgEEAQIDAQMBAwEBAwMCAQEBAwQCAQMCAgECAQEBAgMDAwMDAQEDAQECAgEBBQIBAwIEAgICAQECAQICBAQCAgIBAgQDAQIBAgIBAQIFAQIBAgICAQIBBAEBAQECAQMBAQIBAgECBAQBAwIDAgECAwEDAgICAgEDAgEBAgMBAQMDAQECAwICAQQDAwICBAUCAgIDBAEEAwUBAgECAQIBAwMDAgIBAQICAgECAwECAgMCAQICAQICAwICAQICBAIBAgMCAQQDAgMDAQEDAwIBBAEDAQEBAwECAgQDAgEDAQECAwECAgICAQMCBAEBAgECBAEEAwICAgQCAgIBAwQDAgICAwIEAgECAwIBAQMCAQIBAgECAgECAQMDAQECAQIBAgICAwMCAgECAQIBAwMBAQECAgECAQIEAwMEAgIBAgIBAgEBAgECAgMCAQICAQQCAgMCAwIBAgICAgIDAQICAQIBAgIBAgIBAQICAwMBAgMDAgEBAQICAQECBAIBAgEDAwECAgEDAgIBAgECAQEDAgMCAgICAwMCAQIBAgECAgICAwQBAgEBAgICAgEEAgIBAwICAgICAwECAgICAgIBAgEDAwICAgEBAgMDAgEDAQECAQMCAQIDAwEBAgIEAgIBAgECAwICAgIBAgIBAwICAgMBAgEDAwEBAwIBAQMCAQICAQICAgECAQICAgMCAQEBAgECAQIBAQICAwIBAQEDAgICAwECAgEDAgECAwMBAgEDAQEBAgIBAQQCAQECAgIDAgIBAgIBAwIDAgIDAQIBAQEBAwMCAgICAQICAgIDAwICAQIBAgMCAgIBAgICAwIBAgMCAwICAwICAgIDAgEBAQMCAgICAQMCAQICAgICAQEDAQICAgMCAgICAwEEAQIBAwMCAQIBAgIBAQECAgIBAgICAwMCBAICAgIDAgEDAQECAQECAgICAQIBAgICAgIEAQEDAQMDAQMBAQICBAIBAgICAgECAgEDAgEBAQEDAQICAgIDAwIDAgIDAgIBAgECAwIDAgIBAwIBAQEBAQMCAwICBAIBAgIBAgICAgICAgIDAQIDAQMEAQQCAgECAQIBAgECAQIBAwECAQMDAwMCAgIDAQIBBAICAQICAgIDAgICAQEDAgEBAgIDAQECAQMCAQIDAQIBAwECAwMBAgECBAEBAQICAgIDAQICAgIBAQEDAwICAQEBAgMCAQICAwIBAgIEAgEDAgICAgEDAQICAgECAgICAQMCAgICAgECAgIEAgIDAgMCAwIBAQIDAgIBAgIDAgICAgMCAwMDAgICAgEDAQIDAQECAwMBAwIDAgIBAQQBAQICAwEBAgICAQICAQMCAwECAQICAwIBAgMDAgICAQIBAgIBAwEDAgEBAwECAQMDAQECAQECAQEBAgEBAgIEAgECAQIDAwIBAQICAQIDAwECAQICAgMCAQIDAgECAwIBAgIBAgMDAwECAwIBAwMBAgICAQEBAgICAgIDAQEBAQECAwMCAgMCAgMEAgECAQECAgEDAQMDAgIEAQMBAwECAgEEAgIDBAIBAgEDAQIDAgEBAgMBAgIDAwEBAgICAwIDAgECAgQCAwICAwEEAQIBAgIBAgECAwEDAgIDAQICAQICAgMBAQMBAQIDAwEDAgICAQECAwIBAgEEAwIBAwEBAQICAgICAgEBAQECAwMDAQMCAgIDAgEDAgIBAwECAgIBAgMCAwEBAgQCAQMBAgMBAwECAwIDAgEDAgIDAgMCAgICAgEEAgICAgIBAgICAQIDAwICBAIDAQECAgICAgICAgEDAQMBAwMDAgMCAgIBAgMEAgMDAwMCAgMDBAMDAgEBAQMCAwICAgMDAQECAgEBAgICAQMDAgMBAwICAQECBAEBAgUCBAICAQEDAwMEBAMEAwMDAQECAwIDBAEEAwEBAgIDBAICAQECAwMDAQIDAQQCAQECAgMCAQIBAQEEAQICAwECAgIDAgIDAQMCAQECAQMCAQEEAQIDAgMCAgMCAgIEAgICAQQDAgICAQEEAQIBAgMDAQMCAwIBAwEDAgICAgICAgMCAgMBAgIDAQQDAgMCAgICAQECAgMDAgICAQIBAgECAwICAQEDBAMCAwMDAgECAQICAwECAgMCAgMDAwQEAwQEAQMDAwIDAgMCAwICAgIEAgICAgMBAQIBAgIDAgIBAgEBAQIBAQIEAQICAQEDAQIBAQEDAgICAwIBAQIDAwQDAQICAgIDAwMBAwQCAgMDAwEBAwQCAwEBAwMBAgIBAQIBAwMCAgECAgEBAgICAgEDAwICAwMBAgEBAgEDAQMCAgIBAwICAgECAwICAgMDAQICAwMCAgICAwICAgMCAgICAQICBAICAQICAgMCAQIBAgECAgIBAgECAgIBAQMDAwIDAgICAgIDAwICAgICAgIDAgICAgMCAgEDAQEBAwICAgMCAgMBAQIDAwMCAQMCAgMCAgICAgICAwMCAwECAgICAwEDAQIDBAMBAgICAgQBAQMDAgMDAQIDAwICAwIDAgIDAgMCAgIBAgMDAQMCAgICAwEEAgICAgMBAQIDAgICAgICAgICAgMCAgIDAgICAQIBAgICAgECAQMBAgIBAQMCAgICAgICAgMDAwIDAgICAgMCAQEBAQICAQMCAgIDAwECAgMDAQMCAQECAgEBAQICAgMCAwECAgICAgMCAgICAwICAgIDAgECAgMDAgIDAgICAQECAgMBBAMCAwICAQEDAgQCAgIDBAIDAwIDAgECAgICAgEDAQIGAgMCAQECBAICAwECAgECAgICAQMDAgICAwICAQMDAgMBAwIBAwICAwIDAgECAgECAQICAgICAwECAQICAwMDAgMCAQIDAgECAwECAgICAgMDAgMBAgECAgICAgIDAgICAgIDAwMDAQICAgMCAgEBAQECAgIDAwICAgEDAwIBAgICAgIDBAMBAgQCAQICAwEDAQMCAgEDAwUDAgMDAgICAgICAgIDAgICAQICAwMBAQMDAgICAgMCBAIDAgIDAQICAwEDAgEDAQMBAgMDAwECAgIDAQMCAwMDAwICAwMCAgICAgIDAwECAgMDAgICAgIDAQICAQIDAwECAgECAgICAwICAwIDAQIGAQIBAwECAgIDAgECAQICAQECAQECAwECAgMBAQMDAgIBAgMBAQUCAQMDAgIDAgMCAwEBAgIBBAICAgICAQICAgICAgIDAgICAgEDAQEBAgICAgICAgIBAgICAgICAQMCAgIDAgECAgICAgECAQICAgIDAgECBAEBAwICAQMCAQIBAgIDAgMDAgMCAwMCAwQCAwMCAgECAgMCAQICAwIDAgMBAQIDAgECAgICAQIBAQIBAwIBAgMCAgEEAgMBAgIBAwMDAgIBAgICAgMCAgICBAECBAQCAwMCAgICAwIDAgICAQICAwIBAgICAgMBAQMDAgMBAgICAQMDAgIDAwMDAQICAwIDAwIDAgIDAQICAgQEAgIDAgECAgICAgMDAgICAwIDAwIEBAIDAgMDAgECAgIBAgIDAQMBAgMBAgMDAgEDAgIDAwICAwICAgICAgECAwMCAgEEAwMCAwICAwIDAgMDAwMEAgICAwECAgIDAgMFAQICAgMBAQIDAgIDAQMDAwIDAQMBBAICAwICAgIDAgICAQMFAQIEAQICAwEBAgICAwECAgIDAwMCAwEBAgICAgMDAwMDAgICAgICAwMCAgIDAgICAwICBAEBAgECAwECAQICAgICBAMCAwIBAwECBAIDAgICAwEDAgMDAgMCAgMCAwECAgMDAwMCAgMCAwMEAgIBAgICAwIDAgEDAgICAwICAgMBAgICAgMCAgMCAgQBAgIBAgECAwICAwECAwMDAgIBAgEDAwMCAgMCAwICBAMBAgQCAgICAgEDAwIDBAECAgICAwMBAQICAgICAwIBAgMDAQEBAgEDAwMCAgIDAwICAgMCAgEDAwMBAgMCAwMBAgICAgIDAgICAgICAgIEAgEDAgMCAgMCAgMCAwICAgECAgMCAgMDAwICAgIBAQMDAgICAgMCAwICAgIDAgICAgICAgEBAQECAgIDAwIBAQECAwICAgECAQMCAgMBAgIDAgIDAgICAgICAgQCAgIDAwEBAgMCAwICAgICBgICAgIDAQICAwECAwIDAgIDAwMDAgIDAwIDAQECAwECAgMBAwICAwIDAwMBAgICAwIBAwICAgICAgIFAwMCAwMBAwIDAgICAgIBBAMBAQICAQIDAgICAQIDAgMDAQICAQICAgMDAgMBAgIEAQMBAgICAgMCAgICAwEDAgMDAgMCBgICAgECAQECAgIDAQECAgICAwIDAgMCAwICAgIDAwECAQECAgICBgMCAwQDAgICAQIDAwEDAgMCAwIDAQICAQQCAwMCAQEEAgIEAwIBAgICAwEBAgMCAwIBAgICAgIDAwIBAwECAwICAwIBAwECAwMDAQMDAwMDAgMCAgMBAQIBAwICAgICAgMDAQECAQICAgEDAQICAgIDAQECBAEBAQICAgICAwICAQYCAQIBAwECAgIBAwMBAgICAgECAgQDAwICAgMCAgICAgICAgECAgICAQIDAgMCAQYCAwIBAQICAQIBAgIBAgMDAwQCBAMCAwIBAQICAQIDAwICAgIBAwMDAwICAgIDAwMC",
          "dtype": "i1"
         },
         "x0": " ",
         "xaxis": "x",
         "y": {
          "bdata": "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",
          "dtype": "i4"
         },
         "y0": " ",
         "yaxis": "y"
        }
       ],
       "layout": {
        "boxmode": "group",
        "legend": {
         "tracegroupgap": 0
        },
        "template": {
         "data": {
          "bar": [
           {
            "error_x": {
             "color": "#2a3f5f"
            },
            "error_y": {
             "color": "#2a3f5f"
            },
            "marker": {
             "line": {
              "color": "#E5ECF6",
              "width": 0.5
             },
             "pattern": {
              "fillmode": "overlay",
              "size": 10,
              "solidity": 0.2
             }
            },
            "type": "bar"
           }
          ],
          "barpolar": [
           {
            "marker": {
             "line": {
              "color": "#E5ECF6",
              "width": 0.5
             },
             "pattern": {
              "fillmode": "overlay",
              "size": 10,
              "solidity": 0.2
             }
            },
            "type": "barpolar"
           }
          ],
          "carpet": [
           {
            "aaxis": {
             "endlinecolor": "#2a3f5f",
             "gridcolor": "white",
             "linecolor": "white",
             "minorgridcolor": "white",
             "startlinecolor": "#2a3f5f"
            },
            "baxis": {
             "endlinecolor": "#2a3f5f",
             "gridcolor": "white",
             "linecolor": "white",
             "minorgridcolor": "white",
             "startlinecolor": "#2a3f5f"
            },
            "type": "carpet"
           }
          ],
          "choropleth": [
           {
            "colorbar": {
             "outlinewidth": 0,
             "ticks": ""
            },
            "type": "choropleth"
           }
          ],
          "contour": [
           {
            "colorbar": {
             "outlinewidth": 0,
             "ticks": ""
            },
            "colorscale": [
             [
              0,
              "#0d0887"
             ],
             [
              0.1111111111111111,
              "#46039f"
             ],
             [
              0.2222222222222222,
              "#7201a8"
             ],
             [
              0.3333333333333333,
              "#9c179e"
             ],
             [
              0.4444444444444444,
              "#bd3786"
             ],
             [
              0.5555555555555556,
              "#d8576b"
             ],
             [
              0.6666666666666666,
              "#ed7953"
             ],
             [
              0.7777777777777778,
              "#fb9f3a"
             ],
             [
              0.8888888888888888,
              "#fdca26"
             ],
             [
              1,
              "#f0f921"
             ]
            ],
            "type": "contour"
           }
          ],
          "contourcarpet": [
           {
            "colorbar": {
             "outlinewidth": 0,
             "ticks": ""
            },
            "type": "contourcarpet"
           }
          ],
          "heatmap": [
           {
            "colorbar": {
             "outlinewidth": 0,
             "ticks": ""
            },
            "colorscale": [
             [
              0,
              "#0d0887"
             ],
             [
              0.1111111111111111,
              "#46039f"
             ],
             [
              0.2222222222222222,
              "#7201a8"
             ],
             [
              0.3333333333333333,
              "#9c179e"
             ],
             [
              0.4444444444444444,
              "#bd3786"
             ],
             [
              0.5555555555555556,
              "#d8576b"
             ],
             [
              0.6666666666666666,
              "#ed7953"
             ],
             [
              0.7777777777777778,
              "#fb9f3a"
             ],
             [
              0.8888888888888888,
              "#fdca26"
             ],
             [
              1,
              "#f0f921"
             ]
            ],
            "type": "heatmap"
           }
          ],
          "histogram": [
           {
            "marker": {
             "pattern": {
              "fillmode": "overlay",
              "size": 10,
              "solidity": 0.2
             }
            },
            "type": "histogram"
           }
          ],
          "histogram2d": [
           {
            "colorbar": {
             "outlinewidth": 0,
             "ticks": ""
            },
            "colorscale": [
             [
              0,
              "#0d0887"
             ],
             [
              0.1111111111111111,
              "#46039f"
             ],
             [
              0.2222222222222222,
              "#7201a8"
             ],
             [
              0.3333333333333333,
              "#9c179e"
             ],
             [
              0.4444444444444444,
              "#bd3786"
             ],
             [
              0.5555555555555556,
              "#d8576b"
             ],
             [
              0.6666666666666666,
              "#ed7953"
             ],
             [
              0.7777777777777778,
              "#fb9f3a"
             ],
             [
              0.8888888888888888,
              "#fdca26"
             ],
             [
              1,
              "#f0f921"
             ]
            ],
            "type": "histogram2d"
           }
          ],
          "histogram2dcontour": [
           {
            "colorbar": {
             "outlinewidth": 0,
             "ticks": ""
            },
            "colorscale": [
             [
              0,
              "#0d0887"
             ],
             [
              0.1111111111111111,
              "#46039f"
             ],
             [
              0.2222222222222222,
              "#7201a8"
             ],
             [
              0.3333333333333333,
              "#9c179e"
             ],
             [
              0.4444444444444444,
              "#bd3786"
             ],
             [
              0.5555555555555556,
              "#d8576b"
             ],
             [
              0.6666666666666666,
              "#ed7953"
             ],
             [
              0.7777777777777778,
              "#fb9f3a"
             ],
             [
              0.8888888888888888,
              "#fdca26"
             ],
             [
              1,
              "#f0f921"
             ]
            ],
            "type": "histogram2dcontour"
           }
          ],
          "mesh3d": [
           {
            "colorbar": {
             "outlinewidth": 0,
             "ticks": ""
            },
            "type": "mesh3d"
           }
          ],
          "parcoords": [
           {
            "line": {
             "colorbar": {
              "outlinewidth": 0,
              "ticks": ""
             }
            },
            "type": "parcoords"
           }
          ],
          "pie": [
           {
            "automargin": true,
            "type": "pie"
           }
          ],
          "scatter": [
           {
            "fillpattern": {
             "fillmode": "overlay",
             "size": 10,
             "solidity": 0.2
            },
            "type": "scatter"
           }
          ],
          "scatter3d": [
           {
            "line": {
             "colorbar": {
              "outlinewidth": 0,
              "ticks": ""
             }
            },
            "marker": {
             "colorbar": {
              "outlinewidth": 0,
              "ticks": ""
             }
            },
            "type": "scatter3d"
           }
          ],
          "scattercarpet": [
           {
            "marker": {
             "colorbar": {
              "outlinewidth": 0,
              "ticks": ""
             }
            },
            "type": "scattercarpet"
           }
          ],
          "scattergeo": [
           {
            "marker": {
             "colorbar": {
              "outlinewidth": 0,
              "ticks": ""
             }
            },
            "type": "scattergeo"
           }
          ],
          "scattergl": [
           {
            "marker": {
             "colorbar": {
              "outlinewidth": 0,
              "ticks": ""
             }
            },
            "type": "scattergl"
           }
          ],
          "scattermap": [
           {
            "marker": {
             "colorbar": {
              "outlinewidth": 0,
              "ticks": ""
             }
            },
            "type": "scattermap"
           }
          ],
          "scattermapbox": [
           {
            "marker": {
             "colorbar": {
              "outlinewidth": 0,
              "ticks": ""
             }
            },
            "type": "scattermapbox"
           }
          ],
          "scatterpolar": [
           {
            "marker": {
             "colorbar": {
              "outlinewidth": 0,
              "ticks": ""
             }
            },
            "type": "scatterpolar"
           }
          ],
          "scatterpolargl": [
           {
            "marker": {
             "colorbar": {
              "outlinewidth": 0,
              "ticks": ""
             }
            },
            "type": "scatterpolargl"
           }
          ],
          "scatterternary": [
           {
            "marker": {
             "colorbar": {
              "outlinewidth": 0,
              "ticks": ""
             }
            },
            "type": "scatterternary"
           }
          ],
          "surface": [
           {
            "colorbar": {
             "outlinewidth": 0,
             "ticks": ""
            },
            "colorscale": [
             [
              0,
              "#0d0887"
             ],
             [
              0.1111111111111111,
              "#46039f"
             ],
             [
              0.2222222222222222,
              "#7201a8"
             ],
             [
              0.3333333333333333,
              "#9c179e"
             ],
             [
              0.4444444444444444,
              "#bd3786"
             ],
             [
              0.5555555555555556,
              "#d8576b"
             ],
             [
              0.6666666666666666,
              "#ed7953"
             ],
             [
              0.7777777777777778,
              "#fb9f3a"
             ],
             [
              0.8888888888888888,
              "#fdca26"
             ],
             [
              1,
              "#f0f921"
             ]
            ],
            "type": "surface"
           }
          ],
          "table": [
           {
            "cells": {
             "fill": {
              "color": "#EBF0F8"
             },
             "line": {
              "color": "white"
             }
            },
            "header": {
             "fill": {
              "color": "#C8D4E3"
             },
             "line": {
              "color": "white"
             }
            },
            "type": "table"
           }
          ]
         },
         "layout": {
          "annotationdefaults": {
           "arrowcolor": "#2a3f5f",
           "arrowhead": 0,
           "arrowwidth": 1
          },
          "autotypenumbers": "strict",
          "coloraxis": {
           "colorbar": {
            "outlinewidth": 0,
            "ticks": ""
           }
          },
          "colorscale": {
           "diverging": [
            [
             0,
             "#8e0152"
            ],
            [
             0.1,
             "#c51b7d"
            ],
            [
             0.2,
             "#de77ae"
            ],
            [
             0.3,
             "#f1b6da"
            ],
            [
             0.4,
             "#fde0ef"
            ],
            [
             0.5,
             "#f7f7f7"
            ],
            [
             0.6,
             "#e6f5d0"
            ],
            [
             0.7,
             "#b8e186"
            ],
            [
             0.8,
             "#7fbc41"
            ],
            [
             0.9,
             "#4d9221"
            ],
            [
             1,
             "#276419"
            ]
           ],
           "sequential": [
            [
             0,
             "#0d0887"
            ],
            [
             0.1111111111111111,
             "#46039f"
            ],
            [
             0.2222222222222222,
             "#7201a8"
            ],
            [
             0.3333333333333333,
             "#9c179e"
            ],
            [
             0.4444444444444444,
             "#bd3786"
            ],
            [
             0.5555555555555556,
             "#d8576b"
            ],
            [
             0.6666666666666666,
             "#ed7953"
            ],
            [
             0.7777777777777778,
             "#fb9f3a"
            ],
            [
             0.8888888888888888,
             "#fdca26"
            ],
            [
             1,
             "#f0f921"
            ]
           ],
           "sequentialminus": [
            [
             0,
             "#0d0887"
            ],
            [
             0.1111111111111111,
             "#46039f"
            ],
            [
             0.2222222222222222,
             "#7201a8"
            ],
            [
             0.3333333333333333,
             "#9c179e"
            ],
            [
             0.4444444444444444,
             "#bd3786"
            ],
            [
             0.5555555555555556,
             "#d8576b"
            ],
            [
             0.6666666666666666,
             "#ed7953"
            ],
            [
             0.7777777777777778,
             "#fb9f3a"
            ],
            [
             0.8888888888888888,
             "#fdca26"
            ],
            [
             1,
             "#f0f921"
            ]
           ]
          },
          "colorway": [
           "#636efa",
           "#EF553B",
           "#00cc96",
           "#ab63fa",
           "#FFA15A",
           "#19d3f3",
           "#FF6692",
           "#B6E880",
           "#FF97FF",
           "#FECB52"
          ],
          "font": {
           "color": "#2a3f5f"
          },
          "geo": {
           "bgcolor": "white",
           "lakecolor": "white",
           "landcolor": "#E5ECF6",
           "showlakes": true,
           "showland": true,
           "subunitcolor": "white"
          },
          "hoverlabel": {
           "align": "left"
          },
          "hovermode": "closest",
          "mapbox": {
           "style": "light"
          },
          "paper_bgcolor": "white",
          "plot_bgcolor": "#E5ECF6",
          "polar": {
           "angularaxis": {
            "gridcolor": "white",
            "linecolor": "white",
            "ticks": ""
           },
           "bgcolor": "#E5ECF6",
           "radialaxis": {
            "gridcolor": "white",
            "linecolor": "white",
            "ticks": ""
           }
          },
          "scene": {
           "xaxis": {
            "backgroundcolor": "#E5ECF6",
            "gridcolor": "white",
            "gridwidth": 2,
            "linecolor": "white",
            "showbackground": true,
            "ticks": "",
            "zerolinecolor": "white"
           },
           "yaxis": {
            "backgroundcolor": "#E5ECF6",
            "gridcolor": "white",
            "gridwidth": 2,
            "linecolor": "white",
            "showbackground": true,
            "ticks": "",
            "zerolinecolor": "white"
           },
           "zaxis": {
            "backgroundcolor": "#E5ECF6",
            "gridcolor": "white",
            "gridwidth": 2,
            "linecolor": "white",
            "showbackground": true,
            "ticks": "",
            "zerolinecolor": "white"
           }
          },
          "shapedefaults": {
           "line": {
            "color": "#2a3f5f"
           }
          },
          "ternary": {
           "aaxis": {
            "gridcolor": "white",
            "linecolor": "white",
            "ticks": ""
           },
           "baxis": {
            "gridcolor": "white",
            "linecolor": "white",
            "ticks": ""
           },
           "bgcolor": "#E5ECF6",
           "caxis": {
            "gridcolor": "white",
            "linecolor": "white",
            "ticks": ""
           }
          },
          "title": {
           "x": 0.05
          },
          "xaxis": {
           "automargin": true,
           "gridcolor": "white",
           "linecolor": "white",
           "ticks": "",
           "title": {
            "standoff": 15
           },
           "zerolinecolor": "white",
           "zerolinewidth": 2
          },
          "yaxis": {
           "automargin": true,
           "gridcolor": "white",
           "linecolor": "white",
           "ticks": "",
           "title": {
            "standoff": 15
           },
           "zerolinecolor": "white",
           "zerolinewidth": 2
          }
         }
        },
        "title": {
         "text": "Boxplot: BHK vs Rent"
        },
        "xaxis": {
         "anchor": "y",
         "domain": [
          0,
          1
         ],
         "title": {
          "text": "BHK"
         }
        },
        "yaxis": {
         "anchor": "x",
         "domain": [
          0,
          1
         ],
         "title": {
          "text": "Rent"
         }
        }
       }
      },
      "image/png": "[encoded data removed]"
     },
     "metadata": {},
     "output_type": "display_data"
    }
   ],
   "source": [
    "# 3.3. Scatter plot Size vs Rent\n",
    "fig_scatter = px.scatter(df_clean, x='Size', y='Rent', title='Scatter Plot: Size vs Rent')\n",
    "fig_scatter.show()\n",
    "\n",
    "# 3.4. Boxplot BHK vs Rent\n",
    "fig_box = px.box(df_clean, x='BHK', y='Rent', title='Boxplot: BHK vs Rent')\n",
    "fig_box.show()"
   ]
  },
  {
   "cell_type": "markdown",
   "metadata": {},
   "source": [
    "**Висновок по результатах аналізу Scatter Plot**:\n",
    "Прослідковується позитивна залежність, зі збільшенням площі житла збільшується і орендна плата. Проте ця залежність не є лінійною та має розкид. Є викиди (точки із дуже великим значенням орендної плати), це виглядає як анамалія або ж елітна нерухомість. Таклож є точки, де розмір великий, понад 6000 кв. футів, але орендна плата маленька. Навіть для однакової площі значення оренди можуть сильно відрізнятись. Це значить, що на ціну впливає не тільки розмір, а й інші фактори.\n",
    "\n",
    "**Висновок по результатах аналізу Boxplot**: BHK (Кількість спалень, залів, кухонь) vs Rent. Зі зростанням BHK зростає і медіанна орендна плата.\n",
    "Це логічно: більші квартири/будинки (з більшою кількістю кімнат) зазвичай дорожчі в оренді.\n",
    "Розкид даних (варіативність)\n",
    "Для 1 та 2 BHK орендна плата зазвичай низька і більш стабільна.\n",
    "Починаючи з 3–4 BHK, діапазон цін суттєво збільшується, що вказує на значний розкид у вартості оренди залежно від району, якості житла тощо.\n",
    "Для 4–5 BHK видно широкий інтервал (boxplot високий), що підтверджує високу варіативність цін.\n",
    "Викиди (outliers)\n",
    "Для кожної категорії є значна кількість викидів: орендні плати, які значно перевищують звичайний діапазон (навіть >1 млн і аж до 3.5 млн).\n",
    "Це, ймовірно, елітна або комерційна нерухомість, яка відрізняється від ринку масового сегмента.\n",
    "Значна кількість викидів свідчить про наявність елітного житла, що сильно спотворює середні значення."
   ]
  },
  {
   "cell_type": "markdown",
   "metadata": {
    "id": "628c3b4f"
   },
   "source": [
    "## Завдання 4: Feature Engineering та підготовка даних (4 бали)\n",
    "\n",
    "**Що потрібно зробити:**\n",
    "1. Закодуйте категоріальні змінні за допомогою One-Hot Encoding. Пригадайте, що в лекції ми говорили щодо кодування кат. змінних з великої кількістю різних значень і як працювати з такими випадками. Ви можете закодувати не всі кат. змінні, а лише ті, що вважаєте за потрібні (скажімо ті, що мають відносно небагато різних значень).\n",
    "2. **Опціонально (по 0.5 бала за кожну доцільну ознаку):** Додайте нові ознаки, обчислені на основі наявних даних, які б на ваш погляд були корисними для моделі\n",
    "3. Виберіть ознаки для побудови моделі (виключіть непотрібні колонки). Виключити можна, наприклад, ті колонки, які мають категоріальний тип і забагато (більше 20) різних значень. Треба виключити хоча б 1 колонку.\n",
    "4. Розділіть дані на ознаки (X) та цільову змінну (y)\n",
    "5. Застосуйте стандартизацію до числових ознак\n"
   ]
  },
  {
   "cell_type": "code",
   "execution_count": 43,
   "metadata": {
    "execution": {
     "iopub.execute_input": "2025-09-15T08:27:54.442596Z",
     "iopub.status.busy": "2025-09-15T08:27:54.442226Z",
     "iopub.status.idle": "2025-09-15T08:27:55.666738Z",
     "shell.execute_reply": "2025-09-15T08:27:55.666067Z",
     "shell.execute_reply.started": "2025-09-15T08:27:54.442577Z"
    }
   },
   "outputs": [
    {
     "name": "stdout",
     "output_type": "stream",
     "text": [
      "Requirement already satisfied: scikit-learn in c:\\users\\admin\\appdata\\local\\programs\\python\\python313\\lib\\site-packages (1.7.2)\n",
      "Requirement already satisfied: numpy>=1.22.0 in c:\\users\\admin\\appdata\\local\\programs\\python\\python313\\lib\\site-packages (from scikit-learn) (2.3.1)\n",
      "Requirement already satisfied: scipy>=1.8.0 in c:\\users\\admin\\appdata\\local\\programs\\python\\python313\\lib\\site-packages (from scikit-learn) (1.16.1)\n",
      "Requirement already satisfied: joblib>=1.2.0 in c:\\users\\admin\\appdata\\local\\programs\\python\\python313\\lib\\site-packages (from scikit-learn) (1.5.2)\n",
      "Requirement already satisfied: threadpoolctl>=3.1.0 in c:\\users\\admin\\appdata\\local\\programs\\python\\python313\\lib\\site-packages (from scikit-learn) (3.6.0)\n"
     ]
    }
   ],
   "source": [
    "!pip install scikit-learn"
   ]
  },
  {
   "cell_type": "code",
   "execution_count": 42,
   "metadata": {
    "execution": {
     "iopub.execute_input": "2025-09-15T08:27:50.642212Z",
     "iopub.status.busy": "2025-09-15T08:27:50.641787Z",
     "iopub.status.idle": "2025-09-15T08:27:52.506970Z",
     "shell.execute_reply": "2025-09-15T08:27:52.506120Z",
     "shell.execute_reply.started": "2025-09-15T08:27:50.642180Z"
    }
   },
   "outputs": [
    {
     "name": "stdout",
     "output_type": "stream",
     "text": [
      "Requirement already satisfied: scikit-learn in c:\\users\\admin\\appdata\\local\\programs\\python\\python313\\lib\\site-packages (1.7.2)\n",
      "Requirement already satisfied: numpy>=1.22.0 in c:\\users\\admin\\appdata\\local\\programs\\python\\python313\\lib\\site-packages (from scikit-learn) (2.3.1)\n",
      "Requirement already satisfied: scipy>=1.8.0 in c:\\users\\admin\\appdata\\local\\programs\\python\\python313\\lib\\site-packages (from scikit-learn) (1.16.1)\n",
      "Requirement already satisfied: joblib>=1.2.0 in c:\\users\\admin\\appdata\\local\\programs\\python\\python313\\lib\\site-packages (from scikit-learn) (1.5.2)\n",
      "Requirement already satisfied: threadpoolctl>=3.1.0 in c:\\users\\admin\\appdata\\local\\programs\\python\\python313\\lib\\site-packages (from scikit-learn) (3.6.0)\n"
     ]
    }
   ],
   "source": [
    "!pip install scikit-learn"
   ]
  },
  {
   "cell_type": "code",
   "execution_count": 45,
   "metadata": {
    "execution": {
     "iopub.execute_input": "2025-09-15T08:44:26.475844Z",
     "iopub.status.busy": "2025-09-15T08:44:26.475383Z",
     "iopub.status.idle": "2025-09-15T08:44:26.502606Z",
     "shell.execute_reply": "2025-09-15T08:44:26.501832Z",
     "shell.execute_reply.started": "2025-09-15T08:44:26.475823Z"
    },
    "id": "aOXZSaK2OX0Y",
    "scrolled": true
   },
   "outputs": [
    {
     "name": "stdout",
     "output_type": "stream",
     "text": [
      "Розмір після трансформації: (3380, 14) (846, 14)\n"
     ]
    }
   ],
   "source": [
    "from sklearn.model_selection import train_test_split\n",
    "from sklearn.preprocessing import OneHotEncoder, StandardScaler\n",
    "from sklearn.compose import ColumnTransformer\n",
    "from sklearn.pipeline import Pipeline\n",
    "\n",
    "# 4.1. Виключаємо колонки з великою кількістю унікальних значень\n",
    "# Наприклад, Area Locality має сотні районів, тому для лінійної регресії закодовувати її неефективно\n",
    "df_model = df_no_outliers.drop(columns=['Area Locality', 'Point of Contact'])\n",
    "\n",
    "# 4.2. Формуємо список числових і категоріальних змінних\n",
    "numeric_features = ['BHK', 'Size', 'Bathroom']  \n",
    "categorical_features = ['City', 'Furnishing Status', 'Tenant Preferred', 'Area Type']\n",
    "\n",
    "# 4.3. Створюємо нові ознаки\n",
    "df_model['Rent_per_sqft'] = df_model['Rent'] / df_model['Size']  # середня ціна за квадратний фут\n",
    "df_model['BHK_per_bathroom'] = df_model['BHK'] / (df_model['Bathroom'] + 1)  # співвідношення спалень до ванн\n",
    "\n",
    "# 4.4. Формуємо X та y\n",
    "X = df_model.drop(columns=['Rent'])  \n",
    "y = df_model['Rent']\n",
    "\n",
    "# 4.5. Кодування категоріальних змінних (One-Hot Encoding) + стандартизація числових\n",
    "numeric_transformer = StandardScaler()\n",
    "categorical_transformer = OneHotEncoder(handle_unknown='ignore', drop='first')\n",
    "\n",
    "preprocessor = ColumnTransformer(\n",
    "    transformers=[\n",
    "        ('num', numeric_transformer, numeric_features),\n",
    "        ('cat', categorical_transformer, categorical_features)\n",
    "    ],\n",
    "    remainder='drop'\n",
    ")\n",
    "\n",
    "# 4.6. Створюємо pipeline\n",
    "pipeline = Pipeline(steps=[\n",
    "    ('preprocessor', preprocessor)\n",
    "])\n",
    "\n",
    "# 4.7. Розділення на train/test\n",
    "X_train, X_test, y_train, y_test = train_test_split(\n",
    "    X, y, test_size=0.2, random_state=42\n",
    ")\n",
    "\n",
    "# 4.8. Трансформуємо дані (щоб перевірити розміри після кодування)\n",
    "X_train_transformed = pipeline.fit_transform(X_train)\n",
    "X_test_transformed = pipeline.transform(X_test)\n",
    "\n",
    "print(\"Розмір після трансформації:\", X_train_transformed.shape, X_test_transformed.shape)\n"
   ]
  },
  {
   "cell_type": "markdown",
   "metadata": {
    "id": "dd7ef1d3"
   },
   "source": [
    "## Завдання 5: Розділення даних та навчання моделі (3 бали)\n",
    "\n",
    "**Що потрібно зробити:**\n",
    "1. Розділіть дані на навчальну (80%) та тестову (20%) вибірки.\n",
    "2. Створіть модель лінійної регресії.\n",
    "3. Навчіть модель на навчальних даних.\n",
    "4. Виведіть усі коефіцієнти моделі (ваги) та напишіть, які 2 ознаки найбільше впливають на прогноз.\n",
    "5. Зробіть прогнози на тренувальній та тестовій вибірках."
   ]
  },
  {
   "cell_type": "code",
   "execution_count": 51,
   "metadata": {
    "execution": {
     "iopub.execute_input": "2025-09-15T09:21:38.433626Z",
     "iopub.status.busy": "2025-09-15T09:21:38.433146Z",
     "iopub.status.idle": "2025-09-15T09:21:38.445158Z",
     "shell.execute_reply": "2025-09-15T09:21:38.444647Z",
     "shell.execute_reply.started": "2025-09-15T09:21:38.433607Z"
    },
    "id": "SuQ2b116OYjR"
   },
   "outputs": [
    {
     "name": "stdout",
     "output_type": "stream",
     "text": [
      "Всі коефіцієнти моделі:\n",
      "                              Feature   Coefficient\n",
      "7                         City_Mumbai  22147.789560\n",
      "9       Furnishing Status_Unfurnished  -4752.563963\n",
      "1                                Size   4395.803252\n",
      "13               Area Type_Super Area  -3510.351883\n",
      "4                          City_Delhi   3483.486938\n",
      "6                        City_Kolkata  -3455.815554\n",
      "8    Furnishing Status_Semi-Furnished  -3339.052218\n",
      "5                      City_Hyderabad  -2917.638160\n",
      "11            Tenant Preferred_Family  -2683.845287\n",
      "0                                 BHK   2342.155612\n",
      "2                            Bathroom   2170.554120\n",
      "3                        City_Chennai  -1620.827482\n",
      "10  Tenant Preferred_Bachelors/Family  -1373.728000\n",
      "12              Area Type_Carpet Area   -400.244236\n",
      "\n",
      "2 ознаки, що найбільше впливають на прогноз:\n",
      "                         Feature   Coefficient\n",
      "7                    City_Mumbai  22147.789560\n",
      "9  Furnishing Status_Unfurnished  -4752.563963\n"
     ]
    }
   ],
   "source": [
    "from sklearn.linear_model import LinearRegression\n",
    "from sklearn.metrics import mean_absolute_error, mean_squared_error, r2_score\n",
    "import numpy as np\n",
    "\n",
    "#5.1. Створюємо модель лінійної регресії\n",
    "model = LinearRegression()\n",
    "\n",
    "# 5.2. Навчання на тренувальних даних\n",
    "model.fit(X_train_transformed, y_train)\n",
    "\n",
    "# 5.3. Отримання коефіцієнтів (ваг)\n",
    "feature_names_num = numeric_features\n",
    "feature_names_cat = pipeline.named_steps['preprocessor'].named_transformers_['cat'].get_feature_names_out(categorical_features)\n",
    "feature_names = np.concatenate([feature_names_num, feature_names_cat])\n",
    "\n",
    "coefficients = pd.DataFrame({\n",
    "    'Feature': feature_names,\n",
    "    'Coefficient': model.coef_\n",
    "}).sort_values(by='Coefficient', key=abs, ascending=False)\n",
    "\n",
    "print(\"Всі коефіцієнти моделі:\")\n",
    "print(coefficients)\n",
    "\n",
    "# 5.4. Які 2 ознаки найбільше впливають\n",
    "top2 = coefficients.head(2)\n",
    "print(\"\\n2 ознаки, що найбільше впливають на прогноз:\")\n",
    "print(top2)\n",
    "\n",
    "# 5.5. Прогнози на train і test\n",
    "y_train_pred = model.predict(X_train_transformed)\n",
    "y_test_pred = model.predict(X_test_transformed)"
   ]
  },
  {
   "cell_type": "markdown",
   "metadata": {
    "id": "ca7cd90d"
   },
   "source": [
    "## Завдання 6: Оцінка якості моделі (2 бали)\n",
    "\n",
    "**Що потрібно зробити:**\n",
    "1. Обчисліть MAE, RMSE та R² для навчальної та тестової вибірок\n",
    "2. Порівняйте метрики та зробіть висновок про якість моделі\n",
    "3. Проаналізуйте і дайте висновок, чи є ознаки перенавчання або недонавчання (**Нагадування**: перенавчання - коли модель дуже добре працює на тренувальних даних, але погано на тестових; недонавчання - коли модель погано працює навіть на тренувальних даних)\n",
    "4. Побудуйте графік розсіювання \"реальні vs прогнозовані значення\" та зробіть висновок про якість моделі\n"
   ]
  },
  {
   "cell_type": "code",
   "execution_count": 53,
   "metadata": {
    "execution": {
     "iopub.execute_input": "2025-09-15T09:22:46.025923Z",
     "iopub.status.busy": "2025-09-15T09:22:46.025559Z",
     "iopub.status.idle": "2025-09-15T09:22:46.168326Z",
     "shell.execute_reply": "2025-09-15T09:22:46.167607Z",
     "shell.execute_reply.started": "2025-09-15T09:22:46.025904Z"
    },
    "id": "476GoOrAOZS4"
   },
   "outputs": [
    {
     "name": "stdout",
     "output_type": "stream",
     "text": [
      "=== Метрики для навчальної вибірки ===\n",
      "MAE: 5951.47\n",
      "RMSE: 8238.36\n",
      "R²: 0.644\n",
      "\n",
      "=== Метрики для тестової вибірки ===\n",
      "MAE: 5872.67\n",
      "RMSE: 8173.13\n",
      "R²: 0.652\n",
      "\n",
      "Висновок: модель узагальнює дані адекватно, явних ознак перенавчання чи недонавчання немає.\n"
     ]
    },
    {
     "data": {
      "image/png": "[encoded data removed]",
      "text/plain": [
       "<Figure size 700x700 with 1 Axes>"
      ]
     },
     "metadata": {},
     "output_type": "display_data"
    }
   ],
   "source": [
    "# Метрики для навчальної вибірки\n",
    "mae_train = mean_absolute_error(y_train, y_train_pred)\n",
    "rmse_train = np.sqrt(mean_squared_error(y_train, y_train_pred))\n",
    "r2_train = r2_score(y_train, y_train_pred)\n",
    "\n",
    "# Метрики для тестової вибірки\n",
    "mae_test = mean_absolute_error(y_test, y_test_pred)\n",
    "rmse_test = np.sqrt(mean_squared_error(y_test, y_test_pred))\n",
    "r2_test = r2_score(y_test, y_test_pred)\n",
    "\n",
    "print(\"=== Метрики для навчальної вибірки ===\")\n",
    "print(f\"MAE: {mae_train:.2f}\")\n",
    "print(f\"RMSE: {rmse_train:.2f}\")\n",
    "print(f\"R²: {r2_train:.3f}\")\n",
    "\n",
    "print(\"\\n=== Метрики для тестової вибірки ===\")\n",
    "print(f\"MAE: {mae_test:.2f}\")\n",
    "print(f\"RMSE: {rmse_test:.2f}\")\n",
    "print(f\"R²: {r2_test:.3f}\")\n",
    "\n",
    "# Порівняння\n",
    "if r2_train > 0.8 and (r2_train - r2_test) > 0.2:\n",
    "    print(\"\\nВисновок: є ознаки ПЕРЕНАВЧАННЯ (модель добре працює на train, але гірше на test).\")\n",
    "elif r2_train < 0.5 and r2_test < 0.5:\n",
    "    print(\"\\nВисновок: є ознаки НЕДОНАВЧАННЯ (модель погано працює навіть на train).\")\n",
    "else:\n",
    "    print(\"\\nВисновок: модель узагальнює дані адекватно, явних ознак перенавчання чи недонавчання немає.\")\n",
    "\n",
    "# Побудова графіка \"реальні vs прогнозовані значення\"\n",
    "plt.figure(figsize=(7,7))\n",
    "plt.scatter(y_test, y_test_pred, alpha=0.5)\n",
    "plt.plot([y_test.min(), y_test.max()], [y_test.min(), y_test.max()], 'r--')  # ідеальна лінія\n",
    "plt.xlabel(\"Реальні значення (Rent)\")\n",
    "plt.ylabel(\"Прогнозовані значення (Rent)\")\n",
    "plt.title(\"Графік розсіювання: реальні vs прогнозовані значення\")\n",
    "plt.show()\n"
   ]
  },
  {
   "cell_type": "markdown",
   "metadata": {
    "id": "9f6f299d"
   },
   "source": [
    "## Завдання 7: Аналіз помилок (4 бали)\n",
    "\n",
    "**Що потрібно зробити:**\n",
    "1. Обчисліть помилки (residuals = реальні - прогнозовані значення)\n",
    "2. Побудуйте гістограму розподілу помилок\n",
    "3. Створіть scatter plot помилок відносно величини прогнозованих значень. Чи росте помилка з ростом прогнозованого значення?\n",
    "4. Знайдіть 5 прогнозів з найбільшими помилками\n",
    "5. Проаналізуйте, на яких типах житла модель помиляється найбільше. Типи можна розрізняти за кількістю кімнат чи містом, наприклад.\n",
    "6. Подумайте і напишіть, які наступні кроки ви б зробили, аби поліпшити якість моделі. Опціонально можна їх зробити і ми перевіримо :)"
   ]
  },
  {
   "cell_type": "code",
   "execution_count": 56,
   "metadata": {
    "execution": {
     "iopub.execute_input": "2025-09-15T09:26:51.945495Z",
     "iopub.status.busy": "2025-09-15T09:26:51.945223Z",
     "iopub.status.idle": "2025-09-15T09:26:52.205622Z",
     "shell.execute_reply": "2025-09-15T09:26:52.204832Z",
     "shell.execute_reply.started": "2025-09-15T09:26:51.945476Z"
    },
    "id": "RxF3y1BcOevB"
   },
   "outputs": [
    {
     "data": {
      "image/png": "[encoded data removed]",
      "text/plain": [
       "<Figure size 800x500 with 1 Axes>"
      ]
     },
     "metadata": {},
     "output_type": "display_data"
    },
    {
     "data": {
      "image/png": "[encoded data removed]",
      "text/plain": [
       "<Figure size 800x500 with 1 Axes>"
      ]
     },
     "metadata": {},
     "output_type": "display_data"
    },
    {
     "name": "stdout",
     "output_type": "stream",
     "text": [
      "5 прогнозів з найбільшими помилками:\n",
      "       Real     Predicted      Residual\n",
      "3520  65000  27657.468321  37342.531679\n",
      "852    8000  40458.542312 -32458.542312\n",
      "549    8000  38371.128780 -30371.128780\n",
      "809   60000  30254.406987  29745.593013\n",
      "3962  65000  36515.934357  28484.065643\n",
      "\n",
      "Деталі 5 найбільших помилок:\n",
      "        City  BHK  Size  Bathroom   Real     Predicted      Residual\n",
      "0  Bangalore    3  1500         2  65000  27657.468321  37342.531679\n",
      "1    Chennai    1   350         1   8000  40458.542312 -32458.542312\n",
      "2      Delhi    3  1800         3   8000  38371.128780 -30371.128780\n",
      "3  Hyderabad    1   450         1  60000  30254.406987  29745.593013\n",
      "4  Hyderabad    2  1100         2  65000  36515.934357  28484.065643\n",
      "\n",
      " Наступні кроки для покращення моделі:\n",
      "\n",
      "1. Використати нелінійні моделі (Random Forest, Gradient Boosting, XGBoost), \n",
      "   оскільки лінійна регресія може не враховувати складні залежності.\n",
      "2. Розширити feature engineering:\n",
      "   - взаємодії між BHK, Bathroom, Size;\n",
      "   - нормалізувати Rent за містом (вартість житла в Мумбаї ≠ в Ченнаї).\n",
      "3. Використати log-трансформацію цільової змінної (Rent), \n",
      "   щоб зменшити вплив великих викидів.\n",
      "4. Додати географічні координати або інформацію про престижність району.\n",
      "5. Виділити окремі моделі для різних міст, якщо відмінності між ними дуже великі.\n",
      "\n"
     ]
    }
   ],
   "source": [
    "# 1. Обчислюємо помилки (residuals)\n",
    "residuals = y_test - y_test_pred\n",
    "\n",
    "# 2. Гістограма розподілу помилок\n",
    "plt.figure(figsize=(8,5))\n",
    "plt.hist(residuals, bins=50, edgecolor='black')\n",
    "plt.title(\"Гістограма розподілу помилок (residuals)\")\n",
    "plt.xlabel(\"Помилка (реальне - прогнозоване)\")\n",
    "plt.ylabel(\"Кількість\")\n",
    "plt.show()\n",
    "\n",
    "# 3. Scatter plot: прогнозовані значення vs помилки\n",
    "plt.figure(figsize=(8,5))\n",
    "plt.scatter(y_test_pred, residuals, alpha=0.5)\n",
    "plt.axhline(0, color='red', linestyle='--')\n",
    "plt.title(\"Scatter plot: Прогнозовані значення vs Помилка\")\n",
    "plt.xlabel(\"Прогнозовані значення (Rent)\")\n",
    "plt.ylabel(\"Помилка (residual)\")\n",
    "plt.show()\n",
    "\n",
    "# 4. Знаходимо 5 найбільших помилок\n",
    "test_results = pd.DataFrame({\n",
    "    'Real': y_test,\n",
    "    'Predicted': y_test_pred,\n",
    "    'Residual': residuals\n",
    "})\n",
    "top5_errors = test_results.reindex(residuals.abs().sort_values(ascending=False).index).head(5)\n",
    "\n",
    "print(\"5 прогнозів з найбільшими помилками:\")\n",
    "print(top5_errors)\n",
    "\n",
    "# 5. Додаємо інформацію про житло (BHK, City тощо) для аналізу\n",
    "\n",
    "# Робимо reset_index для обох таблиць\n",
    "X_test_reset = X_test.reset_index(drop=True)\n",
    "top5_errors_reset = top5_errors.reset_index(drop=True)\n",
    "\n",
    "# Об’єднуємо за позиціями\n",
    "top5_full = pd.concat([X_test_reset.loc[top5_errors_reset.index], top5_errors_reset], axis=1)\n",
    "\n",
    "print(\"\\nДеталі 5 найбільших помилок:\")\n",
    "print(top5_full[['City','BHK','Size','Bathroom','Real','Predicted','Residual']])\n",
    "\n",
    "# 6. Ідеї для покращення моделі\n",
    "print(\"\\n Наступні кроки для покращення моделі:\")\n",
    "print(\"\"\"\n",
    "1. Використати нелінійні моделі (Random Forest, Gradient Boosting, XGBoost), \n",
    "   оскільки лінійна регресія може не враховувати складні залежності.\n",
    "2. Розширити feature engineering:\n",
    "   - взаємодії між BHK, Bathroom, Size;\n",
    "   - нормалізувати Rent за містом (вартість житла в Мумбаї ≠ в Ченнаї).\n",
    "3. Використати log-трансформацію цільової змінної (Rent), \n",
    "   щоб зменшити вплив великих викидів.\n",
    "4. Додати географічні координати або інформацію про престижність району.\n",
    "5. Виділити окремі моделі для різних міст, якщо відмінності між ними дуже великі.\n",
    "\"\"\")\n"
   ]
  },
  {
   "cell_type": "code",
   "execution_count": null,
   "metadata": {},
   "outputs": [],
   "source": []
  }
 ],
 "metadata": {
  "colab": {
   "provenance": []
  },
  "kernelspec": {
   "display_name": "Python 3 (ipykernel)",
   "language": "python",
   "name": "python3"
  },
  "language_info": {
   "codemirror_mode": {
    "name": "ipython",
    "version": 3
   },
   "file_extension": ".py",
   "mimetype": "text/x-python",
   "name": "python",
   "nbconvert_exporter": "python",
   "pygments_lexer": "ipython3",
   "version": "3.13.4"
  }
 },
 "nbformat": 4,
 "nbformat_minor": 4
}

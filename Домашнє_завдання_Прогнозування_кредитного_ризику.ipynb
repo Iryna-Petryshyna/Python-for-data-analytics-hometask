{
 "cells": [
  {
   "cell_type": "markdown",
   "metadata": {
    "id": "36ctxlwEft5w"
   },
   "source": [
    "# Домашнє завдання: Прогнозування кредитного ризику\n",
    "\n",
    "## Мета завдання\n",
    "Застосувати знання з лекції для побудови моделі логістичної регресії, що прогнозує ймовірність дефолту за кредитом, іншими словами, що людина не поверне кредит. Ви пройдете весь цикл: від дослідницького аналізу до оцінки якості класифікаційної моделі.\n",
    "\n",
    "## Опис датасету\n",
    "**Credit Risk Dataset** містить інформацію про 32,000+ позичальників з такими параметрами:\n",
    "- **person_age**: Вік позичальника\n",
    "- **person_income**: Річний дохід\n",
    "- **person_home_ownership**: Тип володіння житлом\n",
    "- **person_emp_length**: Стаж роботи (в роках)\n",
    "- **loan_intent**: Мета кредиту\n",
    "- **loan_grade**: Кредитний рейтинг (A - кращий, F - гірший)\n",
    "- **loan_amnt**: Сума кредиту\n",
    "- **loan_int_rate**: Процентна ставка\n",
    "- **loan_status**: Статус кредиту (0 = сплачено, 1 = дефолт) - **цільова змінна**\n",
    "- **loan_percent_income**: Відношення кредиту до доходу\n",
    "- **cb_person_default_on_file**: Історія дефолтів (Y/N)\n",
    "- **cb_person_cred_hist_length**: Довжина кредитної історії\n",
    "\n",
    "---\n",
    "\n",
    "## Завдання 1: Завантаження та перший огляд даних (1 бал)\n",
    "\n",
    "**Що потрібно зробити:**\n",
    "1. Завантажте дані з файлу `credit_risk_dataset.csv`\n",
    "2. Виведіть розмір датасету\n",
    "3. Покажіть перші 5 рядків\n",
    "4. Виведіть загальну інформацію про дані (кількість записів, типи колонок)\n",
    "5. Перевірте розподіл цільової змінної (відсотк даних для кожного класу)\n",
    "\n",
    "Дайте висновок, це задача збалансованої чи незбалансованої класифікації.\n"
   ]
  },
  {
   "cell_type": "code",
   "execution_count": 49,
   "metadata": {
    "execution": {
     "iopub.execute_input": "2025-09-19T08:22:07.643669Z",
     "iopub.status.busy": "2025-09-19T08:22:07.643332Z",
     "iopub.status.idle": "2025-09-19T08:22:08.121367Z",
     "shell.execute_reply": "2025-09-19T08:22:08.120656Z",
     "shell.execute_reply.started": "2025-09-19T08:22:07.643651Z"
    }
   },
   "outputs": [],
   "source": [
    "import pandas as pd\n",
    "import numpy as np\n",
    "import plotly.express as px\n",
    "import plotly.graph_objects as go\n",
    "from plotly.subplots import make_subplots\n",
    "import seaborn as sns\n",
    "import matplotlib.pyplot as plt\n",
    "from sklearn.preprocessing import OrdinalEncoder \n",
    "\n",
    "pd.set_option('display.max_columns', None)"
   ]
  },
  {
   "cell_type": "code",
   "execution_count": 31,
   "metadata": {
    "execution": {
     "iopub.execute_input": "2025-09-19T07:20:27.030941Z",
     "iopub.status.busy": "2025-09-19T07:20:27.030679Z",
     "iopub.status.idle": "2025-09-19T07:20:27.238985Z",
     "shell.execute_reply": "2025-09-19T07:20:27.238326Z",
     "shell.execute_reply.started": "2025-09-19T07:20:27.030924Z"
    },
    "id": "g8YlpLiKnLMJ"
   },
   "outputs": [
    {
     "data": {
      "text/plain": [
       "(32581, 12)"
      ]
     },
     "execution_count": 31,
     "metadata": {},
     "output_type": "execute_result"
    }
   ],
   "source": [
    "# 1. Завантажуємо дані\n",
    "df = pd.read_csv('credit_risk_dataset.csv', sep=None, engine='python')\n",
    "\n",
    "# 2. Виводимо розмір датасету\n",
    "df.shape"
   ]
  },
  {
   "cell_type": "code",
   "execution_count": 32,
   "metadata": {
    "execution": {
     "iopub.execute_input": "2025-09-19T07:20:28.597001Z",
     "iopub.status.busy": "2025-09-19T07:20:28.596699Z",
     "iopub.status.idle": "2025-09-19T07:20:28.607438Z",
     "shell.execute_reply": "2025-09-19T07:20:28.606708Z",
     "shell.execute_reply.started": "2025-09-19T07:20:28.596982Z"
    }
   },
   "outputs": [
    {
     "data": {
      "text/html": [
       "<div>\n",
       "<style scoped>\n",
       "    .dataframe tbody tr th:only-of-type {\n",
       "        vertical-align: middle;\n",
       "    }\n",
       "\n",
       "    .dataframe tbody tr th {\n",
       "        vertical-align: top;\n",
       "    }\n",
       "\n",
       "    .dataframe thead th {\n",
       "        text-align: right;\n",
       "    }\n",
       "</style>\n",
       "<table border=\"1\" class=\"dataframe\">\n",
       "  <thead>\n",
       "    <tr style=\"text-align: right;\">\n",
       "      <th></th>\n",
       "      <th>person_age</th>\n",
       "      <th>person_income</th>\n",
       "      <th>person_home_ownership</th>\n",
       "      <th>person_emp_length</th>\n",
       "      <th>loan_intent</th>\n",
       "      <th>loan_grade</th>\n",
       "      <th>loan_amnt</th>\n",
       "      <th>loan_int_rate</th>\n",
       "      <th>loan_status</th>\n",
       "      <th>loan_percent_income</th>\n",
       "      <th>cb_person_default_on_file</th>\n",
       "      <th>cb_person_cred_hist_length</th>\n",
       "    </tr>\n",
       "  </thead>\n",
       "  <tbody>\n",
       "    <tr>\n",
       "      <th>0</th>\n",
       "      <td>22</td>\n",
       "      <td>59000</td>\n",
       "      <td>RENT</td>\n",
       "      <td>123.0</td>\n",
       "      <td>PERSONAL</td>\n",
       "      <td>D</td>\n",
       "      <td>35000</td>\n",
       "      <td>16.02</td>\n",
       "      <td>1</td>\n",
       "      <td>0.59</td>\n",
       "      <td>Y</td>\n",
       "      <td>3</td>\n",
       "    </tr>\n",
       "    <tr>\n",
       "      <th>1</th>\n",
       "      <td>21</td>\n",
       "      <td>9600</td>\n",
       "      <td>OWN</td>\n",
       "      <td>5.0</td>\n",
       "      <td>EDUCATION</td>\n",
       "      <td>B</td>\n",
       "      <td>1000</td>\n",
       "      <td>11.14</td>\n",
       "      <td>0</td>\n",
       "      <td>0.10</td>\n",
       "      <td>N</td>\n",
       "      <td>2</td>\n",
       "    </tr>\n",
       "    <tr>\n",
       "      <th>2</th>\n",
       "      <td>25</td>\n",
       "      <td>9600</td>\n",
       "      <td>MORTGAGE</td>\n",
       "      <td>1.0</td>\n",
       "      <td>MEDICAL</td>\n",
       "      <td>C</td>\n",
       "      <td>5500</td>\n",
       "      <td>12.87</td>\n",
       "      <td>1</td>\n",
       "      <td>0.57</td>\n",
       "      <td>N</td>\n",
       "      <td>3</td>\n",
       "    </tr>\n",
       "    <tr>\n",
       "      <th>3</th>\n",
       "      <td>23</td>\n",
       "      <td>65500</td>\n",
       "      <td>RENT</td>\n",
       "      <td>4.0</td>\n",
       "      <td>MEDICAL</td>\n",
       "      <td>C</td>\n",
       "      <td>35000</td>\n",
       "      <td>15.23</td>\n",
       "      <td>1</td>\n",
       "      <td>0.53</td>\n",
       "      <td>N</td>\n",
       "      <td>2</td>\n",
       "    </tr>\n",
       "    <tr>\n",
       "      <th>4</th>\n",
       "      <td>24</td>\n",
       "      <td>54400</td>\n",
       "      <td>RENT</td>\n",
       "      <td>8.0</td>\n",
       "      <td>MEDICAL</td>\n",
       "      <td>C</td>\n",
       "      <td>35000</td>\n",
       "      <td>14.27</td>\n",
       "      <td>1</td>\n",
       "      <td>0.55</td>\n",
       "      <td>Y</td>\n",
       "      <td>4</td>\n",
       "    </tr>\n",
       "  </tbody>\n",
       "</table>\n",
       "</div>"
      ],
      "text/plain": [
       "   person_age  person_income person_home_ownership  person_emp_length  \\\n",
       "0          22          59000                  RENT              123.0   \n",
       "1          21           9600                   OWN                5.0   \n",
       "2          25           9600              MORTGAGE                1.0   \n",
       "3          23          65500                  RENT                4.0   \n",
       "4          24          54400                  RENT                8.0   \n",
       "\n",
       "  loan_intent loan_grade  loan_amnt  loan_int_rate  loan_status  \\\n",
       "0    PERSONAL          D      35000          16.02            1   \n",
       "1   EDUCATION          B       1000          11.14            0   \n",
       "2     MEDICAL          C       5500          12.87            1   \n",
       "3     MEDICAL          C      35000          15.23            1   \n",
       "4     MEDICAL          C      35000          14.27            1   \n",
       "\n",
       "   loan_percent_income cb_person_default_on_file  cb_person_cred_hist_length  \n",
       "0                 0.59                         Y                           3  \n",
       "1                 0.10                         N                           2  \n",
       "2                 0.57                         N                           3  \n",
       "3                 0.53                         N                           2  \n",
       "4                 0.55                         Y                           4  "
      ]
     },
     "execution_count": 32,
     "metadata": {},
     "output_type": "execute_result"
    }
   ],
   "source": [
    "# 3. Виводимо перших 5 рядків\n",
    "df.head()"
   ]
  },
  {
   "cell_type": "code",
   "execution_count": 33,
   "metadata": {
    "execution": {
     "iopub.execute_input": "2025-09-19T07:20:30.580107Z",
     "iopub.status.busy": "2025-09-19T07:20:30.579821Z",
     "iopub.status.idle": "2025-09-19T07:20:30.592511Z",
     "shell.execute_reply": "2025-09-19T07:20:30.591723Z",
     "shell.execute_reply.started": "2025-09-19T07:20:30.580090Z"
    }
   },
   "outputs": [
    {
     "name": "stdout",
     "output_type": "stream",
     "text": [
      "<class 'pandas.core.frame.DataFrame'>\n",
      "RangeIndex: 32581 entries, 0 to 32580\n",
      "Data columns (total 12 columns):\n",
      " #   Column                      Non-Null Count  Dtype  \n",
      "---  ------                      --------------  -----  \n",
      " 0   person_age                  32581 non-null  int64  \n",
      " 1   person_income               32581 non-null  int64  \n",
      " 2   person_home_ownership       32581 non-null  object \n",
      " 3   person_emp_length           31686 non-null  float64\n",
      " 4   loan_intent                 32581 non-null  object \n",
      " 5   loan_grade                  32581 non-null  object \n",
      " 6   loan_amnt                   32581 non-null  int64  \n",
      " 7   loan_int_rate               29465 non-null  float64\n",
      " 8   loan_status                 32581 non-null  int64  \n",
      " 9   loan_percent_income         32581 non-null  float64\n",
      " 10  cb_person_default_on_file   32581 non-null  object \n",
      " 11  cb_person_cred_hist_length  32581 non-null  int64  \n",
      "dtypes: float64(3), int64(5), object(4)\n",
      "memory usage: 3.0+ MB\n"
     ]
    }
   ],
   "source": [
    "# 4. Виводимо типи даних\n",
    "df.info()"
   ]
  },
  {
   "cell_type": "code",
   "execution_count": 34,
   "metadata": {
    "execution": {
     "iopub.execute_input": "2025-09-19T07:20:33.242346Z",
     "iopub.status.busy": "2025-09-19T07:20:33.242061Z",
     "iopub.status.idle": "2025-09-19T07:20:33.252758Z",
     "shell.execute_reply": "2025-09-19T07:20:33.252107Z",
     "shell.execute_reply.started": "2025-09-19T07:20:33.242329Z"
    }
   },
   "outputs": [
    {
     "data": {
      "text/plain": [
       "person_emp_length     895\n",
       "loan_int_rate        3116\n",
       "dtype: int64"
      ]
     },
     "execution_count": 34,
     "metadata": {},
     "output_type": "execute_result"
    }
   ],
   "source": [
    "# Перевірка пропущених значень\n",
    "missing = df.isnull().sum()\n",
    "missing[missing > 0]"
   ]
  },
  {
   "cell_type": "code",
   "execution_count": 36,
   "metadata": {
    "execution": {
     "iopub.execute_input": "2025-09-19T07:20:55.860484Z",
     "iopub.status.busy": "2025-09-19T07:20:55.860032Z",
     "iopub.status.idle": "2025-09-19T07:20:55.867924Z",
     "shell.execute_reply": "2025-09-19T07:20:55.867292Z",
     "shell.execute_reply.started": "2025-09-19T07:20:55.860458Z"
    }
   },
   "outputs": [
    {
     "data": {
      "text/plain": [
       "loan_status\n",
       "0    78.183604\n",
       "1    21.816396\n",
       "Name: proportion, dtype: float64"
      ]
     },
     "execution_count": 36,
     "metadata": {},
     "output_type": "execute_result"
    }
   ],
   "source": [
    "# 5.Перевіряємо розподіл цільової змінної (відсотк даних для кожного класу)\n",
    "# Розподіл відтоку\n",
    "churn_dist = df['loan_status'].value_counts()\n",
    "churn_percent = df['loan_status'].value_counts(normalize=True) * 100\n",
    "\n",
    "churn_percent"
   ]
  },
  {
   "cell_type": "markdown",
   "metadata": {},
   "source": [
    "**Висновок:** Клас 0  (кредит сплачено) - 78%. Клас 1 (не сплачено кредит) - 22%. Маємо справу з незбалансованим датасетом (78% і 22%), один клас переважає інший майже у 4 рази. "
   ]
  },
  {
   "cell_type": "markdown",
   "metadata": {
    "id": "QrOHadsKft5y"
   },
   "source": [
    "\n",
    "---\n",
    "\n",
    "## Завдання 2: Дослідницький аналіз даних (EDA) (4 бали)\n",
    "\n",
    "**Що потрібно зробити:**\n",
    "1. Обчисліть відсоток пропущених значень в колонках. За наявності пропущених значень - заповніть їх медіаною для числових колонок і найбільш частим значеннмя для категоріальних.\n",
    "2. Проаналізуйте розподіл числових змінних.\n",
    "3. Знайдіть та обробіть викиди в колонці person_income з допомогою [Interquartile range](https://uk.wikipedia.org/wiki/%D0%9C%D1%96%D0%B6%D0%BA%D0%B2%D0%B0%D1%80%D1%82%D0%B8%D0%BB%D1%8C%D0%BD%D0%B8%D0%B9_%D1%80%D0%BE%D0%B7%D0%BC%D0%B0%D1%85).\n",
    "4. Проаналізуйте категоріальні змінні відносно цільової та частоту зустрічання різних значень в них.\n",
    "5. Візуалізуйте взаємозв'язок ознак з цільовою змінною.\n"
   ]
  },
  {
   "cell_type": "code",
   "execution_count": 37,
   "metadata": {
    "execution": {
     "iopub.execute_input": "2025-09-19T07:20:59.105428Z",
     "iopub.status.busy": "2025-09-19T07:20:59.105154Z",
     "iopub.status.idle": "2025-09-19T07:20:59.116970Z",
     "shell.execute_reply": "2025-09-19T07:20:59.116106Z",
     "shell.execute_reply.started": "2025-09-19T07:20:59.105410Z"
    }
   },
   "outputs": [
    {
     "name": "stdout",
     "output_type": "stream",
     "text": [
      "Пропуски у датасеті:\n",
      "                            Кількість  Відсоток\n",
      "loan_int_rate                    3116  9.563856\n",
      "person_emp_length                 895  2.747000\n",
      "person_income                       0  0.000000\n",
      "person_age                          0  0.000000\n",
      "person_home_ownership               0  0.000000\n",
      "loan_intent                         0  0.000000\n",
      "loan_grade                          0  0.000000\n",
      "loan_amnt                           0  0.000000\n",
      "loan_status                         0  0.000000\n",
      "loan_percent_income                 0  0.000000\n",
      "cb_person_default_on_file           0  0.000000\n",
      "cb_person_cred_hist_length          0  0.000000\n"
     ]
    }
   ],
   "source": [
    "# Перевірка пропусків у всіх колонках\n",
    "missing = df.isnull().sum()\n",
    "missing_percent = (missing / len(df)) * 100\n",
    "\n",
    "print(\"Пропуски у датасеті:\")\n",
    "print(pd.DataFrame({\"Кількість\": missing, \"Відсоток\": missing_percent}).sort_values(by=\"Відсоток\", ascending=False))"
   ]
  },
  {
   "cell_type": "code",
   "execution_count": 38,
   "metadata": {
    "execution": {
     "iopub.execute_input": "2025-09-19T07:21:58.765203Z",
     "iopub.status.busy": "2025-09-19T07:21:58.764661Z",
     "iopub.status.idle": "2025-09-19T07:21:58.777785Z",
     "shell.execute_reply": "2025-09-19T07:21:58.777010Z",
     "shell.execute_reply.started": "2025-09-19T07:21:58.765175Z"
    },
    "scrolled": true
   },
   "outputs": [
    {
     "name": "stdout",
     "output_type": "stream",
     "text": [
      "Пропуски після заповнення:\n",
      "person_age                    0\n",
      "person_income                 0\n",
      "person_home_ownership         0\n",
      "person_emp_length             0\n",
      "loan_intent                   0\n",
      "loan_grade                    0\n",
      "loan_amnt                     0\n",
      "loan_int_rate                 0\n",
      "loan_status                   0\n",
      "loan_percent_income           0\n",
      "cb_person_default_on_file     0\n",
      "cb_person_cred_hist_length    0\n",
      "dtype: int64\n"
     ]
    }
   ],
   "source": [
    "# Заповнюємо пропуски медіаною\n",
    "df['loan_int_rate'] = df['loan_int_rate'].fillna(df['loan_int_rate'].median())\n",
    "df['person_emp_length'] = df['person_emp_length'].fillna(df['person_emp_length'].median())\n",
    "\n",
    "print(\"Пропуски після заповнення:\")\n",
    "print(df.isnull().sum())\n"
   ]
  },
  {
   "cell_type": "code",
   "execution_count": 39,
   "metadata": {
    "execution": {
     "iopub.execute_input": "2025-09-19T07:25:00.409712Z",
     "iopub.status.busy": "2025-09-19T07:25:00.409281Z",
     "iopub.status.idle": "2025-09-19T07:25:00.467712Z",
     "shell.execute_reply": "2025-09-19T07:25:00.465748Z",
     "shell.execute_reply.started": "2025-09-19T07:25:00.409683Z"
    },
    "scrolled": true
   },
   "outputs": [
    {
     "data": {
      "text/html": [
       "<div>\n",
       "<style scoped>\n",
       "    .dataframe tbody tr th:only-of-type {\n",
       "        vertical-align: middle;\n",
       "    }\n",
       "\n",
       "    .dataframe tbody tr th {\n",
       "        vertical-align: top;\n",
       "    }\n",
       "\n",
       "    .dataframe thead th {\n",
       "        text-align: right;\n",
       "    }\n",
       "</style>\n",
       "<table border=\"1\" class=\"dataframe\">\n",
       "  <thead>\n",
       "    <tr style=\"text-align: right;\">\n",
       "      <th></th>\n",
       "      <th>person_age</th>\n",
       "      <th>person_income</th>\n",
       "      <th>person_emp_length</th>\n",
       "      <th>loan_amnt</th>\n",
       "      <th>loan_int_rate</th>\n",
       "      <th>loan_status</th>\n",
       "      <th>loan_percent_income</th>\n",
       "      <th>cb_person_cred_hist_length</th>\n",
       "    </tr>\n",
       "  </thead>\n",
       "  <tbody>\n",
       "    <tr>\n",
       "      <th>count</th>\n",
       "      <td>32581.000000</td>\n",
       "      <td>3.258100e+04</td>\n",
       "      <td>32581.000000</td>\n",
       "      <td>32581.000000</td>\n",
       "      <td>32581.000000</td>\n",
       "      <td>32581.000000</td>\n",
       "      <td>32581.000000</td>\n",
       "      <td>32581.000000</td>\n",
       "    </tr>\n",
       "    <tr>\n",
       "      <th>mean</th>\n",
       "      <td>27.734600</td>\n",
       "      <td>6.607485e+04</td>\n",
       "      <td>4.767994</td>\n",
       "      <td>9589.371106</td>\n",
       "      <td>11.009620</td>\n",
       "      <td>0.218164</td>\n",
       "      <td>0.170203</td>\n",
       "      <td>5.804211</td>\n",
       "    </tr>\n",
       "    <tr>\n",
       "      <th>std</th>\n",
       "      <td>6.348078</td>\n",
       "      <td>6.198312e+04</td>\n",
       "      <td>4.087372</td>\n",
       "      <td>6322.086646</td>\n",
       "      <td>3.081611</td>\n",
       "      <td>0.413006</td>\n",
       "      <td>0.106782</td>\n",
       "      <td>4.055001</td>\n",
       "    </tr>\n",
       "    <tr>\n",
       "      <th>min</th>\n",
       "      <td>20.000000</td>\n",
       "      <td>4.000000e+03</td>\n",
       "      <td>0.000000</td>\n",
       "      <td>500.000000</td>\n",
       "      <td>5.420000</td>\n",
       "      <td>0.000000</td>\n",
       "      <td>0.000000</td>\n",
       "      <td>2.000000</td>\n",
       "    </tr>\n",
       "    <tr>\n",
       "      <th>25%</th>\n",
       "      <td>23.000000</td>\n",
       "      <td>3.850000e+04</td>\n",
       "      <td>2.000000</td>\n",
       "      <td>5000.000000</td>\n",
       "      <td>8.490000</td>\n",
       "      <td>0.000000</td>\n",
       "      <td>0.090000</td>\n",
       "      <td>3.000000</td>\n",
       "    </tr>\n",
       "    <tr>\n",
       "      <th>50%</th>\n",
       "      <td>26.000000</td>\n",
       "      <td>5.500000e+04</td>\n",
       "      <td>4.000000</td>\n",
       "      <td>8000.000000</td>\n",
       "      <td>10.990000</td>\n",
       "      <td>0.000000</td>\n",
       "      <td>0.150000</td>\n",
       "      <td>4.000000</td>\n",
       "    </tr>\n",
       "    <tr>\n",
       "      <th>75%</th>\n",
       "      <td>30.000000</td>\n",
       "      <td>7.920000e+04</td>\n",
       "      <td>7.000000</td>\n",
       "      <td>12200.000000</td>\n",
       "      <td>13.110000</td>\n",
       "      <td>0.000000</td>\n",
       "      <td>0.230000</td>\n",
       "      <td>8.000000</td>\n",
       "    </tr>\n",
       "    <tr>\n",
       "      <th>max</th>\n",
       "      <td>144.000000</td>\n",
       "      <td>6.000000e+06</td>\n",
       "      <td>123.000000</td>\n",
       "      <td>35000.000000</td>\n",
       "      <td>23.220000</td>\n",
       "      <td>1.000000</td>\n",
       "      <td>0.830000</td>\n",
       "      <td>30.000000</td>\n",
       "    </tr>\n",
       "  </tbody>\n",
       "</table>\n",
       "</div>"
      ],
      "text/plain": [
       "         person_age  person_income  person_emp_length     loan_amnt  \\\n",
       "count  32581.000000   3.258100e+04       32581.000000  32581.000000   \n",
       "mean      27.734600   6.607485e+04           4.767994   9589.371106   \n",
       "std        6.348078   6.198312e+04           4.087372   6322.086646   \n",
       "min       20.000000   4.000000e+03           0.000000    500.000000   \n",
       "25%       23.000000   3.850000e+04           2.000000   5000.000000   \n",
       "50%       26.000000   5.500000e+04           4.000000   8000.000000   \n",
       "75%       30.000000   7.920000e+04           7.000000  12200.000000   \n",
       "max      144.000000   6.000000e+06         123.000000  35000.000000   \n",
       "\n",
       "       loan_int_rate   loan_status  loan_percent_income  \\\n",
       "count   32581.000000  32581.000000         32581.000000   \n",
       "mean       11.009620      0.218164             0.170203   \n",
       "std         3.081611      0.413006             0.106782   \n",
       "min         5.420000      0.000000             0.000000   \n",
       "25%         8.490000      0.000000             0.090000   \n",
       "50%        10.990000      0.000000             0.150000   \n",
       "75%        13.110000      0.000000             0.230000   \n",
       "max        23.220000      1.000000             0.830000   \n",
       "\n",
       "       cb_person_cred_hist_length  \n",
       "count                32581.000000  \n",
       "mean                     5.804211  \n",
       "std                      4.055001  \n",
       "min                      2.000000  \n",
       "25%                      3.000000  \n",
       "50%                      4.000000  \n",
       "75%                      8.000000  \n",
       "max                     30.000000  "
      ]
     },
     "execution_count": 39,
     "metadata": {},
     "output_type": "execute_result"
    }
   ],
   "source": [
    "# Статистика по числовим змінним\n",
    "df.select_dtypes(\"number\").describe()"
   ]
  },
  {
   "cell_type": "code",
   "execution_count": 47,
   "metadata": {
    "execution": {
     "iopub.execute_input": "2025-09-19T08:06:43.077507Z",
     "iopub.status.busy": "2025-09-19T08:06:43.077181Z",
     "iopub.status.idle": "2025-09-19T08:06:43.085961Z",
     "shell.execute_reply": "2025-09-19T08:06:43.085202Z",
     "shell.execute_reply.started": "2025-09-19T08:06:43.077490Z"
    }
   },
   "outputs": [
    {
     "name": "stdout",
     "output_type": "stream",
     "text": [
      "Q1: 38500.0, Q3: 79200.0, IQR: 40700.0\n",
      "Нижня межа: -22550.0, Верхня межа: 140250.0\n",
      "Знайдено викидів: 0\n"
     ]
    }
   ],
   "source": [
    "# Знаходження і обробка викидів в колонці person_income з допомогою Interquartile range.\n",
    "# 1. Розрахунок квартилів і IQR\n",
    "Q1 = df['person_income'].quantile(0.25)\n",
    "Q3 = df['person_income'].quantile(0.75)\n",
    "IQR = Q3 - Q1\n",
    "\n",
    "# Межі\n",
    "lower_bound = Q1 - 1.5 * IQR\n",
    "upper_bound = Q3 + 1.5 * IQR\n",
    "\n",
    "print(f\"Q1: {Q1}, Q3: {Q3}, IQR: {IQR}\")\n",
    "print(f\"Нижня межа: {lower_bound}, Верхня межа: {upper_bound}\")\n",
    "\n",
    "#  Кількість викидів\n",
    "outliers = ((df['person_income'] < lower_bound) | (df['person_income'] > upper_bound)).sum()\n",
    "print(f\"Знайдено викидів: {outliers}\")\n",
    "\n",
    "# Обробка (варіант 1 – обрізаємо до меж)\n",
    "df['person_income'] = np.where(df['person_income'] > upper_bound, upper_bound,\n",
    "                               np.where(df['person_income'] < lower_bound, lower_bound, df['person_income']))"
   ]
  },
  {
   "cell_type": "code",
   "execution_count": 45,
   "metadata": {
    "execution": {
     "iopub.execute_input": "2025-09-19T07:42:46.463962Z",
     "iopub.status.busy": "2025-09-19T07:42:46.463627Z",
     "iopub.status.idle": "2025-09-19T07:42:47.120494Z",
     "shell.execute_reply": "2025-09-19T07:42:47.119703Z",
     "shell.execute_reply.started": "2025-09-19T07:42:46.463943Z"
    }
   },
   "outputs": [
    {
     "name": "stdout",
     "output_type": "stream",
     "text": [
      "\n",
      " Частоти для person_home_ownership:\n",
      "person_home_ownership\n",
      "RENT        50.477272\n",
      "MORTGAGE    41.263313\n",
      "OWN          7.931003\n",
      "OTHER        0.328412\n",
      "Name: proportion, dtype: float64\n",
      "\n",
      " Частоти для loan_intent:\n",
      "loan_intent\n",
      "EDUCATION            19.806022\n",
      "MEDICAL              18.633559\n",
      "VENTURE              17.553175\n",
      "PERSONAL             16.945459\n",
      "DEBTCONSOLIDATION    15.997053\n",
      "HOMEIMPROVEMENT      11.064731\n",
      "Name: proportion, dtype: float64\n",
      "\n",
      " Частоти для loan_grade:\n",
      "loan_grade\n",
      "A    33.077561\n",
      "B    32.076977\n",
      "C    19.821368\n",
      "D    11.129186\n",
      "E     2.958780\n",
      "F     0.739695\n",
      "G     0.196434\n",
      "Name: proportion, dtype: float64\n",
      "\n",
      " Частоти для cb_person_default_on_file:\n",
      "cb_person_default_on_file\n",
      "N    82.367024\n",
      "Y    17.632976\n",
      "Name: proportion, dtype: float64\n"
     ]
    },
    {
     "data": {
      "image/png": "[encoded data removed]",
      "text/plain": [
       "<Figure size 1400x1000 with 4 Axes>"
      ]
     },
     "metadata": {},
     "output_type": "display_data"
    }
   ],
   "source": [
    "# 4. Категоріальні змінні\n",
    "categorical_cols = ['person_home_ownership', 'loan_intent', 'loan_grade', 'cb_person_default_on_file']\n",
    "\n",
    "# Частоти категоріальних змінних\n",
    "for col in categorical_cols:\n",
    "    print(f\"\\n Частоти для {col}:\")\n",
    "    print(df[col].value_counts(normalize=True) * 100)  # % розподілу\n",
    "\n",
    "# 5. Візуалізація розподілу категоріальних змінних відносно цільової\n",
    "fig, axes = plt.subplots(2, 2, figsize=(14, 10))\n",
    "axes = axes.flatten()\n",
    "\n",
    "for i, col in enumerate(categorical_cols):\n",
    "    sns.countplot(data=df, x=col, hue='loan_status', ax=axes[i], palette=\"Set2\")\n",
    "    axes[i].set_title(f\"{col} vs loan_status\")\n",
    "    axes[i].tick_params(axis='x', rotation=30)\n",
    "\n",
    "plt.tight_layout()\n",
    "plt.show()"
   ]
  },
  {
   "cell_type": "markdown",
   "metadata": {
    "execution": {
     "iopub.execute_input": "2025-09-19T07:45:42.489078Z",
     "iopub.status.busy": "2025-09-19T07:45:42.488642Z",
     "iopub.status.idle": "2025-09-19T07:45:42.494015Z",
     "shell.execute_reply": "2025-09-19T07:45:42.493088Z",
     "shell.execute_reply.started": "2025-09-19T07:45:42.489051Z"
    }
   },
   "source": [
    "**Висновки із отриманих візуалізацій:**\n",
    "\n",
    "* Аналіз person_home_ownership vs loan_status: найбільше клієнтів мають тип володіння житлом: RENT або MORTGAGE.\n",
    "Дефолтів (loan_status = 1) відносно більше серед орендарів (RENT), ніж серед власників житла (OWN).\n",
    "Отже, володіння власним житлом знижує ризик дефолту.\n",
    "\n",
    "* Аналіз loan_intent vs loan_status: найбільше кредитів беруть на Education, Venture, Personal.\n",
    "Вища частка дефолтів серед тих, хто бере кредит на Medical та Debt Consolidation.\n",
    "Отже: мета кредиту суттєво впливає на ризик — “лікування” та “покриття боргів” є більш ризиковими.\n",
    "\n",
    "* Аналіз loan_grade vs loan_status: \n",
    "кращі рейтинги (A, B) мають менший відсоток дефолтів.\n",
    "Рейтинги D, E, F мають значно більше клієнтів у дефолті.\n",
    "Отже, кредитний рейтинг - один з найсильніших предикторів ризику.\n",
    "\n",
    "* Аналіз cb_person_default_on_file vs loan_status\n",
    "Якщо в історії вже був дефолт (Y), то ймовірність нового дефолту набагато вища.\n",
    "Клієнти без попередніх дефолтів (N) здебільшого повертають кредити.\n",
    "Отже, попередній кредитний досвід дуже важливий фактор."
   ]
  },
  {
   "cell_type": "markdown",
   "metadata": {
    "id": "4sfnR971ft5z"
   },
   "source": [
    "\n",
    "---\n",
    "\n",
    "## Завдання 3: Аналіз кореляцій та Feature Engineering (3 бали)\n",
    "\n",
    "**Що потрібно зробити:**\n",
    "1. Побудуйте матрицю кореляцій для числових змінних.\n",
    "2. Закодуйте категоріальні змінні.\n",
    "3. Виберіть фінальний набір ознак, можна лишити всі, якщо ви вважаєте, що це - доцільно.\n",
    "\n"
   ]
  },
  {
   "cell_type": "code",
   "execution_count": 52,
   "metadata": {
    "execution": {
     "iopub.execute_input": "2025-09-19T08:29:22.608709Z",
     "iopub.status.busy": "2025-09-19T08:29:22.608395Z",
     "iopub.status.idle": "2025-09-19T08:29:22.871426Z",
     "shell.execute_reply": "2025-09-19T08:29:22.870280Z",
     "shell.execute_reply.started": "2025-09-19T08:29:22.608692Z"
    },
    "id": "Gf2I-_rGnN49"
   },
   "outputs": [
    {
     "data": {
      "image/png": "[encoded data removed]",
      "text/plain": [
       "<Figure size 1000x600 with 2 Axes>"
      ]
     },
     "metadata": {},
     "output_type": "display_data"
    },
    {
     "name": "stdout",
     "output_type": "stream",
     "text": [
      "Фінальний розмірність X: (32581, 17)\n",
      "Приклад даних:\n",
      "   person_age  person_income  person_emp_length  loan_amnt  loan_int_rate  \\\n",
      "0          22        59000.0              123.0      35000          16.02   \n",
      "1          21         9600.0                5.0       1000          11.14   \n",
      "2          25         9600.0                1.0       5500          12.87   \n",
      "3          23        65500.0                4.0      35000          15.23   \n",
      "4          24        54400.0                8.0      35000          14.27   \n",
      "\n",
      "   loan_percent_income  cb_person_cred_hist_length  loan_grade_enc  \\\n",
      "0                 0.59                           3             3.0   \n",
      "1                 0.10                           2             1.0   \n",
      "2                 0.57                           3             2.0   \n",
      "3                 0.53                           2             2.0   \n",
      "4                 0.55                           4             2.0   \n",
      "\n",
      "   cb_person_default_on_file_enc  person_home_ownership_OTHER  \\\n",
      "0                              1                        False   \n",
      "1                              0                        False   \n",
      "2                              0                        False   \n",
      "3                              0                        False   \n",
      "4                              1                        False   \n",
      "\n",
      "   person_home_ownership_OWN  person_home_ownership_RENT  \\\n",
      "0                      False                        True   \n",
      "1                       True                       False   \n",
      "2                      False                       False   \n",
      "3                      False                        True   \n",
      "4                      False                        True   \n",
      "\n",
      "   loan_intent_EDUCATION  loan_intent_HOMEIMPROVEMENT  loan_intent_MEDICAL  \\\n",
      "0                  False                        False                False   \n",
      "1                   True                        False                False   \n",
      "2                  False                        False                 True   \n",
      "3                  False                        False                 True   \n",
      "4                  False                        False                 True   \n",
      "\n",
      "   loan_intent_PERSONAL  loan_intent_VENTURE  \n",
      "0                  True                False  \n",
      "1                 False                False  \n",
      "2                 False                False  \n",
      "3                 False                False  \n",
      "4                 False                False  \n"
     ]
    }
   ],
   "source": [
    "# 3.1. Матриця кореляцій тільки для числових змінних\n",
    "corr = df.corr(numeric_only=True)\n",
    "\n",
    "plt.figure(figsize=(10,6))\n",
    "sns.heatmap(corr, annot=True, cmap=\"coolwarm\", fmt=\".2f\")\n",
    "plt.title(\"Correlation Matrix\")\n",
    "plt.show()\n",
    "\n",
    "# 3.2. Кодування категоріальних змінних\n",
    "df_fe = df.copy()\n",
    "\n",
    "# loan_grade: порядкове кодування\n",
    "grade_order = [[\"A\", \"B\", \"C\", \"D\", \"E\", \"F\", \"G\"]]\n",
    "oe = OrdinalEncoder(categories=grade_order)\n",
    "df_fe[\"loan_grade_enc\"] = oe.fit_transform(df_fe[[\"loan_grade\"]])\n",
    "\n",
    "# cb_person_default_on_file: бінарне кодування\n",
    "df_fe[\"cb_person_default_on_file_enc\"] = df_fe[\"cb_person_default_on_file\"].map({\"Y\":1, \"N\":0})\n",
    "\n",
    "# One-Hot Encoding для person_home_ownership та loan_intent\n",
    "df_fe = pd.get_dummies(df_fe, columns=[\"person_home_ownership\", \"loan_intent\"], drop_first=True)\n",
    "\n",
    "# 3.3. Формуємо фінальний набір ознак\n",
    "final_features = [\n",
    "    \"person_age\",\n",
    "    \"person_income\",\n",
    "    \"person_emp_length\",\n",
    "    \"loan_amnt\",\n",
    "    \"loan_int_rate\",\n",
    "    \"loan_percent_income\",\n",
    "    \"cb_person_cred_hist_length\",\n",
    "    \"loan_grade_enc\",\n",
    "    \"cb_person_default_on_file_enc\"\n",
    "] + [col for col in df_fe.columns if col.startswith(\"person_home_ownership_\") or col.startswith(\"loan_intent_\")]\n",
    "\n",
    "print(\"Фінальний розмірність X:\", X.shape)\n",
    "print(\"Приклад даних:\")\n",
    "print(X.head())"
   ]
  },
  {
   "cell_type": "markdown",
   "metadata": {
    "id": "XC9htj3Oft5z"
   },
   "source": [
    "\n",
    "---\n",
    "\n",
    "## Завдання 4: Підготовка даних та навчання моделі (3 бали)\n",
    "\n",
    "**Що потрібно зробити:**\n",
    "1. Розділіть дані на X та y\n",
    "2. Поділіть на навчальну та тестову вибірки\n",
    "3. Застосуйте масштабування\n",
    "4. Навчіть модель логістичної регресії\n",
    "5. Зробіть прогнози на тренувальній та тестовій вибірках.\n",
    "\n"
   ]
  },
  {
   "cell_type": "code",
   "execution_count": 58,
   "metadata": {
    "execution": {
     "iopub.execute_input": "2025-09-19T08:33:36.906046Z",
     "iopub.status.busy": "2025-09-19T08:33:36.905546Z",
     "iopub.status.idle": "2025-09-19T08:33:37.284792Z",
     "shell.execute_reply": "2025-09-19T08:33:37.284299Z",
     "shell.execute_reply.started": "2025-09-19T08:33:36.906022Z"
    },
    "id": "TRWnvaUZnOYS"
   },
   "outputs": [
    {
     "name": "stdout",
     "output_type": "stream",
     "text": [
      "=== TRAIN ===\n",
      "Accuracy: 0.8527470841006752\n",
      "              precision    recall  f1-score   support\n",
      "\n",
      "           0       0.87      0.95      0.91     20378\n",
      "           1       0.74      0.51      0.60      5686\n",
      "\n",
      "    accuracy                           0.85     26064\n",
      "   macro avg       0.81      0.73      0.75     26064\n",
      "weighted avg       0.84      0.85      0.84     26064\n",
      "\n",
      "=== TEST ===\n",
      "Accuracy: 0.8565290777965322\n",
      "              precision    recall  f1-score   support\n",
      "\n",
      "           0       0.88      0.95      0.91      5095\n",
      "           1       0.75      0.52      0.61      1422\n",
      "\n",
      "    accuracy                           0.86      6517\n",
      "   macro avg       0.81      0.73      0.76      6517\n",
      "weighted avg       0.85      0.86      0.85      6517\n",
      "\n",
      "Confusion matrix (test):\n",
      "[[4848  247]\n",
      " [ 688  734]]\n"
     ]
    }
   ],
   "source": [
    "from sklearn.preprocessing import StandardScaler\n",
    "from sklearn.model_selection import train_test_split\n",
    "from sklearn.linear_model import LogisticRegression  \n",
    "from sklearn.metrics import accuracy_score, classification_report, confusion_matrix  \n",
    "\n",
    "# Ділимо дані на X та y. \n",
    "\n",
    "X = df_fe[final_features]\n",
    "y = df_fe[\"loan_status\"]\n",
    "\n",
    "# 2. Поділ на тренувальну і тестову вибірки\n",
    "X_train, X_test, y_train, y_test = train_test_split(\n",
    "    X, y, test_size=0.2, random_state=42, stratify=y\n",
    ")\n",
    "\n",
    "# 3. Масштабування числових ознак\n",
    "scaler = StandardScaler()\n",
    "X_train_scaled = scaler.fit_transform(X_train)\n",
    "X_test_scaled = scaler.transform(X_test)\n",
    "\n",
    "# 4. Навчання моделі\n",
    "log_reg = LogisticRegression(max_iter=1000, random_state=42)\n",
    "log_reg.fit(X_train_scaled, y_train)\n",
    "\n",
    "# 5. Прогнози\n",
    "y_train_pred = log_reg.predict(X_train_scaled)\n",
    "y_test_pred = log_reg.predict(X_test_scaled)\n",
    "\n",
    "# 6. Оцінка якості\n",
    "print(\"=== TRAIN ===\")\n",
    "print(\"Accuracy:\", accuracy_score(y_train, y_train_pred))\n",
    "print(classification_report(y_train, y_train_pred))\n",
    "\n",
    "print(\"=== TEST ===\")\n",
    "print(\"Accuracy:\", accuracy_score(y_test, y_test_pred))\n",
    "print(classification_report(y_test, y_test_pred))\n",
    "\n",
    "print(\"Confusion matrix (test):\")\n",
    "print(confusion_matrix(y_test, y_test_pred))"
   ]
  },
  {
   "cell_type": "markdown",
   "metadata": {
    "id": "UT9h2VSift5z"
   },
   "source": [
    "\n",
    "---\n",
    "\n",
    "## Завдання 5: Оцінка якості моделі (4 бали)\n",
    "\n",
    "**Що потрібно зробити:**\n",
    "1. Побудуйте confusion matrix.\n",
    "2. Обчисліть основні метрики (accuracy, precision, recall, f1).\n",
    "3. Побудуйте ROC-криву та обчисліть AUC\n",
    "4. Проаналізуйте важливість ознак.\n",
    "5. Зробіть висновки про якість моделі та які ознаки найбільше впливають на прогноз.\n"
   ]
  },
  {
   "cell_type": "code",
   "execution_count": 59,
   "metadata": {
    "execution": {
     "iopub.execute_input": "2025-09-19T08:43:17.389879Z",
     "iopub.status.busy": "2025-09-19T08:43:17.389539Z",
     "iopub.status.idle": "2025-09-19T08:43:17.498992Z",
     "shell.execute_reply": "2025-09-19T08:43:17.498398Z",
     "shell.execute_reply.started": "2025-09-19T08:43:17.389860Z"
    },
    "id": "uypT7JPjnO6j"
   },
   "outputs": [
    {
     "data": {
      "image/png": "[encoded data removed]",
      "text/plain": [
       "<Figure size 640x480 with 2 Axes>"
      ]
     },
     "metadata": {},
     "output_type": "display_data"
    }
   ],
   "source": [
    "import matplotlib.pyplot as plt\n",
    "from sklearn.metrics import confusion_matrix, ConfusionMatrixDisplay\n",
    "\n",
    "# будуємо матрицю помилок для тестових даних\n",
    "cm = confusion_matrix(y_test, y_test_pred)\n",
    "\n",
    "disp = ConfusionMatrixDisplay(confusion_matrix=cm, display_labels=['Без дефолту', 'Дефолт'])\n",
    "disp.plot(cmap='Blues')\n",
    "plt.title('Матриця помилок')\n",
    "plt.show()\n"
   ]
  },
  {
   "cell_type": "code",
   "execution_count": 60,
   "metadata": {
    "execution": {
     "iopub.execute_input": "2025-09-19T08:44:26.860814Z",
     "iopub.status.busy": "2025-09-19T08:44:26.860311Z",
     "iopub.status.idle": "2025-09-19T08:44:26.875643Z",
     "shell.execute_reply": "2025-09-19T08:44:26.874825Z",
     "shell.execute_reply.started": "2025-09-19T08:44:26.860794Z"
    }
   },
   "outputs": [
    {
     "name": "stdout",
     "output_type": "stream",
     "text": [
      "МЕТРИКИ ЯКОСТІ МОДЕЛІ:\n",
      "Accuracy (Точність):    0.857\n",
      "Precision (Влучність):  0.748\n",
      "Recall (Повнота):       0.516\n",
      "F1-score:               0.611\n"
     ]
    }
   ],
   "source": [
    "from sklearn.metrics import accuracy_score, precision_score, recall_score, f1_score\n",
    "\n",
    "# обчислюємо метрики\n",
    "accuracy = accuracy_score(y_test, y_test_pred)\n",
    "precision = precision_score(y_test, y_test_pred)\n",
    "recall = recall_score(y_test, y_test_pred)\n",
    "f1 = f1_score(y_test, y_test_pred)\n",
    "\n",
    "print(\"МЕТРИКИ ЯКОСТІ МОДЕЛІ:\")\n",
    "print(f\"Accuracy (Точність):    {accuracy:.3f}\")\n",
    "print(f\"Precision (Влучність):  {precision:.3f}\")\n",
    "print(f\"Recall (Повнота):       {recall:.3f}\")\n",
    "print(f\"F1-score:               {f1:.3f}\")\n"
   ]
  },
  {
   "cell_type": "code",
   "execution_count": 62,
   "metadata": {
    "execution": {
     "iopub.execute_input": "2025-09-19T08:47:29.968163Z",
     "iopub.status.busy": "2025-09-19T08:47:29.967632Z",
     "iopub.status.idle": "2025-09-19T08:47:30.645672Z",
     "shell.execute_reply": "2025-09-19T08:47:30.644683Z",
     "shell.execute_reply.started": "2025-09-19T08:47:29.968136Z"
    }
   },
   "outputs": [
    {
     "data": {
      "application/vnd.plotly.v1+json": {
       "config": {
        "plotlyServerURL": "https://plot.ly"
       },
       "data": [
        {
         "mode": "lines",
         "name": "ROC (AUC = 0.866)",
         "type": "scatter",
         "x": {
          "bdata": "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",
          "dtype": "f8"
         },
         "y": {
          "bdata": "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",
          "dtype": "f8"
         }
        },
        {
         "line": {
          "dash": "dash"
         },
         "mode": "lines",
         "name": "Випадковий класифікатор",
         "type": "scatter",
         "x": [
          0,
          1
         ],
         "y": [
          0,
          1
         ]
        }
       ],
       "layout": {
        "height": 500,
        "template": {
         "data": {
          "bar": [
           {
            "error_x": {
             "color": "#2a3f5f"
            },
            "error_y": {
             "color": "#2a3f5f"
            },
            "marker": {
             "line": {
              "color": "#E5ECF6",
              "width": 0.5
             },
             "pattern": {
              "fillmode": "overlay",
              "size": 10,
              "solidity": 0.2
             }
            },
            "type": "bar"
           }
          ],
          "barpolar": [
           {
            "marker": {
             "line": {
              "color": "#E5ECF6",
              "width": 0.5
             },
             "pattern": {
              "fillmode": "overlay",
              "size": 10,
              "solidity": 0.2
             }
            },
            "type": "barpolar"
           }
          ],
          "carpet": [
           {
            "aaxis": {
             "endlinecolor": "#2a3f5f",
             "gridcolor": "white",
             "linecolor": "white",
             "minorgridcolor": "white",
             "startlinecolor": "#2a3f5f"
            },
            "baxis": {
             "endlinecolor": "#2a3f5f",
             "gridcolor": "white",
             "linecolor": "white",
             "minorgridcolor": "white",
             "startlinecolor": "#2a3f5f"
            },
            "type": "carpet"
           }
          ],
          "choropleth": [
           {
            "colorbar": {
             "outlinewidth": 0,
             "ticks": ""
            },
            "type": "choropleth"
           }
          ],
          "contour": [
           {
            "colorbar": {
             "outlinewidth": 0,
             "ticks": ""
            },
            "colorscale": [
             [
              0,
              "#0d0887"
             ],
             [
              0.1111111111111111,
              "#46039f"
             ],
             [
              0.2222222222222222,
              "#7201a8"
             ],
             [
              0.3333333333333333,
              "#9c179e"
             ],
             [
              0.4444444444444444,
              "#bd3786"
             ],
             [
              0.5555555555555556,
              "#d8576b"
             ],
             [
              0.6666666666666666,
              "#ed7953"
             ],
             [
              0.7777777777777778,
              "#fb9f3a"
             ],
             [
              0.8888888888888888,
              "#fdca26"
             ],
             [
              1,
              "#f0f921"
             ]
            ],
            "type": "contour"
           }
          ],
          "contourcarpet": [
           {
            "colorbar": {
             "outlinewidth": 0,
             "ticks": ""
            },
            "type": "contourcarpet"
           }
          ],
          "heatmap": [
           {
            "colorbar": {
             "outlinewidth": 0,
             "ticks": ""
            },
            "colorscale": [
             [
              0,
              "#0d0887"
             ],
             [
              0.1111111111111111,
              "#46039f"
             ],
             [
              0.2222222222222222,
              "#7201a8"
             ],
             [
              0.3333333333333333,
              "#9c179e"
             ],
             [
              0.4444444444444444,
              "#bd3786"
             ],
             [
              0.5555555555555556,
              "#d8576b"
             ],
             [
              0.6666666666666666,
              "#ed7953"
             ],
             [
              0.7777777777777778,
              "#fb9f3a"
             ],
             [
              0.8888888888888888,
              "#fdca26"
             ],
             [
              1,
              "#f0f921"
             ]
            ],
            "type": "heatmap"
           }
          ],
          "histogram": [
           {
            "marker": {
             "pattern": {
              "fillmode": "overlay",
              "size": 10,
              "solidity": 0.2
             }
            },
            "type": "histogram"
           }
          ],
          "histogram2d": [
           {
            "colorbar": {
             "outlinewidth": 0,
             "ticks": ""
            },
            "colorscale": [
             [
              0,
              "#0d0887"
             ],
             [
              0.1111111111111111,
              "#46039f"
             ],
             [
              0.2222222222222222,
              "#7201a8"
             ],
             [
              0.3333333333333333,
              "#9c179e"
             ],
             [
              0.4444444444444444,
              "#bd3786"
             ],
             [
              0.5555555555555556,
              "#d8576b"
             ],
             [
              0.6666666666666666,
              "#ed7953"
             ],
             [
              0.7777777777777778,
              "#fb9f3a"
             ],
             [
              0.8888888888888888,
              "#fdca26"
             ],
             [
              1,
              "#f0f921"
             ]
            ],
            "type": "histogram2d"
           }
          ],
          "histogram2dcontour": [
           {
            "colorbar": {
             "outlinewidth": 0,
             "ticks": ""
            },
            "colorscale": [
             [
              0,
              "#0d0887"
             ],
             [
              0.1111111111111111,
              "#46039f"
             ],
             [
              0.2222222222222222,
              "#7201a8"
             ],
             [
              0.3333333333333333,
              "#9c179e"
             ],
             [
              0.4444444444444444,
              "#bd3786"
             ],
             [
              0.5555555555555556,
              "#d8576b"
             ],
             [
              0.6666666666666666,
              "#ed7953"
             ],
             [
              0.7777777777777778,
              "#fb9f3a"
             ],
             [
              0.8888888888888888,
              "#fdca26"
             ],
             [
              1,
              "#f0f921"
             ]
            ],
            "type": "histogram2dcontour"
           }
          ],
          "mesh3d": [
           {
            "colorbar": {
             "outlinewidth": 0,
             "ticks": ""
            },
            "type": "mesh3d"
           }
          ],
          "parcoords": [
           {
            "line": {
             "colorbar": {
              "outlinewidth": 0,
              "ticks": ""
             }
            },
            "type": "parcoords"
           }
          ],
          "pie": [
           {
            "automargin": true,
            "type": "pie"
           }
          ],
          "scatter": [
           {
            "fillpattern": {
             "fillmode": "overlay",
             "size": 10,
             "solidity": 0.2
            },
            "type": "scatter"
           }
          ],
          "scatter3d": [
           {
            "line": {
             "colorbar": {
              "outlinewidth": 0,
              "ticks": ""
             }
            },
            "marker": {
             "colorbar": {
              "outlinewidth": 0,
              "ticks": ""
             }
            },
            "type": "scatter3d"
           }
          ],
          "scattercarpet": [
           {
            "marker": {
             "colorbar": {
              "outlinewidth": 0,
              "ticks": ""
             }
            },
            "type": "scattercarpet"
           }
          ],
          "scattergeo": [
           {
            "marker": {
             "colorbar": {
              "outlinewidth": 0,
              "ticks": ""
             }
            },
            "type": "scattergeo"
           }
          ],
          "scattergl": [
           {
            "marker": {
             "colorbar": {
              "outlinewidth": 0,
              "ticks": ""
             }
            },
            "type": "scattergl"
           }
          ],
          "scattermap": [
           {
            "marker": {
             "colorbar": {
              "outlinewidth": 0,
              "ticks": ""
             }
            },
            "type": "scattermap"
           }
          ],
          "scattermapbox": [
           {
            "marker": {
             "colorbar": {
              "outlinewidth": 0,
              "ticks": ""
             }
            },
            "type": "scattermapbox"
           }
          ],
          "scatterpolar": [
           {
            "marker": {
             "colorbar": {
              "outlinewidth": 0,
              "ticks": ""
             }
            },
            "type": "scatterpolar"
           }
          ],
          "scatterpolargl": [
           {
            "marker": {
             "colorbar": {
              "outlinewidth": 0,
              "ticks": ""
             }
            },
            "type": "scatterpolargl"
           }
          ],
          "scatterternary": [
           {
            "marker": {
             "colorbar": {
              "outlinewidth": 0,
              "ticks": ""
             }
            },
            "type": "scatterternary"
           }
          ],
          "surface": [
           {
            "colorbar": {
             "outlinewidth": 0,
             "ticks": ""
            },
            "colorscale": [
             [
              0,
              "#0d0887"
             ],
             [
              0.1111111111111111,
              "#46039f"
             ],
             [
              0.2222222222222222,
              "#7201a8"
             ],
             [
              0.3333333333333333,
              "#9c179e"
             ],
             [
              0.4444444444444444,
              "#bd3786"
             ],
             [
              0.5555555555555556,
              "#d8576b"
             ],
             [
              0.6666666666666666,
              "#ed7953"
             ],
             [
              0.7777777777777778,
              "#fb9f3a"
             ],
             [
              0.8888888888888888,
              "#fdca26"
             ],
             [
              1,
              "#f0f921"
             ]
            ],
            "type": "surface"
           }
          ],
          "table": [
           {
            "cells": {
             "fill": {
              "color": "#EBF0F8"
             },
             "line": {
              "color": "white"
             }
            },
            "header": {
             "fill": {
              "color": "#C8D4E3"
             },
             "line": {
              "color": "white"
             }
            },
            "type": "table"
           }
          ]
         },
         "layout": {
          "annotationdefaults": {
           "arrowcolor": "#2a3f5f",
           "arrowhead": 0,
           "arrowwidth": 1
          },
          "autotypenumbers": "strict",
          "coloraxis": {
           "colorbar": {
            "outlinewidth": 0,
            "ticks": ""
           }
          },
          "colorscale": {
           "diverging": [
            [
             0,
             "#8e0152"
            ],
            [
             0.1,
             "#c51b7d"
            ],
            [
             0.2,
             "#de77ae"
            ],
            [
             0.3,
             "#f1b6da"
            ],
            [
             0.4,
             "#fde0ef"
            ],
            [
             0.5,
             "#f7f7f7"
            ],
            [
             0.6,
             "#e6f5d0"
            ],
            [
             0.7,
             "#b8e186"
            ],
            [
             0.8,
             "#7fbc41"
            ],
            [
             0.9,
             "#4d9221"
            ],
            [
             1,
             "#276419"
            ]
           ],
           "sequential": [
            [
             0,
             "#0d0887"
            ],
            [
             0.1111111111111111,
             "#46039f"
            ],
            [
             0.2222222222222222,
             "#7201a8"
            ],
            [
             0.3333333333333333,
             "#9c179e"
            ],
            [
             0.4444444444444444,
             "#bd3786"
            ],
            [
             0.5555555555555556,
             "#d8576b"
            ],
            [
             0.6666666666666666,
             "#ed7953"
            ],
            [
             0.7777777777777778,
             "#fb9f3a"
            ],
            [
             0.8888888888888888,
             "#fdca26"
            ],
            [
             1,
             "#f0f921"
            ]
           ],
           "sequentialminus": [
            [
             0,
             "#0d0887"
            ],
            [
             0.1111111111111111,
             "#46039f"
            ],
            [
             0.2222222222222222,
             "#7201a8"
            ],
            [
             0.3333333333333333,
             "#9c179e"
            ],
            [
             0.4444444444444444,
             "#bd3786"
            ],
            [
             0.5555555555555556,
             "#d8576b"
            ],
            [
             0.6666666666666666,
             "#ed7953"
            ],
            [
             0.7777777777777778,
             "#fb9f3a"
            ],
            [
             0.8888888888888888,
             "#fdca26"
            ],
            [
             1,
             "#f0f921"
            ]
           ]
          },
          "colorway": [
           "#636efa",
           "#EF553B",
           "#00cc96",
           "#ab63fa",
           "#FFA15A",
           "#19d3f3",
           "#FF6692",
           "#B6E880",
           "#FF97FF",
           "#FECB52"
          ],
          "font": {
           "color": "#2a3f5f"
          },
          "geo": {
           "bgcolor": "white",
           "lakecolor": "white",
           "landcolor": "#E5ECF6",
           "showlakes": true,
           "showland": true,
           "subunitcolor": "white"
          },
          "hoverlabel": {
           "align": "left"
          },
          "hovermode": "closest",
          "mapbox": {
           "style": "light"
          },
          "paper_bgcolor": "white",
          "plot_bgcolor": "#E5ECF6",
          "polar": {
           "angularaxis": {
            "gridcolor": "white",
            "linecolor": "white",
            "ticks": ""
           },
           "bgcolor": "#E5ECF6",
           "radialaxis": {
            "gridcolor": "white",
            "linecolor": "white",
            "ticks": ""
           }
          },
          "scene": {
           "xaxis": {
            "backgroundcolor": "#E5ECF6",
            "gridcolor": "white",
            "gridwidth": 2,
            "linecolor": "white",
            "showbackground": true,
            "ticks": "",
            "zerolinecolor": "white"
           },
           "yaxis": {
            "backgroundcolor": "#E5ECF6",
            "gridcolor": "white",
            "gridwidth": 2,
            "linecolor": "white",
            "showbackground": true,
            "ticks": "",
            "zerolinecolor": "white"
           },
           "zaxis": {
            "backgroundcolor": "#E5ECF6",
            "gridcolor": "white",
            "gridwidth": 2,
            "linecolor": "white",
            "showbackground": true,
            "ticks": "",
            "zerolinecolor": "white"
           }
          },
          "shapedefaults": {
           "line": {
            "color": "#2a3f5f"
           }
          },
          "ternary": {
           "aaxis": {
            "gridcolor": "white",
            "linecolor": "white",
            "ticks": ""
           },
           "baxis": {
            "gridcolor": "white",
            "linecolor": "white",
            "ticks": ""
           },
           "bgcolor": "#E5ECF6",
           "caxis": {
            "gridcolor": "white",
            "linecolor": "white",
            "ticks": ""
           }
          },
          "title": {
           "x": 0.05
          },
          "xaxis": {
           "automargin": true,
           "gridcolor": "white",
           "linecolor": "white",
           "ticks": "",
           "title": {
            "standoff": 15
           },
           "zerolinecolor": "white",
           "zerolinewidth": 2
          },
          "yaxis": {
           "automargin": true,
           "gridcolor": "white",
           "linecolor": "white",
           "ticks": "",
           "title": {
            "standoff": 15
           },
           "zerolinecolor": "white",
           "zerolinewidth": 2
          }
         }
        },
        "title": {
         "text": "ROC-крива (Test)"
        },
        "xaxis": {
         "title": {
          "text": "False Positive Rate"
         }
        },
        "yaxis": {
         "title": {
          "text": "True Positive Rate (Recall)"
         }
        }
       }
      },
      "image/png": "[encoded data removed]"
     },
     "metadata": {},
     "output_type": "display_data"
    },
    {
     "name": "stdout",
     "output_type": "stream",
     "text": [
      "AUC = 0.866\n"
     ]
    }
   ],
   "source": [
    "import plotly.graph_objects as go\n",
    "from sklearn.metrics import roc_curve, roc_auc_score\n",
    "\n",
    "# отримуємо ймовірності дефолту для тестової вибірки\n",
    "y_test_proba = log_reg.predict_proba(X_test_scaled)[:, 1]\n",
    "\n",
    "# обчислюємо ROC-криву\n",
    "fpr, tpr, thresholds = roc_curve(y_test, y_test_proba)\n",
    "auc = roc_auc_score(y_test, y_test_proba)\n",
    "\n",
    "# візуалізація ROC-кривої\n",
    "fig = go.Figure()\n",
    "fig.add_trace(go.Scatter(x=fpr, y=tpr, mode='lines', \n",
    "                         name=f'ROC (AUC = {auc:.3f})'))\n",
    "fig.add_trace(go.Scatter(x=[0, 1], y=[0, 1], mode='lines', \n",
    "                         line=dict(dash='dash'), name='Випадковий класифікатор'))\n",
    "\n",
    "fig.update_layout(\n",
    "    title='ROC-крива (Test)',\n",
    "    xaxis_title='False Positive Rate',\n",
    "    yaxis_title='True Positive Rate (Recall)',\n",
    "    height=500\n",
    ")\n",
    "fig.show()\n",
    "\n",
    "print(f\"AUC = {auc:.3f}\")\n"
   ]
  },
  {
   "cell_type": "markdown",
   "metadata": {},
   "source": [
    "AUC = 0.866. У нас хороша модель."
   ]
  },
  {
   "cell_type": "code",
   "execution_count": 65,
   "metadata": {
    "execution": {
     "iopub.execute_input": "2025-09-19T08:57:46.187671Z",
     "iopub.status.busy": "2025-09-19T08:57:46.187351Z",
     "iopub.status.idle": "2025-09-19T08:57:46.194843Z",
     "shell.execute_reply": "2025-09-19T08:57:46.194126Z",
     "shell.execute_reply.started": "2025-09-19T08:57:46.187652Z"
    }
   },
   "outputs": [
    {
     "name": "stdout",
     "output_type": "stream",
     "text": [
      "Топ-10 ознак за абсолютним значенням коефіцієнтів:\n",
      "                       feature  coefficient  abs_coefficient\n",
      "5          loan_percent_income     1.224211         1.224211\n",
      "7               loan_grade_enc     1.120265         1.120265\n",
      "3                    loan_amnt    -0.450086         0.450086\n",
      "10   person_home_ownership_OWN    -0.423678         0.423678\n",
      "16         loan_intent_VENTURE    -0.392512         0.392512\n",
      "11  person_home_ownership_RENT     0.382780         0.382780\n",
      "12       loan_intent_EDUCATION    -0.315561         0.315561\n",
      "15        loan_intent_PERSONAL    -0.202113         0.202113\n",
      "1                person_income    -0.149183         0.149183\n",
      "4                loan_int_rate    -0.070719         0.070719\n"
     ]
    }
   ],
   "source": [
    "# Отримуємо коефіцієнти моделі\n",
    "feature_importance = pd.DataFrame({\n",
    "    'feature': X.columns,\n",
    "    'coefficient': log_reg.coef_[0],\n",
    "    'abs_coefficient': np.abs(log_reg.coef_[0])\n",
    "}).sort_values('abs_coefficient', ascending=False)\n",
    "\n",
    "# Виводимо топ-10 найбільш важливих ознак\n",
    "print(\"Топ-10 ознак за абсолютним значенням коефіцієнтів:\")\n",
    "print(feature_importance.head(10))"
   ]
  },
  {
   "cell_type": "markdown",
   "metadata": {
    "execution": {
     "iopub.execute_input": "2025-09-19T08:59:17.124037Z",
     "iopub.status.busy": "2025-09-19T08:59:17.123238Z",
     "iopub.status.idle": "2025-09-19T08:59:17.130341Z",
     "shell.execute_reply": "2025-09-19T08:59:17.129426Z",
     "shell.execute_reply.started": "2025-09-19T08:59:17.124003Z"
    }
   },
   "source": [
    "**Висновок:**\n",
    "\n",
    "Accuracy (Точність) = 0.857. Це досить високий показник, але accuracy сам по собі не завжди відображає якість для незбалансованих класів.\n",
    "Precision (Влучність) = 0.748. Тобто, з усіх передбачених позитивних випадків ~75% були правильними.\n",
    "Recall (Повнота) = 0.516. Модель знаходить лише ~52% всіх реальних позитивних випадків. Це низький показник, що означає велику кількість пропущених позитивних випадків. F1-score = 0.611\n",
    "Гармонічне середнє між Precision і Recall. F1 вказує на середню якість моделі при балансі між помилками першого та другого роду.\n",
    "AUC = 0.866. Показує, що модель добре відрізняє позитивні та негативні випадки. Це дуже гарний результат для задачі класифікації.\n",
    "\n",
    "Загалом модель має хорошу здатність відрізняти класи (AUC високий), але для практичного застосування є проблема з пропущеними позитивними випадками (низький Recall). Тобто модель може бути небезпечна, якщо важливо не пропускати позичальників з ризиком.\n",
    "\n",
    "По ознаках:\n",
    "\n",
    "loan_percent_income та loan_grade_enc – мають найбільший вплив на рішення моделі.\n",
    "Вища частка позики від доходу - підвищує ризик (позитивний коефіцієнт).\n",
    "Клас кредиту також сильно впливає.\n",
    "loan_amnt – негативний вплив, тобто більші кредити можуть асоціюватися з меншим ризиком/іншим класом (залежить від кодування).\n",
    "Власність на житло (OWN та RENT) – помітний вплив, може відображати фінансову стабільність.\n",
    "loan_intent (VENTURE, EDUCATION, PERSONAL) – показує, для яких цілей позичальник бере кредит, і це важливо для прогнозу.\n",
    "person_income та loan_int_rate – відносно невеликий вплив у цій моделі."
   ]
  },
  {
   "cell_type": "markdown",
   "metadata": {
    "id": "zPUsht4Nft50"
   },
   "source": [
    "\n",
    "---\n",
    "\n",
    "## Завдання 6: Оптимізація порогу та бізнес-аналіз (2 бали)\n",
    "\n",
    "**Що потрібно зробити:**\n",
    "1. Проаналізуйте метрики precision, recall, F1 при різних порогах класифікації (мінімум - 5 різних порогів). Візуалізуйте як змінюються метрики якості при зміні порогу.\n",
    "2. Оберіть оптимальний поріг для бізнес-задачі - можна обрати виходячи з попереднього пункту, або додати своїх роздумів і обрати інший.\n",
    "\n"
   ]
  },
  {
   "cell_type": "code",
   "execution_count": 73,
   "metadata": {
    "execution": {
     "iopub.execute_input": "2025-09-20T14:35:15.972601Z",
     "iopub.status.busy": "2025-09-20T14:35:15.972152Z",
     "iopub.status.idle": "2025-09-20T14:35:16.188724Z",
     "shell.execute_reply": "2025-09-20T14:35:16.188187Z",
     "shell.execute_reply.started": "2025-09-20T14:35:15.972574Z"
    },
    "scrolled": true
   },
   "outputs": [
    {
     "data": {
      "application/vnd.plotly.v1+json": {
       "config": {
        "plotlyServerURL": "https://plot.ly"
       },
       "data": [
        {
         "hovertemplate": "variable=precision<br>Поріг=%{x}<br>Значення метрики=%{y}<extra></extra>",
         "legendgroup": "precision",
         "line": {
          "color": "#636efa",
          "dash": "solid"
         },
         "marker": {
          "symbol": "circle"
         },
         "mode": "lines",
         "name": "precision",
         "orientation": "v",
         "showlegend": true,
         "type": "scatter",
         "x": {
          "bdata": "mpmZmZmZuT80MzMzMzPDP5uZmZmZmck/AQAAAAAA0D80MzMzMzPTP2hmZmZmZtY/nJmZmZmZ2T/OzMzMzMzcPwEAAAAAAOA/m5mZmZmZ4T81MzMzMzPjP87MzMzMzOQ/aGZmZmZm5j8CAAAAAADoP5uZmZmZmek/NTMzMzMz6z8=",
          "dtype": "f8"
         },
         "xaxis": "x",
         "y": {
          "bdata": "0UnvgITb2z/HwtatxEziP9Ag+So0UeU/KX0UWGv05z+g//znP//pP/CVhyByres/jaOODX7K7D/lOUC7o5HtP3uc9uZnau4/GrN4XBfY7j9sWWRpf07vPxX5rBtMke8/i2Xjm6G17z9gLvMNrcPvP38xKiiL3+8/AAAAAAAA8D8=",
          "dtype": "f8"
         },
         "yaxis": "y"
        },
        {
         "hovertemplate": "variable=recall<br>Поріг=%{x}<br>Значення метрики=%{y}<extra></extra>",
         "legendgroup": "recall",
         "line": {
          "color": "#EF553B",
          "dash": "solid"
         },
         "marker": {
          "symbol": "circle"
         },
         "mode": "lines",
         "name": "recall",
         "orientation": "v",
         "showlegend": true,
         "type": "scatter",
         "x": {
          "bdata": "mpmZmZmZuT80MzMzMzPDP5uZmZmZmck/AQAAAAAA0D80MzMzMzPTP2hmZmZmZtY/nJmZmZmZ2T/OzMzMzMzcPwEAAAAAAOA/m5mZmZmZ4T81MzMzMzPjP87MzMzMzOQ/aGZmZmZm5j8CAAAAAADoP5uZmZmZmek/NTMzMzMz6z8=",
          "dtype": "f8"
         },
         "xaxis": "x",
         "y": {
          "bdata": "NBzB23WC7T9tpA5uv7HrP8vaXSojb+o/ts0WOqzR6T8o7Sj/6vLoP5wwv6vFTeg/u06wN3D15z8wtsrL5onnP+vp1xUiVOc/+EKKgI3R5j86o/B/flrmPzdb6LBG5+U/Ik6hwM9J5T8K+VEBITnkP0XJp2Ki2+I/obfuT84l4T8=",
          "dtype": "f8"
         },
         "yaxis": "y"
        },
        {
         "hovertemplate": "variable=f1<br>Поріг=%{x}<br>Значення метрики=%{y}<extra></extra>",
         "legendgroup": "f1",
         "line": {
          "color": "#00cc96",
          "dash": "solid"
         },
         "marker": {
          "symbol": "circle"
         },
         "mode": "lines",
         "name": "f1",
         "orientation": "v",
         "showlegend": true,
         "type": "scatter",
         "x": {
          "bdata": "mpmZmZmZuT80MzMzMzPDP5uZmZmZmck/AQAAAAAA0D80MzMzMzPTP2hmZmZmZtY/nJmZmZmZ2T/OzMzMzMzcPwEAAAAAAOA/m5mZmZmZ4T81MzMzMzPjP87MzMzMzOQ/aGZmZmZm5j8CAAAAAADoP5uZmZmZmek/NTMzMzMz6z8=",
          "dtype": "f8"
         },
         "xaxis": "x",
         "y": {
          "bdata": "fa909sHs4j883LxdpQnmP01nTFv8mec/7QDDuRva6D9OOkrNUnbpP+gui+WU4ek/Xklo0k0n6j89u+J5IDbqPyW8nlemZ+o/uYBKODA76j+r1wdiSRXqPwnheM623Ok/bgCi8G156T9jQEbWcrboP1jnrJkusuc/RmVURmVU5j8=",
          "dtype": "f8"
         },
         "yaxis": "y"
        }
       ],
       "layout": {
        "legend": {
         "title": {
          "text": "variable"
         },
         "tracegroupgap": 0
        },
        "template": {
         "data": {
          "bar": [
           {
            "error_x": {
             "color": "#2a3f5f"
            },
            "error_y": {
             "color": "#2a3f5f"
            },
            "marker": {
             "line": {
              "color": "#E5ECF6",
              "width": 0.5
             },
             "pattern": {
              "fillmode": "overlay",
              "size": 10,
              "solidity": 0.2
             }
            },
            "type": "bar"
           }
          ],
          "barpolar": [
           {
            "marker": {
             "line": {
              "color": "#E5ECF6",
              "width": 0.5
             },
             "pattern": {
              "fillmode": "overlay",
              "size": 10,
              "solidity": 0.2
             }
            },
            "type": "barpolar"
           }
          ],
          "carpet": [
           {
            "aaxis": {
             "endlinecolor": "#2a3f5f",
             "gridcolor": "white",
             "linecolor": "white",
             "minorgridcolor": "white",
             "startlinecolor": "#2a3f5f"
            },
            "baxis": {
             "endlinecolor": "#2a3f5f",
             "gridcolor": "white",
             "linecolor": "white",
             "minorgridcolor": "white",
             "startlinecolor": "#2a3f5f"
            },
            "type": "carpet"
           }
          ],
          "choropleth": [
           {
            "colorbar": {
             "outlinewidth": 0,
             "ticks": ""
            },
            "type": "choropleth"
           }
          ],
          "contour": [
           {
            "colorbar": {
             "outlinewidth": 0,
             "ticks": ""
            },
            "colorscale": [
             [
              0,
              "#0d0887"
             ],
             [
              0.1111111111111111,
              "#46039f"
             ],
             [
              0.2222222222222222,
              "#7201a8"
             ],
             [
              0.3333333333333333,
              "#9c179e"
             ],
             [
              0.4444444444444444,
              "#bd3786"
             ],
             [
              0.5555555555555556,
              "#d8576b"
             ],
             [
              0.6666666666666666,
              "#ed7953"
             ],
             [
              0.7777777777777778,
              "#fb9f3a"
             ],
             [
              0.8888888888888888,
              "#fdca26"
             ],
             [
              1,
              "#f0f921"
             ]
            ],
            "type": "contour"
           }
          ],
          "contourcarpet": [
           {
            "colorbar": {
             "outlinewidth": 0,
             "ticks": ""
            },
            "type": "contourcarpet"
           }
          ],
          "heatmap": [
           {
            "colorbar": {
             "outlinewidth": 0,
             "ticks": ""
            },
            "colorscale": [
             [
              0,
              "#0d0887"
             ],
             [
              0.1111111111111111,
              "#46039f"
             ],
             [
              0.2222222222222222,
              "#7201a8"
             ],
             [
              0.3333333333333333,
              "#9c179e"
             ],
             [
              0.4444444444444444,
              "#bd3786"
             ],
             [
              0.5555555555555556,
              "#d8576b"
             ],
             [
              0.6666666666666666,
              "#ed7953"
             ],
             [
              0.7777777777777778,
              "#fb9f3a"
             ],
             [
              0.8888888888888888,
              "#fdca26"
             ],
             [
              1,
              "#f0f921"
             ]
            ],
            "type": "heatmap"
           }
          ],
          "histogram": [
           {
            "marker": {
             "pattern": {
              "fillmode": "overlay",
              "size": 10,
              "solidity": 0.2
             }
            },
            "type": "histogram"
           }
          ],
          "histogram2d": [
           {
            "colorbar": {
             "outlinewidth": 0,
             "ticks": ""
            },
            "colorscale": [
             [
              0,
              "#0d0887"
             ],
             [
              0.1111111111111111,
              "#46039f"
             ],
             [
              0.2222222222222222,
              "#7201a8"
             ],
             [
              0.3333333333333333,
              "#9c179e"
             ],
             [
              0.4444444444444444,
              "#bd3786"
             ],
             [
              0.5555555555555556,
              "#d8576b"
             ],
             [
              0.6666666666666666,
              "#ed7953"
             ],
             [
              0.7777777777777778,
              "#fb9f3a"
             ],
             [
              0.8888888888888888,
              "#fdca26"
             ],
             [
              1,
              "#f0f921"
             ]
            ],
            "type": "histogram2d"
           }
          ],
          "histogram2dcontour": [
           {
            "colorbar": {
             "outlinewidth": 0,
             "ticks": ""
            },
            "colorscale": [
             [
              0,
              "#0d0887"
             ],
             [
              0.1111111111111111,
              "#46039f"
             ],
             [
              0.2222222222222222,
              "#7201a8"
             ],
             [
              0.3333333333333333,
              "#9c179e"
             ],
             [
              0.4444444444444444,
              "#bd3786"
             ],
             [
              0.5555555555555556,
              "#d8576b"
             ],
             [
              0.6666666666666666,
              "#ed7953"
             ],
             [
              0.7777777777777778,
              "#fb9f3a"
             ],
             [
              0.8888888888888888,
              "#fdca26"
             ],
             [
              1,
              "#f0f921"
             ]
            ],
            "type": "histogram2dcontour"
           }
          ],
          "mesh3d": [
           {
            "colorbar": {
             "outlinewidth": 0,
             "ticks": ""
            },
            "type": "mesh3d"
           }
          ],
          "parcoords": [
           {
            "line": {
             "colorbar": {
              "outlinewidth": 0,
              "ticks": ""
             }
            },
            "type": "parcoords"
           }
          ],
          "pie": [
           {
            "automargin": true,
            "type": "pie"
           }
          ],
          "scatter": [
           {
            "fillpattern": {
             "fillmode": "overlay",
             "size": 10,
             "solidity": 0.2
            },
            "type": "scatter"
           }
          ],
          "scatter3d": [
           {
            "line": {
             "colorbar": {
              "outlinewidth": 0,
              "ticks": ""
             }
            },
            "marker": {
             "colorbar": {
              "outlinewidth": 0,
              "ticks": ""
             }
            },
            "type": "scatter3d"
           }
          ],
          "scattercarpet": [
           {
            "marker": {
             "colorbar": {
              "outlinewidth": 0,
              "ticks": ""
             }
            },
            "type": "scattercarpet"
           }
          ],
          "scattergeo": [
           {
            "marker": {
             "colorbar": {
              "outlinewidth": 0,
              "ticks": ""
             }
            },
            "type": "scattergeo"
           }
          ],
          "scattergl": [
           {
            "marker": {
             "colorbar": {
              "outlinewidth": 0,
              "ticks": ""
             }
            },
            "type": "scattergl"
           }
          ],
          "scattermap": [
           {
            "marker": {
             "colorbar": {
              "outlinewidth": 0,
              "ticks": ""
             }
            },
            "type": "scattermap"
           }
          ],
          "scattermapbox": [
           {
            "marker": {
             "colorbar": {
              "outlinewidth": 0,
              "ticks": ""
             }
            },
            "type": "scattermapbox"
           }
          ],
          "scatterpolar": [
           {
            "marker": {
             "colorbar": {
              "outlinewidth": 0,
              "ticks": ""
             }
            },
            "type": "scatterpolar"
           }
          ],
          "scatterpolargl": [
           {
            "marker": {
             "colorbar": {
              "outlinewidth": 0,
              "ticks": ""
             }
            },
            "type": "scatterpolargl"
           }
          ],
          "scatterternary": [
           {
            "marker": {
             "colorbar": {
              "outlinewidth": 0,
              "ticks": ""
             }
            },
            "type": "scatterternary"
           }
          ],
          "surface": [
           {
            "colorbar": {
             "outlinewidth": 0,
             "ticks": ""
            },
            "colorscale": [
             [
              0,
              "#0d0887"
             ],
             [
              0.1111111111111111,
              "#46039f"
             ],
             [
              0.2222222222222222,
              "#7201a8"
             ],
             [
              0.3333333333333333,
              "#9c179e"
             ],
             [
              0.4444444444444444,
              "#bd3786"
             ],
             [
              0.5555555555555556,
              "#d8576b"
             ],
             [
              0.6666666666666666,
              "#ed7953"
             ],
             [
              0.7777777777777778,
              "#fb9f3a"
             ],
             [
              0.8888888888888888,
              "#fdca26"
             ],
             [
              1,
              "#f0f921"
             ]
            ],
            "type": "surface"
           }
          ],
          "table": [
           {
            "cells": {
             "fill": {
              "color": "#EBF0F8"
             },
             "line": {
              "color": "white"
             }
            },
            "header": {
             "fill": {
              "color": "#C8D4E3"
             },
             "line": {
              "color": "white"
             }
            },
            "type": "table"
           }
          ]
         },
         "layout": {
          "annotationdefaults": {
           "arrowcolor": "#2a3f5f",
           "arrowhead": 0,
           "arrowwidth": 1
          },
          "autotypenumbers": "strict",
          "coloraxis": {
           "colorbar": {
            "outlinewidth": 0,
            "ticks": ""
           }
          },
          "colorscale": {
           "diverging": [
            [
             0,
             "#8e0152"
            ],
            [
             0.1,
             "#c51b7d"
            ],
            [
             0.2,
             "#de77ae"
            ],
            [
             0.3,
             "#f1b6da"
            ],
            [
             0.4,
             "#fde0ef"
            ],
            [
             0.5,
             "#f7f7f7"
            ],
            [
             0.6,
             "#e6f5d0"
            ],
            [
             0.7,
             "#b8e186"
            ],
            [
             0.8,
             "#7fbc41"
            ],
            [
             0.9,
             "#4d9221"
            ],
            [
             1,
             "#276419"
            ]
           ],
           "sequential": [
            [
             0,
             "#0d0887"
            ],
            [
             0.1111111111111111,
             "#46039f"
            ],
            [
             0.2222222222222222,
             "#7201a8"
            ],
            [
             0.3333333333333333,
             "#9c179e"
            ],
            [
             0.4444444444444444,
             "#bd3786"
            ],
            [
             0.5555555555555556,
             "#d8576b"
            ],
            [
             0.6666666666666666,
             "#ed7953"
            ],
            [
             0.7777777777777778,
             "#fb9f3a"
            ],
            [
             0.8888888888888888,
             "#fdca26"
            ],
            [
             1,
             "#f0f921"
            ]
           ],
           "sequentialminus": [
            [
             0,
             "#0d0887"
            ],
            [
             0.1111111111111111,
             "#46039f"
            ],
            [
             0.2222222222222222,
             "#7201a8"
            ],
            [
             0.3333333333333333,
             "#9c179e"
            ],
            [
             0.4444444444444444,
             "#bd3786"
            ],
            [
             0.5555555555555556,
             "#d8576b"
            ],
            [
             0.6666666666666666,
             "#ed7953"
            ],
            [
             0.7777777777777778,
             "#fb9f3a"
            ],
            [
             0.8888888888888888,
             "#fdca26"
            ],
            [
             1,
             "#f0f921"
            ]
           ]
          },
          "colorway": [
           "#636efa",
           "#EF553B",
           "#00cc96",
           "#ab63fa",
           "#FFA15A",
           "#19d3f3",
           "#FF6692",
           "#B6E880",
           "#FF97FF",
           "#FECB52"
          ],
          "font": {
           "color": "#2a3f5f"
          },
          "geo": {
           "bgcolor": "white",
           "lakecolor": "white",
           "landcolor": "#E5ECF6",
           "showlakes": true,
           "showland": true,
           "subunitcolor": "white"
          },
          "hoverlabel": {
           "align": "left"
          },
          "hovermode": "closest",
          "mapbox": {
           "style": "light"
          },
          "paper_bgcolor": "white",
          "plot_bgcolor": "#E5ECF6",
          "polar": {
           "angularaxis": {
            "gridcolor": "white",
            "linecolor": "white",
            "ticks": ""
           },
           "bgcolor": "#E5ECF6",
           "radialaxis": {
            "gridcolor": "white",
            "linecolor": "white",
            "ticks": ""
           }
          },
          "scene": {
           "xaxis": {
            "backgroundcolor": "#E5ECF6",
            "gridcolor": "white",
            "gridwidth": 2,
            "linecolor": "white",
            "showbackground": true,
            "ticks": "",
            "zerolinecolor": "white"
           },
           "yaxis": {
            "backgroundcolor": "#E5ECF6",
            "gridcolor": "white",
            "gridwidth": 2,
            "linecolor": "white",
            "showbackground": true,
            "ticks": "",
            "zerolinecolor": "white"
           },
           "zaxis": {
            "backgroundcolor": "#E5ECF6",
            "gridcolor": "white",
            "gridwidth": 2,
            "linecolor": "white",
            "showbackground": true,
            "ticks": "",
            "zerolinecolor": "white"
           }
          },
          "shapedefaults": {
           "line": {
            "color": "#2a3f5f"
           }
          },
          "ternary": {
           "aaxis": {
            "gridcolor": "white",
            "linecolor": "white",
            "ticks": ""
           },
           "baxis": {
            "gridcolor": "white",
            "linecolor": "white",
            "ticks": ""
           },
           "bgcolor": "#E5ECF6",
           "caxis": {
            "gridcolor": "white",
            "linecolor": "white",
            "ticks": ""
           }
          },
          "title": {
           "x": 0.05
          },
          "xaxis": {
           "automargin": true,
           "gridcolor": "white",
           "linecolor": "white",
           "ticks": "",
           "title": {
            "standoff": 15
           },
           "zerolinecolor": "white",
           "zerolinewidth": 2
          },
          "yaxis": {
           "automargin": true,
           "gridcolor": "white",
           "linecolor": "white",
           "ticks": "",
           "title": {
            "standoff": 15
           },
           "zerolinecolor": "white",
           "zerolinewidth": 2
          }
         }
        },
        "title": {
         "text": "Залежність precision, recall та F1 від порогу класифікації"
        },
        "xaxis": {
         "anchor": "y",
         "domain": [
          0,
          1
         ],
         "title": {
          "text": "Поріг"
         }
        },
        "yaxis": {
         "anchor": "x",
         "domain": [
          0,
          1
         ],
         "title": {
          "text": "Значення метрики"
         }
        }
       }
      },
      "image/png": "[encoded data removed]"
     },
     "metadata": {},
     "output_type": "display_data"
    }
   ],
   "source": [
    "# Аналіз різних порогів\n",
    "thresholds = np.arange(0.1, 0.9, 0.05)\n",
    "metrics_by_threshold = []\n",
    "\n",
    "for threshold in thresholds:\n",
    "    y_pred_custom = (y_pred_proba[:, 1] >= threshold).astype(int)\n",
    "    \n",
    "    metrics_by_threshold.append({\n",
    "        'threshold': threshold,\n",
    "        'precision': precision_score(y_test, y_pred_custom),\n",
    "        'recall': recall_score(y_test, y_pred_custom),\n",
    "        'f1': f1_score(y_test, y_pred_custom)\n",
    "    })\n",
    "\n",
    "metrics_df = pd.DataFrame(metrics_by_threshold)\n",
    "\n",
    "# Візуалізація\n",
    "fig = px.line(\n",
    "    metrics_df.melt(id_vars='threshold'),\n",
    "    x='threshold',\n",
    "    y='value',\n",
    "    color='variable',\n",
    "    title='Залежність precision, recall та F1 від порогу класифікації',\n",
    "    labels={'value': 'Значення метрики', 'threshold': 'Поріг'}\n",
    ")\n",
    "fig.show()"
   ]
  },
  {
   "cell_type": "markdown",
   "metadata": {},
   "source": [
    "Оптимальний поріг буде у точці, де перетинаються 3 метрики - 0,28.\n",
    "\n",
    "Обираємо модуль в залежності від місій банку. Найкритичнішим буде варіант, коли взятий кредит не буде повернуто. Тому доцільно робити акцент на precision."
   ]
  },
  {
   "cell_type": "markdown",
   "metadata": {
    "id": "Lu2iZ9CYft50"
   },
   "source": [
    "\n",
    "---\n",
    "\n",
    "## Завдання 7 (Опціональне): Покращення моделі та висновки (2 бали)\n",
    "\n",
    "**Що потрібно зробити:**\n",
    "\n",
    "На цих же даних навчіть DecisionTreeClassifier та RandomForestClassifier. Яка з трьох моделей дає найкращий результат на тестовому наборі?\n",
    "\n",
    "Поріг класифікації можна для порівняння якостей моделей використовувати стандартний 0.5, або той, що ви виявили, як оптимальний на попередньому кроці.\n"
   ]
  },
  {
   "cell_type": "code",
   "execution_count": null,
   "metadata": {},
   "outputs": [],
   "source": []
  }
 ],
 "metadata": {
  "colab": {
   "provenance": []
  },
  "kernelspec": {
   "display_name": "Python 3 (ipykernel)",
   "language": "python",
   "name": "python3"
  },
  "language_info": {
   "codemirror_mode": {
    "name": "ipython",
    "version": 3
   },
   "file_extension": ".py",
   "mimetype": "text/x-python",
   "name": "python",
   "nbconvert_exporter": "python",
   "pygments_lexer": "ipython3",
   "version": "3.13.4"
  }
 },
 "nbformat": 4,
 "nbformat_minor": 4
}

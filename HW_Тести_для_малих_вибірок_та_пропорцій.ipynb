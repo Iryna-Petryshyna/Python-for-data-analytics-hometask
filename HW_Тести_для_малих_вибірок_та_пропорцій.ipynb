{
 "cells": [
  {
   "cell_type": "markdown",
   "id": "e152f6d6",
   "metadata": {
    "ExecuteTime": {
     "end_time": "2022-12-10T14:29:24.703416Z",
     "start_time": "2022-12-10T14:29:24.688485Z"
    },
    "id": "e152f6d6"
   },
   "source": [
    "# Тести для малих вибірок та пропорцій\n",
    "\n"
   ]
  },
  {
   "cell_type": "markdown",
   "id": "abdcef5d",
   "metadata": {
    "id": "abdcef5d"
   },
   "source": [
    "**Завдання 1**. E-commerce компанія після редизайну сайту підозрює, що **середній час до покупки (time-to-purchase)** користувачів **збільшився**.\n",
    "Історично середній час від першого заходу на сайт до покупки становив $\\mu_0 = 123.7$ хвилин.\n",
    "\n",
    "Команда аналітиків випадково обрала дані **7 покупців після редизайну**:\n",
    "`128, 135, 121, 142, 126, 151, 123`\n",
    "\n",
    "З допомогою наявних даних зʼясуйте, чи збільшився середній час покупки після редизайну.\n",
    "\n",
    "Для цього виконайте наступні 6 кроків. Правильне виконання кожного з кроків оцінюється в 1 бал.\n",
    "\n",
    "1. Запишіть нульову та альтернативну гіпотези і визначте тип тесту.\n",
    "2. Обчисліть вибіркові статистики: $\\bar x$, $s$, $n$.\n",
    "3. Оберіть тип тесту та виконайте його (знайдіть критичне значення тесту, статистику тесту та р-значення) будь-яким пасуючим способом, щоб перевірити гіпотезу на рівні значущості $\\alpha = 0.10$.\n",
    "4. Прийміть рішення, чи відхиляєте ви гіпотезу $H_0$ використовуючи p-value.\n",
    "5. Напишіть висновок: чи справді редизайн сайту подовжив час до покупки?\n",
    "6. Чи зміниться ваше рішення при зміні рівня значущості на $\\alpha = 0.05$.\n"
   ]
  },
  {
   "cell_type": "markdown",
   "id": "63412c5b-9655-408b-9480-a9b797a55ddb",
   "metadata": {},
   "source": [
    "*Крок 1. Формулюємо гіпотези і тип тесту*\n",
    "\n",
    "H₀ (нульова гіпотеза): середній час = 123.7 хв.\n",
    "\n",
    "Hₐ (альтернативна гіпотеза): середній час > 123.7 хв.\n",
    "\n",
    "Тип тесту: правосторонній (бо перевіряємо, чи збільшився час)."
   ]
  },
  {
   "cell_type": "markdown",
   "id": "9d94985d-662f-4c12-8dba-a92ee3469dd0",
   "metadata": {},
   "source": [
    "*Крок 2. Обчислюємо вибіркові статистики*"
   ]
  },
  {
   "cell_type": "code",
   "execution_count": 7,
   "id": "2147c74c-f3c3-416e-a6e0-80ed40a166cc",
   "metadata": {
    "execution": {
     "iopub.execute_input": "2025-09-04T19:17:41.630696Z",
     "iopub.status.busy": "2025-09-04T19:17:41.630161Z",
     "iopub.status.idle": "2025-09-04T19:17:41.636098Z",
     "shell.execute_reply": "2025-09-04T19:17:41.634790Z",
     "shell.execute_reply.started": "2025-09-04T19:17:41.630656Z"
    }
   },
   "outputs": [],
   "source": [
    "sample = [128, 135, 121, 142, 126, 151, 123]"
   ]
  },
  {
   "cell_type": "code",
   "execution_count": 11,
   "id": "bde38c14-9292-47cf-a70a-e89e281bc15b",
   "metadata": {
    "execution": {
     "iopub.execute_input": "2025-09-05T05:25:43.215700Z",
     "iopub.status.busy": "2025-09-05T05:25:43.212328Z",
     "iopub.status.idle": "2025-09-05T05:25:43.270780Z",
     "shell.execute_reply": "2025-09-05T05:25:43.267815Z",
     "shell.execute_reply.started": "2025-09-05T05:25:43.215597Z"
    }
   },
   "outputs": [
    {
     "name": "stdout",
     "output_type": "stream",
     "text": [
      "Середнє вибірки: 132.28571428571428\n",
      "Стандартне відхилення: 10.980502200328935\n",
      "Розмір вибірки: 7\n"
     ]
    }
   ],
   "source": [
    "import numpy as np\n",
    "\n",
    "sample = np.array([128, 135, 121, 142, 126, 151, 123])\n",
    "\n",
    "sample_mean = np.mean(sample)\n",
    "sample_std = np.std(sample, ddof=1)\n",
    "sample_size = len(sample)\n",
    "\n",
    "print(\"Середнє вибірки:\", sample_mean)\n",
    "print(\"Стандартне відхилення:\", sample_std)\n",
    "print(\"Розмір вибірки:\", sample_size)\n"
   ]
  },
  {
   "cell_type": "code",
   "execution_count": 9,
   "id": "1914c418-88da-40bd-bdcd-65e32780bdae",
   "metadata": {
    "execution": {
     "iopub.execute_input": "2025-09-04T19:21:33.720816Z",
     "iopub.status.busy": "2025-09-04T19:21:33.719970Z",
     "iopub.status.idle": "2025-09-04T19:21:33.730011Z",
     "shell.execute_reply": "2025-09-04T19:21:33.728484Z",
     "shell.execute_reply.started": "2025-09-04T19:21:33.720776Z"
    }
   },
   "outputs": [
    {
     "name": "stdout",
     "output_type": "stream",
     "text": [
      "t-статистика: 2.0687273144186475\n",
      "Критичне t-значення: 1.4397557472577693\n",
      "P-value: 0.042017654253682646\n"
     ]
    }
   ],
   "source": [
    "from scipy import stats\n",
    "\n",
    "mu0 = 123.7\n",
    "alpha = 0.10\n",
    "\n",
    "SE = sample_std / np.sqrt(sample_size)\n",
    "t_stat = (sample_mean - mu0) / SE\n",
    "df = sample_size - 1\n",
    "\n",
    "# Критичне t-значення (правосторонній тест)\n",
    "t_critical = stats.t.ppf(1 - alpha, df)\n",
    "\n",
    "# P-value\n",
    "p_value = 1 - stats.t.cdf(t_stat, df)\n",
    "\n",
    "print(\"t-статистика:\", t_stat)\n",
    "print(\"Критичне t-значення:\", t_critical)\n",
    "print(\"P-value:\", p_value)\n"
   ]
  },
  {
   "cell_type": "markdown",
   "id": "e9bc7ce9-a367-43e2-9afc-646ef06617fa",
   "metadata": {
    "execution": {
     "iopub.execute_input": "2025-09-04T19:19:16.339643Z",
     "iopub.status.busy": "2025-09-04T19:19:16.339024Z",
     "iopub.status.idle": "2025-09-04T19:19:16.354628Z",
     "shell.execute_reply": "2025-09-04T19:19:16.351029Z",
     "shell.execute_reply.started": "2025-09-04T19:19:16.339608Z"
    }
   },
   "source": [
    "*Крок 3. Вибір тесту та обчислення t-статистики*\n",
    "\n",
    "Оскільки 𝑛=7 (мала вибірка, невідоме σ), використовуємо t-тест (не z-тест).\n",
    "Рівень значущості: 𝛼=0.10."
   ]
  },
  {
   "cell_type": "markdown",
   "id": "e8b21e62-3cad-4bd3-bde3-a738f8060f1d",
   "metadata": {
    "execution": {
     "iopub.execute_input": "2025-09-04T20:09:46.558784Z",
     "iopub.status.busy": "2025-09-04T20:09:46.557283Z",
     "iopub.status.idle": "2025-09-04T20:09:46.585920Z",
     "shell.execute_reply": "2025-09-04T20:09:46.582861Z",
     "shell.execute_reply.started": "2025-09-04T20:09:46.558716Z"
    }
   },
   "source": [
    "*Крок 4. Рішення за p-value*\n",
    "\n",
    "𝑝=0.042<0.10→ Відхиляємо H₀ на рівні 0.10."
   ]
  },
  {
   "cell_type": "markdown",
   "id": "1c68e96a-f8d6-4b8f-a06c-a078a158deea",
   "metadata": {},
   "source": [
    "*Крок 5. Висновок:*\n",
    "Отримані дані свідчать про те, що після редизайну час до покупки статистично значуще збільшився. \n",
    "Є статистично значущі докази на рівні α = 0.10, що редизайн збільшив час до покупки."
   ]
  },
  {
   "cell_type": "markdown",
   "id": "dca6644a-6b3c-40ae-9657-5a9088a2a041",
   "metadata": {},
   "source": [
    "*Крок 6. Що при α = 0.05?*\n",
    "\n",
    "𝑝=0.04<0.05 → Все одно відхиляємо H₀.\n",
    "Висновок не змінюється -  навіть на більш суворому рівні значущості 5% результат залишається значущим."
   ]
  },
  {
   "cell_type": "markdown",
   "id": "8e3b7efe-6c9f-4cc0-83ec-34d4760dd4fd",
   "metadata": {},
   "source": [
    "**Розв'язок за допомогою методу  scipy**"
   ]
  },
  {
   "cell_type": "code",
   "execution_count": 16,
   "id": "876bca88-bcc8-4973-990e-efb962e6e71e",
   "metadata": {
    "execution": {
     "iopub.execute_input": "2025-09-05T05:40:20.800499Z",
     "iopub.status.busy": "2025-09-05T05:40:20.799140Z",
     "iopub.status.idle": "2025-09-05T05:40:20.826911Z",
     "shell.execute_reply": "2025-09-05T05:40:20.825384Z",
     "shell.execute_reply.started": "2025-09-05T05:40:20.800453Z"
    }
   },
   "outputs": [
    {
     "name": "stdout",
     "output_type": "stream",
     "text": [
      "Вибіркове середнє: 132.286\n",
      "Стандартне відхилення: 10.981\n",
      "Розмір вибірки: 7\n",
      "\n",
      "Статистика t: 2.0687\n",
      "p-value: 0.042018\n",
      "Критичне t (α=0.10): 1.4398\n",
      "Критичне t (α=0.05): 1.9432\n",
      "\n",
      "При α=0.1: Відхиляємо H0 — середній час збільшився.\n",
      "При α=0.05: Відхиляємо H0 — середній час збільшився.\n"
     ]
    }
   ],
   "source": [
    "import numpy as np\n",
    "from scipy import stats\n",
    "# Вхідні дані\n",
    "data = np.array([128, 135, 121, 142, 126, 151, 123])\n",
    "mu0 = 123.7  # історичне середнє\n",
    "alpha1 = 0.10\n",
    "alpha2 = 0.05\n",
    "\n",
    "# 1. Гіпотези:\n",
    "# H0: μ = 123.7\n",
    "# H1: μ > 123.7 (тест односторонній, правосторонній)\n",
    "\n",
    "# 2. Вибіркові статистики\n",
    "x_bar = np.mean(data)\n",
    "s = np.std(data, ddof=1)\n",
    "n = len(data)\n",
    "\n",
    "print(\"Вибіркове середнє:\", round(x_bar, 3))\n",
    "print(\"Стандартне відхилення:\", round(s, 3))\n",
    "print(\"Розмір вибірки:\", n)\n",
    "\n",
    "# 3. Виконуємо t-тест (односторонній)\n",
    "res = stats.ttest_1samp(data, popmean=mu0, alternative='greater')\n",
    "\n",
    "# Ступені свободи\n",
    "df = n - 1\n",
    "\n",
    "# Обчислюємо критичні значення\n",
    "t_crit_alpha1 = stats.t.ppf(1 - alpha1, df)\n",
    "t_crit_alpha2 = stats.t.ppf(1 - alpha2, df)\n",
    "\n",
    "# 4. Результати тесту\n",
    "print(f\"\\nСтатистика t: {res.statistic:.4f}\")\n",
    "print(f\"p-value: {res.pvalue:.6f}\")\n",
    "print(f\"Критичне t (α=0.10): {t_crit_alpha1:.4f}\")\n",
    "print(f\"Критичне t (α=0.05): {t_crit_alpha2:.4f}\")\n",
    "\n",
    "# 5. Висновок для α=0.10\n",
    "if res.pvalue < alpha1:\n",
    "    print(f\"\\nПри α={alpha1}: Відхиляємо H0 — середній час збільшився.\")\n",
    "else:\n",
    "    print(f\"\\nПри α={alpha1}: Не відхиляємо H0 — доказів недостатньо.\")\n",
    "\n",
    "# 6. Висновок для α=0.05\n",
    "if res.pvalue < alpha2:\n",
    "    print(f\"При α={alpha2}: Відхиляємо H0 — середній час збільшився.\")\n",
    "else:\n",
    "    print(f\"При α={alpha2}: Не відхиляємо H0 — доказів недостатньо.\")\n"
   ]
  },
  {
   "cell_type": "markdown",
   "id": "5govLcx8FPSl",
   "metadata": {
    "id": "5govLcx8FPSl"
   },
   "source": [
    "**Завдання 2.**\n",
    "\n",
    "До спеціальної рекламної кампанії **23%** дорослих упізнавали логотип компанії. Після завершення кампанії відділ маркетингу провів опитування: з **1200** випадково відібраних дорослих **311** упізнали логотип.\n",
    "\n",
    "Перевірте на рівні значущості **3%** ($\\alpha=0.03$), чи дають ці дані достатні підстави стверджувати, що **тепер більше ніж 23%** дорослих упізнають логотип компанії. Для розвʼязку використовуйте бібліотеку `statsmodels`.\n",
    "\n",
    "Зробіть висновок, чи зросла впізнаваність логотипу.\n",
    "\n",
    "Додатково, обчисліть довірчий інтревал на заданому рівні значущості і проінтерпретуйте текстом - як він додатково пояснює прийняте нами рішення?"
   ]
  },
  {
   "cell_type": "code",
   "execution_count": 17,
   "id": "rcplRfotId51",
   "metadata": {
    "execution": {
     "iopub.execute_input": "2025-09-05T05:52:28.015324Z",
     "iopub.status.busy": "2025-09-05T05:52:28.005757Z",
     "iopub.status.idle": "2025-09-05T05:52:32.766082Z",
     "shell.execute_reply": "2025-09-05T05:52:32.764713Z",
     "shell.execute_reply.started": "2025-09-05T05:52:28.015197Z"
    },
    "id": "rcplRfotId51"
   },
   "outputs": [
    {
     "name": "stdout",
     "output_type": "stream",
     "text": [
      "Z-статистика: 2.3058\n",
      "p-value: 0.010560\n",
      "Довірчий інтервал на рівні 97.0%: (0.23171700302179205, 0.28661633031154127)\n",
      "\n",
      "Відхиляємо H₀: частка впізнаваності зросла (p-value=0.010560 < 0.03).\n",
      "\n",
      "Інтерпретація:\n",
      "Справжня частка впізнаваності з імовірністю 97.0% лежить у межах (0.23171700302179205, 0.28661633031154127).\n",
      "Оскільки нижня межа CI вища за 0.23, це додатково підтверджує, що впізнаваність зросла.\n"
     ]
    }
   ],
   "source": [
    "import statsmodels.api as sm\n",
    "from statsmodels.stats.proportion import proportions_ztest, proportion_confint\n",
    "\n",
    "# Вхідні дані\n",
    "count = 311   # кількість, хто впізнав логотип\n",
    "nobs = 1200   # розмір вибірки\n",
    "p0 = 0.23     # історична частка\n",
    "alpha = 0.03\n",
    "\n",
    "# 1. Z-тест для пропорції\n",
    "stat, p_value = proportions_ztest(count, nobs, value=p0, alternative='larger')\n",
    "\n",
    "# 2. Довірчий інтервал на рівні 97% (двосторонній CI)\n",
    "conf_int = proportion_confint(count, nobs, alpha=alpha, method='normal')\n",
    "\n",
    "# 3. Результати\n",
    "print(f\"Z-статистика: {stat:.4f}\")\n",
    "print(f\"p-value: {p_value:.6f}\")\n",
    "print(f\"Довірчий інтервал на рівні {100*(1-alpha):.1f}%: {conf_int}\")\n",
    "\n",
    "# 4. Висновок\n",
    "if p_value < alpha:\n",
    "    print(f\"\\nВідхиляємо H₀: частка впізнаваності зросла (p-value={p_value:.6f} < {alpha}).\")\n",
    "else:\n",
    "    print(f\"\\nНе відхиляємо H₀: доказів недостатньо (p-value={p_value:.6f} ≥ {alpha}).\")\n",
    "\n",
    "# Інтерпретація CI\n",
    "print(\"\\nІнтерпретація:\")\n",
    "print(f\"Справжня частка впізнаваності з імовірністю {(1-alpha)*100:.1f}% лежить у межах {conf_int}.\")\n",
    "print(\"Оскільки нижня межа CI вища за 0.23, це додатково підтверджує, що впізнаваність зросла.\")\n"
   ]
  },
  {
   "cell_type": "code",
   "execution_count": null,
   "id": "6037a805-2e00-4c5c-b2fb-ac6070cb591f",
   "metadata": {},
   "outputs": [],
   "source": []
  }
 ],
 "metadata": {
  "colab": {
   "provenance": []
  },
  "hide_input": false,
  "kernelspec": {
   "display_name": "Python 3 (ipykernel)",
   "language": "python",
   "name": "python3"
  },
  "language_info": {
   "codemirror_mode": {
    "name": "ipython",
    "version": 3
   },
   "file_extension": ".py",
   "mimetype": "text/x-python",
   "name": "python",
   "nbconvert_exporter": "python",
   "pygments_lexer": "ipython3",
   "version": "3.13.4"
  },
  "toc": {
   "base_numbering": 1,
   "nav_menu": {},
   "number_sections": true,
   "sideBar": true,
   "skip_h1_title": false,
   "title_cell": "Table of Contents",
   "title_sidebar": "Contents",
   "toc_cell": false,
   "toc_position": {},
   "toc_section_display": true,
   "toc_window_display": false
  },
  "varInspector": {
   "cols": {
    "lenName": 16,
    "lenType": 16,
    "lenVar": 40
   },
   "kernels_config": {
    "python": {
     "delete_cmd_postfix": "",
     "delete_cmd_prefix": "del ",
     "library": "var_list.py",
     "varRefreshCmd": "print(var_dic_list())"
    },
    "r": {
     "delete_cmd_postfix": ") ",
     "delete_cmd_prefix": "rm(",
     "library": "var_list.r",
     "varRefreshCmd": "cat(var_dic_list()) "
    }
   },
   "types_to_exclude": [
    "module",
    "function",
    "builtin_function_or_method",
    "instance",
    "_Feature"
   ],
   "window_display": false
  }
 },
 "nbformat": 4,
 "nbformat_minor": 5
}

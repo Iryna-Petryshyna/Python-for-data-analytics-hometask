{
 "cells": [
  {
   "cell_type": "markdown",
   "metadata": {
    "id": "tvPKWXfD7yRv"
   },
   "source": [
    "#Домашнє завдання до теми \"Синтаксис Python\"\n",
    "\n",
    "В ДЗ першого модулю важливою умовою виконання завдань є те, що ми не імпортуємо жодних бібліотек, а робимо все на чистому Python, використовуючи лише базовий функціонал. Це необхідно аби відпрацювати роботу з базовими типами даних. А використовувати бібліотеки ми ще навчимось далі :)"
   ]
  },
  {
   "cell_type": "markdown",
   "metadata": {
    "id": "xE1KHmUbQVbC"
   },
   "source": [
    "1. Створіть змінну, яка буде зберігати кількість яблук. І надайте їй значення 5. Виведіть значення змінної на екран."
   ]
  },
  {
   "cell_type": "code",
   "execution_count": 15,
   "metadata": {
    "execution": {
     "iopub.execute_input": "2025-06-10T08:17:01.003739Z",
     "iopub.status.busy": "2025-06-10T08:17:01.003262Z",
     "iopub.status.idle": "2025-06-10T08:17:01.006635Z",
     "shell.execute_reply": "2025-06-10T08:17:01.006107Z",
     "shell.execute_reply.started": "2025-06-10T08:17:01.003719Z"
    },
    "id": "iz5QpN-vQUtN"
   },
   "outputs": [],
   "source": [
    "apple = 5"
   ]
  },
  {
   "cell_type": "markdown",
   "metadata": {
    "id": "wx6RsBHAQd9q"
   },
   "source": [
    "2. Виведіть тип змінної, створеної в завданні (1)."
   ]
  },
  {
   "cell_type": "code",
   "execution_count": 16,
   "metadata": {
    "execution": {
     "iopub.execute_input": "2025-06-10T08:17:03.943324Z",
     "iopub.status.busy": "2025-06-10T08:17:03.943088Z",
     "iopub.status.idle": "2025-06-10T08:17:03.947390Z",
     "shell.execute_reply": "2025-06-10T08:17:03.946849Z",
     "shell.execute_reply.started": "2025-06-10T08:17:03.943308Z"
    },
    "id": "f48l2PhiQi86"
   },
   "outputs": [
    {
     "data": {
      "text/plain": [
       "int"
      ]
     },
     "execution_count": 16,
     "metadata": {},
     "output_type": "execute_result"
    }
   ],
   "source": [
    "type (apple)"
   ]
  },
  {
   "cell_type": "markdown",
   "metadata": {
    "id": "UEc59pPcQnva"
   },
   "source": [
    "3. Додайте до значення змінної, створеної в завданні (1) число `12` і виведіть результат на екран з допомогою команди `print()`."
   ]
  },
  {
   "cell_type": "code",
   "execution_count": 20,
   "metadata": {
    "execution": {
     "iopub.execute_input": "2025-06-10T08:18:52.214937Z",
     "iopub.status.busy": "2025-06-10T08:18:52.214654Z",
     "iopub.status.idle": "2025-06-10T08:18:52.217786Z",
     "shell.execute_reply": "2025-06-10T08:18:52.217230Z",
     "shell.execute_reply.started": "2025-06-10T08:18:52.214920Z"
    }
   },
   "outputs": [
    {
     "name": "stdout",
     "output_type": "stream",
     "text": [
      "53\n"
     ]
    }
   ],
   "source": [
    "apple = apple + 12\n",
    "print(apple)"
   ]
  },
  {
   "cell_type": "markdown",
   "metadata": {
    "id": "yOztaNuqqcMy"
   },
   "source": [
    "4. Запустіть код нижче аби створити дві змінні."
   ]
  },
  {
   "cell_type": "code",
   "execution_count": 11,
   "metadata": {
    "execution": {
     "iopub.execute_input": "2025-06-10T08:09:34.556678Z",
     "iopub.status.busy": "2025-06-10T08:09:34.556197Z",
     "iopub.status.idle": "2025-06-10T08:09:34.560306Z",
     "shell.execute_reply": "2025-06-10T08:09:34.559598Z",
     "shell.execute_reply.started": "2025-06-10T08:09:34.556649Z"
    },
    "id": "kbXeQSgcqncV"
   },
   "outputs": [],
   "source": [
    "a = 48\n",
    "b = 3"
   ]
  },
  {
   "cell_type": "markdown",
   "metadata": {
    "id": "9ojIRMw3qvw8"
   },
   "source": [
    "Створіть нову клітинку нижче цієї з допомогою натискання англійської літери `B`, коли ви НЕ в режимі редагування клітинки. В створеній клітинці створіть змінну `c`, яка буде містити результат ділення `a` на `b`."
   ]
  },
  {
   "cell_type": "code",
   "execution_count": 21,
   "metadata": {
    "execution": {
     "iopub.execute_input": "2025-06-10T08:22:00.986095Z",
     "iopub.status.busy": "2025-06-10T08:22:00.985769Z",
     "iopub.status.idle": "2025-06-10T08:22:00.990441Z",
     "shell.execute_reply": "2025-06-10T08:22:00.989951Z",
     "shell.execute_reply.started": "2025-06-10T08:22:00.986076Z"
    }
   },
   "outputs": [
    {
     "data": {
      "text/plain": [
       "(48, int, 3, int, 16.0, float)"
      ]
     },
     "execution_count": 21,
     "metadata": {},
     "output_type": "execute_result"
    }
   ],
   "source": [
    "a, type(a), b, type(b), c, type (c)"
   ]
  },
  {
   "cell_type": "code",
   "execution_count": 13,
   "metadata": {
    "execution": {
     "iopub.execute_input": "2025-06-10T08:10:57.594965Z",
     "iopub.status.busy": "2025-06-10T08:10:57.594261Z",
     "iopub.status.idle": "2025-06-10T08:10:57.597968Z",
     "shell.execute_reply": "2025-06-10T08:10:57.597422Z",
     "shell.execute_reply.started": "2025-06-10T08:10:57.594937Z"
    }
   },
   "outputs": [],
   "source": [
    "c = a / b "
   ]
  },
  {
   "cell_type": "markdown",
   "metadata": {
    "id": "XcmIZ24wq4px"
   },
   "source": [
    "Створіть ще одну нову клітинку, тільки тепер вище цієї. Для цього натисніть  англійську літеру `A`, коли ви НЕ в режимі редагування клітинки. Виведіть в новоствореній клітинці значення і тип кожної зі змінних `a`, `b`, `c`. Проаналізуйте результат.\n"
   ]
  },
  {
   "cell_type": "markdown",
   "metadata": {
    "id": "v9rj7B4-sGaG"
   },
   "source": [
    "У Python, коли ви ділите одне ціле число на інше, результат буде автоматично приведений до типу float, якщо він не є цілим числом. Це робиться для того, щоб забезпечити більш точний результат ділення, особливо коли результат міг би бути десятковим числом."
   ]
  },
  {
   "cell_type": "markdown",
   "metadata": {
    "id": "irjcdM8puaEx"
   },
   "source": [
    "5. Перегляньте наступний код, подумайте, що він виведе в результаті, та потім, запустіть його."
   ]
  },
  {
   "cell_type": "code",
   "execution_count": 22,
   "metadata": {
    "execution": {
     "iopub.execute_input": "2025-06-10T08:23:00.804993Z",
     "iopub.status.busy": "2025-06-10T08:23:00.804706Z",
     "iopub.status.idle": "2025-06-10T08:23:00.808928Z",
     "shell.execute_reply": "2025-06-10T08:23:00.808376Z",
     "shell.execute_reply.started": "2025-06-10T08:23:00.804974Z"
    },
    "id": "KmhCY0ttt8rW"
   },
   "outputs": [
    {
     "data": {
      "text/plain": [
       "38"
      ]
     },
     "execution_count": 22,
     "metadata": {},
     "output_type": "execute_result"
    }
   ],
   "source": [
    "a = 10\n",
    "a = 12\n",
    "a = 15\n",
    "\n",
    "b = 4\n",
    "b = 8\n",
    "b = 14\n",
    "\n",
    "c = 3\n",
    "c = 6\n",
    "c = 9\n",
    "\n",
    "\n",
    "a + b + c"
   ]
  },
  {
   "cell_type": "markdown",
   "metadata": {
    "id": "JrUTyGyQufwq"
   },
   "source": [
    "В клітинці нижче закоментуйте деякі рядки так, аби в результаті виконання останнього рядка коду (`a + b + c`) вивелось `17`.\n",
    "Увага! Рядки треба саме закоментувати, а не видалити.\n",
    "Можна зручно коментувати рядки з допомогою комбінації клавіш `Ctrl + /` (`Command + /` для Mac)"
   ]
  },
  {
   "cell_type": "code",
   "execution_count": 23,
   "metadata": {
    "execution": {
     "iopub.execute_input": "2025-06-10T08:42:28.431193Z",
     "iopub.status.busy": "2025-06-10T08:42:28.430860Z",
     "iopub.status.idle": "2025-06-10T08:42:28.435161Z",
     "shell.execute_reply": "2025-06-10T08:42:28.434670Z",
     "shell.execute_reply.started": "2025-06-10T08:42:28.431175Z"
    },
    "id": "R4VXgSQKwVoc"
   },
   "outputs": [
    {
     "data": {
      "text/plain": [
       "17"
      ]
     },
     "execution_count": 23,
     "metadata": {},
     "output_type": "execute_result"
    }
   ],
   "source": [
    "a = 10\n",
    "# a = 12\n",
    "# a = 15\n",
    "\n",
    "b = 4\n",
    "# b = 8\n",
    "# b = 14\n",
    "\n",
    "c = 3\n",
    "# c = 6\n",
    "# c = 9\n",
    "\n",
    "\n",
    "a + b + c"
   ]
  },
  {
   "cell_type": "code",
   "execution_count": null,
   "metadata": {},
   "outputs": [],
   "source": []
  }
 ],
 "metadata": {
  "colab": {
   "provenance": []
  },
  "kernelspec": {
   "display_name": "Python 3 (ipykernel)",
   "language": "python",
   "name": "python3"
  },
  "language_info": {
   "codemirror_mode": {
    "name": "ipython",
    "version": 3
   },
   "file_extension": ".py",
   "mimetype": "text/x-python",
   "name": "python",
   "nbconvert_exporter": "python",
   "pygments_lexer": "ipython3",
   "version": "3.13.4"
  }
 },
 "nbformat": 4,
 "nbformat_minor": 4
}

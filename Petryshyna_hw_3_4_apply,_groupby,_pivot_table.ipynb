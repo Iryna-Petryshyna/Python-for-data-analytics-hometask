{
 "cells": [
  {
   "cell_type": "markdown",
   "metadata": {
    "id": "LwNpAFw_eTF3"
   },
   "source": [
    "#Домашнє завдання до тем apply(), groupby(), pivot_table()"
   ]
  },
  {
   "cell_type": "markdown",
   "metadata": {
    "id": "vP2PEJyq8Yrj"
   },
   "source": [
    "В цьому домашньому завданні продовжуємо працювати з набором даних `supermarket_sales.csv`."
   ]
  },
  {
   "cell_type": "markdown",
   "metadata": {
    "id": "dh9lfpDb8gBL"
   },
   "source": [
    "0. Імпортуйте бібліотеку pandas та зчитайте дані у змінну `df` типу `pandas.DataFrame`."
   ]
  },
  {
   "cell_type": "code",
   "execution_count": 1,
   "metadata": {
    "execution": {
     "iopub.execute_input": "2025-07-02T07:24:11.034731Z",
     "iopub.status.busy": "2025-07-02T07:24:11.034054Z",
     "iopub.status.idle": "2025-07-02T07:24:14.173055Z",
     "shell.execute_reply": "2025-07-02T07:24:14.172268Z",
     "shell.execute_reply.started": "2025-07-02T07:24:11.034689Z"
    },
    "id": "xBI9gJMK8qnl"
   },
   "outputs": [],
   "source": [
    "# Імпортуємо бібліотеку Pandas:\n",
    "import pandas as pd\n",
    "\n",
    "# Зчитуємо дані з CSV файлу:\n",
    "df = pd.read_csv(r\"C:\\Users\\ADMIN\\Desktop\\supermarket_sales.csv\")"
   ]
  },
  {
   "cell_type": "markdown",
   "metadata": {
    "id": "28638363"
   },
   "source": [
    "1. Дослідимо, який філіал супермаркету ('Branch') є найприбутковішим. Для цього знайдіть сумарний прибуток за кожним філіалом і виявіть, який філіал має найвищий."
   ]
  },
  {
   "cell_type": "code",
   "execution_count": 2,
   "metadata": {
    "ExecuteTime": {
     "end_time": "2022-11-01T17:27:42.023877Z",
     "start_time": "2022-11-01T17:27:42.020277Z"
    },
    "execution": {
     "iopub.execute_input": "2025-07-02T07:25:46.104997Z",
     "iopub.status.busy": "2025-07-02T07:25:46.104432Z",
     "iopub.status.idle": "2025-07-02T07:25:46.137453Z",
     "shell.execute_reply": "2025-07-02T07:25:46.136239Z",
     "shell.execute_reply.started": "2025-07-02T07:25:46.104961Z"
    },
    "id": "916d731d"
   },
   "outputs": [
    {
     "data": {
      "text/plain": [
       "Branch\n",
       "C    5265.1765\n",
       "A    5057.1605\n",
       "B    5057.0320\n",
       "Name: gross income, dtype: float64"
      ]
     },
     "execution_count": 2,
     "metadata": {},
     "output_type": "execute_result"
    }
   ],
   "source": [
    "df.groupby('Branch')['gross income'].sum().sort_values(ascending=False)"
   ]
  },
  {
   "cell_type": "markdown",
   "metadata": {
    "id": "2qL_OddUCZKK"
   },
   "source": [
    "2. В якому місті знайходиться філіал з найвищим прибутком? Може в тому місці нам розмітисти ще один магазин.  \n",
    "Знайдіть відповідь за допомогою функціоналу Pandas."
   ]
  },
  {
   "cell_type": "code",
   "execution_count": 7,
   "metadata": {
    "execution": {
     "iopub.execute_input": "2025-07-03T14:05:31.969967Z",
     "iopub.status.busy": "2025-07-03T14:05:31.969254Z",
     "iopub.status.idle": "2025-07-03T14:05:31.974854Z",
     "shell.execute_reply": "2025-07-03T14:05:31.974030Z",
     "shell.execute_reply.started": "2025-07-03T14:05:31.969934Z"
    }
   },
   "outputs": [],
   "source": [
    "# Знаходимо прибуток по філіалах\n",
    "branch_profit = df.groupby('Branch')['gross income'].sum().sort_values(ascending=False)"
   ]
  },
  {
   "cell_type": "code",
   "execution_count": 8,
   "metadata": {
    "execution": {
     "iopub.execute_input": "2025-07-03T14:05:59.003836Z",
     "iopub.status.busy": "2025-07-03T14:05:59.003277Z",
     "iopub.status.idle": "2025-07-03T14:05:59.018233Z",
     "shell.execute_reply": "2025-07-03T14:05:59.017576Z",
     "shell.execute_reply.started": "2025-07-03T14:05:59.003816Z"
    }
   },
   "outputs": [],
   "source": [
    "# Знаходимо фылыал з найбыльшим прибутком\n",
    "top_branch = branch_profit.idxmax()"
   ]
  },
  {
   "cell_type": "code",
   "execution_count": 9,
   "metadata": {
    "execution": {
     "iopub.execute_input": "2025-07-03T14:06:35.837928Z",
     "iopub.status.busy": "2025-07-03T14:06:35.837480Z",
     "iopub.status.idle": "2025-07-03T14:06:35.864249Z",
     "shell.execute_reply": "2025-07-03T14:06:35.863140Z",
     "shell.execute_reply.started": "2025-07-03T14:06:35.837894Z"
    }
   },
   "outputs": [
    {
     "name": "stdout",
     "output_type": "stream",
     "text": [
      "Філіал C з найвищим прибутком знаходиться в місті Naypyitaw.\n"
     ]
    }
   ],
   "source": [
    "# Знаходимо у якому місті цей філіал\n",
    "city_of_top_branch = df[df['Branch'] == top_branch]['City'].unique()[0]\n",
    "print(f\"Філіал {top_branch} з найвищим прибутком знаходиться в місті {city_of_top_branch}.\")"
   ]
  },
  {
   "cell_type": "markdown",
   "metadata": {
    "id": "6dec795f"
   },
   "source": [
    "3.1. Створіть зводну таблицю, яка покаже, скільки покупок (інвойсів) було зроблено в кожній з філій (`Branch`) за різними категоріями товарів. Запишіть таблицю в змінну `invoices_by_category` і виведіть змінну на екран.\n",
    "Ця таблиця допоможе проаналізувати, в якій філії купують найбільше товарів кожної з категорій."
   ]
  },
  {
   "cell_type": "code",
   "execution_count": 10,
   "metadata": {
    "execution": {
     "iopub.execute_input": "2025-07-03T14:10:09.732552Z",
     "iopub.status.busy": "2025-07-03T14:10:09.731368Z",
     "iopub.status.idle": "2025-07-03T14:10:09.849438Z",
     "shell.execute_reply": "2025-07-03T14:10:09.847876Z",
     "shell.execute_reply.started": "2025-07-03T14:10:09.732510Z"
    },
    "id": "N7TfUBf4ZrkX"
   },
   "outputs": [
    {
     "name": "stdout",
     "output_type": "stream",
     "text": [
      "Branch                   A   B   C\n",
      "Product line                      \n",
      "Electronic accessories  60  55  55\n",
      "Fashion accessories     51  62  65\n",
      "Food and beverages      58  50  66\n",
      "Health and beauty       47  53  52\n",
      "Home and lifestyle      65  50  45\n",
      "Sports and travel       59  62  45\n"
     ]
    }
   ],
   "source": [
    "invoices_by_category = df.pivot_table(\n",
    "    index='Product line',\n",
    "    columns='Branch',\n",
    "    values='Invoice ID',\n",
    "    aggfunc='count'\n",
    ")\n",
    "\n",
    "print(invoices_by_category)"
   ]
  },
  {
   "cell_type": "markdown",
   "metadata": {
    "ExecuteTime": {
     "end_time": "2022-11-01T16:50:46.961201Z",
     "start_time": "2022-11-01T16:50:46.955894Z"
    },
    "id": "f5bbfa34"
   },
   "source": [
    "Очікуваний результат:"
   ]
  },
  {
   "cell_type": "markdown",
   "metadata": {
    "id": "34b9bcdc"
   },
   "source": [
    "![](https://drive.google.com/uc?export=view&id=1rueAdko6S3UxIHGtojetTxlES-EyM6Yb)"
   ]
  },
  {
   "cell_type": "markdown",
   "metadata": {
    "id": "woygDEA0OSwJ"
   },
   "source": [
    "3.2. Викристовуючи змінну `invoices_by_category` дайте відповідь програмно (тобто значення треба не просто знайти очима, а вивести за допомогою коду), в якому філіалі магазину (`Branch`) найбільше інвойсів із покупкою товарів категорії \"Електронні аксесуари\" (`Electronic accessories`)?\n"
   ]
  },
  {
   "cell_type": "code",
   "execution_count": 11,
   "metadata": {
    "execution": {
     "iopub.execute_input": "2025-07-03T14:11:05.958004Z",
     "iopub.status.busy": "2025-07-03T14:11:05.957417Z",
     "iopub.status.idle": "2025-07-03T14:11:05.966508Z",
     "shell.execute_reply": "2025-07-03T14:11:05.965158Z",
     "shell.execute_reply.started": "2025-07-03T14:11:05.957966Z"
    },
    "id": "B5x8kTE-Qcq8"
   },
   "outputs": [
    {
     "name": "stdout",
     "output_type": "stream",
     "text": [
      "Найбільше інвойсів для 'Electronic accessories' у філії: A\n"
     ]
    }
   ],
   "source": [
    "top_branch_for_electronics = invoices_by_category.loc['Electronic accessories'].idxmax()\n",
    "print(f\"Найбільше інвойсів для 'Electronic accessories' у філії: {top_branch_for_electronics}\")"
   ]
  },
  {
   "cell_type": "markdown",
   "metadata": {
    "ExecuteTime": {
     "end_time": "2022-11-01T17:56:02.981755Z",
     "start_time": "2022-11-01T17:56:02.977086Z"
    },
    "id": "d005a2b8"
   },
   "source": [
    "4-6. **Творче завдання на розвиток аналітичного мислення**\n",
    "\n",
    "Крок 1. Сформулюйте ТРИ питання (гіпотези) до наявних даних, які допомогли б вам зрозуміти, які користувачі що, де та коли найбільше/найменше купують, аби дати на основі цих гіпотез рекомендації бізнесу. Звісно питання мають бути не тими, на які ми вже відповіли в завданнях модулю.\n",
    "\n",
    "Крок 2. Знайдіть відповіді на свої питання з допомогою функціоналу pandas.\n",
    "\n",
    "Крок 3. Напишіть, як відповідь на це питання може бути використана для прийняття бізнес рішень.   \n",
    "   \n",
    " Питання можуть бути будь-якої складності, але їх має бути 3. Кожне питання оцінюється як 1 завдання. Без виконання цього завдання ДЗ не приймається. Якщо є питання щодо виконання - пишіть у чат 🙌\n"
   ]
  },
  {
   "cell_type": "markdown",
   "metadata": {},
   "source": [
    "Гіпотези:\n",
    "1. Хто саме (чоловіки чи жінки) купують товарів на більшу суму? Тобто, хто є нашими потенційнми клієнтами.\n",
    "2. Який тип клієнтів (\"Member\" чи \"Normal\") частіше купує дорожчі товари (вища Unit price)?\n",
    "3. У який день тижня найбільше продажів? Чи зберігається тенденція у всіх містах?"
   ]
  },
  {
   "cell_type": "code",
   "execution_count": 12,
   "metadata": {
    "execution": {
     "iopub.execute_input": "2025-07-03T14:16:11.787355Z",
     "iopub.status.busy": "2025-07-03T14:16:11.786652Z",
     "iopub.status.idle": "2025-07-03T14:16:11.810959Z",
     "shell.execute_reply": "2025-07-03T14:16:11.810254Z",
     "shell.execute_reply.started": "2025-07-03T14:16:11.787325Z"
    },
    "id": "cM3cApWSZuRX"
   },
   "outputs": [
    {
     "name": "stdout",
     "output_type": "stream",
     "text": [
      "Gender\n",
      "Female    335.095659\n",
      "Male      310.789226\n",
      "Name: Total, dtype: float64\n"
     ]
    }
   ],
   "source": [
    "# Перевірка гіпотези 1\n",
    "avg_total_by_gender = df.groupby('Gender')['Total'].mean()\n",
    "print(avg_total_by_gender)"
   ]
  },
  {
   "cell_type": "code",
   "execution_count": 13,
   "metadata": {
    "execution": {
     "iopub.execute_input": "2025-07-03T14:24:21.992774Z",
     "iopub.status.busy": "2025-07-03T14:24:21.992308Z",
     "iopub.status.idle": "2025-07-03T14:24:22.000847Z",
     "shell.execute_reply": "2025-07-03T14:24:21.999985Z",
     "shell.execute_reply.started": "2025-07-03T14:24:21.992744Z"
    }
   },
   "outputs": [
    {
     "name": "stdout",
     "output_type": "stream",
     "text": [
      "Customer type\n",
      "Member    56.206986\n",
      "Normal    55.135130\n",
      "Name: Unit price, dtype: float64\n"
     ]
    }
   ],
   "source": [
    "# Перевірка гіпотези 2\n",
    "avg_unit_price_by_customer_type = df.groupby('Customer type')['Unit price'].mean()\n",
    "print(avg_unit_price_by_customer_type)"
   ]
  },
  {
   "cell_type": "code",
   "execution_count": 14,
   "metadata": {
    "execution": {
     "iopub.execute_input": "2025-07-03T14:24:47.970249Z",
     "iopub.status.busy": "2025-07-03T14:24:47.969531Z",
     "iopub.status.idle": "2025-07-03T14:24:48.047141Z",
     "shell.execute_reply": "2025-07-03T14:24:48.046523Z",
     "shell.execute_reply.started": "2025-07-03T14:24:47.970228Z"
    }
   },
   "outputs": [],
   "source": [
    "# Перевірка гіпотези 3\n",
    "df['Day of week'] = pd.to_datetime(df['Date']).dt.day_name()"
   ]
  },
  {
   "cell_type": "code",
   "execution_count": 15,
   "metadata": {
    "execution": {
     "iopub.execute_input": "2025-07-03T14:24:55.592339Z",
     "iopub.status.busy": "2025-07-03T14:24:55.581775Z",
     "iopub.status.idle": "2025-07-03T14:24:55.607947Z",
     "shell.execute_reply": "2025-07-03T14:24:55.606783Z",
     "shell.execute_reply.started": "2025-07-03T14:24:55.592310Z"
    }
   },
   "outputs": [
    {
     "name": "stdout",
     "output_type": "stream",
     "text": [
      "Day of week  Friday  Monday  Saturday  Sunday  Thursday  Tuesday  Wednesday\n",
      "City                                                                       \n",
      "Mandalay         51      39        60      35        44       53         50\n",
      "Naypyitaw        38      38        54      46        48       54         50\n",
      "Yangon           50      48        50      52        46       51         43\n"
     ]
    }
   ],
   "source": [
    "purchases_by_day_city = df.groupby(['City', 'Day of week'])['Invoice ID'].count().unstack()\n",
    "print(purchases_by_day_city)"
   ]
  },
  {
   "cell_type": "markdown",
   "metadata": {},
   "source": [
    "Висновки:\n",
    "Перевіряючи гіпотезу 1 бачимо, що жінки купують на більші чеки. Тому доречно налаштовувати рекламу, спрямовану саме на них, додавати товари, які їх ймовірніше будут більше цікавити.\n",
    "Аналізуючи результати гіпотези 2, бачимо, що Member купують на більші чеки. Тобто, варто залучати клієнтів до того, щоб вони стали учасниками програми лояльності. Це у майбутньому принесе більше грошей.\n",
    "Аналіз результатів гіпотези 3 показує, що найбільше покупок у Saturday і Tuesday  майже для всіх міст. Це значить, що бізнесу варто залучати більше працівників у цей день, слідкувати за повним товарним завантаженням, проводит додаткові акції.\n"
   ]
  }
 ],
 "metadata": {
  "colab": {
   "provenance": []
  },
  "kernelspec": {
   "display_name": "Python 3 (ipykernel)",
   "language": "python",
   "name": "python3"
  },
  "language_info": {
   "codemirror_mode": {
    "name": "ipython",
    "version": 3
   },
   "file_extension": ".py",
   "mimetype": "text/x-python",
   "name": "python",
   "nbconvert_exporter": "python",
   "pygments_lexer": "ipython3",
   "version": "3.13.4"
  }
 },
 "nbformat": 4,
 "nbformat_minor": 4
}

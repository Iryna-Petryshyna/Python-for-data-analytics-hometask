{
 "cells": [
  {
   "cell_type": "markdown",
   "metadata": {
    "id": "9ngpqNFm8w1a"
   },
   "source": [
    "# Домашнє завдання до теми \"Основи роботи з рядками та математичні операції\""
   ]
  },
  {
   "cell_type": "markdown",
   "metadata": {
    "id": "DEkQSeSyTum-"
   },
   "source": [
    "1. Створіть змінні `a`, `b`, `c` та `d`, задайте їм значення відповідно 101, 210, 111, 402, та обчисліть з допомогою Python наступний вираз:  $$ \\frac{(a+b) * c}{d} $$\n",
    "\n",
    "**Важливо**: тут ми маємо обчислити значення саме з використанням змінних, а не просто чисел, як би ми робили у калькуряторі. Змінні потрібні аби за бажання ми могли змінити їх значення та не переписувати код обчислення виразу, бо він буде працювати для різних значень змінних."
   ]
  },
  {
   "cell_type": "code",
   "execution_count": 6,
   "metadata": {
    "execution": {
     "iopub.execute_input": "2025-06-11T12:34:22.935180Z",
     "iopub.status.busy": "2025-06-11T12:34:22.934902Z",
     "iopub.status.idle": "2025-06-11T12:34:22.937969Z",
     "shell.execute_reply": "2025-06-11T12:34:22.937327Z",
     "shell.execute_reply.started": "2025-06-11T12:34:22.935162Z"
    },
    "id": "u1ICQq5L3eKH"
   },
   "outputs": [],
   "source": [
    "a = 101\n",
    "b = 210\n",
    "c = 111\n",
    "d = 402"
   ]
  },
  {
   "cell_type": "code",
   "execution_count": 5,
   "metadata": {
    "execution": {
     "iopub.execute_input": "2025-06-11T12:34:18.126970Z",
     "iopub.status.busy": "2025-06-11T12:34:18.126522Z",
     "iopub.status.idle": "2025-06-11T12:34:18.132794Z",
     "shell.execute_reply": "2025-06-11T12:34:18.132139Z",
     "shell.execute_reply.started": "2025-06-11T12:34:18.126950Z"
    }
   },
   "outputs": [
    {
     "data": {
      "text/plain": [
       "85.8731343283582"
      ]
     },
     "execution_count": 5,
     "metadata": {},
     "output_type": "execute_result"
    }
   ],
   "source": [
    "f = (( a + b ) * c)/d\n",
    "f"
   ]
  },
  {
   "cell_type": "markdown",
   "metadata": {
    "id": "FnBVPt7G3bcR"
   },
   "source": [
    "Очікувана відповідь: 85.8731343283582"
   ]
  },
  {
   "cell_type": "markdown",
   "metadata": {
    "id": "HI3eEYZRT4Cn"
   },
   "source": [
    "2. Якою буде остача від ділення числа 11283 на 89? Обчисліть з допомогою Python."
   ]
  },
  {
   "cell_type": "code",
   "execution_count": 7,
   "metadata": {
    "execution": {
     "iopub.execute_input": "2025-06-11T12:36:40.634302Z",
     "iopub.status.busy": "2025-06-11T12:36:40.633786Z",
     "iopub.status.idle": "2025-06-11T12:36:40.637061Z",
     "shell.execute_reply": "2025-06-11T12:36:40.636584Z",
     "shell.execute_reply.started": "2025-06-11T12:36:40.634282Z"
    },
    "id": "ejZc3ng_TpgY"
   },
   "outputs": [],
   "source": [
    "a = 11283\n",
    "b = 89"
   ]
  },
  {
   "cell_type": "code",
   "execution_count": 8,
   "metadata": {
    "execution": {
     "iopub.execute_input": "2025-06-11T12:38:47.289737Z",
     "iopub.status.busy": "2025-06-11T12:38:47.289228Z",
     "iopub.status.idle": "2025-06-11T12:38:47.294344Z",
     "shell.execute_reply": "2025-06-11T12:38:47.293697Z",
     "shell.execute_reply.started": "2025-06-11T12:38:47.289718Z"
    }
   },
   "outputs": [
    {
     "data": {
      "text/plain": [
       "69"
      ]
     },
     "execution_count": 8,
     "metadata": {},
     "output_type": "execute_result"
    }
   ],
   "source": [
    "c = a % b\n",
    "c"
   ]
  },
  {
   "cell_type": "markdown",
   "metadata": {
    "id": "RO02CqdqT9oG"
   },
   "source": [
    "3. Скільки цілих разів поміститься число 89 в 11283? (Або що те саме: який буде результат цілочисельного ділення 11283 на 89?)"
   ]
  },
  {
   "cell_type": "code",
   "execution_count": 9,
   "metadata": {
    "execution": {
     "iopub.execute_input": "2025-06-11T12:40:23.139521Z",
     "iopub.status.busy": "2025-06-11T12:40:23.138900Z",
     "iopub.status.idle": "2025-06-11T12:40:23.143666Z",
     "shell.execute_reply": "2025-06-11T12:40:23.143178Z",
     "shell.execute_reply.started": "2025-06-11T12:40:23.139488Z"
    },
    "id": "KEUb9lO5T_PI"
   },
   "outputs": [
    {
     "data": {
      "text/plain": [
       "126"
      ]
     },
     "execution_count": 9,
     "metadata": {},
     "output_type": "execute_result"
    }
   ],
   "source": [
    "d = a // b\n",
    "d"
   ]
  },
  {
   "cell_type": "markdown",
   "metadata": {
    "id": "5fnIPumiT_rt"
   },
   "source": [
    "4. Запишіть у змінну `name` ваше імʼя."
   ]
  },
  {
   "cell_type": "code",
   "execution_count": 10,
   "metadata": {
    "execution": {
     "iopub.execute_input": "2025-06-11T12:40:40.952934Z",
     "iopub.status.busy": "2025-06-11T12:40:40.952643Z",
     "iopub.status.idle": "2025-06-11T12:40:40.955587Z",
     "shell.execute_reply": "2025-06-11T12:40:40.955035Z",
     "shell.execute_reply.started": "2025-06-11T12:40:40.952917Z"
    },
    "id": "xP7Mbq45UFlV"
   },
   "outputs": [],
   "source": [
    "name = 'Iryna'"
   ]
  },
  {
   "cell_type": "markdown",
   "metadata": {
    "id": "fR9TqY79UNDL"
   },
   "source": [
    "5. Запишіть у змінну `surname` ваше прізвище."
   ]
  },
  {
   "cell_type": "code",
   "execution_count": 11,
   "metadata": {
    "execution": {
     "iopub.execute_input": "2025-06-11T12:41:00.496361Z",
     "iopub.status.busy": "2025-06-11T12:41:00.495926Z",
     "iopub.status.idle": "2025-06-11T12:41:00.499103Z",
     "shell.execute_reply": "2025-06-11T12:41:00.498601Z",
     "shell.execute_reply.started": "2025-06-11T12:41:00.496341Z"
    },
    "id": "0qHjyMyvUOM1"
   },
   "outputs": [],
   "source": [
    "surname = 'Petryshyna'"
   ]
  },
  {
   "cell_type": "markdown",
   "metadata": {
    "id": "zqKncQLwUOxh"
   },
   "source": [
    "6. Сконкатенуйте імʼя та прізвище в одну фразу через пробіл. Запишіть результат у нову змінну `name_surname` та виведіть результат на екран.  "
   ]
  },
  {
   "cell_type": "code",
   "execution_count": 41,
   "metadata": {
    "execution": {
     "iopub.execute_input": "2025-06-11T15:40:26.984107Z",
     "iopub.status.busy": "2025-06-11T15:40:26.983639Z",
     "iopub.status.idle": "2025-06-11T15:40:26.987381Z",
     "shell.execute_reply": "2025-06-11T15:40:26.986663Z",
     "shell.execute_reply.started": "2025-06-11T15:40:26.984092Z"
    },
    "id": "8E-blvN-UTPg"
   },
   "outputs": [
    {
     "name": "stdout",
     "output_type": "stream",
     "text": [
      "Iryna Petryshyna\n"
     ]
    }
   ],
   "source": [
    "name_surname = name + ' ' + surname\n",
    "print (name_surname)"
   ]
  },
  {
   "cell_type": "markdown",
   "metadata": {
    "id": "_Unl7EXlUgYn"
   },
   "source": [
    "Очікувана відповідь (тільки з вашими даними): 'Hanna Pylieva'"
   ]
  },
  {
   "cell_type": "markdown",
   "metadata": {
    "id": "z-3FI0IrUT0U"
   },
   "source": [
    "7. Зробіть усі літери змінної `name_surname` заглавними використовуючи метод рядків в Python:"
   ]
  },
  {
   "cell_type": "code",
   "execution_count": 21,
   "metadata": {
    "execution": {
     "iopub.execute_input": "2025-06-11T15:01:15.312366Z",
     "iopub.status.busy": "2025-06-11T15:01:15.312063Z",
     "iopub.status.idle": "2025-06-11T15:01:15.316034Z",
     "shell.execute_reply": "2025-06-11T15:01:15.315554Z",
     "shell.execute_reply.started": "2025-06-11T15:01:15.312350Z"
    }
   },
   "outputs": [
    {
     "data": {
      "text/plain": [
       "'IRYNA PETRYSHYNA'"
      ]
     },
     "execution_count": 21,
     "metadata": {},
     "output_type": "execute_result"
    }
   ],
   "source": [
    "name_surname.upper()"
   ]
  },
  {
   "cell_type": "markdown",
   "metadata": {
    "id": "6PDcqfmdUcLo"
   },
   "source": [
    "Очікувана відповідь (тільки з вашими даними): 'HANNA PYLIEVA'"
   ]
  },
  {
   "cell_type": "markdown",
   "metadata": {
    "id": "qNl8KxeXUtnL"
   },
   "source": [
    "8. Виведіть третю літеру вашого `name_surname`. Тут уважно, треба саме третя літера. Згадайте, з якого значення починається індексування значень в Python."
   ]
  },
  {
   "cell_type": "code",
   "execution_count": 42,
   "metadata": {
    "execution": {
     "iopub.execute_input": "2025-06-11T15:41:11.268653Z",
     "iopub.status.busy": "2025-06-11T15:41:11.268390Z",
     "iopub.status.idle": "2025-06-11T15:41:11.272559Z",
     "shell.execute_reply": "2025-06-11T15:41:11.271705Z",
     "shell.execute_reply.started": "2025-06-11T15:41:11.268638Z"
    },
    "id": "Tp7stqAhUvJz"
   },
   "outputs": [
    {
     "name": "stdout",
     "output_type": "stream",
     "text": [
      "y\n"
     ]
    }
   ],
   "source": [
    "print (name_surname[2])"
   ]
  },
  {
   "cell_type": "markdown",
   "metadata": {
    "id": "GYWHqb3UUvqk"
   },
   "source": [
    "Очікувана відповідь (тільки з вашими даними): 'n'"
   ]
  },
  {
   "cell_type": "markdown",
   "metadata": {
    "id": "1f3cc1a7",
    "pycharm": {
     "name": "#%% md\n"
    }
   },
   "source": [
    "9. Виведіть першу та останню літеру вашого прізвища."
   ]
  },
  {
   "cell_type": "code",
   "execution_count": 47,
   "metadata": {
    "execution": {
     "iopub.execute_input": "2025-06-11T15:42:27.743227Z",
     "iopub.status.busy": "2025-06-11T15:42:27.742950Z",
     "iopub.status.idle": "2025-06-11T15:42:27.746199Z",
     "shell.execute_reply": "2025-06-11T15:42:27.745647Z",
     "shell.execute_reply.started": "2025-06-11T15:42:27.743210Z"
    }
   },
   "outputs": [
    {
     "name": "stdout",
     "output_type": "stream",
     "text": [
      "P\n",
      "a\n"
     ]
    }
   ],
   "source": [
    "print (surname [0])\n",
    "print (surname [-1])"
   ]
  },
  {
   "cell_type": "markdown",
   "metadata": {
    "id": "KjlFjjhHVAt2"
   },
   "source": [
    "Очікувана відповідь (тільки з вашими даними): ('P', 'a')"
   ]
  },
  {
   "cell_type": "markdown",
   "metadata": {
    "id": "UYLoho3DVMt2"
   },
   "source": [
    "10. Виведіть довжину вашого прізвища."
   ]
  },
  {
   "cell_type": "code",
   "execution_count": 26,
   "metadata": {
    "execution": {
     "iopub.execute_input": "2025-06-11T15:07:17.921245Z",
     "iopub.status.busy": "2025-06-11T15:07:17.920960Z",
     "iopub.status.idle": "2025-06-11T15:07:17.925416Z",
     "shell.execute_reply": "2025-06-11T15:07:17.924773Z",
     "shell.execute_reply.started": "2025-06-11T15:07:17.921226Z"
    },
    "id": "0TPJBh0LVA8q"
   },
   "outputs": [
    {
     "data": {
      "text/plain": [
       "10"
      ]
     },
     "execution_count": 26,
     "metadata": {},
     "output_type": "execute_result"
    }
   ],
   "source": [
    "len (surname)"
   ]
  },
  {
   "cell_type": "markdown",
   "metadata": {
    "id": "9FaxqvVgVRYW"
   },
   "source": [
    "Очікувана відповідь (тільки з вашими даними): 7\n"
   ]
  },
  {
   "cell_type": "markdown",
   "metadata": {
    "id": "JN2wxSlGVVAj"
   },
   "source": [
    "11. Виведіть кількість літер `a` у столиці Мадагаскару `Antananarivo`. Важливо врахувати всі літери, як великі, так і маленькі."
   ]
  },
  {
   "cell_type": "code",
   "execution_count": 31,
   "metadata": {
    "execution": {
     "iopub.execute_input": "2025-06-11T15:13:30.096900Z",
     "iopub.status.busy": "2025-06-11T15:13:30.096586Z",
     "iopub.status.idle": "2025-06-11T15:13:30.099947Z",
     "shell.execute_reply": "2025-06-11T15:13:30.099483Z",
     "shell.execute_reply.started": "2025-06-11T15:13:30.096885Z"
    }
   },
   "outputs": [
    {
     "name": "stdout",
     "output_type": "stream",
     "text": [
      "Кількість літер 'a': 4\n"
     ]
    }
   ],
   "source": [
    "city = 'Antananarivo'\n",
    "count_a = city.lower().count('a')\n",
    "print(\"Кількість літер 'a':\", count_a)"
   ]
  },
  {
   "cell_type": "markdown",
   "metadata": {
    "id": "Ux4SQiuSVo92"
   },
   "source": [
    "Очікувана відповідь: 4"
   ]
  },
  {
   "cell_type": "markdown",
   "metadata": {
    "id": "mwEs0xnmVtes"
   },
   "source": [
    "12. Створіть рядок `my_string` зі значенням: \"The quick brown fox jumps over the lazy dog!!!\".   \n",
    "Перевірте, чи починається рядок `my_string` з \"The\" і чи закінчується він \"dog!\". Виведіть результати на екран."
   ]
  },
  {
   "cell_type": "code",
   "execution_count": 33,
   "metadata": {
    "execution": {
     "iopub.execute_input": "2025-06-11T15:19:53.475385Z",
     "iopub.status.busy": "2025-06-11T15:19:53.475072Z",
     "iopub.status.idle": "2025-06-11T15:19:53.479048Z",
     "shell.execute_reply": "2025-06-11T15:19:53.478492Z",
     "shell.execute_reply.started": "2025-06-11T15:19:53.475369Z"
    },
    "id": "VlXDNpXcVs59"
   },
   "outputs": [
    {
     "name": "stdout",
     "output_type": "stream",
     "text": [
      "True\n",
      "False\n"
     ]
    }
   ],
   "source": [
    "my_string = \"The quick brown fox jumps over the lazy dog!!!\"\n",
    "print(my_string.startswith(\"The\"))\n",
    "print(my_string.endswith(\"dog\"))"
   ]
  },
  {
   "cell_type": "markdown",
   "metadata": {
    "id": "Yc-UwtqvV_h0"
   },
   "source": [
    "13. Розділіть рядок `my_string` на список окремих слів, а потім з'єднайте всі слова через нижнє підкреслювання. Виведіть результат на екран."
   ]
  },
  {
   "cell_type": "code",
   "execution_count": 34,
   "metadata": {
    "execution": {
     "iopub.execute_input": "2025-06-11T15:28:47.382409Z",
     "iopub.status.busy": "2025-06-11T15:28:47.381857Z",
     "iopub.status.idle": "2025-06-11T15:28:47.386496Z",
     "shell.execute_reply": "2025-06-11T15:28:47.385998Z",
     "shell.execute_reply.started": "2025-06-11T15:28:47.382388Z"
    },
    "id": "m5I48Ii-WDSK"
   },
   "outputs": [
    {
     "data": {
      "text/plain": [
       "['The', 'quick', 'brown', 'fox', 'jumps', 'over', 'the', 'lazy', 'dog!!!']"
      ]
     },
     "execution_count": 34,
     "metadata": {},
     "output_type": "execute_result"
    }
   ],
   "source": [
    "my_string.split()"
   ]
  },
  {
   "cell_type": "code",
   "execution_count": 40,
   "metadata": {
    "execution": {
     "iopub.execute_input": "2025-06-11T15:37:24.975357Z",
     "iopub.status.busy": "2025-06-11T15:37:24.975091Z",
     "iopub.status.idle": "2025-06-11T15:37:24.979163Z",
     "shell.execute_reply": "2025-06-11T15:37:24.978588Z",
     "shell.execute_reply.started": "2025-06-11T15:37:24.975340Z"
    }
   },
   "outputs": [
    {
     "data": {
      "text/plain": [
       "'The_quick_brown_fox_jumps_over_the_lazy_dog!!!'"
      ]
     },
     "execution_count": 40,
     "metadata": {},
     "output_type": "execute_result"
    }
   ],
   "source": [
    "\"_\".join(['The', 'quick', 'brown', 'fox', 'jumps', 'over', 'the', 'lazy', 'dog!!!'])"
   ]
  },
  {
   "cell_type": "markdown",
   "metadata": {
    "id": "UqvD1_jIXRhx"
   },
   "source": [
    "Очікуваний результат: `The_quick_brown_fox_jumps_over_the_lazy_dog!!!`"
   ]
  }
 ],
 "metadata": {
  "colab": {
   "provenance": []
  },
  "kernelspec": {
   "display_name": "Python 3 (ipykernel)",
   "language": "python",
   "name": "python3"
  },
  "language_info": {
   "codemirror_mode": {
    "name": "ipython",
    "version": 3
   },
   "file_extension": ".py",
   "mimetype": "text/x-python",
   "name": "python",
   "nbconvert_exporter": "python",
   "pygments_lexer": "ipython3",
   "version": "3.13.4"
  }
 },
 "nbformat": 4,
 "nbformat_minor": 4
}

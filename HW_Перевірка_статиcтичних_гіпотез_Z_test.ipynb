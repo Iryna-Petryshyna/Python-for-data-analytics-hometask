{
 "cells": [
  {
   "cell_type": "markdown",
   "id": "e152f6d6",
   "metadata": {
    "ExecuteTime": {
     "end_time": "2022-12-10T14:29:24.703416Z",
     "start_time": "2022-12-10T14:29:24.688485Z"
    },
    "id": "e152f6d6"
   },
   "source": [
    "#Перевірка статиcтичних гіпотез. Z-test.\n",
    "\n"
   ]
  },
  {
   "cell_type": "markdown",
   "id": "cd404683",
   "metadata": {
    "id": "cd404683"
   },
   "source": [
    "0. Зчитайте дані з `data.csv` у змінну data, яка має тип pandas.DataFrame. Ми будемо далі працювати з цією змінною."
   ]
  },
  {
   "cell_type": "code",
   "execution_count": 9,
   "id": "bc99d664-9bba-4603-95f1-3553370f4de4",
   "metadata": {
    "execution": {
     "iopub.execute_input": "2025-08-31T06:24:24.977544Z",
     "iopub.status.busy": "2025-08-31T06:24:24.976995Z",
     "iopub.status.idle": "2025-08-31T06:24:24.988111Z",
     "shell.execute_reply": "2025-08-31T06:24:24.986694Z",
     "shell.execute_reply.started": "2025-08-31T06:24:24.977509Z"
    }
   },
   "outputs": [],
   "source": [
    "import numpy as np\n",
    "import pandas as pd\n",
    "import matplotlib.pyplot as plt\n",
    "import seaborn as sns\n",
    "from scipy import stats\n",
    "\n",
    "# Налаштування для візуалізації\n",
    "plt.rcParams['figure.figsize'] = (12, 7)\n",
    "plt.rcParams['font.size'] = 12"
   ]
  },
  {
   "cell_type": "code",
   "execution_count": 10,
   "id": "b20b6ba2",
   "metadata": {
    "execution": {
     "iopub.execute_input": "2025-08-31T06:24:26.265853Z",
     "iopub.status.busy": "2025-08-31T06:24:26.265169Z",
     "iopub.status.idle": "2025-08-31T06:24:26.336670Z",
     "shell.execute_reply": "2025-08-31T06:24:26.335179Z",
     "shell.execute_reply.started": "2025-08-31T06:24:26.265813Z"
    },
    "id": "b20b6ba2"
   },
   "outputs": [
    {
     "name": "stdout",
     "output_type": "stream",
     "text": [
      "<class 'pandas.core.frame.DataFrame'>\n",
      "   Unnamed: 0       data\n",
      "0           0  17.499453\n",
      "1           1  19.662399\n",
      "2           2   7.182823\n",
      "3           3  29.841625\n",
      "4           4   9.239386\n"
     ]
    }
   ],
   "source": [
    "# Зчитування даних\n",
    "data = pd.read_csv('data.csv')\n",
    "\n",
    "# Перевірка\n",
    "print(type(data))\n",
    "print(data.head())  # показати перші 5 рядків"
   ]
  },
  {
   "cell_type": "markdown",
   "id": "3d06cbbf",
   "metadata": {
    "id": "3d06cbbf"
   },
   "source": [
    "Запустіть код нижче. Для коректної робити всіх подальших методів дані мають бути у вигляді одновимірного `numpy.ndarray` вектора та мати розмірність (100,). Така розмірність означає, що дані - одновимірні (колонка), якщо б розмірність була (100, 1), то дані сприймаються методами як двовимірні (таблиця), хоча для нас виглядати можуть так само."
   ]
  },
  {
   "cell_type": "code",
   "execution_count": 11,
   "id": "cce1632b",
   "metadata": {
    "colab": {
     "base_uri": "https://localhost:8080/"
    },
    "execution": {
     "iopub.execute_input": "2025-08-31T06:24:30.944536Z",
     "iopub.status.busy": "2025-08-31T06:24:30.943951Z",
     "iopub.status.idle": "2025-08-31T06:24:30.958601Z",
     "shell.execute_reply": "2025-08-31T06:24:30.957015Z",
     "shell.execute_reply.started": "2025-08-31T06:24:30.944499Z"
    },
    "id": "cce1632b",
    "outputId": "2e142439-2a4f-4057-ff9d-e6a4b3d7e955"
   },
   "outputs": [
    {
     "data": {
      "text/plain": [
       "(100,)"
      ]
     },
     "execution_count": 11,
     "metadata": {},
     "output_type": "execute_result"
    }
   ],
   "source": [
    "data = data.data.values\n",
    "data.shape"
   ]
  },
  {
   "cell_type": "markdown",
   "id": "abdcef5d",
   "metadata": {
    "id": "abdcef5d"
   },
   "source": [
    "**Завдання 1**. Зчитані дані - це сума покупок в доларах наших покупців на сайті протягом липня 2025 року.\n",
    "\n",
    "До цього місяця, ми мали продажі в середньому на чек $20.\n",
    "\n",
    "Необхідно зʼясувати, чи вийшло у нас статистично значущо **підвищити** середній чек за липень 2025?\n",
    "\n",
    "Аби дати відповідь - ми проведемо z-test на рівні значущості $\\alpha=0.05$ двома способами. В цьому завданні ми будемо виконувати обчислення \"вручну\" з використанням бібліотек numpy та scipy.stats подібно до прикладу в лекції. Для цього виконайте наступні 7 кроків. Правильне виконання кожного з кроків оцінюється в 1 бал.\n",
    "\n",
    "1. Запишіть параметри задачі у змінні Python:\n",
    "    - `sample_mean` - $\\bar{x}$, середнє значення в вибірці\n",
    "    - `population_mean` - $\\mu_0$, середнє значення в популяції (тобто те, з яким ми порівнюємо середнє вибіркове значення)\n",
    "    - `population_std` - $\\sigma$, вибіркове стандартне відхилення, яке ми вважаємо, що є рівним ст. відх. популяції, адже маємо достатньо велику вибірку.\n",
    "    - `sample_size` - $n$, розмір вибірки\n",
    "    - `alpha` - $\\alpha$ рівень значущості\n",
    "    \n",
    "    **Увага!** Для обчислення стандартного відхилення маємо скористатись функцією `np.std(your_dataframe, ddof=1)`. Чому так - розбираємо в лекції про t-test.\n",
    "\n",
    "\n",
    "2. Визначте для цієї задачі:\n",
    "    - якою є гіпотеза $H_0$\n",
    "    - якою є альтернативна гіпотеза $H_a$\n",
    "    - з яким типом тесту ми маємо справу - лівосторонній, правосторонній чи двосторонній.\n",
    "\n",
    "3. Обчисліть стандартну помилку SE.\n",
    "4. Розрахуйте z-статистику.\n",
    "5. Знайдіть критичне z-значення з допомогою бібліотеки stats.\n",
    "6. Обчисліть p-value з допомогою бібліотеки stats.\n",
    "7. Прийміть рішення, чи відхиляєте ви гіпотезу $H_0$. Для прийняття рішення зробіть і порівняння z-статистики з критичним значенням, і проаналізуйте p-value."
   ]
  },
  {
   "cell_type": "markdown",
   "id": "37de6ce4-fb08-45ab-b19a-db7175724344",
   "metadata": {
    "execution": {
     "iopub.execute_input": "2025-08-31T06:22:29.930239Z",
     "iopub.status.busy": "2025-08-31T06:22:29.929455Z",
     "iopub.status.idle": "2025-08-31T06:22:29.941255Z",
     "shell.execute_reply": "2025-08-31T06:22:29.939582Z",
     "shell.execute_reply.started": "2025-08-31T06:22:29.930199Z"
    },
    "id": "NX2XezWLdf4t"
   },
   "source": [
    "🔬 Частина 1: Розрахунок вручну\n",
    "*1. Запишемо параметри задачі у змінні Python:*\n"
   ]
  },
  {
   "cell_type": "code",
   "execution_count": 18,
   "id": "e64e76a0-e869-4f07-a7b7-eeacbf47f820",
   "metadata": {
    "execution": {
     "iopub.execute_input": "2025-08-31T06:28:30.284884Z",
     "iopub.status.busy": "2025-08-31T06:28:30.284032Z",
     "iopub.status.idle": "2025-08-31T06:28:30.294413Z",
     "shell.execute_reply": "2025-08-31T06:28:30.292921Z",
     "shell.execute_reply.started": "2025-08-31T06:28:30.284848Z"
    }
   },
   "outputs": [],
   "source": [
    "# 1. Параметри задачі\n",
    "sample_mean = np.mean(sample)                     # x̄ Середній чек\n",
    "population_mean = 20                              # µ0\n",
    "population_std = np.std(sample, ddof=1)          # σ Стандартне відхилення\n",
    "sample_size = len(sample)                         # n \n",
    "alpha = 0.05                                     # рівень значущості"
   ]
  },
  {
   "cell_type": "code",
   "execution_count": 17,
   "id": "4a65f937-603e-4481-927e-3f0d9f98d627",
   "metadata": {
    "execution": {
     "iopub.execute_input": "2025-08-31T06:28:14.088115Z",
     "iopub.status.busy": "2025-08-31T06:28:14.087525Z",
     "iopub.status.idle": "2025-08-31T06:28:14.091604Z",
     "shell.execute_reply": "2025-08-31T06:28:14.090851Z",
     "shell.execute_reply.started": "2025-08-31T06:28:14.088092Z"
    }
   },
   "outputs": [],
   "source": [
    "# Вибірка\n",
    "sample = data  # data вже є одновимірний масив"
   ]
  },
  {
   "cell_type": "markdown",
   "id": "e151ab93-7a03-4a31-a4de-162b73ae1f08",
   "metadata": {
    "execution": {
     "iopub.execute_input": "2025-08-31T06:32:07.234532Z",
     "iopub.status.busy": "2025-08-31T06:32:07.233760Z",
     "iopub.status.idle": "2025-08-31T06:32:07.243404Z",
     "shell.execute_reply": "2025-08-31T06:32:07.241661Z",
     "shell.execute_reply.started": "2025-08-31T06:32:07.234497Z"
    }
   },
   "source": [
    "*2: Формулюємо гіпотези*\n",
    "\n",
    "**Гіпотези**   \n",
    "\n",
    "H₀: μ = 20 (середній чек у липні = 20 дол.)  \n",
    "Hа: μ > 20 (середній чек у липні > 20 дол.)  \n",
    "Тип тесту: правосторонній (ми перевіряємо, чи збільшвся чек)  \n",
    "\n",
    "**Чому саме правосторонній тест?**\n",
    "\n",
    "Ми перевіряємо **чи збільшився чек** (не просто став інакшм), тому ми перевіряємо, чи середній чек **збільшився**, а не просто змінився.\n"
   ]
  },
  {
   "cell_type": "code",
   "execution_count": 21,
   "id": "14f3f843-c020-4344-90e4-1b86bbfa9063",
   "metadata": {
    "execution": {
     "iopub.execute_input": "2025-08-31T06:37:55.327414Z",
     "iopub.status.busy": "2025-08-31T06:37:55.326434Z",
     "iopub.status.idle": "2025-08-31T06:37:55.334806Z",
     "shell.execute_reply": "2025-08-31T06:37:55.333415Z",
     "shell.execute_reply.started": "2025-08-31T06:37:55.327365Z"
    }
   },
   "outputs": [
    {
     "name": "stdout",
     "output_type": "stream",
     "text": [
      "Середнє вибірки: 19.37755319670441\n",
      "Стандартне відхилення: 6.25356123240434\n",
      "Розмір вибірки: 100\n"
     ]
    }
   ],
   "source": [
    "print(\"Середнє вибірки:\", sample_mean)\n",
    "print(\"Стандартне відхилення:\", population_std)\n",
    "print(\"Розмір вибірки:\", sample_size)"
   ]
  },
  {
   "cell_type": "markdown",
   "id": "4e21a539-ffd2-4ae9-9930-0fa083df3be3",
   "metadata": {
    "jp-MarkdownHeadingCollapsed": true
   },
   "source": [
    "*3: Обчислимо стандартну помилку SE.*"
   ]
  },
  {
   "cell_type": "code",
   "execution_count": 22,
   "id": "a4d2a694-bb40-4108-9c1c-1ce056e505c8",
   "metadata": {
    "execution": {
     "iopub.execute_input": "2025-08-31T06:38:55.576423Z",
     "iopub.status.busy": "2025-08-31T06:38:55.575891Z",
     "iopub.status.idle": "2025-08-31T06:38:55.583911Z",
     "shell.execute_reply": "2025-08-31T06:38:55.582753Z",
     "shell.execute_reply.started": "2025-08-31T06:38:55.576390Z"
    }
   },
   "outputs": [
    {
     "name": "stdout",
     "output_type": "stream",
     "text": [
      "Стандартна помилка: 0.625356123240434\n"
     ]
    }
   ],
   "source": [
    "SE = population_std / np.sqrt(sample_size)\n",
    "print(\"Стандартна помилка:\", SE)"
   ]
  },
  {
   "cell_type": "markdown",
   "id": "0daa2ee9-840d-456f-8e51-370b289053de",
   "metadata": {
    "execution": {
     "iopub.execute_input": "2025-08-31T06:39:34.329345Z",
     "iopub.status.busy": "2025-08-31T06:39:34.328635Z",
     "iopub.status.idle": "2025-08-31T06:39:34.349785Z",
     "shell.execute_reply": "2025-08-31T06:39:34.347575Z",
     "shell.execute_reply.started": "2025-08-31T06:39:34.329306Z"
    }
   },
   "source": [
    "*4: Розраховуємо z-статистику.*"
   ]
  },
  {
   "cell_type": "code",
   "execution_count": 24,
   "id": "01ab3d5a-55fa-47dd-af85-7762dcb9e9e3",
   "metadata": {
    "execution": {
     "iopub.execute_input": "2025-08-31T06:39:52.548024Z",
     "iopub.status.busy": "2025-08-31T06:39:52.547307Z",
     "iopub.status.idle": "2025-08-31T06:39:52.554744Z",
     "shell.execute_reply": "2025-08-31T06:39:52.553399Z",
     "shell.execute_reply.started": "2025-08-31T06:39:52.547986Z"
    }
   },
   "outputs": [
    {
     "name": "stdout",
     "output_type": "stream",
     "text": [
      "Z-статистика: -0.995347738933505\n"
     ]
    }
   ],
   "source": [
    "z_stat = (sample_mean - population_mean) / SE\n",
    "print(\"Z-статистика:\", z_stat)"
   ]
  },
  {
   "cell_type": "markdown",
   "id": "64dfc2ad-da5b-48e9-b720-1affe8afd49c",
   "metadata": {
    "execution": {
     "iopub.execute_input": "2025-08-31T06:41:10.932295Z",
     "iopub.status.busy": "2025-08-31T06:41:10.931613Z",
     "iopub.status.idle": "2025-08-31T06:41:10.940863Z",
     "shell.execute_reply": "2025-08-31T06:41:10.938969Z",
     "shell.execute_reply.started": "2025-08-31T06:41:10.932258Z"
    }
   },
   "source": [
    "*5. Знаходимо критичне z-значення з допомогою бібліотеки stats.*"
   ]
  },
  {
   "cell_type": "code",
   "execution_count": 26,
   "id": "5a83a68f-0848-4a4d-8f51-94e5923ea467",
   "metadata": {
    "execution": {
     "iopub.execute_input": "2025-08-31T06:41:40.803816Z",
     "iopub.status.busy": "2025-08-31T06:41:40.803264Z",
     "iopub.status.idle": "2025-08-31T06:41:40.821799Z",
     "shell.execute_reply": "2025-08-31T06:41:40.820389Z",
     "shell.execute_reply.started": "2025-08-31T06:41:40.803783Z"
    }
   },
   "outputs": [
    {
     "name": "stdout",
     "output_type": "stream",
     "text": [
      "Критичне z-значення: 1.6448536269514722\n"
     ]
    }
   ],
   "source": [
    "z_critical = stats.norm.ppf(1 - alpha)  # правосторонній тест\n",
    "print(\"Критичне z-значення:\", z_critical)"
   ]
  },
  {
   "cell_type": "markdown",
   "id": "7f0a4700-ef4a-484e-9521-b95c74c5bc54",
   "metadata": {
    "execution": {
     "iopub.execute_input": "2025-08-31T06:42:07.493976Z",
     "iopub.status.busy": "2025-08-31T06:42:07.493363Z",
     "iopub.status.idle": "2025-08-31T06:42:07.503610Z",
     "shell.execute_reply": "2025-08-31T06:42:07.501195Z",
     "shell.execute_reply.started": "2025-08-31T06:42:07.493934Z"
    }
   },
   "source": [
    "*6. Обчислюємо p-value з допомогою бібліотеки stats.*"
   ]
  },
  {
   "cell_type": "code",
   "execution_count": 28,
   "id": "ce8d868b-674f-4a5c-b807-d9817d868114",
   "metadata": {
    "execution": {
     "iopub.execute_input": "2025-08-31T06:43:58.198281Z",
     "iopub.status.busy": "2025-08-31T06:43:58.197743Z",
     "iopub.status.idle": "2025-08-31T06:43:58.204299Z",
     "shell.execute_reply": "2025-08-31T06:43:58.203446Z",
     "shell.execute_reply.started": "2025-08-31T06:43:58.198246Z"
    }
   },
   "outputs": [
    {
     "name": "stdout",
     "output_type": "stream",
     "text": [
      "P-value: 0.8402164165464012\n"
     ]
    }
   ],
   "source": [
    "p_value = 1 - stats.norm.cdf(z_stat)  # правосторонній тест\n",
    "print(\"P-value:\", p_value)"
   ]
  },
  {
   "cell_type": "markdown",
   "id": "0461357c-91f2-4234-a766-2d25a26ce63d",
   "metadata": {
    "execution": {
     "iopub.execute_input": "2025-08-31T06:44:55.254517Z",
     "iopub.status.busy": "2025-08-31T06:44:55.253873Z",
     "iopub.status.idle": "2025-08-31T06:44:55.261839Z",
     "shell.execute_reply": "2025-08-31T06:44:55.260176Z",
     "shell.execute_reply.started": "2025-08-31T06:44:55.254478Z"
    }
   },
   "source": [
    "*7. Прийняття рішення*"
   ]
  },
  {
   "cell_type": "code",
   "execution_count": 30,
   "id": "3658c70c-dc3d-4723-8db3-8241461073ce",
   "metadata": {
    "execution": {
     "iopub.execute_input": "2025-08-31T06:45:08.900817Z",
     "iopub.status.busy": "2025-08-31T06:45:08.900071Z",
     "iopub.status.idle": "2025-08-31T06:45:08.907673Z",
     "shell.execute_reply": "2025-08-31T06:45:08.906387Z",
     "shell.execute_reply.started": "2025-08-31T06:45:08.900782Z"
    }
   },
   "outputs": [
    {
     "name": "stdout",
     "output_type": "stream",
     "text": [
      "Не відхиляємо H0 — немає статистично значущого збільшення середнього чека\n",
      "P-value: Не відхиляємо H0\n"
     ]
    }
   ],
   "source": [
    "if z_stat > z_critical:\n",
    "    print(\"Відхиляємо H0 — середній чек статистично значущий вищий за $20\")\n",
    "else:\n",
    "    print(\"Не відхиляємо H0 — немає статистично значущого збільшення середнього чека\")\n",
    "\n",
    "if p_value < alpha:\n",
    "    print(\"P-value: Відхиляємо H0\")\n",
    "else:\n",
    "    print(\"P-value: Не відхиляємо H0\")"
   ]
  },
  {
   "cell_type": "markdown",
   "id": "44f22b2a-4db6-409d-888e-42233e4e777a",
   "metadata": {},
   "source": [
    "✅*Висновки:*\n",
    "Z-статистика: -0.995 < 1.645 (критичне значення)\n",
    "P-value: 0.840 > α = 0.05\n",
    "За порівнянням Z-статистики з критичним значенням: Z менше критичного, отже не відхиляємо H0.\n",
    "За P-value: P-value значно більше 0.05, отже теж не відхиляємо H0.\n",
    "Пояснення: Немає статистично значущого збільшення середнього чеку порівняно зі значенням $20. Фактичне середнє в липні не перевищує середнє минулих періодів у значимий спосіб."
   ]
  },
  {
   "cell_type": "markdown",
   "id": "0FOBByRMXkL2",
   "metadata": {
    "id": "0FOBByRMXkL2"
   },
   "source": [
    "**Завдання 2.** Виконайте обчислення z-test з використанням бібліотеки statsmodels.\n",
    "\n",
    "Отримайте z-статистику та р-значення.\n",
    "\n",
    "Виведіть p-значення та зробіть висновок, чи ми маємо достатньо доказів, аби стверджувати, що середній чек зріс.\n",
    "\n",
    "Чи зійшлись значення z-статистику та р-значення в цьому завданні з попередніми обчисленнями?\n",
    "\n",
    "Завдання оцінюється в 3 бали."
   ]
  },
  {
   "cell_type": "code",
   "execution_count": 31,
   "id": "f_Oa0DJhdg6v",
   "metadata": {
    "execution": {
     "iopub.execute_input": "2025-08-31T06:48:38.125359Z",
     "iopub.status.busy": "2025-08-31T06:48:38.124831Z",
     "iopub.status.idle": "2025-08-31T06:48:38.188528Z",
     "shell.execute_reply": "2025-08-31T06:48:38.186813Z",
     "shell.execute_reply.started": "2025-08-31T06:48:38.125325Z"
    },
    "id": "f_Oa0DJhdg6v",
    "scrolled": true
   },
   "outputs": [
    {
     "name": "stdout",
     "output_type": "stream",
     "text": [
      "Z-статистика (statsmodels): -0.9953477389335053\n",
      "P-value (statsmodels): 0.8402164165464012\n",
      "Не відхиляємо H0 — недостатньо доказів, щоб стверджувати про збільшення середнього чеку\n"
     ]
    }
   ],
   "source": [
    "from statsmodels.stats import weightstats as stests\n",
    "\n",
    "# Виконання z-тесту\n",
    "z_stat_sm, p_value_sm = stests.ztest(sample, value=20, alternative='larger')  # правосторонній тест\n",
    "\n",
    "print(\"Z-статистика (statsmodels):\", z_stat_sm)\n",
    "print(\"P-value (statsmodels):\", p_value_sm)\n",
    "\n",
    "# Висновок\n",
    "alpha = 0.05\n",
    "if p_value_sm < alpha:\n",
    "    print(\"Відхиляємо H0 — є статистично значуще збільшення середнього чеку\")\n",
    "else:\n",
    "    print(\"Не відхиляємо H0 — недостатньо доказів, щоб стверджувати про збільшення середнього чеку\")\n"
   ]
  },
  {
   "cell_type": "markdown",
   "id": "400812ae-0526-4804-9e50-786484d17b62",
   "metadata": {
    "execution": {
     "iopub.execute_input": "2025-08-31T06:50:22.306431Z",
     "iopub.status.busy": "2025-08-31T06:50:22.305629Z",
     "iopub.status.idle": "2025-08-31T06:50:22.315684Z",
     "shell.execute_reply": "2025-08-31T06:50:22.313670Z",
     "shell.execute_reply.started": "2025-08-31T06:50:22.306386Z"
    }
   },
   "source": [
    "✅ Результати  z-статистику та р-значення в цьому завданні з попередніми обчисленнями (ручним) зійшлись"
   ]
  },
  {
   "cell_type": "code",
   "execution_count": null,
   "id": "8bde967c-abf6-4eed-a68a-a287a8524f08",
   "metadata": {},
   "outputs": [],
   "source": []
  }
 ],
 "metadata": {
  "colab": {
   "provenance": []
  },
  "hide_input": false,
  "kernelspec": {
   "display_name": "Python 3 (ipykernel)",
   "language": "python",
   "name": "python3"
  },
  "language_info": {
   "codemirror_mode": {
    "name": "ipython",
    "version": 3
   },
   "file_extension": ".py",
   "mimetype": "text/x-python",
   "name": "python",
   "nbconvert_exporter": "python",
   "pygments_lexer": "ipython3",
   "version": "3.13.4"
  },
  "toc": {
   "base_numbering": 1,
   "nav_menu": {},
   "number_sections": true,
   "sideBar": true,
   "skip_h1_title": false,
   "title_cell": "Table of Contents",
   "title_sidebar": "Contents",
   "toc_cell": false,
   "toc_position": {},
   "toc_section_display": true,
   "toc_window_display": false
  },
  "varInspector": {
   "cols": {
    "lenName": 16,
    "lenType": 16,
    "lenVar": 40
   },
   "kernels_config": {
    "python": {
     "delete_cmd_postfix": "",
     "delete_cmd_prefix": "del ",
     "library": "var_list.py",
     "varRefreshCmd": "print(var_dic_list())"
    },
    "r": {
     "delete_cmd_postfix": ") ",
     "delete_cmd_prefix": "rm(",
     "library": "var_list.r",
     "varRefreshCmd": "cat(var_dic_list()) "
    }
   },
   "types_to_exclude": [
    "module",
    "function",
    "builtin_function_or_method",
    "instance",
    "_Feature"
   ],
   "window_display": false
  }
 },
 "nbformat": 4,
 "nbformat_minor": 5
}

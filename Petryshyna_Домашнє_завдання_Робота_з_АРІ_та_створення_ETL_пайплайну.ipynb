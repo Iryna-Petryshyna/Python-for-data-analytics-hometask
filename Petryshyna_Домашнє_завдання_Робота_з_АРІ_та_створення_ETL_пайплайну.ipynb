{
 "cells": [
  {
   "cell_type": "markdown",
   "metadata": {
    "id": "3ab15810-fad4-4c19-ab59-a6e9311825e3"
   },
   "source": [
    "# Домашнє завдання: ETL-пайплайни для аналітиків даних\n",
    "\n",
    "Це ДЗ передбачене під виконання на локальній машині. Виконання з Google Colab буде суттєво ускладнене.\n",
    "\n",
    "## Підготовка\n",
    "1. Переконайтесь, що у вас встановлены необхідні бібліотеки:\n",
    "   ```bash\n",
    "   pip install sqlalchemy pymysql pandas matplotlib seaborn python-dotenv\n",
    "   ```\n",
    "\n",
    "2. Створіть файл `.env` з параметрами підключення до бази даних classicmodels. Базу даних ви можете отримати через\n",
    "\n",
    "  - docker-контейнер згідно існтрукції в [документі](https://www.notion.so/hannapylieva/Docker-1eb94835849480c9b2e7f5dc22ee4df9), також відео інструкції присутні на платформі - уроки \"MySQL бази, клієнт для роботи з БД, Docker і ChatGPT для запитів\" та \"Як встановити Docker для роботи з базами даних без терміналу\"\n",
    "  - або встановивши локально цю БД - для цього перегляньте урок \"Опціонально. Встановлення MySQL та  БД Сlassicmodels локально\".\n",
    "  \n",
    "  Приклад `.env` файлу ми створювали в лекції. Ось його обовʼязкове наповнення:\n",
    "    ```\n",
    "    DB_HOST=your_host\n",
    "    DB_PORT=3306 або 3307 - той, який Ви налаштували\n",
    "    DB_USER=your_username\n",
    "    DB_PASSWORD=your_password\n",
    "    DB_NAME=classicmodels\n",
    "    ```\n",
    "  Якщо ви створили цей файл під час перегляду лекції - **новий створювати не треба**. Замініть лише назву БД, або пропишіть назву в коді створення підключення (замість отримання назви цільової БД зі змінних оточення). Але переконайтесь, що до `.env` файл лежить в тій самій папці, що і цей ноутбук.\n",
    "\n",
    "  **УВАГА!** НЕ копіюйте скрит для **створення** `.env` файлу. В лекції він наводиться для прикладу. І давалось пояснення, що в реальних проєктах ми НІКОЛИ не пишемо доступи до бази в коді. Копіювання скрипта для створення `.env` файлу сюди в ДЗ буде вважатись грубою помилкою і ми зніматимемо бали.\n",
    "\n",
    "3. Налаштуйте підключення через SQLAlchemy до БД за прикладом в лекції.\n",
    "\n",
    "Рекомендую вивести (відобразити) змінну engine після створення. Вона має бути не None! Якщо None - значить у Вас не підтягнулись налаштування з .env файла.\n",
    "\n",
    "Ви також можете налаштувати параметри підключення до БД без .env файла, просто прописавши текстом в відповідних місцях. Це - не рекомендований підхід."
   ]
  },
  {
   "cell_type": "code",
   "execution_count": 8,
   "metadata": {
    "execution": {
     "iopub.execute_input": "2025-08-01T15:59:46.560664Z",
     "iopub.status.busy": "2025-08-01T15:59:46.560390Z",
     "iopub.status.idle": "2025-08-01T15:59:46.564008Z",
     "shell.execute_reply": "2025-08-01T15:59:46.563324Z",
     "shell.execute_reply.started": "2025-08-01T15:59:46.560647Z"
    }
   },
   "outputs": [],
   "source": [
    "import os\n",
    "\n",
    "import matplotlib.pyplot as plt\n",
    "import pandas as pd\n",
    "import sqlalchemy as sa\n",
    "import requests\n",
    "import datetime\n",
    "from sqlalchemy import create_engine, text\n",
    "from dotenv import load_dotenv"
   ]
  },
  {
   "cell_type": "code",
   "execution_count": 3,
   "metadata": {
    "execution": {
     "iopub.execute_input": "2025-08-01T15:45:19.969890Z",
     "iopub.status.busy": "2025-08-01T15:45:19.969563Z",
     "iopub.status.idle": "2025-08-01T15:45:20.003573Z",
     "shell.execute_reply": "2025-08-01T15:45:20.002549Z",
     "shell.execute_reply.started": "2025-08-01T15:45:19.969873Z"
    }
   },
   "outputs": [],
   "source": [
    "# Підключення до БД\n",
    "def create_connection():\n",
    "    load_dotenv()\n",
    "\n",
    "    host = os.getenv('DB_HOST')\n",
    "    port = os.getenv('DB_PORT', '3306')\n",
    "    user = os.getenv('DB_USER')\n",
    "    password = os.getenv('DB_PASSWORD')\n",
    "    database = os.getenv('DB_NAME')\n",
    "\n",
    "    connection_string = f\"mysql+pymysql://{user}:{password}@{host}:{port}/{database}\"\n",
    "\n",
    "    engine = create_engine(\n",
    "        connection_string,\n",
    "        pool_size=1,\n",
    "        max_overflow=20,\n",
    "        pool_pre_ping=True,\n",
    "        echo=False\n",
    "    )\n",
    "\n",
    "    return engine\n",
    "\n",
    "engine = create_connection()"
   ]
  },
  {
   "cell_type": "markdown",
   "metadata": {
    "id": "0264314e-5fcb-4c48-b04b-377cd6096524"
   },
   "source": [
    "### Завдання 1: Створення таблиці курсів валют та API інтеграція (2 бали)\n",
    "\n",
    "**Повторіть процедуру з лекції:** створіть таблицю для курсів валют, але вже в цій базі даних. Результатом має бути нова таблиця з курсами валют USD, EUR, UAH в БД (можна завантажити більше валют). Продемонструйте, що таблиця була додана, використовуючи SELECT.\n",
    "\n",
    "Тобто тут ви можете прямо скопіювати код з лекції, внести необхідні зміни і запустити. Головне - отримати таблицю в БД classicmodels."
   ]
  },
  {
   "cell_type": "code",
   "execution_count": 9,
   "metadata": {
    "execution": {
     "iopub.execute_input": "2025-08-01T15:59:51.311702Z",
     "iopub.status.busy": "2025-08-01T15:59:51.311395Z",
     "iopub.status.idle": "2025-08-01T15:59:51.953511Z",
     "shell.execute_reply": "2025-08-01T15:59:51.952806Z",
     "shell.execute_reply.started": "2025-08-01T15:59:51.311686Z"
    },
    "id": "lI7o62XrD7L3"
   },
   "outputs": [
    {
     "name": "stdout",
     "output_type": "stream",
     "text": [
      "Таблиця 'currency_rates' створена\n",
      "Отримуємо курси валют...\n",
      "Отримані курси на 2025-08-01:\n",
      "  1 USD = 0.8750 EUR\n",
      "  1 USD = 0.7570 GBP\n",
      "  1 USD = 41.7100 UAH\n",
      "  1 USD = 3.7400 PLN\n",
      "  1 USD = 150.4000 JPY\n",
      "Збережено 5 курсів валют на 2025-08-01\n",
      "\n",
      "📋 Останні збережені записи:\n",
      "   id currency_code  rate_to_usd   rate_date          created_at  \\\n",
      "0   1           EUR        0.875  2025-08-01 2025-08-01 15:45:24   \n",
      "1   2           GBP        0.757  2025-08-01 2025-08-01 15:45:24   \n",
      "2   3           UAH       41.710  2025-08-01 2025-08-01 15:45:24   \n",
      "3   4           PLN        3.740  2025-08-01 2025-08-01 15:45:24   \n",
      "4   5           JPY      150.400  2025-08-01 2025-08-01 15:45:24   \n",
      "\n",
      "           updated_at  \n",
      "0 2025-08-01 15:59:51  \n",
      "1 2025-08-01 15:59:51  \n",
      "2 2025-08-01 15:59:51  \n",
      "3 2025-08-01 15:59:51  \n",
      "4 2025-08-01 15:59:51  \n"
     ]
    }
   ],
   "source": [
    "# 1. Створення таблиці currency_rates\n",
    "def create_currency_table(engine):\n",
    "    create_table_sql = text(\"\"\"\n",
    "    CREATE TABLE IF NOT EXISTS currency_rates (\n",
    "        id INT AUTO_INCREMENT PRIMARY KEY,\n",
    "        currency_code VARCHAR(3) NOT NULL,\n",
    "        rate_to_usd DECIMAL(10, 6) NOT NULL,\n",
    "        rate_date DATE NOT NULL,\n",
    "        created_at TIMESTAMP DEFAULT CURRENT_TIMESTAMP,\n",
    "        updated_at TIMESTAMP DEFAULT CURRENT_TIMESTAMP ON UPDATE CURRENT_TIMESTAMP,\n",
    "        INDEX idx_currency_date (currency_code, rate_date),\n",
    "        UNIQUE KEY unique_currency_date (currency_code, rate_date)\n",
    "    )\n",
    "    \"\"\")\n",
    "\n",
    "    with engine.connect() as conn:\n",
    "        conn.execute(create_table_sql)\n",
    "\n",
    "    print(\"Таблиця 'currency_rates' створена\")\n",
    "\n",
    "# 2. Отримання курсів валют через API\n",
    "def fetch_exchange_rates():\n",
    "    try:\n",
    "        url = \"https://api.exchangerate-api.com/v4/latest/USD\"\n",
    "        response = requests.get(url, timeout=10)\n",
    "        response.raise_for_status()\n",
    "        data = response.json()\n",
    "\n",
    "        currencies = ['EUR', 'GBP', 'UAH', 'PLN', 'JPY']\n",
    "        rates = {}\n",
    "\n",
    "        for currency in currencies:\n",
    "            if currency in data['rates']:\n",
    "                rates[currency] = data['rates'][currency]\n",
    "\n",
    "        return rates, datetime.date.today()\n",
    "\n",
    "    except Exception as e:\n",
    "        print(f\"❌ Помилка при отриманні API: {e}\")\n",
    "        return None, None\n",
    "\n",
    "# 3. Збереження курсів у таблицю\n",
    "def save_exchange_rates(engine, rates_dict, rate_date):\n",
    "    if not rates_dict:\n",
    "        print(\"❌ Немає даних для збереження\")\n",
    "        return False\n",
    "\n",
    "    insert_sql = text(\"\"\"\n",
    "    INSERT INTO currency_rates (currency_code, rate_to_usd, rate_date)\n",
    "    VALUES (:currency, :rate, :date)\n",
    "    ON DUPLICATE KEY UPDATE\n",
    "        rate_to_usd = VALUES(rate_to_usd),\n",
    "        updated_at = CURRENT_TIMESTAMP\n",
    "    \"\"\")\n",
    "\n",
    "    try:\n",
    "        with engine.connect() as conn:\n",
    "            with conn.begin():\n",
    "                for currency, rate in rates_dict.items():\n",
    "                    conn.execute(insert_sql, {\n",
    "                        'currency': currency,\n",
    "                        'rate': rate,\n",
    "                        'date': rate_date\n",
    "                    })\n",
    "        print(f\"Збережено {len(rates_dict)} курсів валют на {rate_date}\")\n",
    "        return True\n",
    "\n",
    "    except Exception as e:\n",
    "        print(f\"❌ Помилка збереження: {e}\")\n",
    "        return False\n",
    "\n",
    "# === Виконання процесу ===\n",
    "create_currency_table(engine)\n",
    "\n",
    "print(\"Отримуємо курси валют...\")\n",
    "rates, date = fetch_exchange_rates()\n",
    "\n",
    "if rates:\n",
    "    print(f\"Отримані курси на {date}:\")\n",
    "    for currency, rate in rates.items():\n",
    "        print(f\"  1 USD = {rate:.4f} {currency}\")\n",
    "\n",
    "    if save_exchange_rates(engine, rates, date):\n",
    "        # 4. SELECT для перевірки\n",
    "        df = pd.read_sql(\"SELECT * FROM currency_rates ORDER BY created_at DESC LIMIT 10\", engine)\n",
    "        print(\"\\n📋 Останні збережені записи:\")\n",
    "        print(df)\n"
   ]
  },
  {
   "cell_type": "markdown",
   "metadata": {
    "id": "4612f54f-6feb-45ba-a8bb-7a81a92ed6cc"
   },
   "source": [
    "# Завдання 2: Створення простого ETL пайплайну (7 балів)\n",
    "\n",
    "В цьому завданні ми створимо повноцінний ETL процес для аналізу продажів ClassicModels.\n",
    "\n",
    "Завдання обʼємне і оцінюється відповідно. Ви можете пропустити обчислення якихось з метрик, якщо відчуєте, що вже немає сил робити це завдання. Бал буде виставлено виходячи з виконаного обʼєму та його правильності.\n",
    "\n",
    "## Що саме треба зробити:\n",
    "\n",
    "### Extract (Витягування даних):\n",
    "На цьому етапі треба витягнути дані з БД в pandas.DataFrame для подальшої обробки.\n",
    "Які дані нам потрібні (кожен пункт - в окремий фрейм даних):\n",
    "1. **дані про виконані замовлення за 2004 рік** - з'єднати таблиці orders, orderdetails, products, customers\n",
    "2. **дані про продукти** - назви, категорії, ціни\n",
    "3. **дані про курси валют** - використати дані з попереднього завдання\n",
    "\n",
    "### Transform (Обробка даних):\n",
    "\n",
    "#### 2.1 Додати розрахункові колонки до основної таблиці:\n",
    "Додайте до DataFrame з продажами такі нові колонки:\n",
    "\n",
    "- **`profit_per_item`** - прибуток з одного товару (використайте колонки: `priceEach` - `buyPrice`)\n",
    "- **`total_profit`** - загальний прибуток з товарної позиції (використайте колонки: `profit_per_item` × `quantityOrdered`)\n",
    "- **`total_amount_eur`** - сума в євро (використайте колонки: `total_amount` / `eur_rate`)\n",
    "\n",
    "#### 2.2 Створити аналітичну таблицю по країнах (ТОП-5):\n",
    "Згрупуйте дані по колонці **`country`** та обчисліть для кожної країни:\n",
    "\n",
    "**Метрики для розрахунку:**\n",
    "- **Кількість унікальних замовлень** - унікальні значення колонки `orderNumber`\n",
    "- **Загальний дохід** - сума колонки `total_amount`\n",
    "- **Загальний прибуток** - сума колонки `total_profit`\n",
    "- **Кількість проданих товарів** - сума колонки `quantityOrdered`\n",
    "- **Маржа прибутку (%)** - (`загальний прибуток` / `загальний дохід`) × 100\n",
    "\n",
    "**Результат:** Таблиця з 5 найприбутковіших країн, відсортована за загальним доходом (від більшого до меншого).\n",
    "\n",
    "#### 2.3 Створити аналітичну таблицю по продуктових лініях:\n",
    "Згрупуйте дані по колонці **`productLine`** та обчисліть ті ж метрики:\n",
    "\n",
    "**Метрики для розрахунку:**\n",
    "- **Кількість унікальних замовлень** - унікальні значення колонки `orderNumber`\n",
    "- **Загальний дохід** - сума колонки `total_amount`\n",
    "- **Загальний прибуток** - сума колонки `total_profit`\n",
    "- **Кількість проданих товарів** - сума колонки `quantityOrdered`\n",
    "- **Маржа прибутку (%)** - (`загальний прибуток` / `загальний дохід`) × 100\n",
    "\n",
    "**Результат:** Таблиця з усіма продуктовими лініями, відсортована за загальним доходом.\n",
    "\n",
    "#### 2.4 Створити підсумкову інформацію (Executive Summary):\n",
    "Розрахуйте загальні показники бізнесу за 2004 рік:\n",
    "\n",
    "**Фінансові показники:**\n",
    "- **Загальний дохід в доларах** - сума всієї колонки `total_amount`\n",
    "- **Загальний дохід в євро** - сума всієї колонки `total_amount_eur`\n",
    "- **Загальний прибуток в доларах** - сума всієї колонки `total_profit`\n",
    "- **Загальна маржа прибутку (%)** - (`загальний прибуток` / `загальний дохід`) × 100\n",
    "- **Середній розмір замовлення** - середнє значення колонки `total_amount`\n",
    "\n",
    "**Операційні показники:**\n",
    "- **Кількість унікальних замовлень** - унікальні значення колонки `orderNumber`\n",
    "- **Кількість унікальних клієнтів** - унікальні значення колонки `customerName`\n",
    "- **Період даних** - мінімальна та максимальна дата з колонки `orderDate`\n",
    "\n",
    "**Топ показники:**\n",
    "- **Найприбутковіша країна** - перший рядок з таблиці країн (колонка `country`)\n",
    "- **Найприбутковіша продуктова лінія** - перший рядок з таблиці продуктів (колонка `productLine`)\n",
    "\n",
    "### Load (Збереження результатів):\n",
    "В цій частині ми зберігаємо результати наших обчислень.\n",
    "Використайте приклади коду з лекцій та адаптуйте його під цей ETL процес.\n",
    "Що Вам потрібно створити:\n",
    "\n",
    "#### 3.1 Excel файл з трьома вкладками:\n",
    "- **\"Summary\"** - підсумкова інформація у вигляді таблиці \"Показник - Значення\"\n",
    "- **\"Top_Countries\"** - аналітика по топ-5 країнах\n",
    "- **\"Product_Lines\"** - аналітика по всіх продуктових лініях\n",
    "\n",
    "#### 3.2 Візуалізація:\n",
    "- Створіть стовпчикову діаграму топ-5 країн за доходом.\n",
    "- Створіть pie chart з відсотковим розподілом доходу в USD по продуктових лінійках.\n",
    "\n",
    "## РЕКОМЕНДАЦІЇ ДО ВИКОНАННЯ:\n",
    "\n",
    "### Покрокова стратегія виконання:\n",
    "1. Спочатку протестуйте Extract просто в Jupyter notebook (без фукнції) - переконайтеся що SQL запит працює і повертає дані за 2004 рік\n",
    "2. Потім протестуйте кожен Transform окремо - виведіть проміжні результати\n",
    "3. Нарешті протестуйте Load - перевірте що файли створюються правильно  \n",
    "4. Тільки після цього обгортайте все в функцію\n",
    "\n",
    "### Як перевірити що все працює:\n",
    "- Виводьте на екран, який етап зараз відбувається\n",
    "- Виведіть кількість записів після кожного кроку\n",
    "- Покажіть перші 5 рядків кожної аналітичної таблиці\n",
    "- Перевірте що дати належать 2004 року\n",
    "- Переконайтеся що маржа прибутку в розумних межах (0-50%)"
   ]
  },
  {
   "cell_type": "code",
   "execution_count": 12,
   "metadata": {
    "execution": {
     "iopub.execute_input": "2025-08-01T16:31:15.811495Z",
     "iopub.status.busy": "2025-08-01T16:31:15.811160Z",
     "iopub.status.idle": "2025-08-01T16:31:17.190908Z",
     "shell.execute_reply": "2025-08-01T16:31:17.189539Z",
     "shell.execute_reply.started": "2025-08-01T16:31:15.811476Z"
    },
    "id": "HzDlQEKoEAnK"
   },
   "outputs": [
    {
     "name": "stdout",
     "output_type": "stream",
     "text": [
      "Продажі за 2004 рік: (1421, 11)\n",
      "   orderNumber   orderDate productCode  quantityOrdered  priceEach  \\\n",
      "0        10345  2004-11-25    S24_2022               43      38.98   \n",
      "1        10298  2004-09-27    S18_2625               32      60.57   \n",
      "2        10298  2004-09-27    S10_2016               39     105.86   \n",
      "3        10346  2004-11-29    S24_3969               22      38.57   \n",
      "4        10278  2004-08-06    S24_3856               25     136.22   \n",
      "\n",
      "                                 productName  buyPrice   productLine  \\\n",
      "0  1938 Cadillac V-16 Presidential Limousine     20.61  Vintage Cars   \n",
      "1        1936 Harley Davidson El Knucklehead     24.23   Motorcycles   \n",
      "2                      1996 Moto Guzzi 1100i     68.99   Motorcycles   \n",
      "3           1936 Mercedes Benz 500k Roadster     21.75  Vintage Cars   \n",
      "4                    1956 Porsche 356A Coupe     98.30  Classic Cars   \n",
      "\n",
      "   customerNumber        customerName country  \n",
      "0             103   Atelier graphique  France  \n",
      "1             103   Atelier graphique  France  \n",
      "2             103   Atelier graphique  France  \n",
      "3             112  Signal Gift Stores     USA  \n",
      "4             112  Signal Gift Stores     USA  \n"
     ]
    }
   ],
   "source": [
    "# 1.1 Продажі за 2004 рік\n",
    "\n",
    "query_sales_2004 = \"\"\"\n",
    "SELECT \n",
    "    o.orderNumber,\n",
    "    o.orderDate,\n",
    "    od.productCode,\n",
    "    od.quantityOrdered,\n",
    "    od.priceEach,\n",
    "    p.productName,\n",
    "    p.buyPrice,\n",
    "    p.productLine,\n",
    "    c.customerNumber,\n",
    "    c.customerName,\n",
    "    c.country\n",
    "FROM orders o\n",
    "JOIN orderdetails od ON o.orderNumber = od.orderNumber\n",
    "JOIN products p ON od.productCode = p.productCode\n",
    "JOIN customers c ON o.customerNumber = c.customerNumber\n",
    "WHERE YEAR(o.orderDate) = 2004\n",
    "\"\"\"\n",
    "sales_df = pd.read_sql(text(query_sales_2004), con=engine)\n",
    "print(\"Продажі за 2004 рік:\", sales_df.shape)\n",
    "print(sales_df.head())\n"
   ]
  },
  {
   "cell_type": "code",
   "execution_count": 17,
   "metadata": {
    "execution": {
     "iopub.execute_input": "2025-08-01T16:32:00.794649Z",
     "iopub.status.busy": "2025-08-01T16:32:00.794203Z",
     "iopub.status.idle": "2025-08-01T16:32:00.822981Z",
     "shell.execute_reply": "2025-08-01T16:32:00.822211Z",
     "shell.execute_reply.started": "2025-08-01T16:32:00.794629Z"
    }
   },
   "outputs": [
    {
     "name": "stdout",
     "output_type": "stream",
     "text": [
      "Продукти: (110, 5)\n",
      "  productCode                            productName   productLine  buyPrice  \\\n",
      "0    S10_1678  1969 Harley Davidson Ultimate Chopper   Motorcycles     48.81   \n",
      "1    S10_1949               1952 Alpine Renault 1300  Classic Cars     98.58   \n",
      "2    S10_2016                  1996 Moto Guzzi 1100i   Motorcycles     68.99   \n",
      "3    S10_4698   2003 Harley-Davidson Eagle Drag Bike   Motorcycles     91.02   \n",
      "4    S10_4757                    1972 Alfa Romeo GTA  Classic Cars     85.68   \n",
      "\n",
      "     MSRP  \n",
      "0   95.70  \n",
      "1  214.30  \n",
      "2  118.94  \n",
      "3  193.66  \n",
      "4  136.00  \n"
     ]
    }
   ],
   "source": [
    "# 1.2 Продукти (назва, категорія, ціна)\n",
    "\n",
    "query_products = \"\"\"\n",
    "SELECT \n",
    "    productCode,\n",
    "    productName,\n",
    "    productLine,\n",
    "    buyPrice,\n",
    "    MSRP\n",
    "FROM products\n",
    "\"\"\"\n",
    "products_df = pd.read_sql(text(query_products), con=engine)\n",
    "print(\"Продукти:\", products_df.shape)\n",
    "print(products_df.head())\n"
   ]
  },
  {
   "cell_type": "code",
   "execution_count": 19,
   "metadata": {
    "execution": {
     "iopub.execute_input": "2025-08-01T16:32:46.349013Z",
     "iopub.status.busy": "2025-08-01T16:32:46.348419Z",
     "iopub.status.idle": "2025-08-01T16:32:46.365950Z",
     "shell.execute_reply": "2025-08-01T16:32:46.365270Z",
     "shell.execute_reply.started": "2025-08-01T16:32:46.348989Z"
    }
   },
   "outputs": [
    {
     "name": "stdout",
     "output_type": "stream",
     "text": [
      "Курси валют: (5, 3)\n",
      "  currency_code  rate_to_usd   rate_date\n",
      "0           EUR        0.875  2025-08-01\n",
      "1           GBP        0.757  2025-08-01\n",
      "2           UAH       41.710  2025-08-01\n",
      "3           PLN        3.740  2025-08-01\n",
      "4           JPY      150.400  2025-08-01\n"
     ]
    }
   ],
   "source": [
    "# 1.3 Курси валют (з попередньої таблиці currency_rates)\n",
    "\n",
    "query_currency = \"\"\"\n",
    "SELECT currency_code, rate_to_usd, rate_date \n",
    "FROM currency_rates\n",
    "WHERE rate_date = '2025-08-01'\n",
    "\"\"\"\n",
    "currency_df = pd.read_sql(text(query_currency), con=engine)\n",
    "print(\"Курси валют:\", currency_df.shape)\n",
    "print(currency_df)\n",
    "\n"
   ]
  },
  {
   "cell_type": "code",
   "execution_count": 21,
   "metadata": {
    "execution": {
     "iopub.execute_input": "2025-08-01T16:33:54.496367Z",
     "iopub.status.busy": "2025-08-01T16:33:54.496101Z",
     "iopub.status.idle": "2025-08-01T16:33:54.511858Z",
     "shell.execute_reply": "2025-08-01T16:33:54.511032Z",
     "shell.execute_reply.started": "2025-08-01T16:33:54.496349Z"
    }
   },
   "outputs": [
    {
     "name": "stdout",
     "output_type": "stream",
     "text": [
      "   orderNumber productCode  total_amount  total_profit  total_amount_eur\n",
      "0        10345    S24_2022       1676.14        789.91       1915.588571\n",
      "1        10298    S18_2625       1938.24       1162.88       2215.131429\n",
      "2        10298    S10_2016       4128.54       1437.93       4718.331429\n",
      "3        10346    S24_3969        848.54        370.04        969.760000\n",
      "4        10278    S24_3856       3405.50        948.00       3892.000000\n"
     ]
    }
   ],
   "source": [
    "# 2.1 Додаємо розрахункові колонки\n",
    "\n",
    "eur_rate = float(currency_df[currency_df['currency_code'] == 'EUR']['rate_to_usd'].values[0])\n",
    "\n",
    "sales_df['profit_per_item'] = sales_df['priceEach'] - sales_df['buyPrice']\n",
    "sales_df['total_profit'] = sales_df['profit_per_item'] * sales_df['quantityOrdered']\n",
    "sales_df['total_amount'] = sales_df['priceEach'] * sales_df['quantityOrdered']\n",
    "sales_df['total_amount_eur'] = sales_df['total_amount'] / eur_rate\n",
    "\n",
    "print(sales_df[['orderNumber', 'productCode', 'total_amount', 'total_profit', 'total_amount_eur']].head())\n"
   ]
  },
  {
   "cell_type": "code",
   "execution_count": 23,
   "metadata": {
    "execution": {
     "iopub.execute_input": "2025-08-01T16:34:42.054132Z",
     "iopub.status.busy": "2025-08-01T16:34:42.053390Z",
     "iopub.status.idle": "2025-08-01T16:34:42.088125Z",
     "shell.execute_reply": "2025-08-01T16:34:42.086789Z",
     "shell.execute_reply.started": "2025-08-01T16:34:42.054094Z"
    }
   },
   "outputs": [
    {
     "name": "stdout",
     "output_type": "stream",
     "text": [
      "ТОП-5 країн:\n",
      "        country  unique_orders  total_revenue  total_profit  total_quantity  \\\n",
      "20          USA             53     1526499.65     614370.08           16719   \n",
      "6        France             19      506660.01     211528.15            5632   \n",
      "16        Spain             14      439881.84     175328.56            4962   \n",
      "19           UK              7      238193.93      93425.03            2778   \n",
      "11  New Zealand              6      233362.27      94390.14            2537   \n",
      "\n",
      "    profit_margin_%  \n",
      "20        40.246985  \n",
      "6         41.749525  \n",
      "16        39.858104  \n",
      "19        39.222255  \n",
      "11        40.447901  \n"
     ]
    }
   ],
   "source": [
    "# 2.2. Створюємо аналітичну таблицю по країнах (ТОП-5):\n",
    "top_countries = sales_df.groupby('country').agg(\n",
    "    unique_orders=('orderNumber', 'nunique'),\n",
    "    total_revenue=('total_amount', 'sum'),\n",
    "    total_profit=('total_profit', 'sum'),\n",
    "    total_quantity=('quantityOrdered', 'sum')\n",
    ").reset_index()\n",
    "\n",
    "top_countries['profit_margin_%'] = (top_countries['total_profit'] / top_countries['total_revenue']) * 100\n",
    "top_countries = top_countries.sort_values(by='total_revenue', ascending=False).head(5)\n",
    "\n",
    "print(\"ТОП-5 країн:\")\n",
    "print(top_countries)\n"
   ]
  },
  {
   "cell_type": "code",
   "execution_count": 27,
   "metadata": {
    "execution": {
     "iopub.execute_input": "2025-08-01T16:35:43.273881Z",
     "iopub.status.busy": "2025-08-01T16:35:43.273382Z",
     "iopub.status.idle": "2025-08-01T16:35:43.292588Z",
     "shell.execute_reply": "2025-08-01T16:35:43.291710Z",
     "shell.execute_reply.started": "2025-08-01T16:35:43.273860Z"
    }
   },
   "outputs": [
    {
     "name": "stdout",
     "output_type": "stream",
     "text": [
      " Продуктові лінії:\n",
      "        productLine  unique_orders  total_revenue  total_profit  \\\n",
      "0      Classic Cars             97     1763136.73     703837.29   \n",
      "6      Vintage Cars             88      854551.85     350298.70   \n",
      "1       Motorcycles             37      527243.84     222485.41   \n",
      "2            Planes             34      471971.46     182273.04   \n",
      "5  Trucks and Buses             40      465390.00     182082.20   \n",
      "3             Ships             35      337326.10     134731.87   \n",
      "4            Trains             22       96285.53      33672.63   \n",
      "\n",
      "   total_quantity  profit_margin_%  \n",
      "0           16085        39.919609  \n",
      "6           10864        40.992094  \n",
      "1            5976        42.197821  \n",
      "2            5820        38.619505  \n",
      "5            5024        39.124648  \n",
      "3            4309        39.941134  \n",
      "4            1409        34.971641  \n"
     ]
    }
   ],
   "source": [
    "# 2.3. Створюємо аналітичну таблицю по продуктових лініях:\n",
    "\n",
    "product_lines = sales_df.groupby('productLine').agg(\n",
    "    unique_orders=('orderNumber', 'nunique'),\n",
    "    total_revenue=('total_amount', 'sum'),\n",
    "    total_profit=('total_profit', 'sum'),\n",
    "    total_quantity=('quantityOrdered', 'sum')\n",
    ").reset_index()\n",
    "\n",
    "product_lines['profit_margin_%'] = (product_lines['total_profit'] / product_lines['total_revenue']) * 100\n",
    "product_lines = product_lines.sort_values(by='total_revenue', ascending=False)\n",
    "\n",
    "print(\" Продуктові лінії:\")\n",
    "print(product_lines)\n"
   ]
  },
  {
   "cell_type": "code",
   "execution_count": 28,
   "metadata": {
    "execution": {
     "iopub.execute_input": "2025-08-01T16:36:10.203604Z",
     "iopub.status.busy": "2025-08-01T16:36:10.203026Z",
     "iopub.status.idle": "2025-08-01T16:36:10.221646Z",
     "shell.execute_reply": "2025-08-01T16:36:10.220980Z",
     "shell.execute_reply.started": "2025-08-01T16:36:10.203585Z"
    }
   },
   "outputs": [
    {
     "name": "stdout",
     "output_type": "stream",
     "text": [
      " Summary:\n",
      "                           Показник                 Значення\n",
      "0             Загальний дохід (USD)               4515905.51\n",
      "1             Загальний дохід (EUR)           5161034.868571\n",
      "2          Загальний прибуток (USD)               1809381.14\n",
      "3                Маржа прибутку (%)                40.066851\n",
      "4  Середній розмір замовлення (USD)             29906.659007\n",
      "5        К-сть унікальних замовлень                      151\n",
      "6         К-сть унікальних клієнтів                       89\n",
      "7                            Період  2004-01-02 — 2004-12-17\n",
      "8                        ТОП країна                      USA\n",
      "9              ТОП продуктова лінія             Classic Cars\n"
     ]
    }
   ],
   "source": [
    "# 2.4 Створити підсумкову інформацію (Executive Summary):\n",
    "summary = {\n",
    "    \"Загальний дохід (USD)\": sales_df['total_amount'].sum(),\n",
    "    \"Загальний дохід (EUR)\": sales_df['total_amount_eur'].sum(),\n",
    "    \"Загальний прибуток (USD)\": sales_df['total_profit'].sum(),\n",
    "    \"Маржа прибутку (%)\": (sales_df['total_profit'].sum() / sales_df['total_amount'].sum()) * 100,\n",
    "    \"Середній розмір замовлення (USD)\": sales_df.groupby('orderNumber')['total_amount'].sum().mean(),\n",
    "    \"К-сть унікальних замовлень\": sales_df['orderNumber'].nunique(),\n",
    "    \"К-сть унікальних клієнтів\": sales_df['customerName'].nunique(),\n",
    "    \"Період\": f\"{sales_df['orderDate'].min()} — {sales_df['orderDate'].max()}\",\n",
    "    \"ТОП країна\": top_countries.iloc[0]['country'],\n",
    "    \"ТОП продуктова лінія\": product_lines.iloc[0]['productLine']\n",
    "}\n",
    "summary_df = pd.DataFrame(list(summary.items()), columns=['Показник', 'Значення'])\n",
    "\n",
    "print(\" Summary:\")\n",
    "print(summary_df)\n"
   ]
  },
  {
   "cell_type": "code",
   "execution_count": 32,
   "metadata": {
    "execution": {
     "iopub.execute_input": "2025-08-01T16:38:36.677102Z",
     "iopub.status.busy": "2025-08-01T16:38:36.676754Z",
     "iopub.status.idle": "2025-08-01T16:38:36.700429Z",
     "shell.execute_reply": "2025-08-01T16:38:36.699273Z",
     "shell.execute_reply.started": "2025-08-01T16:38:36.677086Z"
    }
   },
   "outputs": [],
   "source": [
    "# 3.1. Excel файл з трьома вкладками:\n",
    "\n",
    "with pd.ExcelWriter(\"classicmodels_sales_analysis.xlsx\") as writer:\n",
    "    summary_df.to_excel(writer, sheet_name=\"Summary\", index=False)\n",
    "    top_countries.to_excel(writer, sheet_name=\"Top_Countries\", index=False)\n",
    "    product_lines.to_excel(writer, sheet_name=\"Product_Lines\", index=False)\n"
   ]
  },
  {
   "cell_type": "code",
   "execution_count": 31,
   "metadata": {
    "execution": {
     "iopub.execute_input": "2025-08-01T16:37:51.788671Z",
     "iopub.status.busy": "2025-08-01T16:37:51.788362Z",
     "iopub.status.idle": "2025-08-01T16:37:52.144129Z",
     "shell.execute_reply": "2025-08-01T16:37:52.143391Z",
     "shell.execute_reply.started": "2025-08-01T16:37:51.788654Z"
    }
   },
   "outputs": [
    {
     "data": {
      "image/png": "[encoded data removed]",
      "text/plain": [
       "<Figure size 640x480 with 1 Axes>"
      ]
     },
     "metadata": {},
     "output_type": "display_data"
    },
    {
     "data": {
      "image/png": "[encoded data removed]",
      "text/plain": [
       "<Figure size 640x480 with 1 Axes>"
      ]
     },
     "metadata": {},
     "output_type": "display_data"
    }
   ],
   "source": [
    "# 3.2 Візуалізація\n",
    "\n",
    "# Стовпчикова діаграма - ТОП-5 країн\n",
    "top_countries.plot(kind='bar', x='country', y='total_revenue', title='Доходи по країнах (USD)', legend=False)\n",
    "plt.ylabel('Total Revenue (USD)')\n",
    "plt.xticks(rotation=45)\n",
    "plt.tight_layout()\n",
    "plt.savefig(\"top_countries_revenue.png\")\n",
    "plt.show()\n",
    "\n",
    "# Pie chart по продуктовим лініям\n",
    "product_lines.set_index('productLine')['total_revenue'].plot.pie(autopct='%1.1f%%', title=\"Дохід по продуктовим лініям (USD)\")\n",
    "plt.ylabel('')\n",
    "plt.tight_layout()\n",
    "plt.savefig(\"product_lines_pie_chart.png\")\n",
    "plt.show()\n"
   ]
  },
  {
   "cell_type": "code",
   "execution_count": null,
   "metadata": {},
   "outputs": [],
   "source": []
  }
 ],
 "metadata": {
  "colab": {
   "provenance": []
  },
  "kernelspec": {
   "display_name": "Python 3 (ipykernel)",
   "language": "python",
   "name": "python3"
  },
  "language_info": {
   "codemirror_mode": {
    "name": "ipython",
    "version": 3
   },
   "file_extension": ".py",
   "mimetype": "text/x-python",
   "name": "python",
   "nbconvert_exporter": "python",
   "pygments_lexer": "ipython3",
   "version": "3.13.4"
  }
 },
 "nbformat": 4,
 "nbformat_minor": 4
}

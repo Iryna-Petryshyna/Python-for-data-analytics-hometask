{
 "cells": [
  {
   "cell_type": "code",
   "execution_count": 1,
   "id": "03c49109-d19d-4eca-94a6-a161a33ff14f",
   "metadata": {
    "execution": {
     "iopub.execute_input": "2025-06-20T04:23:06.025529Z",
     "iopub.status.busy": "2025-06-20T04:23:06.024848Z",
     "iopub.status.idle": "2025-06-20T04:23:06.029533Z",
     "shell.execute_reply": "2025-06-20T04:23:06.028461Z",
     "shell.execute_reply.started": "2025-06-20T04:23:06.025504Z"
    }
   },
   "outputs": [],
   "source": [
    "limit = 9  # Задане число"
   ]
  },
  {
   "cell_type": "code",
   "execution_count": 3,
   "id": "ae5c9c10-cfd3-4af3-b69b-3aab9d7b64fb",
   "metadata": {
    "execution": {
     "iopub.execute_input": "2025-06-20T04:24:03.082082Z",
     "iopub.status.busy": "2025-06-20T04:24:03.081721Z",
     "iopub.status.idle": "2025-06-20T04:24:03.086780Z",
     "shell.execute_reply": "2025-06-20T04:24:03.085966Z",
     "shell.execute_reply.started": "2025-06-20T04:24:03.082057Z"
    }
   },
   "outputs": [
    {
     "name": "stdout",
     "output_type": "stream",
     "text": [
      "1\n",
      "2\n",
      "3\n",
      "4\n",
      "5\n",
      "6\n",
      "7\n",
      "8\n",
      "9\n",
      "Кінець розрахунку!\n"
     ]
    }
   ],
   "source": [
    "num = 1    # Початкове значення лічильника\n",
    "\n",
    "while num <= limit:\n",
    "    print(num)\n",
    "    num += 1\n",
    "\n",
    "print(\"Кінець розрахунку!\")"
   ]
  },
  {
   "cell_type": "code",
   "execution_count": 5,
   "id": "91f5c30c-3794-4500-8191-710c62c1e925",
   "metadata": {
    "execution": {
     "iopub.execute_input": "2025-06-20T04:26:01.528071Z",
     "iopub.status.busy": "2025-06-20T04:26:01.527803Z",
     "iopub.status.idle": "2025-06-20T04:26:01.532341Z",
     "shell.execute_reply": "2025-06-20T04:26:01.531652Z",
     "shell.execute_reply.started": "2025-06-20T04:26:01.528053Z"
    }
   },
   "outputs": [
    {
     "name": "stdout",
     "output_type": "stream",
     "text": [
      "Перше парне число після 7 це 8\n"
     ]
    }
   ],
   "source": [
    "start = 7  # Задане число\n",
    "num = start + 1  # Починаємо перевірку з наступного числа\n",
    "\n",
    "while True:\n",
    "    if num % 2 == 0:\n",
    "        print(\"Перше парне число після\", start, \"це\", num)\n",
    "        break  # Знайдено — виходимо з циклу\n",
    "    num += 1  # Переходимо до наступного числа"
   ]
  },
  {
   "cell_type": "code",
   "execution_count": 8,
   "id": "67d329c2-2623-4840-9407-3ec6400fe38d",
   "metadata": {
    "execution": {
     "iopub.execute_input": "2025-06-20T04:39:06.694767Z",
     "iopub.status.busy": "2025-06-20T04:39:06.694170Z",
     "iopub.status.idle": "2025-06-20T04:39:06.699235Z",
     "shell.execute_reply": "2025-06-20T04:39:06.698417Z",
     "shell.execute_reply.started": "2025-06-20T04:39:06.694748Z"
    }
   },
   "outputs": [
    {
     "name": "stdout",
     "output_type": "stream",
     "text": [
      "Факторіал числа 5 дорівнює 120\n"
     ]
    }
   ],
   "source": [
    "num = 5  # Задане число, факторіал якого потрібно знайти\n",
    "factorial = 1  # Початкове значення для добутку\n",
    "i = 1  # Лічильник\n",
    "\n",
    "while i <= num:\n",
    "    factorial *= i\n",
    "    i += 1\n",
    "\n",
    "print(\"Факторіал числа\", num, \"дорівнює\", factorial)"
   ]
  },
  {
   "cell_type": "code",
   "execution_count": null,
   "id": "91b00c04-5460-4549-bacc-26a1feef68ee",
   "metadata": {},
   "outputs": [],
   "source": []
  }
 ],
 "metadata": {
  "kernelspec": {
   "display_name": "Python 3 (ipykernel)",
   "language": "python",
   "name": "python3"
  },
  "language_info": {
   "codemirror_mode": {
    "name": "ipython",
    "version": 3
   },
   "file_extension": ".py",
   "mimetype": "text/x-python",
   "name": "python",
   "nbconvert_exporter": "python",
   "pygments_lexer": "ipython3",
   "version": "3.13.4"
  }
 },
 "nbformat": 4,
 "nbformat_minor": 5
}

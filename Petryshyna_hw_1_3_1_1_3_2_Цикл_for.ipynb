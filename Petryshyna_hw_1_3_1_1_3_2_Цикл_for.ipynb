{
 "cells": [
  {
   "cell_type": "markdown",
   "metadata": {
    "id": "W8lqt6zd9axA"
   },
   "source": [
    "#Домашнє завдання до теми \"Цикл for\""
   ]
  },
  {
   "cell_type": "markdown",
   "metadata": {
    "id": "iXzoNTu604kH"
   },
   "source": [
    "0. Розігрів. Напишіть цикл, який виводить на екран числа від 1 до 10 включно."
   ]
  },
  {
   "cell_type": "code",
   "execution_count": 44,
   "metadata": {
    "execution": {
     "iopub.execute_input": "2025-06-16T17:40:16.650221Z",
     "iopub.status.busy": "2025-06-16T17:40:16.643677Z",
     "iopub.status.idle": "2025-06-16T17:40:16.687291Z",
     "shell.execute_reply": "2025-06-16T17:40:16.686318Z",
     "shell.execute_reply.started": "2025-06-16T17:40:16.649619Z"
    }
   },
   "outputs": [
    {
     "data": {
      "text/plain": [
       "[1, 2, 3, 4, 5, 6, 7, 8, 9, 10]"
      ]
     },
     "execution_count": 44,
     "metadata": {},
     "output_type": "execute_result"
    }
   ],
   "source": [
    "# 0.1\n",
    "# Конвертую тип range у тип list, щоб подивитись послідовність\n",
    "list(range (1,11))"
   ]
  },
  {
   "cell_type": "code",
   "execution_count": 14,
   "metadata": {
    "execution": {
     "iopub.execute_input": "2025-06-15T07:14:10.655517Z",
     "iopub.status.busy": "2025-06-15T07:14:10.655119Z",
     "iopub.status.idle": "2025-06-15T07:14:10.659024Z",
     "shell.execute_reply": "2025-06-15T07:14:10.658451Z",
     "shell.execute_reply.started": "2025-06-15T07:14:10.655497Z"
    }
   },
   "outputs": [
    {
     "name": "stdout",
     "output_type": "stream",
     "text": [
      "1\n",
      "2\n",
      "3\n",
      "4\n",
      "5\n",
      "6\n",
      "7\n",
      "8\n",
      "9\n",
      "10\n"
     ]
    }
   ],
   "source": [
    "# 0.2\n",
    "# Написала циклом аби подвитись на послідовність\n",
    "for i in range (1,11):\n",
    "    print (i)"
   ]
  },
  {
   "cell_type": "markdown",
   "metadata": {
    "id": "JmWR8uze094H"
   },
   "source": [
    "**Початок покладено!**"
   ]
  },
  {
   "cell_type": "markdown",
   "metadata": {
    "id": "OJX3yG-Blplu"
   },
   "source": [
    "1. Задайте список `numbers`, який містить значення від 0 до 9 включно. Використовуючи цикл `for`, обчисліть суму елементів в створеному списку та виведіть фінальну суму на екран."
   ]
  },
  {
   "cell_type": "code",
   "execution_count": 27,
   "metadata": {
    "execution": {
     "iopub.execute_input": "2025-06-15T08:00:08.626693Z",
     "iopub.status.busy": "2025-06-15T08:00:08.626366Z",
     "iopub.status.idle": "2025-06-15T08:00:08.630827Z",
     "shell.execute_reply": "2025-06-15T08:00:08.630152Z",
     "shell.execute_reply.started": "2025-06-15T08:00:08.626674Z"
    }
   },
   "outputs": [
    {
     "name": "stdout",
     "output_type": "stream",
     "text": [
      "Сума елементів у списку: 45\n"
     ]
    }
   ],
   "source": [
    "numbers = list(range(10))\n",
    "total = 0\n",
    "for number in numbers:\n",
    "    total += number\n",
    "print (\"Сума елементів у списку:\", total)"
   ]
  },
  {
   "cell_type": "markdown",
   "metadata": {
    "id": "6Tb2Kx_jmD5b"
   },
   "source": [
    "2. Використовуючи цикл  `for` виведіть для кожного елементу списку `numbers`,який ми створили в завданні 1, чи цей елемент дорівнює 5. Тобто після виконання циклу на екрані має бути 10 bool значень."
   ]
  },
  {
   "cell_type": "code",
   "execution_count": 28,
   "metadata": {
    "execution": {
     "iopub.execute_input": "2025-06-15T08:01:03.544502Z",
     "iopub.status.busy": "2025-06-15T08:01:03.544180Z",
     "iopub.status.idle": "2025-06-15T08:01:03.548418Z",
     "shell.execute_reply": "2025-06-15T08:01:03.547632Z",
     "shell.execute_reply.started": "2025-06-15T08:01:03.544479Z"
    },
    "id": "Ls8ZW8DWuwHC"
   },
   "outputs": [
    {
     "name": "stdout",
     "output_type": "stream",
     "text": [
      "False\n",
      "False\n",
      "False\n",
      "False\n",
      "False\n",
      "True\n",
      "False\n",
      "False\n",
      "False\n",
      "False\n"
     ]
    }
   ],
   "source": [
    "for number in numbers:\n",
    "    print(number == 5)"
   ]
  },
  {
   "cell_type": "markdown",
   "metadata": {
    "id": "ddFE1naOmp7Q"
   },
   "source": [
    "3. Використовуючи цикл  `for` для кожного елементу списку `numbers`, який ми створили в завданні 1, виявіть, чи цей елемент ділиться на 2 без остачі, та запишіть результат у новий список `numbers_divisible_by_2`.\n",
    "\n",
    "Увага! Виконання завдання відрізняється від попереднього тим, що тепер ми результат обчислення на кожній ітерації записуємо у новий список. До того ж ми тут виконуємо іншу математичну операцію.\n",
    "\n",
    "Виведіть фільнальний список `numbers_divisible_by_2` на екран."
   ]
  },
  {
   "cell_type": "code",
   "execution_count": 29,
   "metadata": {
    "execution": {
     "iopub.execute_input": "2025-06-15T08:02:17.928581Z",
     "iopub.status.busy": "2025-06-15T08:02:17.928245Z",
     "iopub.status.idle": "2025-06-15T08:02:17.933524Z",
     "shell.execute_reply": "2025-06-15T08:02:17.932891Z",
     "shell.execute_reply.started": "2025-06-15T08:02:17.928562Z"
    },
    "id": "S2Pk_W12uyDo"
   },
   "outputs": [
    {
     "name": "stdout",
     "output_type": "stream",
     "text": [
      "[True, False, True, False, True, False, True, False, True, False]\n"
     ]
    }
   ],
   "source": [
    "numbers_divisible_by_2 = []  # порожній список для результатів\n",
    "\n",
    "for number in numbers:\n",
    "    numbers_divisible_by_2.append(number % 2 == 0)  # додаємо True або False\n",
    "\n",
    "print(numbers_divisible_by_2)"
   ]
  },
  {
   "cell_type": "markdown",
   "metadata": {
    "id": "cwvpWeVGnUGB"
   },
   "source": [
    "Очікуваний результат: `[True, False, True, False, True, False, True, False, True, False]`"
   ]
  },
  {
   "cell_type": "markdown",
   "metadata": {
    "id": "0rgeGpJ3utVN"
   },
   "source": [
    "4. Задано два списки в клітинці нижче - `a` і `b`. Створіть цикл, результатом якого буде список `result`, що містить елементи типу bool і який фактично каже,\n",
    "\"чи на цьому індексі елементи наших двох списків співпадають\". Приклад:\n",
    "```\n",
    "a = [1, 2, 3, 6]\n",
    "b = [1, 7, 3, 6]\n",
    "# ми виконали поелементне порівняння двох списків і отримали новий список result\n",
    "# result містить наступний результат -> [True, False, True, True]\n",
    "```\n",
    "В кінці виведіть вміст result на екран.\n",
    "\n",
    "<details>\n",
    "<summary>Підказка</summary>\n",
    "\n",
    "Аби порівняти елементи в циклі - треба створити цикл по індексам елементів. Зважаючи, що наші списки - одної довжини, цей підхід дозволить нам отримати чітко те, що треба.\n",
    "\n",
    "**Просунутий варіант.** Альтернативно можна створити цикл, який на кожній ітерації має доступ до двох елементів - по одному з кожного списка, для цього треба скористатись функцією `zip` - приклад [тут](https://realpython.com/python-zip-function/#traversing-lists-in-parallel)\n",
    "</details>\n"
   ]
  },
  {
   "cell_type": "code",
   "execution_count": 32,
   "metadata": {
    "execution": {
     "iopub.execute_input": "2025-06-15T08:07:30.767026Z",
     "iopub.status.busy": "2025-06-15T08:07:30.766736Z",
     "iopub.status.idle": "2025-06-15T08:07:30.770575Z",
     "shell.execute_reply": "2025-06-15T08:07:30.769800Z",
     "shell.execute_reply.started": "2025-06-15T08:07:30.767007Z"
    },
    "id": "IIYG41pWdJiG"
   },
   "outputs": [],
   "source": [
    "a = [64, 93, 60, 95, 66, 9, 15, 55, 77, 28, 74, 100, 13, 1, 85, 48, 66, 65, 59, 32]\n",
    "b = [64, 93, 60, 95, 66, 9, 15, 56, 77, 28, 74, 100, 13, 1, 85, 48, 67, 65, 59, 32]"
   ]
  },
  {
   "cell_type": "code",
   "execution_count": 45,
   "metadata": {
    "execution": {
     "iopub.execute_input": "2025-06-17T13:08:33.372818Z",
     "iopub.status.busy": "2025-06-17T13:08:33.370017Z",
     "iopub.status.idle": "2025-06-17T13:08:33.400814Z",
     "shell.execute_reply": "2025-06-17T13:08:33.399856Z",
     "shell.execute_reply.started": "2025-06-17T13:08:33.372517Z"
    },
    "id": "XgZwTwr4u2lA"
   },
   "outputs": [
    {
     "name": "stdout",
     "output_type": "stream",
     "text": [
      "[True, False, True, True]\n"
     ]
    }
   ],
   "source": [
    "a = [1, 2, 3, 6]\n",
    "b = [1, 7, 3, 6]\n",
    "result = []\n",
    "\n",
    "for i in range(len(a)):\n",
    "    result.append(a[i] == b[i])\n",
    "\n",
    "print(result)"
   ]
  },
  {
   "cell_type": "markdown",
   "metadata": {
    "id": "0Z2cObcTutVO"
   },
   "source": [
    "5. Нижче задано список `numbers`. Виконайте клітинку з його заданням.\n",
    "\n",
    "  Давайте знайдемо середнє арифметичне значення елементів списку `numbers` округлене до 2 цифр після коми та запишемо його у змінну `numbers_mean`. Для цього виконаємо два простих кроки.\n",
    "\n",
    "  1) Знайдіть суму всіх елементів списку `numbers` та запишіть її у змінну `numbers_sum`. Можна з використанням циклу, а можна і без.\n",
    "\n",
    "  2) Обчисліть `numbers_mean` шляхом ділення суми елементів у списку на їх кількість. Кількість елементів в списку - це його довжина.\n",
    "\n",
    "  Виведіть `numbers_mean`, округлений до 2 цифр після коми, на екран.\n",
    "\n",
    "  **Підказка**: округлити число можна з використанням вбудованої функції Python [round()](https://docs.python.org/3/library/functions.html#round)."
   ]
  },
  {
   "cell_type": "code",
   "execution_count": 35,
   "metadata": {
    "execution": {
     "iopub.execute_input": "2025-06-15T08:12:19.283440Z",
     "iopub.status.busy": "2025-06-15T08:12:19.282824Z",
     "iopub.status.idle": "2025-06-15T08:12:19.287488Z",
     "shell.execute_reply": "2025-06-15T08:12:19.286853Z",
     "shell.execute_reply.started": "2025-06-15T08:12:19.283419Z"
    },
    "id": "TwuOmLpeutVO"
   },
   "outputs": [],
   "source": [
    "numbers = [42, 51, 29, 2, 13, 44, 80, 66, 16]"
   ]
  },
  {
   "cell_type": "code",
   "execution_count": 37,
   "metadata": {
    "execution": {
     "iopub.execute_input": "2025-06-15T08:12:43.925559Z",
     "iopub.status.busy": "2025-06-15T08:12:43.925183Z",
     "iopub.status.idle": "2025-06-15T08:12:43.929617Z",
     "shell.execute_reply": "2025-06-15T08:12:43.928882Z",
     "shell.execute_reply.started": "2025-06-15T08:12:43.925538Z"
    },
    "id": "R-qDvKVcu6e1"
   },
   "outputs": [
    {
     "name": "stdout",
     "output_type": "stream",
     "text": [
      "38.11\n"
     ]
    }
   ],
   "source": [
    "# 1.Обчислюємо суму\n",
    "numbers_sum = sum(numbers)\n",
    "\n",
    "# 2.Знаходимо середнє арифметичне\n",
    "numbers_mean = round(numbers_sum / len(numbers), 2)\n",
    "\n",
    "# Виводимо результат\n",
    "print(numbers_mean)"
   ]
  },
  {
   "cell_type": "markdown",
   "metadata": {
    "id": "pSdssHuuutVQ"
   },
   "source": [
    "Очікуваний результат: `38.11`"
   ]
  },
  {
   "cell_type": "markdown",
   "metadata": {
    "id": "JsevSvVtutVQ"
   },
   "source": [
    "6. Задано список `a` і елемент `element`. Перевірте програмно чи є в списку `a` елемент `element` з допомогою інструкцій `if ... else`. Виведіть на екран відповідь \"Так, є\", якщо цей елемент в списку присутній, або \"Ні, нема\", якщо його там немає.\n",
    "Важливо це зробити без використання імпортів будь-яких бібліотек.\n",
    "\n",
    "  Тут цикла немає :) Але це завдання - підготовче до наступного."
   ]
  },
  {
   "cell_type": "code",
   "execution_count": 39,
   "metadata": {
    "execution": {
     "iopub.execute_input": "2025-06-15T08:15:23.769722Z",
     "iopub.status.busy": "2025-06-15T08:15:23.769186Z",
     "iopub.status.idle": "2025-06-15T08:15:23.773706Z",
     "shell.execute_reply": "2025-06-15T08:15:23.772845Z",
     "shell.execute_reply.started": "2025-06-15T08:15:23.769699Z"
    },
    "id": "TqkTdlN_utVQ"
   },
   "outputs": [],
   "source": [
    "a = [64, 93, 60, 95, 66, 9, 15, 55, 77, 28, 74, 100, 13, 1, 85, 48, 66, 65, 59, 32]\n",
    "element = 33"
   ]
  },
  {
   "cell_type": "code",
   "execution_count": 40,
   "metadata": {
    "execution": {
     "iopub.execute_input": "2025-06-15T08:15:24.955629Z",
     "iopub.status.busy": "2025-06-15T08:15:24.955089Z",
     "iopub.status.idle": "2025-06-15T08:15:24.959163Z",
     "shell.execute_reply": "2025-06-15T08:15:24.958119Z",
     "shell.execute_reply.started": "2025-06-15T08:15:24.955606Z"
    },
    "id": "aL_76T8pu7fp"
   },
   "outputs": [
    {
     "name": "stdout",
     "output_type": "stream",
     "text": [
      "Ні, нема\n"
     ]
    }
   ],
   "source": [
    "if element in a:\n",
    "    print(\"Так, є\")\n",
    "else:\n",
    "    print(\"Ні, нема\")"
   ]
  },
  {
   "cell_type": "markdown",
   "metadata": {
    "id": "QKjmv4j0utVR"
   },
   "source": [
    "7. Тепер у нас не один елемент, а кілька. Вони наведені в змінній `elements`. За допомогою циклу і інструкцій `if ... else` для кожного елемента списку `elements` перевірте, чи він є в списку `a`.\n",
    "Виведіть на екран відповідь \"Так, є елемент <вставити значення елемента>\", якщо елемент в списку присутній, або \"Ні, нема елемента <вставити значення елемента>\", якщо його там немає."
   ]
  },
  {
   "cell_type": "code",
   "execution_count": 42,
   "metadata": {
    "execution": {
     "iopub.execute_input": "2025-06-15T08:16:26.057390Z",
     "iopub.status.busy": "2025-06-15T08:16:26.056924Z",
     "iopub.status.idle": "2025-06-15T08:16:26.060848Z",
     "shell.execute_reply": "2025-06-15T08:16:26.060311Z",
     "shell.execute_reply.started": "2025-06-15T08:16:26.057369Z"
    },
    "id": "TF3nT5TMutVR"
   },
   "outputs": [],
   "source": [
    "elements = [44, 66, 77, 100]"
   ]
  },
  {
   "cell_type": "code",
   "execution_count": 43,
   "metadata": {
    "execution": {
     "iopub.execute_input": "2025-06-15T08:16:27.556956Z",
     "iopub.status.busy": "2025-06-15T08:16:27.556679Z",
     "iopub.status.idle": "2025-06-15T08:16:27.560823Z",
     "shell.execute_reply": "2025-06-15T08:16:27.560239Z",
     "shell.execute_reply.started": "2025-06-15T08:16:27.556938Z"
    },
    "id": "pQD5InOQvG1d"
   },
   "outputs": [
    {
     "name": "stdout",
     "output_type": "stream",
     "text": [
      "Ні, нема елемента 44\n",
      "Так, є елемент 66\n",
      "Так, є елемент 77\n",
      "Так, є елемент 100\n"
     ]
    }
   ],
   "source": [
    "for element in elements:\n",
    "    if element in a:\n",
    "        print(f\"Так, є елемент {element}\")\n",
    "    else:\n",
    "        print(f\"Ні, нема елемента {element}\")"
   ]
  }
 ],
 "metadata": {
  "colab": {
   "provenance": []
  },
  "kernelspec": {
   "display_name": "Python 3 (ipykernel)",
   "language": "python",
   "name": "python3"
  },
  "language_info": {
   "codemirror_mode": {
    "name": "ipython",
    "version": 3
   },
   "file_extension": ".py",
   "mimetype": "text/x-python",
   "name": "python",
   "nbconvert_exporter": "python",
   "pygments_lexer": "ipython3",
   "version": "3.13.4"
  }
 },
 "nbformat": 4,
 "nbformat_minor": 4
}
